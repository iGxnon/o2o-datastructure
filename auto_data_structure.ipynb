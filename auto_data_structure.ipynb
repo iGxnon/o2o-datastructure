{
 "cells": [
  {
   "cell_type": "markdown",
   "source": [
    "# 这是任务二的特征工程代码\n",
    "\n",
    "## AutoML\n",
    "\n",
    "- 自动特征工程\n",
    "    - 特征的自动提取\n",
    "- 特征筛选\n",
    "- 模型融合\n",
    "    - AutoGluon\n",
    "- Stacking\n"
   ],
   "metadata": {
    "collapsed": false,
    "pycharm": {
     "name": "#%% md\n"
    }
   }
  },
  {
   "cell_type": "code",
   "execution_count": 1,
   "outputs": [],
   "source": [
    "import pandas as pd\n",
    "import warnings\n",
    "import itertools\n",
    "import tqdm\n",
    "from multiprocessing import Process\n",
    "\n",
    "warnings.filterwarnings('ignore')"
   ],
   "metadata": {
    "collapsed": false,
    "pycharm": {
     "name": "#%%\n"
    }
   }
  },
  {
   "cell_type": "code",
   "execution_count": 2,
   "outputs": [],
   "source": [
    "# 聚合函数列表， : 前表示作用的列，count 作用于任何列都一样所以不需要特定\n",
    "# Distance, no_distance 只有线下集才有\n",
    "agg_funcs = ['count',\n",
    "             'discount_rate:mean', 'Distance:mean', 'discount_x:mean', 'discount_y:mean',\n",
    "             'discount_rate:max', 'Distance:max', 'discount_x:max', 'discount_y:max',\n",
    "             'discount_rate:min', 'Distance:min', 'discount_x:min', 'discount_y:min',\n",
    "             'discount_rate:std', 'Distance:std', 'discount_x:std', 'discount_y:std',\n",
    "             'is_full_discount:sum', 'no_distance:sum']\n",
    "# 额外的聚合函数列表，这类列表和 label 强相关，不能作用于标签集的自身数据提取\n",
    "# fixed_consume, is_click 只有线上集才有\n",
    "agg_funcs_extra = ['coupon_consume:sum', 'normal_consume:sum',\n",
    "                  'no_consume:sum', 'fixed_consume:sum', 'is_click:sum']\n",
    "# 分组操作可以作用的列\n",
    "groupby_cols = ['User_id', 'Coupon_id', 'Merchant_id', 'Date_received']\n",
    "\n",
    "\n",
    "def pick(arr, deep=1):\n",
    "    \"\"\"\n",
    "    从 arr 中抽取出所有子集，并且子集大小为 1~deep\n",
    "    :param arr:     需要抽取的集合\n",
    "    :param deep:\n",
    "    :return:\n",
    "    \"\"\"\n",
    "    picks = []\n",
    "    for num in range(1, deep+1):\n",
    "        picks.extend(itertools.combinations(arr, num))\n",
    "    return picks"
   ],
   "metadata": {
    "collapsed": false,
    "pycharm": {
     "name": "#%%\n"
    }
   }
  },
  {
   "cell_type": "code",
   "execution_count": 3,
   "outputs": [],
   "source": [
    "def attach_one_feat(\n",
    "        _label: pd.DataFrame,\n",
    "        _feat: pd.DataFrame,\n",
    "        groupby_col=None,\n",
    "        agg_func=None,\n",
    "        feat_name='',\n",
    "        na=0\n",
    "):\n",
    "    \"\"\"\n",
    "    抽取一个新的特征的模板代码\n",
    "    :param _label:      pandas.DataFrame，标签集，特征抽取后会 merge 到此数据集上并返回\n",
    "    :param _feat:\n",
    "                        pandas.DataFrame，特征集，用于抽取特征的数据集，\n",
    "                        当这个数据集就是 _label 时要注意不要抽取和 label 相关的特征\n",
    "    :param groupby_col:\n",
    "                        list of str|list of str list，来自 groupby_cols，进行 groupby 的列，可以是一组 list，\n",
    "                        表示进行多次 groupby\n",
    "    :param agg_func:\n",
    "                        str|list of str，来自 agg_funcs，进行聚合的函数，类型应当符合 groupby_col 的类型要求，\n",
    "                        如果是 list 表示多次聚合\n",
    "    :param feat_name:   str，抽取出的新特征的名称\n",
    "    :param na:          int|float，对空值的处理\n",
    "    :return:            pandas.DataFrame，合并这个特征后的标签集\n",
    "    \"\"\"\n",
    "    # 进行一次 groupby，返回一个 DataFrame\n",
    "    def group_once(df: pd.DataFrame, _pivots, _agg):\n",
    "        if _agg == 'count':\n",
    "            return df.groupby(_pivots).size()\n",
    "        col, func = _agg.split(':')\n",
    "        return df.groupby(_pivots)[col].agg(func)\n",
    "    # 判断是否是单次 groupby\n",
    "    if isinstance(agg_func, str):\n",
    "        grouped = group_once(_feat, groupby_col, agg_func).reset_index(name=feat_name)\n",
    "        return _label.merge(grouped, on=groupby_col, how='left').fillna(na)\n",
    "    # 多次 groupby\n",
    "    grouped = _feat\n",
    "    merge_pivots = []  # 用于最后合并用的 pivots\n",
    "    for i in range(len(agg_func)):\n",
    "        pivots, agg = groupby_col[i], agg_func[i]\n",
    "        grouped = group_once(grouped, pivots, agg)\n",
    "        if i == len(agg_func) - 1:  # 给最后一次 groupby 加上 feat_name\n",
    "            grouped = grouped.reset_index(name=feat_name)\n",
    "            merge_pivots = pivots\n",
    "    return _label.merge(grouped, on=merge_pivots, how='left').fillna(na)"
   ],
   "metadata": {
    "collapsed": false,
    "pycharm": {
     "name": "#%%\n"
    }
   }
  },
  {
   "cell_type": "code",
   "execution_count": 4,
   "outputs": [],
   "source": [
    "def auto_attach_feats(label, feat, feat_id, is_off=True):\n",
    "    groupbys = pick(groupby_cols, deep=3)\n",
    "    aggs = agg_funcs\n",
    "    # 如果不是标签集自身特征提取的话加上额外的聚合函数\n",
    "    if id(label) != id(feat):\n",
    "        print('enabling attach feats with extra aggs')\n",
    "        aggs = agg_funcs + agg_funcs_extra\n",
    "    # 如果是线上集的话去除一些线下独有的特征\n",
    "    if not is_off:\n",
    "        aggs = [i for i in aggs if not (i.startswith('no_distance') or i.startswith('Distance'))]\n",
    "    else: # 反之除去线上独有的特征\n",
    "        aggs = [i for i in aggs if not (i.startswith('fixed_consume') or i.startswith('is_click'))]\n",
    "    print(f\"all groupby pivots is {groupbys}\")\n",
    "    print(f'all aggs is {aggs}')\n",
    "    # 单次 groupby\n",
    "    count = 0\n",
    "    for by in groupbys:\n",
    "        print(f'group pivots is {by}, start enumerate agg funcs to merge:')\n",
    "        for agg in tqdm.tqdm(aggs):\n",
    "            label = attach_one_feat(\n",
    "                label, feat,\n",
    "                groupby_col=list(by), agg_func=agg, feat_name=f'{feat_id}_1_{\"-\".join(by)}_{agg.replace(\":\", \"-\")}'\n",
    "            )\n",
    "            count += 1\n",
    "    # 二次 groupby\n",
    "    for by_0 in [i for i in groupbys if len(i) > 1]:\n",
    "        second_groupbys = pick(by_0, deep=1)\n",
    "        for by_1 in second_groupbys:\n",
    "            print(f'group pivots is {by_0} -> {by_1}, start to merge:')\n",
    "            # 防止时间复杂度爆炸，这里剪枝了，agg 只考虑 count\n",
    "            label = attach_one_feat(\n",
    "                label, feat,\n",
    "                groupby_col=[list(by_0), list(by_1)], agg_func=['count', 'count'],\n",
    "                feat_name=f'{feat_id}_2_{\"-\".join(by_0)}_count_{\"-\".join(by_1)}_count'\n",
    "            )\n",
    "            count += 1\n",
    "    print(f'finish auto attach feats, merged feat count is {count}')\n",
    "    # 除去全是0的列\n",
    "    return label.loc[:, ~(label==0).all()]"
   ],
   "metadata": {
    "collapsed": false,
    "pycharm": {
     "name": "#%%\n"
    }
   }
  },
  {
   "cell_type": "code",
   "execution_count": 5,
   "outputs": [
    {
     "name": "stdout",
     "output_type": "stream",
     "text": [
      "======= start attach off1 =======\n",
      "enabling attach feats with extra aggs\n",
      "all groupby pivots is [('User_id',), ('Coupon_id',), ('Merchant_id',), ('Date_received',), ('User_id', 'Coupon_id'), ('User_id', 'Merchant_id'), ('User_id', 'Date_received'), ('Coupon_id', 'Merchant_id'), ('Coupon_id', 'Date_received'), ('Merchant_id', 'Date_received'), ('User_id', 'Coupon_id', 'Merchant_id'), ('User_id', 'Coupon_id', 'Date_received'), ('User_id', 'Merchant_id', 'Date_received'), ('Coupon_id', 'Merchant_id', 'Date_received')]\n",
      "all aggs is ['count', 'discount_rate:mean', 'Distance:mean', 'discount_x:mean', 'discount_y:mean', 'discount_rate:max', 'Distance:max', 'discount_x:max', 'discount_y:max', 'discount_rate:min', 'Distance:min', 'discount_x:min', 'discount_y:min', 'discount_rate:std', 'Distance:std', 'discount_x:std', 'discount_y:std', 'is_full_discount:sum', 'no_distance:sum', 'coupon_consume:sum', 'normal_consume:sum', 'no_consume:sum']\n",
      "group pivots is ('User_id',), start enumerate agg funcs to merge:\n"
     ]
    },
    {
     "name": "stderr",
     "output_type": "stream",
     "text": [
      "  0%|          | 0/22 [00:00<?, ?it/s]\n",
      "\n",
      "KeyboardInterrupt\n",
      "\n"
     ]
    }
   ],
   "source": [
    "def attach_feat(off1, off2, on1, on2, label, save, label_dates=None):\n",
    "    if label_dates is None:\n",
    "        label_dates = ['Date_received', 'Date']\n",
    "    feat_off_set = pd.read_csv(off1, parse_dates=['Date_received', 'Date'])\n",
    "    feat_on_set = pd.read_csv(on1, parse_dates=['Date_received', 'Date'])\n",
    "    label_set = pd.read_csv(label, parse_dates=label_dates)\n",
    "    print('======= start attach off1 =======')\n",
    "    label_set = auto_attach_feats(label_set, feat_off_set, 'off1')\n",
    "    print('======= start attach on1 =======')\n",
    "    label_set = auto_attach_feats(label_set, feat_on_set, 'on1', is_off=False)\n",
    "\n",
    "    feat_off_set = pd.read_csv(off2, parse_dates=['Date_received', 'Date'])\n",
    "    feat_on_set = pd.read_csv(on2, parse_dates=['Date_received', 'Date'])\n",
    "    print('======= start attach off2 =======')\n",
    "    label_set = auto_attach_feats(label_set, feat_off_set, 'off2')\n",
    "    print('======= start attach on2 =======')\n",
    "    label_set = auto_attach_feats(label_set, feat_on_set, 'on2', is_off=False)\n",
    "\n",
    "    print('======= start attach self =======')\n",
    "    label_set = auto_attach_feats(label_set, label_set, 'self')\n",
    "    label_set.to_csv(save, index=False)\n",
    "\n",
    "for i in range(1, 3):\n",
    "    attach_feat(\n",
    "        f'./dataset_split/feat_{i}_1_off.csv',\n",
    "        f'./dataset_split/feat_{i}_2_off.csv',\n",
    "        f'./dataset_split/feat_{i}_1_on.csv',\n",
    "        f'./dataset_split/feat_{i}_2_on.csv',\n",
    "        f'./dataset_split/label_{i}.csv',\n",
    "        f'./dataset_processed/auto_full_features_set_{i}.csv',\n",
    "    )\n",
    "\n",
    "print('end.')"
   ],
   "metadata": {
    "collapsed": false,
    "pycharm": {
     "name": "#%%\n"
    }
   }
  },
  {
   "cell_type": "code",
   "execution_count": 6,
   "outputs": [
    {
     "name": "stdout",
     "output_type": "stream",
     "text": [
      "======= start attach off1 =======\n",
      "enabling attach feats with extra aggs\n",
      "all groupby pivots is [('User_id',), ('Coupon_id',), ('Merchant_id',), ('Date_received',), ('User_id', 'Coupon_id'), ('User_id', 'Merchant_id'), ('User_id', 'Date_received'), ('Coupon_id', 'Merchant_id'), ('Coupon_id', 'Date_received'), ('Merchant_id', 'Date_received'), ('User_id', 'Coupon_id', 'Merchant_id'), ('User_id', 'Coupon_id', 'Date_received'), ('User_id', 'Merchant_id', 'Date_received'), ('Coupon_id', 'Merchant_id', 'Date_received')]\n",
      "all aggs is ['count', 'discount_rate:mean', 'Distance:mean', 'discount_x:mean', 'discount_y:mean', 'discount_rate:max', 'Distance:max', 'discount_x:max', 'discount_y:max', 'discount_rate:min', 'Distance:min', 'discount_x:min', 'discount_y:min', 'discount_rate:std', 'Distance:std', 'discount_x:std', 'discount_y:std', 'is_full_discount:sum', 'no_distance:sum', 'coupon_consume:sum', 'normal_consume:sum', 'no_consume:sum']\n",
      "group pivots is ('User_id',), start enumerate agg funcs to merge:\n"
     ]
    },
    {
     "name": "stderr",
     "output_type": "stream",
     "text": [
      "100%|██████████| 22/22 [00:05<00:00,  4.06it/s]\n"
     ]
    },
    {
     "name": "stdout",
     "output_type": "stream",
     "text": [
      "group pivots is ('Coupon_id',), start enumerate agg funcs to merge:\n"
     ]
    },
    {
     "name": "stderr",
     "output_type": "stream",
     "text": [
      "100%|██████████| 22/22 [00:04<00:00,  5.50it/s]\n"
     ]
    },
    {
     "name": "stdout",
     "output_type": "stream",
     "text": [
      "group pivots is ('Merchant_id',), start enumerate agg funcs to merge:\n"
     ]
    },
    {
     "name": "stderr",
     "output_type": "stream",
     "text": [
      "100%|██████████| 22/22 [00:04<00:00,  5.04it/s]\n"
     ]
    },
    {
     "name": "stdout",
     "output_type": "stream",
     "text": [
      "group pivots is ('Date_received',), start enumerate agg funcs to merge:\n"
     ]
    },
    {
     "name": "stderr",
     "output_type": "stream",
     "text": [
      "100%|██████████| 22/22 [00:04<00:00,  4.88it/s]\n"
     ]
    },
    {
     "name": "stdout",
     "output_type": "stream",
     "text": [
      "group pivots is ('User_id', 'Coupon_id'), start enumerate agg funcs to merge:\n"
     ]
    },
    {
     "name": "stderr",
     "output_type": "stream",
     "text": [
      "100%|██████████| 22/22 [00:09<00:00,  2.44it/s]\n"
     ]
    },
    {
     "name": "stdout",
     "output_type": "stream",
     "text": [
      "group pivots is ('User_id', 'Merchant_id'), start enumerate agg funcs to merge:\n"
     ]
    },
    {
     "name": "stderr",
     "output_type": "stream",
     "text": [
      "100%|██████████| 22/22 [00:08<00:00,  2.50it/s]\n"
     ]
    },
    {
     "name": "stdout",
     "output_type": "stream",
     "text": [
      "group pivots is ('User_id', 'Date_received'), start enumerate agg funcs to merge:\n"
     ]
    },
    {
     "name": "stderr",
     "output_type": "stream",
     "text": [
      "100%|██████████| 22/22 [00:09<00:00,  2.21it/s]\n"
     ]
    },
    {
     "name": "stdout",
     "output_type": "stream",
     "text": [
      "group pivots is ('Coupon_id', 'Merchant_id'), start enumerate agg funcs to merge:\n"
     ]
    },
    {
     "name": "stderr",
     "output_type": "stream",
     "text": [
      "100%|██████████| 22/22 [00:07<00:00,  3.05it/s]\n"
     ]
    },
    {
     "name": "stdout",
     "output_type": "stream",
     "text": [
      "group pivots is ('Coupon_id', 'Date_received'), start enumerate agg funcs to merge:\n"
     ]
    },
    {
     "name": "stderr",
     "output_type": "stream",
     "text": [
      "100%|██████████| 22/22 [00:07<00:00,  2.90it/s]\n"
     ]
    },
    {
     "name": "stdout",
     "output_type": "stream",
     "text": [
      "group pivots is ('Merchant_id', 'Date_received'), start enumerate agg funcs to merge:\n"
     ]
    },
    {
     "name": "stderr",
     "output_type": "stream",
     "text": [
      "100%|██████████| 22/22 [00:07<00:00,  2.77it/s]\n"
     ]
    },
    {
     "name": "stdout",
     "output_type": "stream",
     "text": [
      "group pivots is ('User_id', 'Coupon_id', 'Merchant_id'), start enumerate agg funcs to merge:\n"
     ]
    },
    {
     "name": "stderr",
     "output_type": "stream",
     "text": [
      "100%|██████████| 22/22 [00:13<00:00,  1.67it/s]\n"
     ]
    },
    {
     "name": "stdout",
     "output_type": "stream",
     "text": [
      "group pivots is ('User_id', 'Coupon_id', 'Date_received'), start enumerate agg funcs to merge:\n"
     ]
    },
    {
     "name": "stderr",
     "output_type": "stream",
     "text": [
      "100%|██████████| 22/22 [00:12<00:00,  1.70it/s]\n"
     ]
    },
    {
     "name": "stdout",
     "output_type": "stream",
     "text": [
      "group pivots is ('User_id', 'Merchant_id', 'Date_received'), start enumerate agg funcs to merge:\n"
     ]
    },
    {
     "name": "stderr",
     "output_type": "stream",
     "text": [
      "100%|██████████| 22/22 [00:14<00:00,  1.57it/s]\n"
     ]
    },
    {
     "name": "stdout",
     "output_type": "stream",
     "text": [
      "group pivots is ('Coupon_id', 'Merchant_id', 'Date_received'), start enumerate agg funcs to merge:\n"
     ]
    },
    {
     "name": "stderr",
     "output_type": "stream",
     "text": [
      "100%|██████████| 22/22 [00:10<00:00,  2.19it/s]\n"
     ]
    },
    {
     "name": "stdout",
     "output_type": "stream",
     "text": [
      "group pivots is ('User_id', 'Coupon_id') -> ('User_id',), start to merge:\n",
      "group pivots is ('User_id', 'Coupon_id') -> ('Coupon_id',), start to merge:\n",
      "group pivots is ('User_id', 'Merchant_id') -> ('User_id',), start to merge:\n",
      "group pivots is ('User_id', 'Merchant_id') -> ('Merchant_id',), start to merge:\n",
      "group pivots is ('User_id', 'Date_received') -> ('User_id',), start to merge:\n",
      "group pivots is ('User_id', 'Date_received') -> ('Date_received',), start to merge:\n",
      "group pivots is ('Coupon_id', 'Merchant_id') -> ('Coupon_id',), start to merge:\n",
      "group pivots is ('Coupon_id', 'Merchant_id') -> ('Merchant_id',), start to merge:\n",
      "group pivots is ('Coupon_id', 'Date_received') -> ('Coupon_id',), start to merge:\n",
      "group pivots is ('Coupon_id', 'Date_received') -> ('Date_received',), start to merge:\n",
      "group pivots is ('Merchant_id', 'Date_received') -> ('Merchant_id',), start to merge:\n",
      "group pivots is ('Merchant_id', 'Date_received') -> ('Date_received',), start to merge:\n",
      "group pivots is ('User_id', 'Coupon_id', 'Merchant_id') -> ('User_id',), start to merge:\n",
      "group pivots is ('User_id', 'Coupon_id', 'Merchant_id') -> ('Coupon_id',), start to merge:\n",
      "group pivots is ('User_id', 'Coupon_id', 'Merchant_id') -> ('Merchant_id',), start to merge:\n",
      "group pivots is ('User_id', 'Coupon_id', 'Date_received') -> ('User_id',), start to merge:\n",
      "group pivots is ('User_id', 'Coupon_id', 'Date_received') -> ('Coupon_id',), start to merge:\n",
      "group pivots is ('User_id', 'Coupon_id', 'Date_received') -> ('Date_received',), start to merge:\n",
      "group pivots is ('User_id', 'Merchant_id', 'Date_received') -> ('User_id',), start to merge:\n",
      "group pivots is ('User_id', 'Merchant_id', 'Date_received') -> ('Merchant_id',), start to merge:\n",
      "group pivots is ('User_id', 'Merchant_id', 'Date_received') -> ('Date_received',), start to merge:\n",
      "group pivots is ('Coupon_id', 'Merchant_id', 'Date_received') -> ('Coupon_id',), start to merge:\n",
      "group pivots is ('Coupon_id', 'Merchant_id', 'Date_received') -> ('Merchant_id',), start to merge:\n",
      "group pivots is ('Coupon_id', 'Merchant_id', 'Date_received') -> ('Date_received',), start to merge:\n",
      "finish auto attach feats, merged feat count is 332\n",
      "======= start attach on1 =======\n",
      "enabling attach feats with extra aggs\n",
      "all groupby pivots is [('User_id',), ('Coupon_id',), ('Merchant_id',), ('Date_received',), ('User_id', 'Coupon_id'), ('User_id', 'Merchant_id'), ('User_id', 'Date_received'), ('Coupon_id', 'Merchant_id'), ('Coupon_id', 'Date_received'), ('Merchant_id', 'Date_received'), ('User_id', 'Coupon_id', 'Merchant_id'), ('User_id', 'Coupon_id', 'Date_received'), ('User_id', 'Merchant_id', 'Date_received'), ('Coupon_id', 'Merchant_id', 'Date_received')]\n",
      "all aggs is ['count', 'discount_rate:mean', 'discount_x:mean', 'discount_y:mean', 'discount_rate:max', 'discount_x:max', 'discount_y:max', 'discount_rate:min', 'discount_x:min', 'discount_y:min', 'discount_rate:std', 'discount_x:std', 'discount_y:std', 'is_full_discount:sum', 'coupon_consume:sum', 'normal_consume:sum', 'no_consume:sum', 'fixed_consume:sum', 'is_click:sum']\n",
      "group pivots is ('User_id',), start enumerate agg funcs to merge:\n"
     ]
    },
    {
     "name": "stderr",
     "output_type": "stream",
     "text": [
      "100%|██████████| 19/19 [00:09<00:00,  1.92it/s]\n"
     ]
    },
    {
     "name": "stdout",
     "output_type": "stream",
     "text": [
      "group pivots is ('Coupon_id',), start enumerate agg funcs to merge:\n"
     ]
    },
    {
     "name": "stderr",
     "output_type": "stream",
     "text": [
      "100%|██████████| 19/19 [00:06<00:00,  2.73it/s]\n"
     ]
    },
    {
     "name": "stdout",
     "output_type": "stream",
     "text": [
      "group pivots is ('Merchant_id',), start enumerate agg funcs to merge:\n"
     ]
    },
    {
     "name": "stderr",
     "output_type": "stream",
     "text": [
      "100%|██████████| 19/19 [00:07<00:00,  2.68it/s]\n"
     ]
    },
    {
     "name": "stdout",
     "output_type": "stream",
     "text": [
      "group pivots is ('Date_received',), start enumerate agg funcs to merge:\n"
     ]
    },
    {
     "name": "stderr",
     "output_type": "stream",
     "text": [
      "100%|██████████| 19/19 [00:07<00:00,  2.57it/s]\n"
     ]
    },
    {
     "name": "stdout",
     "output_type": "stream",
     "text": [
      "group pivots is ('User_id', 'Coupon_id'), start enumerate agg funcs to merge:\n"
     ]
    },
    {
     "name": "stderr",
     "output_type": "stream",
     "text": [
      "100%|██████████| 19/19 [00:17<00:00,  1.10it/s]\n"
     ]
    },
    {
     "name": "stdout",
     "output_type": "stream",
     "text": [
      "group pivots is ('User_id', 'Merchant_id'), start enumerate agg funcs to merge:\n"
     ]
    },
    {
     "name": "stderr",
     "output_type": "stream",
     "text": [
      "100%|██████████| 19/19 [00:25<00:00,  1.32s/it]\n"
     ]
    },
    {
     "name": "stdout",
     "output_type": "stream",
     "text": [
      "group pivots is ('User_id', 'Date_received'), start enumerate agg funcs to merge:\n"
     ]
    },
    {
     "name": "stderr",
     "output_type": "stream",
     "text": [
      "100%|██████████| 19/19 [00:16<00:00,  1.16it/s]\n"
     ]
    },
    {
     "name": "stdout",
     "output_type": "stream",
     "text": [
      "group pivots is ('Coupon_id', 'Merchant_id'), start enumerate agg funcs to merge:\n"
     ]
    },
    {
     "name": "stderr",
     "output_type": "stream",
     "text": [
      "100%|██████████| 19/19 [00:10<00:00,  1.77it/s]\n"
     ]
    },
    {
     "name": "stdout",
     "output_type": "stream",
     "text": [
      "group pivots is ('Coupon_id', 'Date_received'), start enumerate agg funcs to merge:\n"
     ]
    },
    {
     "name": "stderr",
     "output_type": "stream",
     "text": [
      "100%|██████████| 19/19 [00:11<00:00,  1.70it/s]\n"
     ]
    },
    {
     "name": "stdout",
     "output_type": "stream",
     "text": [
      "group pivots is ('Merchant_id', 'Date_received'), start enumerate agg funcs to merge:\n"
     ]
    },
    {
     "name": "stderr",
     "output_type": "stream",
     "text": [
      "100%|██████████| 19/19 [00:11<00:00,  1.68it/s]\n"
     ]
    },
    {
     "name": "stdout",
     "output_type": "stream",
     "text": [
      "group pivots is ('User_id', 'Coupon_id', 'Merchant_id'), start enumerate agg funcs to merge:\n"
     ]
    },
    {
     "name": "stderr",
     "output_type": "stream",
     "text": [
      "100%|██████████| 19/19 [00:27<00:00,  1.44s/it]\n"
     ]
    },
    {
     "name": "stdout",
     "output_type": "stream",
     "text": [
      "group pivots is ('User_id', 'Coupon_id', 'Date_received'), start enumerate agg funcs to merge:\n"
     ]
    },
    {
     "name": "stderr",
     "output_type": "stream",
     "text": [
      "100%|██████████| 19/19 [00:19<00:00,  1.01s/it]\n"
     ]
    },
    {
     "name": "stdout",
     "output_type": "stream",
     "text": [
      "group pivots is ('User_id', 'Merchant_id', 'Date_received'), start enumerate agg funcs to merge:\n"
     ]
    },
    {
     "name": "stderr",
     "output_type": "stream",
     "text": [
      "100%|██████████| 19/19 [00:28<00:00,  1.48s/it]\n"
     ]
    },
    {
     "name": "stdout",
     "output_type": "stream",
     "text": [
      "group pivots is ('Coupon_id', 'Merchant_id', 'Date_received'), start enumerate agg funcs to merge:\n"
     ]
    },
    {
     "name": "stderr",
     "output_type": "stream",
     "text": [
      "100%|██████████| 19/19 [00:13<00:00,  1.39it/s]\n"
     ]
    },
    {
     "name": "stdout",
     "output_type": "stream",
     "text": [
      "group pivots is ('User_id', 'Coupon_id') -> ('User_id',), start to merge:\n",
      "group pivots is ('User_id', 'Coupon_id') -> ('Coupon_id',), start to merge:\n",
      "group pivots is ('User_id', 'Merchant_id') -> ('User_id',), start to merge:\n",
      "group pivots is ('User_id', 'Merchant_id') -> ('Merchant_id',), start to merge:\n",
      "group pivots is ('User_id', 'Date_received') -> ('User_id',), start to merge:\n",
      "group pivots is ('User_id', 'Date_received') -> ('Date_received',), start to merge:\n",
      "group pivots is ('Coupon_id', 'Merchant_id') -> ('Coupon_id',), start to merge:\n",
      "group pivots is ('Coupon_id', 'Merchant_id') -> ('Merchant_id',), start to merge:\n",
      "group pivots is ('Coupon_id', 'Date_received') -> ('Coupon_id',), start to merge:\n",
      "group pivots is ('Coupon_id', 'Date_received') -> ('Date_received',), start to merge:\n",
      "group pivots is ('Merchant_id', 'Date_received') -> ('Merchant_id',), start to merge:\n",
      "group pivots is ('Merchant_id', 'Date_received') -> ('Date_received',), start to merge:\n",
      "group pivots is ('User_id', 'Coupon_id', 'Merchant_id') -> ('User_id',), start to merge:\n",
      "group pivots is ('User_id', 'Coupon_id', 'Merchant_id') -> ('Coupon_id',), start to merge:\n",
      "group pivots is ('User_id', 'Coupon_id', 'Merchant_id') -> ('Merchant_id',), start to merge:\n",
      "group pivots is ('User_id', 'Coupon_id', 'Date_received') -> ('User_id',), start to merge:\n",
      "group pivots is ('User_id', 'Coupon_id', 'Date_received') -> ('Coupon_id',), start to merge:\n",
      "group pivots is ('User_id', 'Coupon_id', 'Date_received') -> ('Date_received',), start to merge:\n",
      "group pivots is ('User_id', 'Merchant_id', 'Date_received') -> ('User_id',), start to merge:\n",
      "group pivots is ('User_id', 'Merchant_id', 'Date_received') -> ('Merchant_id',), start to merge:\n",
      "group pivots is ('User_id', 'Merchant_id', 'Date_received') -> ('Date_received',), start to merge:\n",
      "group pivots is ('Coupon_id', 'Merchant_id', 'Date_received') -> ('Coupon_id',), start to merge:\n",
      "group pivots is ('Coupon_id', 'Merchant_id', 'Date_received') -> ('Merchant_id',), start to merge:\n",
      "group pivots is ('Coupon_id', 'Merchant_id', 'Date_received') -> ('Date_received',), start to merge:\n",
      "finish auto attach feats, merged feat count is 290\n",
      "======= start attach off2 =======\n",
      "enabling attach feats with extra aggs\n",
      "all groupby pivots is [('User_id',), ('Coupon_id',), ('Merchant_id',), ('Date_received',), ('User_id', 'Coupon_id'), ('User_id', 'Merchant_id'), ('User_id', 'Date_received'), ('Coupon_id', 'Merchant_id'), ('Coupon_id', 'Date_received'), ('Merchant_id', 'Date_received'), ('User_id', 'Coupon_id', 'Merchant_id'), ('User_id', 'Coupon_id', 'Date_received'), ('User_id', 'Merchant_id', 'Date_received'), ('Coupon_id', 'Merchant_id', 'Date_received')]\n",
      "all aggs is ['count', 'discount_rate:mean', 'Distance:mean', 'discount_x:mean', 'discount_y:mean', 'discount_rate:max', 'Distance:max', 'discount_x:max', 'discount_y:max', 'discount_rate:min', 'Distance:min', 'discount_x:min', 'discount_y:min', 'discount_rate:std', 'Distance:std', 'discount_x:std', 'discount_y:std', 'is_full_discount:sum', 'no_distance:sum', 'coupon_consume:sum', 'normal_consume:sum', 'no_consume:sum']\n",
      "group pivots is ('User_id',), start enumerate agg funcs to merge:\n"
     ]
    },
    {
     "name": "stderr",
     "output_type": "stream",
     "text": [
      "100%|██████████| 22/22 [00:07<00:00,  3.10it/s]\n"
     ]
    },
    {
     "name": "stdout",
     "output_type": "stream",
     "text": [
      "group pivots is ('Coupon_id',), start enumerate agg funcs to merge:\n"
     ]
    },
    {
     "name": "stderr",
     "output_type": "stream",
     "text": [
      "100%|██████████| 22/22 [00:07<00:00,  3.06it/s]\n"
     ]
    },
    {
     "name": "stdout",
     "output_type": "stream",
     "text": [
      "group pivots is ('Merchant_id',), start enumerate agg funcs to merge:\n"
     ]
    },
    {
     "name": "stderr",
     "output_type": "stream",
     "text": [
      "100%|██████████| 22/22 [00:07<00:00,  2.86it/s]\n"
     ]
    },
    {
     "name": "stdout",
     "output_type": "stream",
     "text": [
      "group pivots is ('Date_received',), start enumerate agg funcs to merge:\n"
     ]
    },
    {
     "name": "stderr",
     "output_type": "stream",
     "text": [
      "100%|██████████| 22/22 [00:07<00:00,  2.76it/s]\n"
     ]
    },
    {
     "name": "stdout",
     "output_type": "stream",
     "text": [
      "group pivots is ('User_id', 'Coupon_id'), start enumerate agg funcs to merge:\n"
     ]
    },
    {
     "name": "stderr",
     "output_type": "stream",
     "text": [
      "100%|██████████| 22/22 [00:08<00:00,  2.49it/s]\n"
     ]
    },
    {
     "name": "stdout",
     "output_type": "stream",
     "text": [
      "group pivots is ('User_id', 'Merchant_id'), start enumerate agg funcs to merge:\n"
     ]
    },
    {
     "name": "stderr",
     "output_type": "stream",
     "text": [
      "100%|██████████| 22/22 [00:09<00:00,  2.38it/s]\n"
     ]
    },
    {
     "name": "stdout",
     "output_type": "stream",
     "text": [
      "group pivots is ('User_id', 'Date_received'), start enumerate agg funcs to merge:\n"
     ]
    },
    {
     "name": "stderr",
     "output_type": "stream",
     "text": [
      "100%|██████████| 22/22 [00:09<00:00,  2.28it/s]\n"
     ]
    },
    {
     "name": "stdout",
     "output_type": "stream",
     "text": [
      "group pivots is ('Coupon_id', 'Merchant_id'), start enumerate agg funcs to merge:\n"
     ]
    },
    {
     "name": "stderr",
     "output_type": "stream",
     "text": [
      "100%|██████████| 22/22 [00:09<00:00,  2.26it/s]\n"
     ]
    },
    {
     "name": "stdout",
     "output_type": "stream",
     "text": [
      "group pivots is ('Coupon_id', 'Date_received'), start enumerate agg funcs to merge:\n"
     ]
    },
    {
     "name": "stderr",
     "output_type": "stream",
     "text": [
      "100%|██████████| 22/22 [00:10<00:00,  2.17it/s]\n"
     ]
    },
    {
     "name": "stdout",
     "output_type": "stream",
     "text": [
      "group pivots is ('Merchant_id', 'Date_received'), start enumerate agg funcs to merge:\n"
     ]
    },
    {
     "name": "stderr",
     "output_type": "stream",
     "text": [
      "100%|██████████| 22/22 [00:10<00:00,  2.10it/s]\n"
     ]
    },
    {
     "name": "stdout",
     "output_type": "stream",
     "text": [
      "group pivots is ('User_id', 'Coupon_id', 'Merchant_id'), start enumerate agg funcs to merge:\n"
     ]
    },
    {
     "name": "stderr",
     "output_type": "stream",
     "text": [
      "100%|██████████| 22/22 [00:11<00:00,  1.98it/s]\n"
     ]
    },
    {
     "name": "stdout",
     "output_type": "stream",
     "text": [
      "group pivots is ('User_id', 'Coupon_id', 'Date_received'), start enumerate agg funcs to merge:\n"
     ]
    },
    {
     "name": "stderr",
     "output_type": "stream",
     "text": [
      "100%|██████████| 22/22 [00:11<00:00,  1.89it/s]\n"
     ]
    },
    {
     "name": "stdout",
     "output_type": "stream",
     "text": [
      "group pivots is ('User_id', 'Merchant_id', 'Date_received'), start enumerate agg funcs to merge:\n"
     ]
    },
    {
     "name": "stderr",
     "output_type": "stream",
     "text": [
      "100%|██████████| 22/22 [00:12<00:00,  1.81it/s]\n"
     ]
    },
    {
     "name": "stdout",
     "output_type": "stream",
     "text": [
      "group pivots is ('Coupon_id', 'Merchant_id', 'Date_received'), start enumerate agg funcs to merge:\n"
     ]
    },
    {
     "name": "stderr",
     "output_type": "stream",
     "text": [
      "100%|██████████| 22/22 [00:12<00:00,  1.82it/s]\n"
     ]
    },
    {
     "name": "stdout",
     "output_type": "stream",
     "text": [
      "group pivots is ('User_id', 'Coupon_id') -> ('User_id',), start to merge:\n",
      "group pivots is ('User_id', 'Coupon_id') -> ('Coupon_id',), start to merge:\n",
      "group pivots is ('User_id', 'Merchant_id') -> ('User_id',), start to merge:\n",
      "group pivots is ('User_id', 'Merchant_id') -> ('Merchant_id',), start to merge:\n",
      "group pivots is ('User_id', 'Date_received') -> ('User_id',), start to merge:\n",
      "group pivots is ('User_id', 'Date_received') -> ('Date_received',), start to merge:\n",
      "group pivots is ('Coupon_id', 'Merchant_id') -> ('Coupon_id',), start to merge:\n",
      "group pivots is ('Coupon_id', 'Merchant_id') -> ('Merchant_id',), start to merge:\n",
      "group pivots is ('Coupon_id', 'Date_received') -> ('Coupon_id',), start to merge:\n",
      "group pivots is ('Coupon_id', 'Date_received') -> ('Date_received',), start to merge:\n",
      "group pivots is ('Merchant_id', 'Date_received') -> ('Merchant_id',), start to merge:\n",
      "group pivots is ('Merchant_id', 'Date_received') -> ('Date_received',), start to merge:\n",
      "group pivots is ('User_id', 'Coupon_id', 'Merchant_id') -> ('User_id',), start to merge:\n",
      "group pivots is ('User_id', 'Coupon_id', 'Merchant_id') -> ('Coupon_id',), start to merge:\n",
      "group pivots is ('User_id', 'Coupon_id', 'Merchant_id') -> ('Merchant_id',), start to merge:\n",
      "group pivots is ('User_id', 'Coupon_id', 'Date_received') -> ('User_id',), start to merge:\n",
      "group pivots is ('User_id', 'Coupon_id', 'Date_received') -> ('Coupon_id',), start to merge:\n",
      "group pivots is ('User_id', 'Coupon_id', 'Date_received') -> ('Date_received',), start to merge:\n",
      "group pivots is ('User_id', 'Merchant_id', 'Date_received') -> ('User_id',), start to merge:\n",
      "group pivots is ('User_id', 'Merchant_id', 'Date_received') -> ('Merchant_id',), start to merge:\n",
      "group pivots is ('User_id', 'Merchant_id', 'Date_received') -> ('Date_received',), start to merge:\n",
      "group pivots is ('Coupon_id', 'Merchant_id', 'Date_received') -> ('Coupon_id',), start to merge:\n",
      "group pivots is ('Coupon_id', 'Merchant_id', 'Date_received') -> ('Merchant_id',), start to merge:\n",
      "group pivots is ('Coupon_id', 'Merchant_id', 'Date_received') -> ('Date_received',), start to merge:\n",
      "finish auto attach feats, merged feat count is 332\n",
      "======= start attach on2 =======\n",
      "enabling attach feats with extra aggs\n",
      "all groupby pivots is [('User_id',), ('Coupon_id',), ('Merchant_id',), ('Date_received',), ('User_id', 'Coupon_id'), ('User_id', 'Merchant_id'), ('User_id', 'Date_received'), ('Coupon_id', 'Merchant_id'), ('Coupon_id', 'Date_received'), ('Merchant_id', 'Date_received'), ('User_id', 'Coupon_id', 'Merchant_id'), ('User_id', 'Coupon_id', 'Date_received'), ('User_id', 'Merchant_id', 'Date_received'), ('Coupon_id', 'Merchant_id', 'Date_received')]\n",
      "all aggs is ['count', 'discount_rate:mean', 'discount_x:mean', 'discount_y:mean', 'discount_rate:max', 'discount_x:max', 'discount_y:max', 'discount_rate:min', 'discount_x:min', 'discount_y:min', 'discount_rate:std', 'discount_x:std', 'discount_y:std', 'is_full_discount:sum', 'coupon_consume:sum', 'normal_consume:sum', 'no_consume:sum', 'fixed_consume:sum', 'is_click:sum']\n",
      "group pivots is ('User_id',), start enumerate agg funcs to merge:\n"
     ]
    },
    {
     "name": "stderr",
     "output_type": "stream",
     "text": [
      "100%|██████████| 19/19 [00:09<00:00,  2.07it/s]\n"
     ]
    },
    {
     "name": "stdout",
     "output_type": "stream",
     "text": [
      "group pivots is ('Coupon_id',), start enumerate agg funcs to merge:\n"
     ]
    },
    {
     "name": "stderr",
     "output_type": "stream",
     "text": [
      "100%|██████████| 19/19 [00:08<00:00,  2.27it/s]\n"
     ]
    },
    {
     "name": "stdout",
     "output_type": "stream",
     "text": [
      "group pivots is ('Merchant_id',), start enumerate agg funcs to merge:\n"
     ]
    },
    {
     "name": "stderr",
     "output_type": "stream",
     "text": [
      "100%|██████████| 19/19 [00:08<00:00,  2.18it/s]\n"
     ]
    },
    {
     "name": "stdout",
     "output_type": "stream",
     "text": [
      "group pivots is ('Date_received',), start enumerate agg funcs to merge:\n"
     ]
    },
    {
     "name": "stderr",
     "output_type": "stream",
     "text": [
      "100%|██████████| 19/19 [00:08<00:00,  2.12it/s]\n"
     ]
    },
    {
     "name": "stdout",
     "output_type": "stream",
     "text": [
      "group pivots is ('User_id', 'Coupon_id'), start enumerate agg funcs to merge:\n"
     ]
    },
    {
     "name": "stderr",
     "output_type": "stream",
     "text": [
      "100%|██████████| 19/19 [00:11<00:00,  1.69it/s]\n"
     ]
    },
    {
     "name": "stdout",
     "output_type": "stream",
     "text": [
      "group pivots is ('User_id', 'Merchant_id'), start enumerate agg funcs to merge:\n"
     ]
    },
    {
     "name": "stderr",
     "output_type": "stream",
     "text": [
      "100%|██████████| 19/19 [00:12<00:00,  1.49it/s]\n"
     ]
    },
    {
     "name": "stdout",
     "output_type": "stream",
     "text": [
      "group pivots is ('User_id', 'Date_received'), start enumerate agg funcs to merge:\n"
     ]
    },
    {
     "name": "stderr",
     "output_type": "stream",
     "text": [
      "100%|██████████| 19/19 [00:11<00:00,  1.58it/s]\n"
     ]
    },
    {
     "name": "stdout",
     "output_type": "stream",
     "text": [
      "group pivots is ('Coupon_id', 'Merchant_id'), start enumerate agg funcs to merge:\n"
     ]
    },
    {
     "name": "stderr",
     "output_type": "stream",
     "text": [
      "100%|██████████| 19/19 [00:10<00:00,  1.77it/s]\n"
     ]
    },
    {
     "name": "stdout",
     "output_type": "stream",
     "text": [
      "group pivots is ('Coupon_id', 'Date_received'), start enumerate agg funcs to merge:\n"
     ]
    },
    {
     "name": "stderr",
     "output_type": "stream",
     "text": [
      "100%|██████████| 19/19 [00:10<00:00,  1.74it/s]\n"
     ]
    },
    {
     "name": "stdout",
     "output_type": "stream",
     "text": [
      "group pivots is ('Merchant_id', 'Date_received'), start enumerate agg funcs to merge:\n"
     ]
    },
    {
     "name": "stderr",
     "output_type": "stream",
     "text": [
      "100%|██████████| 19/19 [00:11<00:00,  1.68it/s]\n"
     ]
    },
    {
     "name": "stdout",
     "output_type": "stream",
     "text": [
      "group pivots is ('User_id', 'Coupon_id', 'Merchant_id'), start enumerate agg funcs to merge:\n"
     ]
    },
    {
     "name": "stderr",
     "output_type": "stream",
     "text": [
      "100%|██████████| 19/19 [00:14<00:00,  1.31it/s]\n"
     ]
    },
    {
     "name": "stdout",
     "output_type": "stream",
     "text": [
      "group pivots is ('User_id', 'Coupon_id', 'Date_received'), start enumerate agg funcs to merge:\n"
     ]
    },
    {
     "name": "stderr",
     "output_type": "stream",
     "text": [
      "100%|██████████| 19/19 [00:14<00:00,  1.36it/s]\n"
     ]
    },
    {
     "name": "stdout",
     "output_type": "stream",
     "text": [
      "group pivots is ('User_id', 'Merchant_id', 'Date_received'), start enumerate agg funcs to merge:\n"
     ]
    },
    {
     "name": "stderr",
     "output_type": "stream",
     "text": [
      "100%|██████████| 19/19 [00:15<00:00,  1.22it/s]\n"
     ]
    },
    {
     "name": "stdout",
     "output_type": "stream",
     "text": [
      "group pivots is ('Coupon_id', 'Merchant_id', 'Date_received'), start enumerate agg funcs to merge:\n"
     ]
    },
    {
     "name": "stderr",
     "output_type": "stream",
     "text": [
      "100%|██████████| 19/19 [00:13<00:00,  1.42it/s]\n"
     ]
    },
    {
     "name": "stdout",
     "output_type": "stream",
     "text": [
      "group pivots is ('User_id', 'Coupon_id') -> ('User_id',), start to merge:\n",
      "group pivots is ('User_id', 'Coupon_id') -> ('Coupon_id',), start to merge:\n",
      "group pivots is ('User_id', 'Merchant_id') -> ('User_id',), start to merge:\n",
      "group pivots is ('User_id', 'Merchant_id') -> ('Merchant_id',), start to merge:\n",
      "group pivots is ('User_id', 'Date_received') -> ('User_id',), start to merge:\n",
      "group pivots is ('User_id', 'Date_received') -> ('Date_received',), start to merge:\n",
      "group pivots is ('Coupon_id', 'Merchant_id') -> ('Coupon_id',), start to merge:\n",
      "group pivots is ('Coupon_id', 'Merchant_id') -> ('Merchant_id',), start to merge:\n",
      "group pivots is ('Coupon_id', 'Date_received') -> ('Coupon_id',), start to merge:\n",
      "group pivots is ('Coupon_id', 'Date_received') -> ('Date_received',), start to merge:\n",
      "group pivots is ('Merchant_id', 'Date_received') -> ('Merchant_id',), start to merge:\n",
      "group pivots is ('Merchant_id', 'Date_received') -> ('Date_received',), start to merge:\n",
      "group pivots is ('User_id', 'Coupon_id', 'Merchant_id') -> ('User_id',), start to merge:\n",
      "group pivots is ('User_id', 'Coupon_id', 'Merchant_id') -> ('Coupon_id',), start to merge:\n",
      "group pivots is ('User_id', 'Coupon_id', 'Merchant_id') -> ('Merchant_id',), start to merge:\n",
      "group pivots is ('User_id', 'Coupon_id', 'Date_received') -> ('User_id',), start to merge:\n",
      "group pivots is ('User_id', 'Coupon_id', 'Date_received') -> ('Coupon_id',), start to merge:\n",
      "group pivots is ('User_id', 'Coupon_id', 'Date_received') -> ('Date_received',), start to merge:\n",
      "group pivots is ('User_id', 'Merchant_id', 'Date_received') -> ('User_id',), start to merge:\n",
      "group pivots is ('User_id', 'Merchant_id', 'Date_received') -> ('Merchant_id',), start to merge:\n",
      "group pivots is ('User_id', 'Merchant_id', 'Date_received') -> ('Date_received',), start to merge:\n",
      "group pivots is ('Coupon_id', 'Merchant_id', 'Date_received') -> ('Coupon_id',), start to merge:\n",
      "group pivots is ('Coupon_id', 'Merchant_id', 'Date_received') -> ('Merchant_id',), start to merge:\n",
      "group pivots is ('Coupon_id', 'Merchant_id', 'Date_received') -> ('Date_received',), start to merge:\n",
      "finish auto attach feats, merged feat count is 290\n",
      "======= start attach self =======\n",
      "all groupby pivots is [('User_id',), ('Coupon_id',), ('Merchant_id',), ('Date_received',), ('User_id', 'Coupon_id'), ('User_id', 'Merchant_id'), ('User_id', 'Date_received'), ('Coupon_id', 'Merchant_id'), ('Coupon_id', 'Date_received'), ('Merchant_id', 'Date_received'), ('User_id', 'Coupon_id', 'Merchant_id'), ('User_id', 'Coupon_id', 'Date_received'), ('User_id', 'Merchant_id', 'Date_received'), ('Coupon_id', 'Merchant_id', 'Date_received')]\n",
      "all aggs is ['count', 'discount_rate:mean', 'Distance:mean', 'discount_x:mean', 'discount_y:mean', 'discount_rate:max', 'Distance:max', 'discount_x:max', 'discount_y:max', 'discount_rate:min', 'Distance:min', 'discount_x:min', 'discount_y:min', 'discount_rate:std', 'Distance:std', 'discount_x:std', 'discount_y:std', 'is_full_discount:sum', 'no_distance:sum']\n",
      "group pivots is ('User_id',), start enumerate agg funcs to merge:\n"
     ]
    },
    {
     "name": "stderr",
     "output_type": "stream",
     "text": [
      "100%|██████████| 19/19 [00:10<00:00,  1.89it/s]\n"
     ]
    },
    {
     "name": "stdout",
     "output_type": "stream",
     "text": [
      "group pivots is ('Coupon_id',), start enumerate agg funcs to merge:\n"
     ]
    },
    {
     "name": "stderr",
     "output_type": "stream",
     "text": [
      "100%|██████████| 19/19 [00:13<00:00,  1.45it/s]\n"
     ]
    },
    {
     "name": "stdout",
     "output_type": "stream",
     "text": [
      "group pivots is ('Merchant_id',), start enumerate agg funcs to merge:\n"
     ]
    },
    {
     "name": "stderr",
     "output_type": "stream",
     "text": [
      "100%|██████████| 19/19 [00:16<00:00,  1.13it/s]\n"
     ]
    },
    {
     "name": "stdout",
     "output_type": "stream",
     "text": [
      "group pivots is ('Date_received',), start enumerate agg funcs to merge:\n"
     ]
    },
    {
     "name": "stderr",
     "output_type": "stream",
     "text": [
      "100%|██████████| 19/19 [00:20<00:00,  1.08s/it]\n"
     ]
    },
    {
     "name": "stdout",
     "output_type": "stream",
     "text": [
      "group pivots is ('User_id', 'Coupon_id'), start enumerate agg funcs to merge:\n"
     ]
    },
    {
     "name": "stderr",
     "output_type": "stream",
     "text": [
      "100%|██████████| 19/19 [00:25<00:00,  1.34s/it]\n"
     ]
    },
    {
     "name": "stdout",
     "output_type": "stream",
     "text": [
      "group pivots is ('User_id', 'Merchant_id'), start enumerate agg funcs to merge:\n"
     ]
    },
    {
     "name": "stderr",
     "output_type": "stream",
     "text": [
      "100%|██████████| 19/19 [00:30<00:00,  1.59s/it]\n"
     ]
    },
    {
     "name": "stdout",
     "output_type": "stream",
     "text": [
      "group pivots is ('User_id', 'Date_received'), start enumerate agg funcs to merge:\n"
     ]
    },
    {
     "name": "stderr",
     "output_type": "stream",
     "text": [
      "100%|██████████| 19/19 [00:34<00:00,  1.80s/it]\n"
     ]
    },
    {
     "name": "stdout",
     "output_type": "stream",
     "text": [
      "group pivots is ('Coupon_id', 'Merchant_id'), start enumerate agg funcs to merge:\n"
     ]
    },
    {
     "name": "stderr",
     "output_type": "stream",
     "text": [
      "100%|██████████| 19/19 [00:39<00:00,  2.09s/it]\n"
     ]
    },
    {
     "name": "stdout",
     "output_type": "stream",
     "text": [
      "group pivots is ('Coupon_id', 'Date_received'), start enumerate agg funcs to merge:\n"
     ]
    },
    {
     "name": "stderr",
     "output_type": "stream",
     "text": [
      "100%|██████████| 19/19 [00:42<00:00,  2.24s/it]\n"
     ]
    },
    {
     "name": "stdout",
     "output_type": "stream",
     "text": [
      "group pivots is ('Merchant_id', 'Date_received'), start enumerate agg funcs to merge:\n"
     ]
    },
    {
     "name": "stderr",
     "output_type": "stream",
     "text": [
      "100%|██████████| 19/19 [00:47<00:00,  2.51s/it]\n"
     ]
    },
    {
     "name": "stdout",
     "output_type": "stream",
     "text": [
      "group pivots is ('User_id', 'Coupon_id', 'Merchant_id'), start enumerate agg funcs to merge:\n"
     ]
    },
    {
     "name": "stderr",
     "output_type": "stream",
     "text": [
      "100%|██████████| 19/19 [00:53<00:00,  2.84s/it]\n"
     ]
    },
    {
     "name": "stdout",
     "output_type": "stream",
     "text": [
      "group pivots is ('User_id', 'Coupon_id', 'Date_received'), start enumerate agg funcs to merge:\n"
     ]
    },
    {
     "name": "stderr",
     "output_type": "stream",
     "text": [
      "100%|██████████| 19/19 [00:59<00:00,  3.14s/it]\n"
     ]
    },
    {
     "name": "stdout",
     "output_type": "stream",
     "text": [
      "group pivots is ('User_id', 'Merchant_id', 'Date_received'), start enumerate agg funcs to merge:\n"
     ]
    },
    {
     "name": "stderr",
     "output_type": "stream",
     "text": [
      "100%|██████████| 19/19 [01:05<00:00,  3.45s/it]\n"
     ]
    },
    {
     "name": "stdout",
     "output_type": "stream",
     "text": [
      "group pivots is ('Coupon_id', 'Merchant_id', 'Date_received'), start enumerate agg funcs to merge:\n"
     ]
    },
    {
     "name": "stderr",
     "output_type": "stream",
     "text": [
      "100%|██████████| 19/19 [01:14<00:00,  3.90s/it]\n"
     ]
    },
    {
     "name": "stdout",
     "output_type": "stream",
     "text": [
      "group pivots is ('User_id', 'Coupon_id') -> ('User_id',), start to merge:\n",
      "group pivots is ('User_id', 'Coupon_id') -> ('Coupon_id',), start to merge:\n",
      "group pivots is ('User_id', 'Merchant_id') -> ('User_id',), start to merge:\n",
      "group pivots is ('User_id', 'Merchant_id') -> ('Merchant_id',), start to merge:\n",
      "group pivots is ('User_id', 'Date_received') -> ('User_id',), start to merge:\n",
      "group pivots is ('User_id', 'Date_received') -> ('Date_received',), start to merge:\n",
      "group pivots is ('Coupon_id', 'Merchant_id') -> ('Coupon_id',), start to merge:\n",
      "group pivots is ('Coupon_id', 'Merchant_id') -> ('Merchant_id',), start to merge:\n",
      "group pivots is ('Coupon_id', 'Date_received') -> ('Coupon_id',), start to merge:\n",
      "group pivots is ('Coupon_id', 'Date_received') -> ('Date_received',), start to merge:\n",
      "group pivots is ('Merchant_id', 'Date_received') -> ('Merchant_id',), start to merge:\n",
      "group pivots is ('Merchant_id', 'Date_received') -> ('Date_received',), start to merge:\n",
      "group pivots is ('User_id', 'Coupon_id', 'Merchant_id') -> ('User_id',), start to merge:\n",
      "group pivots is ('User_id', 'Coupon_id', 'Merchant_id') -> ('Coupon_id',), start to merge:\n",
      "group pivots is ('User_id', 'Coupon_id', 'Merchant_id') -> ('Merchant_id',), start to merge:\n",
      "group pivots is ('User_id', 'Coupon_id', 'Date_received') -> ('User_id',), start to merge:\n",
      "group pivots is ('User_id', 'Coupon_id', 'Date_received') -> ('Coupon_id',), start to merge:\n",
      "group pivots is ('User_id', 'Coupon_id', 'Date_received') -> ('Date_received',), start to merge:\n",
      "group pivots is ('User_id', 'Merchant_id', 'Date_received') -> ('User_id',), start to merge:\n",
      "group pivots is ('User_id', 'Merchant_id', 'Date_received') -> ('Merchant_id',), start to merge:\n",
      "group pivots is ('User_id', 'Merchant_id', 'Date_received') -> ('Date_received',), start to merge:\n",
      "group pivots is ('Coupon_id', 'Merchant_id', 'Date_received') -> ('Coupon_id',), start to merge:\n",
      "group pivots is ('Coupon_id', 'Merchant_id', 'Date_received') -> ('Merchant_id',), start to merge:\n",
      "group pivots is ('Coupon_id', 'Merchant_id', 'Date_received') -> ('Date_received',), start to merge:\n",
      "finish auto attach feats, merged feat count is 290\n"
     ]
    }
   ],
   "source": [
    "attach_feat(\n",
    "        './dataset_split/feat_test_1_off.csv',\n",
    "        './dataset_split/feat_test_2_off.csv',\n",
    "        './dataset_split/feat_test_1_on.csv',\n",
    "        './dataset_split/feat_test_2_on.csv',\n",
    "        './dataset_split/test.csv',\n",
    "        './dataset_processed/auto_full_features_set_test.csv',\n",
    "        ['Date_received']\n",
    ")"
   ],
   "metadata": {
    "collapsed": false,
    "pycharm": {
     "name": "#%%\n"
    }
   }
  },
  {
   "cell_type": "markdown",
   "source": [
    "## 筛选特征"
   ],
   "metadata": {
    "collapsed": false,
    "pycharm": {
     "name": "#%% md\n"
    }
   }
  },
  {
   "cell_type": "code",
   "execution_count": 6,
   "outputs": [],
   "source": [
    "import pandas as pd\n",
    "import warnings\n",
    "\n",
    "warnings.filterwarnings('ignore')\n",
    "\n",
    "no_date = pd.to_datetime(0)\n",
    "\n",
    "def attach_labels(_label_set: pd.DataFrame) -> pd.DataFrame:\n",
    "    \"\"\"\n",
    "    给 label_set 打上标签\n",
    "    :param _label_set:\n",
    "    :return: label_set\n",
    "    \"\"\"\n",
    "    _label_set['label'] = 0\n",
    "    _label_set.loc[(_label_set['Date'] != no_date) &  # 要求有 Date\n",
    "                  (_label_set['Date'] - _label_set['Date_received'] <= pd.to_timedelta(15, 'D')),  # 并且小于 15 天\n",
    "                  'label'] = 1\n",
    "    return _label_set"
   ],
   "metadata": {
    "collapsed": false,
    "pycharm": {
     "name": "#%%\n"
    }
   }
  },
  {
   "cell_type": "code",
   "execution_count": 7,
   "outputs": [],
   "source": [
    "df1 = pd.read_csv('./dataset_processed/auto_full_features_set_1.csv', parse_dates=['Date', 'Date_received'])\n",
    "df2 = pd.read_csv('./dataset_processed/auto_full_features_set_2.csv', parse_dates=['Date', 'Date_received'])\n",
    "df3 = pd.read_csv('./dataset_processed/auto_full_features_set_test.csv', parse_dates=['Date_received'])\n",
    "df1['day'] = df1.Date_received.dt.day\n",
    "df1['weekday'] = df1.Date_received.dt.weekday\n",
    "df2['day'] = df2.Date_received.dt.day\n",
    "df2['weekday'] = df2.Date_received.dt.weekday\n",
    "df3['day'] = df3.Date_received.dt.day\n",
    "df3['weekday'] = df3.Date_received.dt.weekday\n",
    "\n",
    "train_set = df1\n",
    "# valid_set = df2.copy(deep=False).iloc[:len(df2)//2, :]\n",
    "valid_set = df2\n",
    "# test_set = pd.read_csv('./dataset_processed/auto_full_test_set.csv', parse_dates=['Date_received'])\n",
    "test_set = df3"
   ],
   "metadata": {
    "collapsed": false,
    "pycharm": {
     "name": "#%%\n"
    }
   }
  },
  {
   "cell_type": "code",
   "execution_count": 8,
   "outputs": [],
   "source": [
    "train_set = attach_labels(train_set)\n",
    "valid_set = attach_labels(valid_set)\n",
    "full_set = pd.concat([train_set, valid_set], ignore_index=True, axis=0)"
   ],
   "metadata": {
    "collapsed": false,
    "pycharm": {
     "name": "#%%\n"
    }
   }
  },
  {
   "cell_type": "code",
   "execution_count": 9,
   "outputs": [
    {
     "data": {
      "text/plain": "(['Distance',\n  'no_distance',\n  'is_full_discount',\n  'discount_x',\n  'discount_y',\n  'discount_rate',\n  'discount_type',\n  'off1_1_User_id_count',\n  'off1_1_User_id_discount_rate-mean',\n  'off1_1_User_id_Distance-mean',\n  'off1_1_User_id_discount_x-mean',\n  'off1_1_User_id_discount_y-mean',\n  'off1_1_User_id_discount_rate-max',\n  'off1_1_User_id_Distance-max',\n  'off1_1_User_id_discount_x-max',\n  'off1_1_User_id_discount_y-max',\n  'off1_1_User_id_discount_rate-min',\n  'off1_1_User_id_Distance-min',\n  'off1_1_User_id_discount_x-min',\n  'off1_1_User_id_discount_y-min',\n  'off1_1_User_id_discount_rate-std',\n  'off1_1_User_id_Distance-std',\n  'off1_1_User_id_discount_x-std',\n  'off1_1_User_id_discount_y-std',\n  'off1_1_User_id_is_full_discount-sum',\n  'off1_1_User_id_no_distance-sum',\n  'off1_1_User_id_coupon_consume-sum',\n  'off1_1_User_id_normal_consume-sum',\n  'off1_1_User_id_no_consume-sum',\n  'off1_1_Coupon_id_count',\n  'off1_1_Coupon_id_discount_rate-mean',\n  'off1_1_Coupon_id_Distance-mean',\n  'off1_1_Coupon_id_discount_x-mean',\n  'off1_1_Coupon_id_discount_y-mean',\n  'off1_1_Coupon_id_discount_rate-max',\n  'off1_1_Coupon_id_Distance-max',\n  'off1_1_Coupon_id_discount_x-max',\n  'off1_1_Coupon_id_discount_y-max',\n  'off1_1_Coupon_id_discount_rate-min',\n  'off1_1_Coupon_id_Distance-min',\n  'off1_1_Coupon_id_discount_x-min',\n  'off1_1_Coupon_id_discount_y-min',\n  'off1_1_Coupon_id_Distance-std',\n  'off1_1_Coupon_id_is_full_discount-sum',\n  'off1_1_Coupon_id_no_distance-sum',\n  'off1_1_Coupon_id_coupon_consume-sum',\n  'off1_1_Coupon_id_no_consume-sum',\n  'off1_1_Merchant_id_count',\n  'off1_1_Merchant_id_discount_rate-mean',\n  'off1_1_Merchant_id_Distance-mean',\n  'off1_1_Merchant_id_discount_x-mean',\n  'off1_1_Merchant_id_discount_y-mean',\n  'off1_1_Merchant_id_discount_rate-max',\n  'off1_1_Merchant_id_Distance-max',\n  'off1_1_Merchant_id_discount_x-max',\n  'off1_1_Merchant_id_discount_y-max',\n  'off1_1_Merchant_id_discount_rate-min',\n  'off1_1_Merchant_id_Distance-min',\n  'off1_1_Merchant_id_discount_x-min',\n  'off1_1_Merchant_id_discount_y-min',\n  'off1_1_Merchant_id_discount_rate-std',\n  'off1_1_Merchant_id_Distance-std',\n  'off1_1_Merchant_id_discount_x-std',\n  'off1_1_Merchant_id_discount_y-std',\n  'off1_1_Merchant_id_is_full_discount-sum',\n  'off1_1_Merchant_id_no_distance-sum',\n  'off1_1_Merchant_id_coupon_consume-sum',\n  'off1_1_Merchant_id_normal_consume-sum',\n  'off1_1_Merchant_id_no_consume-sum',\n  'off1_1_User_id-Coupon_id_count',\n  'off1_1_User_id-Coupon_id_discount_rate-mean',\n  'off1_1_User_id-Coupon_id_Distance-mean',\n  'off1_1_User_id-Coupon_id_discount_x-mean',\n  'off1_1_User_id-Coupon_id_discount_y-mean',\n  'off1_1_User_id-Coupon_id_discount_rate-max',\n  'off1_1_User_id-Coupon_id_Distance-max',\n  'off1_1_User_id-Coupon_id_discount_x-max',\n  'off1_1_User_id-Coupon_id_discount_y-max',\n  'off1_1_User_id-Coupon_id_discount_rate-min',\n  'off1_1_User_id-Coupon_id_Distance-min',\n  'off1_1_User_id-Coupon_id_discount_x-min',\n  'off1_1_User_id-Coupon_id_discount_y-min',\n  'off1_1_User_id-Coupon_id_is_full_discount-sum',\n  'off1_1_User_id-Coupon_id_no_distance-sum',\n  'off1_1_User_id-Coupon_id_coupon_consume-sum',\n  'off1_1_User_id-Coupon_id_no_consume-sum',\n  'off1_1_User_id-Merchant_id_count',\n  'off1_1_User_id-Merchant_id_discount_rate-mean',\n  'off1_1_User_id-Merchant_id_Distance-mean',\n  'off1_1_User_id-Merchant_id_discount_x-mean',\n  'off1_1_User_id-Merchant_id_discount_y-mean',\n  'off1_1_User_id-Merchant_id_discount_rate-max',\n  'off1_1_User_id-Merchant_id_Distance-max',\n  'off1_1_User_id-Merchant_id_discount_x-max',\n  'off1_1_User_id-Merchant_id_discount_y-max',\n  'off1_1_User_id-Merchant_id_discount_rate-min',\n  'off1_1_User_id-Merchant_id_Distance-min',\n  'off1_1_User_id-Merchant_id_discount_x-min',\n  'off1_1_User_id-Merchant_id_discount_y-min',\n  'off1_1_User_id-Merchant_id_discount_rate-std',\n  'off1_1_User_id-Merchant_id_discount_x-std',\n  'off1_1_User_id-Merchant_id_discount_y-std',\n  'off1_1_User_id-Merchant_id_is_full_discount-sum',\n  'off1_1_User_id-Merchant_id_no_distance-sum',\n  'off1_1_User_id-Merchant_id_coupon_consume-sum',\n  'off1_1_User_id-Merchant_id_normal_consume-sum',\n  'off1_1_User_id-Merchant_id_no_consume-sum',\n  'off1_1_Coupon_id-Merchant_id_count',\n  'off1_1_Coupon_id-Merchant_id_discount_rate-mean',\n  'off1_1_Coupon_id-Merchant_id_Distance-mean',\n  'off1_1_Coupon_id-Merchant_id_discount_x-mean',\n  'off1_1_Coupon_id-Merchant_id_discount_y-mean',\n  'off1_1_Coupon_id-Merchant_id_discount_rate-max',\n  'off1_1_Coupon_id-Merchant_id_Distance-max',\n  'off1_1_Coupon_id-Merchant_id_discount_x-max',\n  'off1_1_Coupon_id-Merchant_id_discount_y-max',\n  'off1_1_Coupon_id-Merchant_id_discount_rate-min',\n  'off1_1_Coupon_id-Merchant_id_Distance-min',\n  'off1_1_Coupon_id-Merchant_id_discount_x-min',\n  'off1_1_Coupon_id-Merchant_id_discount_y-min',\n  'off1_1_Coupon_id-Merchant_id_Distance-std',\n  'off1_1_Coupon_id-Merchant_id_is_full_discount-sum',\n  'off1_1_Coupon_id-Merchant_id_no_distance-sum',\n  'off1_1_Coupon_id-Merchant_id_coupon_consume-sum',\n  'off1_1_Coupon_id-Merchant_id_no_consume-sum',\n  'off1_1_User_id-Coupon_id-Merchant_id_count',\n  'off1_1_User_id-Coupon_id-Merchant_id_discount_rate-mean',\n  'off1_1_User_id-Coupon_id-Merchant_id_Distance-mean',\n  'off1_1_User_id-Coupon_id-Merchant_id_discount_x-mean',\n  'off1_1_User_id-Coupon_id-Merchant_id_discount_y-mean',\n  'off1_1_User_id-Coupon_id-Merchant_id_discount_rate-max',\n  'off1_1_User_id-Coupon_id-Merchant_id_Distance-max',\n  'off1_1_User_id-Coupon_id-Merchant_id_discount_x-max',\n  'off1_1_User_id-Coupon_id-Merchant_id_discount_y-max',\n  'off1_1_User_id-Coupon_id-Merchant_id_discount_rate-min',\n  'off1_1_User_id-Coupon_id-Merchant_id_Distance-min',\n  'off1_1_User_id-Coupon_id-Merchant_id_discount_x-min',\n  'off1_1_User_id-Coupon_id-Merchant_id_discount_y-min',\n  'off1_1_User_id-Coupon_id-Merchant_id_is_full_discount-sum',\n  'off1_1_User_id-Coupon_id-Merchant_id_no_distance-sum',\n  'off1_1_User_id-Coupon_id-Merchant_id_coupon_consume-sum',\n  'off1_1_User_id-Coupon_id-Merchant_id_no_consume-sum',\n  'off1_2_User_id-Coupon_id_count_User_id_count',\n  'off1_2_User_id-Coupon_id_count_Coupon_id_count',\n  'off1_2_User_id-Merchant_id_count_User_id_count',\n  'off1_2_User_id-Merchant_id_count_Merchant_id_count',\n  'off1_2_User_id-Date_received_count_User_id_count',\n  'off1_2_Coupon_id-Merchant_id_count_Coupon_id_count',\n  'off1_2_Coupon_id-Merchant_id_count_Merchant_id_count',\n  'off1_2_Coupon_id-Date_received_count_Coupon_id_count',\n  'off1_2_Merchant_id-Date_received_count_Merchant_id_count',\n  'off1_2_User_id-Coupon_id-Merchant_id_count_User_id_count',\n  'off1_2_User_id-Coupon_id-Merchant_id_count_Coupon_id_count',\n  'off1_2_User_id-Coupon_id-Merchant_id_count_Merchant_id_count',\n  'off1_2_User_id-Coupon_id-Date_received_count_User_id_count',\n  'off1_2_User_id-Coupon_id-Date_received_count_Coupon_id_count',\n  'off1_2_User_id-Merchant_id-Date_received_count_User_id_count',\n  'off1_2_User_id-Merchant_id-Date_received_count_Merchant_id_count',\n  'off1_2_Coupon_id-Merchant_id-Date_received_count_Coupon_id_count',\n  'off1_2_Coupon_id-Merchant_id-Date_received_count_Merchant_id_count',\n  'on1_1_User_id_count',\n  'on1_1_User_id_discount_rate-mean',\n  'on1_1_User_id_discount_x-mean',\n  'on1_1_User_id_discount_y-mean',\n  'on1_1_User_id_discount_rate-max',\n  'on1_1_User_id_discount_x-max',\n  'on1_1_User_id_discount_y-max',\n  'on1_1_User_id_discount_rate-min',\n  'on1_1_User_id_discount_x-min',\n  'on1_1_User_id_discount_y-min',\n  'on1_1_User_id_discount_rate-std',\n  'on1_1_User_id_discount_x-std',\n  'on1_1_User_id_discount_y-std',\n  'on1_1_User_id_is_full_discount-sum',\n  'on1_1_User_id_coupon_consume-sum',\n  'on1_1_User_id_normal_consume-sum',\n  'on1_1_User_id_no_consume-sum',\n  'on1_1_User_id_fixed_consume-sum',\n  'on1_1_User_id_is_click-sum',\n  'on1_2_User_id-Coupon_id_count_User_id_count',\n  'on1_2_User_id-Merchant_id_count_User_id_count',\n  'on1_2_User_id-Date_received_count_User_id_count',\n  'on1_2_User_id-Coupon_id-Merchant_id_count_User_id_count',\n  'on1_2_User_id-Coupon_id-Date_received_count_User_id_count',\n  'on1_2_User_id-Merchant_id-Date_received_count_User_id_count',\n  'off2_1_User_id_count',\n  'off2_1_User_id_discount_rate-mean',\n  'off2_1_User_id_Distance-mean',\n  'off2_1_User_id_discount_x-mean',\n  'off2_1_User_id_discount_y-mean',\n  'off2_1_User_id_discount_rate-max',\n  'off2_1_User_id_Distance-max',\n  'off2_1_User_id_discount_x-max',\n  'off2_1_User_id_discount_y-max',\n  'off2_1_User_id_discount_rate-min',\n  'off2_1_User_id_Distance-min',\n  'off2_1_User_id_discount_x-min',\n  'off2_1_User_id_discount_y-min',\n  'off2_1_User_id_discount_rate-std',\n  'off2_1_User_id_Distance-std',\n  'off2_1_User_id_discount_x-std',\n  'off2_1_User_id_discount_y-std',\n  'off2_1_User_id_is_full_discount-sum',\n  'off2_1_User_id_no_distance-sum',\n  'off2_1_User_id_coupon_consume-sum',\n  'off2_1_User_id_normal_consume-sum',\n  'off2_1_Coupon_id_count',\n  'off2_1_Coupon_id_discount_rate-mean',\n  'off2_1_Coupon_id_Distance-mean',\n  'off2_1_Coupon_id_discount_x-mean',\n  'off2_1_Coupon_id_discount_y-mean',\n  'off2_1_Coupon_id_discount_rate-max',\n  'off2_1_Coupon_id_Distance-max',\n  'off2_1_Coupon_id_discount_x-max',\n  'off2_1_Coupon_id_discount_y-max',\n  'off2_1_Coupon_id_discount_rate-min',\n  'off2_1_Coupon_id_Distance-min',\n  'off2_1_Coupon_id_discount_x-min',\n  'off2_1_Coupon_id_discount_y-min',\n  'off2_1_Coupon_id_Distance-std',\n  'off2_1_Coupon_id_is_full_discount-sum',\n  'off2_1_Coupon_id_no_distance-sum',\n  'off2_1_Coupon_id_coupon_consume-sum',\n  'off2_1_Merchant_id_count',\n  'off2_1_Merchant_id_discount_rate-mean',\n  'off2_1_Merchant_id_Distance-mean',\n  'off2_1_Merchant_id_discount_x-mean',\n  'off2_1_Merchant_id_discount_y-mean',\n  'off2_1_Merchant_id_discount_rate-max',\n  'off2_1_Merchant_id_Distance-max',\n  'off2_1_Merchant_id_discount_x-max',\n  'off2_1_Merchant_id_discount_y-max',\n  'off2_1_Merchant_id_discount_rate-min',\n  'off2_1_Merchant_id_Distance-min',\n  'off2_1_Merchant_id_discount_x-min',\n  'off2_1_Merchant_id_discount_y-min',\n  'off2_1_Merchant_id_discount_rate-std',\n  'off2_1_Merchant_id_Distance-std',\n  'off2_1_Merchant_id_discount_x-std',\n  'off2_1_Merchant_id_discount_y-std',\n  'off2_1_Merchant_id_is_full_discount-sum',\n  'off2_1_Merchant_id_no_distance-sum',\n  'off2_1_Merchant_id_coupon_consume-sum',\n  'off2_1_Merchant_id_normal_consume-sum',\n  'off2_1_User_id-Coupon_id_count',\n  'off2_1_User_id-Coupon_id_discount_rate-mean',\n  'off2_1_User_id-Coupon_id_Distance-mean',\n  'off2_1_User_id-Coupon_id_discount_x-mean',\n  'off2_1_User_id-Coupon_id_discount_y-mean',\n  'off2_1_User_id-Coupon_id_discount_rate-max',\n  'off2_1_User_id-Coupon_id_Distance-max',\n  'off2_1_User_id-Coupon_id_discount_x-max',\n  'off2_1_User_id-Coupon_id_discount_y-max',\n  'off2_1_User_id-Coupon_id_discount_rate-min',\n  'off2_1_User_id-Coupon_id_Distance-min',\n  'off2_1_User_id-Coupon_id_discount_x-min',\n  'off2_1_User_id-Coupon_id_discount_y-min',\n  'off2_1_User_id-Coupon_id_is_full_discount-sum',\n  'off2_1_User_id-Coupon_id_no_distance-sum',\n  'off2_1_User_id-Coupon_id_coupon_consume-sum',\n  'off2_1_User_id-Merchant_id_count',\n  'off2_1_User_id-Merchant_id_discount_rate-mean',\n  'off2_1_User_id-Merchant_id_Distance-mean',\n  'off2_1_User_id-Merchant_id_discount_x-mean',\n  'off2_1_User_id-Merchant_id_discount_y-mean',\n  'off2_1_User_id-Merchant_id_discount_rate-max',\n  'off2_1_User_id-Merchant_id_Distance-max',\n  'off2_1_User_id-Merchant_id_discount_x-max',\n  'off2_1_User_id-Merchant_id_discount_y-max',\n  'off2_1_User_id-Merchant_id_discount_rate-min',\n  'off2_1_User_id-Merchant_id_Distance-min',\n  'off2_1_User_id-Merchant_id_discount_x-min',\n  'off2_1_User_id-Merchant_id_discount_y-min',\n  'off2_1_User_id-Merchant_id_discount_rate-std',\n  'off2_1_User_id-Merchant_id_discount_x-std',\n  'off2_1_User_id-Merchant_id_discount_y-std',\n  'off2_1_User_id-Merchant_id_is_full_discount-sum',\n  'off2_1_User_id-Merchant_id_no_distance-sum',\n  'off2_1_User_id-Merchant_id_coupon_consume-sum',\n  'off2_1_User_id-Merchant_id_normal_consume-sum',\n  'off2_1_Coupon_id-Merchant_id_count',\n  'off2_1_Coupon_id-Merchant_id_discount_rate-mean',\n  'off2_1_Coupon_id-Merchant_id_Distance-mean',\n  'off2_1_Coupon_id-Merchant_id_discount_x-mean',\n  'off2_1_Coupon_id-Merchant_id_discount_y-mean',\n  'off2_1_Coupon_id-Merchant_id_discount_rate-max',\n  'off2_1_Coupon_id-Merchant_id_Distance-max',\n  'off2_1_Coupon_id-Merchant_id_discount_x-max',\n  'off2_1_Coupon_id-Merchant_id_discount_y-max',\n  'off2_1_Coupon_id-Merchant_id_discount_rate-min',\n  'off2_1_Coupon_id-Merchant_id_Distance-min',\n  'off2_1_Coupon_id-Merchant_id_discount_x-min',\n  'off2_1_Coupon_id-Merchant_id_discount_y-min',\n  'off2_1_Coupon_id-Merchant_id_Distance-std',\n  'off2_1_Coupon_id-Merchant_id_is_full_discount-sum',\n  'off2_1_Coupon_id-Merchant_id_no_distance-sum',\n  'off2_1_Coupon_id-Merchant_id_coupon_consume-sum',\n  'off2_1_User_id-Coupon_id-Merchant_id_count',\n  'off2_1_User_id-Coupon_id-Merchant_id_discount_rate-mean',\n  'off2_1_User_id-Coupon_id-Merchant_id_Distance-mean',\n  'off2_1_User_id-Coupon_id-Merchant_id_discount_x-mean',\n  'off2_1_User_id-Coupon_id-Merchant_id_discount_y-mean',\n  'off2_1_User_id-Coupon_id-Merchant_id_discount_rate-max',\n  'off2_1_User_id-Coupon_id-Merchant_id_Distance-max',\n  'off2_1_User_id-Coupon_id-Merchant_id_discount_x-max',\n  'off2_1_User_id-Coupon_id-Merchant_id_discount_y-max',\n  'off2_1_User_id-Coupon_id-Merchant_id_discount_rate-min',\n  'off2_1_User_id-Coupon_id-Merchant_id_Distance-min',\n  'off2_1_User_id-Coupon_id-Merchant_id_discount_x-min',\n  'off2_1_User_id-Coupon_id-Merchant_id_discount_y-min',\n  'off2_1_User_id-Coupon_id-Merchant_id_is_full_discount-sum',\n  'off2_1_User_id-Coupon_id-Merchant_id_no_distance-sum',\n  'off2_1_User_id-Coupon_id-Merchant_id_coupon_consume-sum',\n  'off2_2_User_id-Coupon_id_count_User_id_count',\n  'off2_2_User_id-Coupon_id_count_Coupon_id_count',\n  'off2_2_User_id-Merchant_id_count_User_id_count',\n  'off2_2_User_id-Merchant_id_count_Merchant_id_count',\n  'off2_2_User_id-Date_received_count_User_id_count',\n  'off2_2_Coupon_id-Merchant_id_count_Coupon_id_count',\n  'off2_2_Coupon_id-Merchant_id_count_Merchant_id_count',\n  'off2_2_Coupon_id-Date_received_count_Coupon_id_count',\n  'off2_2_Merchant_id-Date_received_count_Merchant_id_count',\n  'off2_2_User_id-Coupon_id-Merchant_id_count_User_id_count',\n  'off2_2_User_id-Coupon_id-Merchant_id_count_Coupon_id_count',\n  'off2_2_User_id-Coupon_id-Merchant_id_count_Merchant_id_count',\n  'off2_2_User_id-Coupon_id-Date_received_count_User_id_count',\n  'off2_2_User_id-Coupon_id-Date_received_count_Coupon_id_count',\n  'off2_2_User_id-Merchant_id-Date_received_count_User_id_count',\n  'off2_2_User_id-Merchant_id-Date_received_count_Merchant_id_count',\n  'off2_2_Coupon_id-Merchant_id-Date_received_count_Coupon_id_count',\n  'off2_2_Coupon_id-Merchant_id-Date_received_count_Merchant_id_count',\n  'on2_1_User_id_count',\n  'on2_1_User_id_discount_rate-mean',\n  'on2_1_User_id_discount_x-mean',\n  'on2_1_User_id_discount_y-mean',\n  'on2_1_User_id_discount_rate-max',\n  'on2_1_User_id_discount_x-max',\n  'on2_1_User_id_discount_y-max',\n  'on2_1_User_id_discount_rate-min',\n  'on2_1_User_id_discount_x-min',\n  'on2_1_User_id_discount_y-min',\n  'on2_1_User_id_discount_rate-std',\n  'on2_1_User_id_discount_x-std',\n  'on2_1_User_id_discount_y-std',\n  'on2_1_User_id_is_full_discount-sum',\n  'on2_1_User_id_coupon_consume-sum',\n  'on2_1_User_id_normal_consume-sum',\n  'on2_1_User_id_fixed_consume-sum',\n  'on2_1_User_id_is_click-sum',\n  'on2_2_User_id-Coupon_id_count_User_id_count',\n  'on2_2_User_id-Merchant_id_count_User_id_count',\n  'on2_2_User_id-Date_received_count_User_id_count',\n  'on2_2_User_id-Coupon_id-Merchant_id_count_User_id_count',\n  'on2_2_User_id-Coupon_id-Date_received_count_User_id_count',\n  'on2_2_User_id-Merchant_id-Date_received_count_User_id_count',\n  'self_1_User_id_count',\n  'self_1_User_id_discount_rate-mean',\n  'self_1_User_id_Distance-mean',\n  'self_1_User_id_discount_x-mean',\n  'self_1_User_id_discount_y-mean',\n  'self_1_User_id_discount_rate-max',\n  'self_1_User_id_Distance-max',\n  'self_1_User_id_discount_x-max',\n  'self_1_User_id_discount_y-max',\n  'self_1_User_id_discount_rate-min',\n  'self_1_User_id_Distance-min',\n  'self_1_User_id_discount_x-min',\n  'self_1_User_id_discount_y-min',\n  'self_1_User_id_discount_rate-std',\n  'self_1_User_id_Distance-std',\n  'self_1_User_id_discount_x-std',\n  'self_1_User_id_discount_y-std',\n  'self_1_User_id_is_full_discount-sum',\n  'self_1_User_id_no_distance-sum',\n  'self_1_Coupon_id_count',\n  'self_1_Coupon_id_discount_rate-mean',\n  'self_1_Coupon_id_Distance-mean',\n  'self_1_Coupon_id_discount_x-mean',\n  'self_1_Coupon_id_discount_y-mean',\n  'self_1_Coupon_id_discount_rate-max',\n  'self_1_Coupon_id_Distance-max',\n  'self_1_Coupon_id_discount_x-max',\n  'self_1_Coupon_id_discount_y-max',\n  'self_1_Coupon_id_discount_rate-min',\n  'self_1_Coupon_id_Distance-min',\n  'self_1_Coupon_id_discount_x-min',\n  'self_1_Coupon_id_discount_y-min',\n  'self_1_Coupon_id_Distance-std',\n  'self_1_Coupon_id_is_full_discount-sum',\n  'self_1_Coupon_id_no_distance-sum',\n  'self_1_Merchant_id_count',\n  'self_1_Merchant_id_discount_rate-mean',\n  'self_1_Merchant_id_Distance-mean',\n  'self_1_Merchant_id_discount_x-mean',\n  'self_1_Merchant_id_discount_y-mean',\n  'self_1_Merchant_id_discount_rate-max',\n  'self_1_Merchant_id_Distance-max',\n  'self_1_Merchant_id_discount_x-max',\n  'self_1_Merchant_id_discount_y-max',\n  'self_1_Merchant_id_discount_rate-min',\n  'self_1_Merchant_id_Distance-min',\n  'self_1_Merchant_id_discount_x-min',\n  'self_1_Merchant_id_discount_y-min',\n  'self_1_Merchant_id_discount_rate-std',\n  'self_1_Merchant_id_Distance-std',\n  'self_1_Merchant_id_discount_x-std',\n  'self_1_Merchant_id_discount_y-std',\n  'self_1_Merchant_id_is_full_discount-sum',\n  'self_1_Merchant_id_no_distance-sum',\n  'self_1_Date_received_count',\n  'self_1_Date_received_discount_rate-mean',\n  'self_1_Date_received_Distance-mean',\n  'self_1_Date_received_discount_x-mean',\n  'self_1_Date_received_discount_y-mean',\n  'self_1_Date_received_discount_rate-max',\n  'self_1_Date_received_Distance-max',\n  'self_1_Date_received_discount_x-max',\n  'self_1_Date_received_discount_y-max',\n  'self_1_Date_received_discount_rate-min',\n  'self_1_Date_received_Distance-min',\n  'self_1_Date_received_discount_x-min',\n  'self_1_Date_received_discount_y-min',\n  'self_1_Date_received_discount_rate-std',\n  'self_1_Date_received_Distance-std',\n  'self_1_Date_received_discount_x-std',\n  'self_1_Date_received_discount_y-std',\n  'self_1_Date_received_is_full_discount-sum',\n  'self_1_Date_received_no_distance-sum',\n  'self_1_User_id-Coupon_id_count',\n  'self_1_User_id-Coupon_id_discount_rate-mean',\n  'self_1_User_id-Coupon_id_Distance-mean',\n  'self_1_User_id-Coupon_id_discount_x-mean',\n  'self_1_User_id-Coupon_id_discount_y-mean',\n  'self_1_User_id-Coupon_id_discount_rate-max',\n  'self_1_User_id-Coupon_id_Distance-max',\n  'self_1_User_id-Coupon_id_discount_x-max',\n  'self_1_User_id-Coupon_id_discount_y-max',\n  'self_1_User_id-Coupon_id_discount_rate-min',\n  'self_1_User_id-Coupon_id_Distance-min',\n  'self_1_User_id-Coupon_id_discount_x-min',\n  'self_1_User_id-Coupon_id_discount_y-min',\n  'self_1_User_id-Coupon_id_is_full_discount-sum',\n  'self_1_User_id-Coupon_id_no_distance-sum',\n  'self_1_User_id-Merchant_id_count',\n  'self_1_User_id-Merchant_id_discount_rate-mean',\n  'self_1_User_id-Merchant_id_Distance-mean',\n  'self_1_User_id-Merchant_id_discount_x-mean',\n  'self_1_User_id-Merchant_id_discount_y-mean',\n  'self_1_User_id-Merchant_id_discount_rate-max',\n  'self_1_User_id-Merchant_id_Distance-max',\n  'self_1_User_id-Merchant_id_discount_x-max',\n  'self_1_User_id-Merchant_id_discount_y-max',\n  'self_1_User_id-Merchant_id_discount_rate-min',\n  'self_1_User_id-Merchant_id_Distance-min',\n  'self_1_User_id-Merchant_id_discount_x-min',\n  'self_1_User_id-Merchant_id_discount_y-min',\n  'self_1_User_id-Merchant_id_discount_rate-std',\n  'self_1_User_id-Merchant_id_discount_x-std',\n  'self_1_User_id-Merchant_id_discount_y-std',\n  'self_1_User_id-Merchant_id_is_full_discount-sum',\n  'self_1_User_id-Merchant_id_no_distance-sum',\n  'self_1_User_id-Date_received_count',\n  'self_1_User_id-Date_received_discount_rate-mean',\n  'self_1_User_id-Date_received_Distance-mean',\n  'self_1_User_id-Date_received_discount_x-mean',\n  'self_1_User_id-Date_received_discount_y-mean',\n  'self_1_User_id-Date_received_discount_rate-max',\n  'self_1_User_id-Date_received_Distance-max',\n  'self_1_User_id-Date_received_discount_x-max',\n  'self_1_User_id-Date_received_discount_y-max',\n  'self_1_User_id-Date_received_discount_rate-min',\n  'self_1_User_id-Date_received_Distance-min',\n  'self_1_User_id-Date_received_discount_x-min',\n  'self_1_User_id-Date_received_discount_y-min',\n  'self_1_User_id-Date_received_discount_rate-std',\n  'self_1_User_id-Date_received_Distance-std',\n  'self_1_User_id-Date_received_discount_x-std',\n  'self_1_User_id-Date_received_discount_y-std',\n  'self_1_User_id-Date_received_is_full_discount-sum',\n  'self_1_User_id-Date_received_no_distance-sum',\n  'self_1_Coupon_id-Merchant_id_count',\n  'self_1_Coupon_id-Merchant_id_discount_rate-mean',\n  'self_1_Coupon_id-Merchant_id_Distance-mean',\n  'self_1_Coupon_id-Merchant_id_discount_x-mean',\n  'self_1_Coupon_id-Merchant_id_discount_y-mean',\n  'self_1_Coupon_id-Merchant_id_discount_rate-max',\n  'self_1_Coupon_id-Merchant_id_Distance-max',\n  'self_1_Coupon_id-Merchant_id_discount_x-max',\n  'self_1_Coupon_id-Merchant_id_discount_y-max',\n  'self_1_Coupon_id-Merchant_id_discount_rate-min',\n  'self_1_Coupon_id-Merchant_id_Distance-min',\n  'self_1_Coupon_id-Merchant_id_discount_x-min',\n  'self_1_Coupon_id-Merchant_id_discount_y-min',\n  'self_1_Coupon_id-Merchant_id_Distance-std',\n  'self_1_Coupon_id-Merchant_id_is_full_discount-sum',\n  'self_1_Coupon_id-Merchant_id_no_distance-sum',\n  'self_1_Coupon_id-Date_received_count',\n  'self_1_Coupon_id-Date_received_discount_rate-mean',\n  'self_1_Coupon_id-Date_received_Distance-mean',\n  'self_1_Coupon_id-Date_received_discount_x-mean',\n  'self_1_Coupon_id-Date_received_discount_y-mean',\n  'self_1_Coupon_id-Date_received_discount_rate-max',\n  'self_1_Coupon_id-Date_received_Distance-max',\n  'self_1_Coupon_id-Date_received_discount_x-max',\n  'self_1_Coupon_id-Date_received_discount_y-max',\n  'self_1_Coupon_id-Date_received_discount_rate-min',\n  'self_1_Coupon_id-Date_received_Distance-min',\n  'self_1_Coupon_id-Date_received_discount_x-min',\n  'self_1_Coupon_id-Date_received_discount_y-min',\n  'self_1_Coupon_id-Date_received_Distance-std',\n  'self_1_Coupon_id-Date_received_is_full_discount-sum',\n  'self_1_Coupon_id-Date_received_no_distance-sum',\n  'self_1_Merchant_id-Date_received_count',\n  'self_1_Merchant_id-Date_received_discount_rate-mean',\n  'self_1_Merchant_id-Date_received_Distance-mean',\n  'self_1_Merchant_id-Date_received_discount_x-mean',\n  'self_1_Merchant_id-Date_received_discount_y-mean',\n  'self_1_Merchant_id-Date_received_discount_rate-max',\n  'self_1_Merchant_id-Date_received_Distance-max',\n  'self_1_Merchant_id-Date_received_discount_x-max',\n  'self_1_Merchant_id-Date_received_discount_y-max',\n  'self_1_Merchant_id-Date_received_discount_rate-min',\n  'self_1_Merchant_id-Date_received_Distance-min',\n  'self_1_Merchant_id-Date_received_discount_x-min',\n  'self_1_Merchant_id-Date_received_discount_y-min',\n  'self_1_Merchant_id-Date_received_discount_rate-std',\n  'self_1_Merchant_id-Date_received_Distance-std',\n  'self_1_Merchant_id-Date_received_discount_x-std',\n  'self_1_Merchant_id-Date_received_discount_y-std',\n  'self_1_Merchant_id-Date_received_is_full_discount-sum',\n  'self_1_Merchant_id-Date_received_no_distance-sum',\n  'self_1_User_id-Coupon_id-Merchant_id_count',\n  'self_1_User_id-Coupon_id-Merchant_id_discount_rate-mean',\n  'self_1_User_id-Coupon_id-Merchant_id_Distance-mean',\n  'self_1_User_id-Coupon_id-Merchant_id_discount_x-mean',\n  'self_1_User_id-Coupon_id-Merchant_id_discount_y-mean',\n  'self_1_User_id-Coupon_id-Merchant_id_discount_rate-max',\n  'self_1_User_id-Coupon_id-Merchant_id_Distance-max',\n  'self_1_User_id-Coupon_id-Merchant_id_discount_x-max',\n  'self_1_User_id-Coupon_id-Merchant_id_discount_y-max',\n  'self_1_User_id-Coupon_id-Merchant_id_discount_rate-min',\n  'self_1_User_id-Coupon_id-Merchant_id_Distance-min',\n  'self_1_User_id-Coupon_id-Merchant_id_discount_x-min',\n  'self_1_User_id-Coupon_id-Merchant_id_discount_y-min',\n  'self_1_User_id-Coupon_id-Merchant_id_is_full_discount-sum',\n  'self_1_User_id-Coupon_id-Merchant_id_no_distance-sum',\n  'self_1_User_id-Coupon_id-Date_received_count',\n  'self_1_User_id-Coupon_id-Date_received_discount_rate-mean',\n  'self_1_User_id-Coupon_id-Date_received_Distance-mean',\n  'self_1_User_id-Coupon_id-Date_received_discount_x-mean',\n  'self_1_User_id-Coupon_id-Date_received_discount_y-mean',\n  'self_1_User_id-Coupon_id-Date_received_discount_rate-max',\n  'self_1_User_id-Coupon_id-Date_received_Distance-max',\n  'self_1_User_id-Coupon_id-Date_received_discount_x-max',\n  'self_1_User_id-Coupon_id-Date_received_discount_y-max',\n  'self_1_User_id-Coupon_id-Date_received_discount_rate-min',\n  'self_1_User_id-Coupon_id-Date_received_Distance-min',\n  'self_1_User_id-Coupon_id-Date_received_discount_x-min',\n  'self_1_User_id-Coupon_id-Date_received_discount_y-min',\n  'self_1_User_id-Coupon_id-Date_received_is_full_discount-sum',\n  'self_1_User_id-Coupon_id-Date_received_no_distance-sum',\n  'self_1_User_id-Merchant_id-Date_received_count',\n  'self_1_User_id-Merchant_id-Date_received_discount_rate-mean',\n  'self_1_User_id-Merchant_id-Date_received_Distance-mean',\n  'self_1_User_id-Merchant_id-Date_received_discount_x-mean',\n  'self_1_User_id-Merchant_id-Date_received_discount_y-mean',\n  'self_1_User_id-Merchant_id-Date_received_discount_rate-max',\n  'self_1_User_id-Merchant_id-Date_received_Distance-max',\n  'self_1_User_id-Merchant_id-Date_received_discount_x-max',\n  'self_1_User_id-Merchant_id-Date_received_discount_y-max',\n  'self_1_User_id-Merchant_id-Date_received_discount_rate-min',\n  'self_1_User_id-Merchant_id-Date_received_Distance-min',\n  'self_1_User_id-Merchant_id-Date_received_discount_x-min',\n  'self_1_User_id-Merchant_id-Date_received_discount_y-min',\n  'self_1_User_id-Merchant_id-Date_received_discount_rate-std',\n  'self_1_User_id-Merchant_id-Date_received_discount_x-std',\n  'self_1_User_id-Merchant_id-Date_received_discount_y-std',\n  'self_1_User_id-Merchant_id-Date_received_is_full_discount-sum',\n  'self_1_User_id-Merchant_id-Date_received_no_distance-sum',\n  'self_1_Coupon_id-Merchant_id-Date_received_count',\n  'self_1_Coupon_id-Merchant_id-Date_received_discount_rate-mean',\n  'self_1_Coupon_id-Merchant_id-Date_received_Distance-mean',\n  'self_1_Coupon_id-Merchant_id-Date_received_discount_x-mean',\n  'self_1_Coupon_id-Merchant_id-Date_received_discount_y-mean',\n  'self_1_Coupon_id-Merchant_id-Date_received_discount_rate-max',\n  'self_1_Coupon_id-Merchant_id-Date_received_Distance-max',\n  'self_1_Coupon_id-Merchant_id-Date_received_discount_x-max',\n  'self_1_Coupon_id-Merchant_id-Date_received_discount_y-max',\n  'self_1_Coupon_id-Merchant_id-Date_received_discount_rate-min',\n  'self_1_Coupon_id-Merchant_id-Date_received_Distance-min',\n  'self_1_Coupon_id-Merchant_id-Date_received_discount_x-min',\n  'self_1_Coupon_id-Merchant_id-Date_received_discount_y-min',\n  'self_1_Coupon_id-Merchant_id-Date_received_Distance-std',\n  'self_1_Coupon_id-Merchant_id-Date_received_is_full_discount-sum',\n  'self_1_Coupon_id-Merchant_id-Date_received_no_distance-sum',\n  'self_2_User_id-Coupon_id_count_User_id_count',\n  'self_2_User_id-Coupon_id_count_Coupon_id_count',\n  'self_2_User_id-Merchant_id_count_User_id_count',\n  'self_2_User_id-Merchant_id_count_Merchant_id_count',\n  'self_2_User_id-Date_received_count_User_id_count',\n  'self_2_User_id-Date_received_count_Date_received_count',\n  'self_2_Coupon_id-Merchant_id_count_Coupon_id_count',\n  'self_2_Coupon_id-Merchant_id_count_Merchant_id_count',\n  'self_2_Coupon_id-Date_received_count_Coupon_id_count',\n  'self_2_Coupon_id-Date_received_count_Date_received_count',\n  'self_2_Merchant_id-Date_received_count_Merchant_id_count',\n  'self_2_Merchant_id-Date_received_count_Date_received_count',\n  'self_2_User_id-Coupon_id-Merchant_id_count_User_id_count',\n  'self_2_User_id-Coupon_id-Merchant_id_count_Coupon_id_count',\n  'self_2_User_id-Coupon_id-Merchant_id_count_Merchant_id_count',\n  'self_2_User_id-Coupon_id-Date_received_count_User_id_count',\n  'self_2_User_id-Coupon_id-Date_received_count_Coupon_id_count',\n  'self_2_User_id-Coupon_id-Date_received_count_Date_received_count',\n  'self_2_User_id-Merchant_id-Date_received_count_User_id_count',\n  'self_2_User_id-Merchant_id-Date_received_count_Merchant_id_count',\n  'self_2_User_id-Merchant_id-Date_received_count_Date_received_count',\n  'self_2_Coupon_id-Merchant_id-Date_received_count_Coupon_id_count',\n  'self_2_Coupon_id-Merchant_id-Date_received_count_Merchant_id_count',\n  'self_2_Coupon_id-Merchant_id-Date_received_count_Date_received_count',\n  'day',\n  'weekday'],\n 621)"
     },
     "execution_count": 9,
     "metadata": {},
     "output_type": "execute_result"
    }
   ],
   "source": [
    "feat_cols = ['Distance', *full_set.columns[9:-1]]\n",
    "feat_cols, len(feat_cols)"
   ],
   "metadata": {
    "collapsed": false,
    "pycharm": {
     "name": "#%%\n"
    }
   }
  },
  {
   "cell_type": "code",
   "execution_count": 10,
   "outputs": [],
   "source": [
    "import lightgbm as lgb\n",
    "\n",
    "def train_model(train_data: pd.DataFrame, valid_data: pd.DataFrame, feature_cols,\n",
    "                save_to='', stopping_round=20, num_boost_round=5000, par=None):\n",
    "    X = train_data[feature_cols]\n",
    "    y = train_data['label']\n",
    "    X_v = valid_data[feature_cols]\n",
    "    y_v = valid_data['label']\n",
    "    train = lgb.Dataset(X, y)\n",
    "    valid = lgb.Dataset(X_v, y_v, reference=train)\n",
    "    print('Start training...')\n",
    "    _model = lgb.train(par, train, num_boost_round=num_boost_round, valid_sets=valid,\n",
    "                       early_stopping_rounds=stopping_round)\n",
    "    if save_to != '':\n",
    "        print('Saving model')\n",
    "        _model.save_model(save_to)\n",
    "    return _model"
   ],
   "metadata": {
    "collapsed": false,
    "pycharm": {
     "name": "#%%\n"
    }
   }
  },
  {
   "cell_type": "code",
   "execution_count": 12,
   "outputs": [
    {
     "name": "stdout",
     "output_type": "stream",
     "text": [
      "Start training...\n",
      "[LightGBM] [Info] Number of positive: 32118, number of negative: 358771\n",
      "[LightGBM] [Warning] Auto-choosing row-wise multi-threading, the overhead of testing was 0.215433 seconds.\n",
      "You can set `force_row_wise=true` to remove the overhead.\n",
      "And if memory is not enough, you can set `force_col_wise=true`.\n",
      "[LightGBM] [Info] Total Bins 39120\n",
      "[LightGBM] [Info] Number of data points in the train set: 390889, number of used features: 616\n",
      "[LightGBM] [Info] [binary:BoostFromScore]: pavg=0.082167 -> initscore=-2.413268\n",
      "[LightGBM] [Info] Start training from score -2.413268\n",
      "[1]\tvalid_0's l2: 0.073545\tvalid_0's auc: 0.851927\n",
      "Training until validation scores don't improve for 10 rounds\n",
      "[2]\tvalid_0's l2: 0.0718917\tvalid_0's auc: 0.858727\n",
      "[3]\tvalid_0's l2: 0.0704253\tvalid_0's auc: 0.861517\n",
      "[4]\tvalid_0's l2: 0.0690958\tvalid_0's auc: 0.863858\n",
      "[5]\tvalid_0's l2: 0.0678983\tvalid_0's auc: 0.863655\n",
      "[6]\tvalid_0's l2: 0.0667937\tvalid_0's auc: 0.871217\n",
      "[7]\tvalid_0's l2: 0.0657833\tvalid_0's auc: 0.872132\n",
      "[8]\tvalid_0's l2: 0.0648749\tvalid_0's auc: 0.873267\n",
      "[9]\tvalid_0's l2: 0.0640492\tvalid_0's auc: 0.873849\n",
      "[10]\tvalid_0's l2: 0.0632992\tvalid_0's auc: 0.874177\n",
      "[11]\tvalid_0's l2: 0.0626208\tvalid_0's auc: 0.874843\n",
      "[12]\tvalid_0's l2: 0.0619956\tvalid_0's auc: 0.875133\n",
      "[13]\tvalid_0's l2: 0.0614118\tvalid_0's auc: 0.875823\n",
      "[14]\tvalid_0's l2: 0.0608737\tvalid_0's auc: 0.876534\n",
      "[15]\tvalid_0's l2: 0.0603334\tvalid_0's auc: 0.878263\n",
      "[16]\tvalid_0's l2: 0.0598164\tvalid_0's auc: 0.879353\n",
      "[17]\tvalid_0's l2: 0.059368\tvalid_0's auc: 0.880285\n",
      "[18]\tvalid_0's l2: 0.0589415\tvalid_0's auc: 0.88117\n",
      "[19]\tvalid_0's l2: 0.0585607\tvalid_0's auc: 0.881835\n",
      "[20]\tvalid_0's l2: 0.0582046\tvalid_0's auc: 0.882404\n",
      "[21]\tvalid_0's l2: 0.0578796\tvalid_0's auc: 0.882867\n",
      "[22]\tvalid_0's l2: 0.0576016\tvalid_0's auc: 0.88331\n",
      "[23]\tvalid_0's l2: 0.0573263\tvalid_0's auc: 0.883702\n",
      "[24]\tvalid_0's l2: 0.0570781\tvalid_0's auc: 0.884354\n",
      "[25]\tvalid_0's l2: 0.0568391\tvalid_0's auc: 0.884775\n",
      "[26]\tvalid_0's l2: 0.0566208\tvalid_0's auc: 0.885176\n",
      "[27]\tvalid_0's l2: 0.0564152\tvalid_0's auc: 0.885449\n",
      "[28]\tvalid_0's l2: 0.0562307\tvalid_0's auc: 0.885736\n",
      "[29]\tvalid_0's l2: 0.0560588\tvalid_0's auc: 0.886078\n",
      "[30]\tvalid_0's l2: 0.0559061\tvalid_0's auc: 0.88641\n",
      "[31]\tvalid_0's l2: 0.0557253\tvalid_0's auc: 0.886712\n",
      "[32]\tvalid_0's l2: 0.0555728\tvalid_0's auc: 0.887221\n",
      "[33]\tvalid_0's l2: 0.0554326\tvalid_0's auc: 0.887568\n",
      "[34]\tvalid_0's l2: 0.0552999\tvalid_0's auc: 0.887817\n",
      "[35]\tvalid_0's l2: 0.0551696\tvalid_0's auc: 0.888106\n",
      "[36]\tvalid_0's l2: 0.055058\tvalid_0's auc: 0.88828\n",
      "[37]\tvalid_0's l2: 0.0549503\tvalid_0's auc: 0.888479\n",
      "[38]\tvalid_0's l2: 0.0548493\tvalid_0's auc: 0.888803\n",
      "[39]\tvalid_0's l2: 0.0547476\tvalid_0's auc: 0.889092\n",
      "[40]\tvalid_0's l2: 0.0546692\tvalid_0's auc: 0.88927\n",
      "[41]\tvalid_0's l2: 0.0545726\tvalid_0's auc: 0.889451\n",
      "[42]\tvalid_0's l2: 0.0544743\tvalid_0's auc: 0.889743\n",
      "[43]\tvalid_0's l2: 0.0543938\tvalid_0's auc: 0.889945\n",
      "[44]\tvalid_0's l2: 0.0543046\tvalid_0's auc: 0.890194\n",
      "[45]\tvalid_0's l2: 0.0542242\tvalid_0's auc: 0.890409\n",
      "[46]\tvalid_0's l2: 0.054144\tvalid_0's auc: 0.890639\n",
      "[47]\tvalid_0's l2: 0.0540732\tvalid_0's auc: 0.890876\n",
      "[48]\tvalid_0's l2: 0.0540039\tvalid_0's auc: 0.891094\n",
      "[49]\tvalid_0's l2: 0.0539339\tvalid_0's auc: 0.891269\n",
      "[50]\tvalid_0's l2: 0.0538684\tvalid_0's auc: 0.891419\n",
      "[51]\tvalid_0's l2: 0.053807\tvalid_0's auc: 0.891698\n",
      "[52]\tvalid_0's l2: 0.0537395\tvalid_0's auc: 0.891881\n",
      "[53]\tvalid_0's l2: 0.0536693\tvalid_0's auc: 0.892093\n",
      "[54]\tvalid_0's l2: 0.0536171\tvalid_0's auc: 0.892331\n",
      "[55]\tvalid_0's l2: 0.0535604\tvalid_0's auc: 0.892535\n",
      "[56]\tvalid_0's l2: 0.0534947\tvalid_0's auc: 0.892725\n",
      "[57]\tvalid_0's l2: 0.0534389\tvalid_0's auc: 0.892994\n",
      "[58]\tvalid_0's l2: 0.0533884\tvalid_0's auc: 0.893214\n",
      "[59]\tvalid_0's l2: 0.0533383\tvalid_0's auc: 0.893409\n",
      "[60]\tvalid_0's l2: 0.0532905\tvalid_0's auc: 0.893547\n",
      "[61]\tvalid_0's l2: 0.0532365\tvalid_0's auc: 0.89372\n",
      "[62]\tvalid_0's l2: 0.0531892\tvalid_0's auc: 0.893842\n",
      "[63]\tvalid_0's l2: 0.0531396\tvalid_0's auc: 0.894072\n",
      "[64]\tvalid_0's l2: 0.0530987\tvalid_0's auc: 0.894188\n",
      "[65]\tvalid_0's l2: 0.0530506\tvalid_0's auc: 0.894369\n",
      "[66]\tvalid_0's l2: 0.053007\tvalid_0's auc: 0.894514\n",
      "[67]\tvalid_0's l2: 0.0529667\tvalid_0's auc: 0.894695\n",
      "[68]\tvalid_0's l2: 0.0529234\tvalid_0's auc: 0.894905\n",
      "[69]\tvalid_0's l2: 0.0528821\tvalid_0's auc: 0.895109\n",
      "[70]\tvalid_0's l2: 0.0528468\tvalid_0's auc: 0.89526\n",
      "[71]\tvalid_0's l2: 0.0528105\tvalid_0's auc: 0.895498\n",
      "[72]\tvalid_0's l2: 0.0527679\tvalid_0's auc: 0.895673\n",
      "[73]\tvalid_0's l2: 0.0527246\tvalid_0's auc: 0.895772\n",
      "[74]\tvalid_0's l2: 0.0526845\tvalid_0's auc: 0.89591\n",
      "[75]\tvalid_0's l2: 0.0526504\tvalid_0's auc: 0.896019\n",
      "[76]\tvalid_0's l2: 0.0526107\tvalid_0's auc: 0.896175\n",
      "[77]\tvalid_0's l2: 0.0525699\tvalid_0's auc: 0.896309\n",
      "[78]\tvalid_0's l2: 0.0525343\tvalid_0's auc: 0.896458\n",
      "[79]\tvalid_0's l2: 0.0524964\tvalid_0's auc: 0.896575\n",
      "[80]\tvalid_0's l2: 0.0524574\tvalid_0's auc: 0.896745\n",
      "[81]\tvalid_0's l2: 0.0524152\tvalid_0's auc: 0.896859\n",
      "[82]\tvalid_0's l2: 0.0523905\tvalid_0's auc: 0.896988\n",
      "[83]\tvalid_0's l2: 0.0523612\tvalid_0's auc: 0.897141\n",
      "[84]\tvalid_0's l2: 0.0523261\tvalid_0's auc: 0.897321\n",
      "[85]\tvalid_0's l2: 0.0522915\tvalid_0's auc: 0.897477\n",
      "[86]\tvalid_0's l2: 0.052256\tvalid_0's auc: 0.897599\n",
      "[87]\tvalid_0's l2: 0.0522133\tvalid_0's auc: 0.897777\n",
      "[88]\tvalid_0's l2: 0.0521825\tvalid_0's auc: 0.897914\n",
      "[89]\tvalid_0's l2: 0.0521439\tvalid_0's auc: 0.898101\n",
      "[90]\tvalid_0's l2: 0.0521045\tvalid_0's auc: 0.898235\n",
      "[91]\tvalid_0's l2: 0.0520777\tvalid_0's auc: 0.898365\n",
      "[92]\tvalid_0's l2: 0.0520476\tvalid_0's auc: 0.898455\n",
      "[93]\tvalid_0's l2: 0.0520156\tvalid_0's auc: 0.898551\n",
      "[94]\tvalid_0's l2: 0.0519879\tvalid_0's auc: 0.898708\n",
      "[95]\tvalid_0's l2: 0.0519562\tvalid_0's auc: 0.898853\n",
      "[96]\tvalid_0's l2: 0.0519309\tvalid_0's auc: 0.899015\n",
      "[97]\tvalid_0's l2: 0.0519019\tvalid_0's auc: 0.899113\n",
      "[98]\tvalid_0's l2: 0.0518715\tvalid_0's auc: 0.899211\n",
      "[99]\tvalid_0's l2: 0.0518444\tvalid_0's auc: 0.8993\n",
      "[100]\tvalid_0's l2: 0.0518142\tvalid_0's auc: 0.899417\n",
      "[101]\tvalid_0's l2: 0.0517888\tvalid_0's auc: 0.899537\n",
      "[102]\tvalid_0's l2: 0.0517649\tvalid_0's auc: 0.899699\n",
      "[103]\tvalid_0's l2: 0.0517378\tvalid_0's auc: 0.89981\n",
      "[104]\tvalid_0's l2: 0.0517069\tvalid_0's auc: 0.899913\n",
      "[105]\tvalid_0's l2: 0.0516783\tvalid_0's auc: 0.900023\n",
      "[106]\tvalid_0's l2: 0.0516513\tvalid_0's auc: 0.900142\n",
      "[107]\tvalid_0's l2: 0.0516263\tvalid_0's auc: 0.900251\n",
      "[108]\tvalid_0's l2: 0.0516007\tvalid_0's auc: 0.900377\n",
      "[109]\tvalid_0's l2: 0.0515719\tvalid_0's auc: 0.900531\n",
      "[110]\tvalid_0's l2: 0.0515431\tvalid_0's auc: 0.900629\n",
      "[111]\tvalid_0's l2: 0.0515146\tvalid_0's auc: 0.900741\n",
      "[112]\tvalid_0's l2: 0.0514844\tvalid_0's auc: 0.900876\n",
      "[113]\tvalid_0's l2: 0.0514564\tvalid_0's auc: 0.900979\n",
      "[114]\tvalid_0's l2: 0.0514345\tvalid_0's auc: 0.901084\n",
      "[115]\tvalid_0's l2: 0.051403\tvalid_0's auc: 0.901148\n",
      "[116]\tvalid_0's l2: 0.0513789\tvalid_0's auc: 0.901251\n",
      "[117]\tvalid_0's l2: 0.0513564\tvalid_0's auc: 0.901341\n",
      "[118]\tvalid_0's l2: 0.0513247\tvalid_0's auc: 0.901415\n",
      "[119]\tvalid_0's l2: 0.0513092\tvalid_0's auc: 0.901529\n",
      "[120]\tvalid_0's l2: 0.0512856\tvalid_0's auc: 0.901592\n",
      "[121]\tvalid_0's l2: 0.0512586\tvalid_0's auc: 0.901702\n",
      "[122]\tvalid_0's l2: 0.0512381\tvalid_0's auc: 0.9018\n",
      "[123]\tvalid_0's l2: 0.0512199\tvalid_0's auc: 0.901907\n",
      "[124]\tvalid_0's l2: 0.0511935\tvalid_0's auc: 0.90201\n",
      "[125]\tvalid_0's l2: 0.0511655\tvalid_0's auc: 0.902117\n",
      "[126]\tvalid_0's l2: 0.0511413\tvalid_0's auc: 0.902216\n",
      "[127]\tvalid_0's l2: 0.0511234\tvalid_0's auc: 0.902312\n",
      "[128]\tvalid_0's l2: 0.0511083\tvalid_0's auc: 0.902393\n",
      "[129]\tvalid_0's l2: 0.051089\tvalid_0's auc: 0.902483\n",
      "[130]\tvalid_0's l2: 0.0510729\tvalid_0's auc: 0.902558\n",
      "[131]\tvalid_0's l2: 0.0510477\tvalid_0's auc: 0.902674\n",
      "[132]\tvalid_0's l2: 0.0510275\tvalid_0's auc: 0.902776\n",
      "[133]\tvalid_0's l2: 0.051005\tvalid_0's auc: 0.902859\n",
      "[134]\tvalid_0's l2: 0.0509909\tvalid_0's auc: 0.902949\n",
      "[135]\tvalid_0's l2: 0.0509681\tvalid_0's auc: 0.903028\n",
      "[136]\tvalid_0's l2: 0.0509536\tvalid_0's auc: 0.903126\n",
      "[137]\tvalid_0's l2: 0.0509397\tvalid_0's auc: 0.903208\n",
      "[138]\tvalid_0's l2: 0.0509164\tvalid_0's auc: 0.903294\n",
      "[139]\tvalid_0's l2: 0.0509014\tvalid_0's auc: 0.903387\n",
      "[140]\tvalid_0's l2: 0.0508886\tvalid_0's auc: 0.903468\n",
      "[141]\tvalid_0's l2: 0.0508644\tvalid_0's auc: 0.903546\n",
      "[142]\tvalid_0's l2: 0.0508395\tvalid_0's auc: 0.90366\n",
      "[143]\tvalid_0's l2: 0.0508241\tvalid_0's auc: 0.903745\n",
      "[144]\tvalid_0's l2: 0.0508027\tvalid_0's auc: 0.903841\n",
      "[145]\tvalid_0's l2: 0.0507835\tvalid_0's auc: 0.903919\n",
      "[146]\tvalid_0's l2: 0.0507694\tvalid_0's auc: 0.904003\n",
      "[147]\tvalid_0's l2: 0.0507516\tvalid_0's auc: 0.90407\n",
      "[148]\tvalid_0's l2: 0.0507322\tvalid_0's auc: 0.904123\n",
      "[149]\tvalid_0's l2: 0.0507163\tvalid_0's auc: 0.904193\n",
      "[150]\tvalid_0's l2: 0.0506957\tvalid_0's auc: 0.904297\n",
      "[151]\tvalid_0's l2: 0.050681\tvalid_0's auc: 0.904375\n",
      "[152]\tvalid_0's l2: 0.0506617\tvalid_0's auc: 0.904466\n",
      "[153]\tvalid_0's l2: 0.0506395\tvalid_0's auc: 0.904516\n",
      "[154]\tvalid_0's l2: 0.050627\tvalid_0's auc: 0.904604\n",
      "[155]\tvalid_0's l2: 0.0506136\tvalid_0's auc: 0.904683\n",
      "[156]\tvalid_0's l2: 0.0505969\tvalid_0's auc: 0.90474\n",
      "[157]\tvalid_0's l2: 0.0505753\tvalid_0's auc: 0.904821\n",
      "[158]\tvalid_0's l2: 0.0505629\tvalid_0's auc: 0.9049\n",
      "[159]\tvalid_0's l2: 0.050534\tvalid_0's auc: 0.904956\n",
      "[160]\tvalid_0's l2: 0.0505144\tvalid_0's auc: 0.905053\n",
      "[161]\tvalid_0's l2: 0.050494\tvalid_0's auc: 0.90512\n",
      "[162]\tvalid_0's l2: 0.0504736\tvalid_0's auc: 0.905173\n",
      "[163]\tvalid_0's l2: 0.0504563\tvalid_0's auc: 0.905227\n",
      "[164]\tvalid_0's l2: 0.0504355\tvalid_0's auc: 0.905272\n",
      "[165]\tvalid_0's l2: 0.0504256\tvalid_0's auc: 0.905338\n",
      "[166]\tvalid_0's l2: 0.0504098\tvalid_0's auc: 0.905419\n",
      "[167]\tvalid_0's l2: 0.0503922\tvalid_0's auc: 0.90553\n",
      "[168]\tvalid_0's l2: 0.0503762\tvalid_0's auc: 0.90561\n",
      "[169]\tvalid_0's l2: 0.050364\tvalid_0's auc: 0.905686\n",
      "[170]\tvalid_0's l2: 0.0503426\tvalid_0's auc: 0.905783\n",
      "[171]\tvalid_0's l2: 0.0503205\tvalid_0's auc: 0.905856\n",
      "[172]\tvalid_0's l2: 0.0502996\tvalid_0's auc: 0.905937\n",
      "[173]\tvalid_0's l2: 0.0502745\tvalid_0's auc: 0.905983\n",
      "[174]\tvalid_0's l2: 0.0502587\tvalid_0's auc: 0.906054\n",
      "[175]\tvalid_0's l2: 0.0502458\tvalid_0's auc: 0.906123\n",
      "[176]\tvalid_0's l2: 0.0502305\tvalid_0's auc: 0.906203\n",
      "[177]\tvalid_0's l2: 0.0502141\tvalid_0's auc: 0.90628\n",
      "[178]\tvalid_0's l2: 0.0501981\tvalid_0's auc: 0.90635\n",
      "[179]\tvalid_0's l2: 0.0501774\tvalid_0's auc: 0.906425\n",
      "[180]\tvalid_0's l2: 0.0501629\tvalid_0's auc: 0.906496\n",
      "[181]\tvalid_0's l2: 0.0501526\tvalid_0's auc: 0.906586\n",
      "[182]\tvalid_0's l2: 0.0501424\tvalid_0's auc: 0.906649\n",
      "[183]\tvalid_0's l2: 0.0501186\tvalid_0's auc: 0.90671\n",
      "[184]\tvalid_0's l2: 0.050103\tvalid_0's auc: 0.906771\n",
      "[185]\tvalid_0's l2: 0.0500914\tvalid_0's auc: 0.906839\n",
      "[186]\tvalid_0's l2: 0.0500751\tvalid_0's auc: 0.9069\n",
      "[187]\tvalid_0's l2: 0.0500617\tvalid_0's auc: 0.906954\n",
      "[188]\tvalid_0's l2: 0.0500443\tvalid_0's auc: 0.907028\n",
      "[189]\tvalid_0's l2: 0.0500318\tvalid_0's auc: 0.907089\n",
      "[190]\tvalid_0's l2: 0.0500162\tvalid_0's auc: 0.907139\n",
      "[191]\tvalid_0's l2: 0.0499919\tvalid_0's auc: 0.907187\n",
      "[192]\tvalid_0's l2: 0.0499712\tvalid_0's auc: 0.907242\n",
      "[193]\tvalid_0's l2: 0.0499555\tvalid_0's auc: 0.907323\n",
      "[194]\tvalid_0's l2: 0.0499362\tvalid_0's auc: 0.907369\n",
      "[195]\tvalid_0's l2: 0.0499126\tvalid_0's auc: 0.907432\n",
      "[196]\tvalid_0's l2: 0.0498918\tvalid_0's auc: 0.907476\n",
      "[197]\tvalid_0's l2: 0.0498704\tvalid_0's auc: 0.907517\n",
      "[198]\tvalid_0's l2: 0.0498542\tvalid_0's auc: 0.907569\n",
      "[199]\tvalid_0's l2: 0.0498314\tvalid_0's auc: 0.90761\n",
      "[200]\tvalid_0's l2: 0.0498164\tvalid_0's auc: 0.907665\n",
      "[201]\tvalid_0's l2: 0.0497975\tvalid_0's auc: 0.907733\n",
      "[202]\tvalid_0's l2: 0.049778\tvalid_0's auc: 0.907808\n",
      "[203]\tvalid_0's l2: 0.0497682\tvalid_0's auc: 0.907883\n",
      "[204]\tvalid_0's l2: 0.0497483\tvalid_0's auc: 0.907958\n",
      "[205]\tvalid_0's l2: 0.0497317\tvalid_0's auc: 0.908022\n",
      "[206]\tvalid_0's l2: 0.0497125\tvalid_0's auc: 0.908091\n",
      "[207]\tvalid_0's l2: 0.0497014\tvalid_0's auc: 0.908148\n",
      "[208]\tvalid_0's l2: 0.0496884\tvalid_0's auc: 0.908222\n",
      "[209]\tvalid_0's l2: 0.0496678\tvalid_0's auc: 0.908283\n",
      "[210]\tvalid_0's l2: 0.049653\tvalid_0's auc: 0.908353\n",
      "[211]\tvalid_0's l2: 0.0496395\tvalid_0's auc: 0.908415\n",
      "[212]\tvalid_0's l2: 0.0496154\tvalid_0's auc: 0.908475\n",
      "[213]\tvalid_0's l2: 0.0496033\tvalid_0's auc: 0.908529\n",
      "[214]\tvalid_0's l2: 0.0495937\tvalid_0's auc: 0.908589\n",
      "[215]\tvalid_0's l2: 0.0495786\tvalid_0's auc: 0.908655\n",
      "[216]\tvalid_0's l2: 0.0495659\tvalid_0's auc: 0.908714\n",
      "[217]\tvalid_0's l2: 0.0495543\tvalid_0's auc: 0.908776\n",
      "[218]\tvalid_0's l2: 0.0495373\tvalid_0's auc: 0.908821\n",
      "[219]\tvalid_0's l2: 0.0495266\tvalid_0's auc: 0.90887\n",
      "[220]\tvalid_0's l2: 0.0495119\tvalid_0's auc: 0.908969\n",
      "[221]\tvalid_0's l2: 0.0495003\tvalid_0's auc: 0.909031\n",
      "[222]\tvalid_0's l2: 0.0494863\tvalid_0's auc: 0.909108\n",
      "[223]\tvalid_0's l2: 0.049472\tvalid_0's auc: 0.909173\n",
      "[224]\tvalid_0's l2: 0.0494611\tvalid_0's auc: 0.909237\n",
      "[225]\tvalid_0's l2: 0.0494504\tvalid_0's auc: 0.909317\n",
      "[226]\tvalid_0's l2: 0.0494341\tvalid_0's auc: 0.909385\n",
      "[227]\tvalid_0's l2: 0.0494185\tvalid_0's auc: 0.909444\n",
      "[228]\tvalid_0's l2: 0.0494051\tvalid_0's auc: 0.909506\n",
      "[229]\tvalid_0's l2: 0.0493944\tvalid_0's auc: 0.909559\n",
      "[230]\tvalid_0's l2: 0.0493836\tvalid_0's auc: 0.909637\n",
      "[231]\tvalid_0's l2: 0.0493675\tvalid_0's auc: 0.909706\n",
      "[232]\tvalid_0's l2: 0.0493558\tvalid_0's auc: 0.9098\n",
      "[233]\tvalid_0's l2: 0.0493443\tvalid_0's auc: 0.909867\n",
      "[234]\tvalid_0's l2: 0.0493287\tvalid_0's auc: 0.90993\n",
      "[235]\tvalid_0's l2: 0.0493184\tvalid_0's auc: 0.910005\n",
      "[236]\tvalid_0's l2: 0.0493075\tvalid_0's auc: 0.910068\n",
      "[237]\tvalid_0's l2: 0.0492984\tvalid_0's auc: 0.910121\n",
      "[238]\tvalid_0's l2: 0.0492843\tvalid_0's auc: 0.910179\n",
      "[239]\tvalid_0's l2: 0.049266\tvalid_0's auc: 0.910269\n",
      "[240]\tvalid_0's l2: 0.0492565\tvalid_0's auc: 0.910308\n",
      "[241]\tvalid_0's l2: 0.0492492\tvalid_0's auc: 0.910375\n",
      "[242]\tvalid_0's l2: 0.0492351\tvalid_0's auc: 0.910422\n",
      "[243]\tvalid_0's l2: 0.0492253\tvalid_0's auc: 0.910493\n",
      "[244]\tvalid_0's l2: 0.0492167\tvalid_0's auc: 0.910556\n",
      "[245]\tvalid_0's l2: 0.0492077\tvalid_0's auc: 0.910613\n",
      "[246]\tvalid_0's l2: 0.0491957\tvalid_0's auc: 0.910688\n",
      "[247]\tvalid_0's l2: 0.0491784\tvalid_0's auc: 0.910765\n",
      "[248]\tvalid_0's l2: 0.0491683\tvalid_0's auc: 0.910831\n",
      "[249]\tvalid_0's l2: 0.0491553\tvalid_0's auc: 0.91088\n",
      "[250]\tvalid_0's l2: 0.0491437\tvalid_0's auc: 0.910941\n",
      "[251]\tvalid_0's l2: 0.049127\tvalid_0's auc: 0.911019\n",
      "[252]\tvalid_0's l2: 0.0491132\tvalid_0's auc: 0.911076\n",
      "[253]\tvalid_0's l2: 0.0490971\tvalid_0's auc: 0.911121\n",
      "[254]\tvalid_0's l2: 0.0490818\tvalid_0's auc: 0.911178\n",
      "[255]\tvalid_0's l2: 0.0490699\tvalid_0's auc: 0.911242\n",
      "[256]\tvalid_0's l2: 0.0490477\tvalid_0's auc: 0.911281\n",
      "[257]\tvalid_0's l2: 0.0490263\tvalid_0's auc: 0.911319\n",
      "[258]\tvalid_0's l2: 0.0490117\tvalid_0's auc: 0.911429\n",
      "[259]\tvalid_0's l2: 0.0489919\tvalid_0's auc: 0.911464\n",
      "[260]\tvalid_0's l2: 0.0489805\tvalid_0's auc: 0.9115\n",
      "[261]\tvalid_0's l2: 0.048967\tvalid_0's auc: 0.911557\n",
      "[262]\tvalid_0's l2: 0.0489539\tvalid_0's auc: 0.911618\n",
      "[263]\tvalid_0's l2: 0.0489429\tvalid_0's auc: 0.911709\n",
      "[264]\tvalid_0's l2: 0.048933\tvalid_0's auc: 0.911771\n",
      "[265]\tvalid_0's l2: 0.0489225\tvalid_0's auc: 0.911813\n",
      "[266]\tvalid_0's l2: 0.0489099\tvalid_0's auc: 0.911862\n",
      "[267]\tvalid_0's l2: 0.0489004\tvalid_0's auc: 0.911916\n",
      "[268]\tvalid_0's l2: 0.0488915\tvalid_0's auc: 0.911966\n",
      "[269]\tvalid_0's l2: 0.0488798\tvalid_0's auc: 0.912008\n",
      "[270]\tvalid_0's l2: 0.0488684\tvalid_0's auc: 0.912052\n",
      "[271]\tvalid_0's l2: 0.0488517\tvalid_0's auc: 0.91212\n",
      "[272]\tvalid_0's l2: 0.0488423\tvalid_0's auc: 0.912194\n",
      "[273]\tvalid_0's l2: 0.0488303\tvalid_0's auc: 0.912278\n",
      "[274]\tvalid_0's l2: 0.0488175\tvalid_0's auc: 0.912341\n",
      "[275]\tvalid_0's l2: 0.0488023\tvalid_0's auc: 0.912414\n",
      "[276]\tvalid_0's l2: 0.0487901\tvalid_0's auc: 0.912457\n",
      "[277]\tvalid_0's l2: 0.0487779\tvalid_0's auc: 0.91252\n",
      "[278]\tvalid_0's l2: 0.0487677\tvalid_0's auc: 0.912595\n",
      "[279]\tvalid_0's l2: 0.048746\tvalid_0's auc: 0.91264\n",
      "[280]\tvalid_0's l2: 0.0487358\tvalid_0's auc: 0.912691\n",
      "[281]\tvalid_0's l2: 0.0487238\tvalid_0's auc: 0.912739\n",
      "[282]\tvalid_0's l2: 0.0487035\tvalid_0's auc: 0.9128\n",
      "[283]\tvalid_0's l2: 0.0486923\tvalid_0's auc: 0.912881\n",
      "[284]\tvalid_0's l2: 0.0486802\tvalid_0's auc: 0.912934\n",
      "[285]\tvalid_0's l2: 0.048659\tvalid_0's auc: 0.912991\n",
      "[286]\tvalid_0's l2: 0.0486445\tvalid_0's auc: 0.913056\n",
      "[287]\tvalid_0's l2: 0.0486298\tvalid_0's auc: 0.913115\n",
      "[288]\tvalid_0's l2: 0.0486196\tvalid_0's auc: 0.913165\n",
      "[289]\tvalid_0's l2: 0.0485995\tvalid_0's auc: 0.91325\n",
      "[290]\tvalid_0's l2: 0.0485908\tvalid_0's auc: 0.913313\n",
      "[291]\tvalid_0's l2: 0.0485802\tvalid_0's auc: 0.913378\n",
      "[292]\tvalid_0's l2: 0.048571\tvalid_0's auc: 0.913441\n",
      "[293]\tvalid_0's l2: 0.0485633\tvalid_0's auc: 0.913497\n",
      "[294]\tvalid_0's l2: 0.0485546\tvalid_0's auc: 0.913541\n",
      "[295]\tvalid_0's l2: 0.0485469\tvalid_0's auc: 0.913571\n",
      "[296]\tvalid_0's l2: 0.0485309\tvalid_0's auc: 0.913649\n",
      "[297]\tvalid_0's l2: 0.0485175\tvalid_0's auc: 0.913697\n",
      "[298]\tvalid_0's l2: 0.0485044\tvalid_0's auc: 0.913764\n",
      "[299]\tvalid_0's l2: 0.0484898\tvalid_0's auc: 0.913807\n",
      "[300]\tvalid_0's l2: 0.048479\tvalid_0's auc: 0.913874\n",
      "[301]\tvalid_0's l2: 0.0484712\tvalid_0's auc: 0.913963\n",
      "[302]\tvalid_0's l2: 0.048461\tvalid_0's auc: 0.914022\n",
      "[303]\tvalid_0's l2: 0.0484509\tvalid_0's auc: 0.914099\n",
      "[304]\tvalid_0's l2: 0.0484432\tvalid_0's auc: 0.914154\n",
      "[305]\tvalid_0's l2: 0.0484315\tvalid_0's auc: 0.914221\n",
      "[306]\tvalid_0's l2: 0.0484191\tvalid_0's auc: 0.914249\n",
      "[307]\tvalid_0's l2: 0.0484092\tvalid_0's auc: 0.914281\n",
      "[308]\tvalid_0's l2: 0.0484001\tvalid_0's auc: 0.914327\n",
      "[309]\tvalid_0's l2: 0.0483897\tvalid_0's auc: 0.914371\n",
      "[310]\tvalid_0's l2: 0.0483795\tvalid_0's auc: 0.914412\n",
      "[311]\tvalid_0's l2: 0.0483686\tvalid_0's auc: 0.914466\n",
      "[312]\tvalid_0's l2: 0.0483579\tvalid_0's auc: 0.914513\n",
      "[313]\tvalid_0's l2: 0.0483442\tvalid_0's auc: 0.914566\n",
      "[314]\tvalid_0's l2: 0.0483332\tvalid_0's auc: 0.914611\n",
      "[315]\tvalid_0's l2: 0.0483214\tvalid_0's auc: 0.91466\n",
      "[316]\tvalid_0's l2: 0.0483125\tvalid_0's auc: 0.914708\n",
      "[317]\tvalid_0's l2: 0.0483041\tvalid_0's auc: 0.914749\n",
      "[318]\tvalid_0's l2: 0.0482951\tvalid_0's auc: 0.914793\n",
      "[319]\tvalid_0's l2: 0.0482871\tvalid_0's auc: 0.914832\n",
      "[320]\tvalid_0's l2: 0.0482795\tvalid_0's auc: 0.914861\n",
      "[321]\tvalid_0's l2: 0.0482661\tvalid_0's auc: 0.914921\n",
      "[322]\tvalid_0's l2: 0.0482544\tvalid_0's auc: 0.914974\n",
      "[323]\tvalid_0's l2: 0.0482408\tvalid_0's auc: 0.915029\n",
      "[324]\tvalid_0's l2: 0.0482279\tvalid_0's auc: 0.915076\n",
      "[325]\tvalid_0's l2: 0.0482171\tvalid_0's auc: 0.915124\n",
      "[326]\tvalid_0's l2: 0.0482025\tvalid_0's auc: 0.915153\n",
      "[327]\tvalid_0's l2: 0.0481885\tvalid_0's auc: 0.915191\n",
      "[328]\tvalid_0's l2: 0.0481793\tvalid_0's auc: 0.915219\n",
      "[329]\tvalid_0's l2: 0.0481671\tvalid_0's auc: 0.915256\n",
      "[330]\tvalid_0's l2: 0.0481574\tvalid_0's auc: 0.915292\n",
      "[331]\tvalid_0's l2: 0.0481469\tvalid_0's auc: 0.915362\n",
      "[332]\tvalid_0's l2: 0.0481343\tvalid_0's auc: 0.915406\n",
      "[333]\tvalid_0's l2: 0.0481255\tvalid_0's auc: 0.915466\n",
      "[334]\tvalid_0's l2: 0.0481174\tvalid_0's auc: 0.915516\n",
      "[335]\tvalid_0's l2: 0.0481046\tvalid_0's auc: 0.915557\n",
      "[336]\tvalid_0's l2: 0.048088\tvalid_0's auc: 0.915621\n",
      "[337]\tvalid_0's l2: 0.0480716\tvalid_0's auc: 0.91569\n",
      "[338]\tvalid_0's l2: 0.0480606\tvalid_0's auc: 0.915744\n",
      "[339]\tvalid_0's l2: 0.0480513\tvalid_0's auc: 0.915788\n",
      "[340]\tvalid_0's l2: 0.0480424\tvalid_0's auc: 0.915827\n",
      "[341]\tvalid_0's l2: 0.0480326\tvalid_0's auc: 0.915894\n",
      "[342]\tvalid_0's l2: 0.0480231\tvalid_0's auc: 0.915953\n",
      "[343]\tvalid_0's l2: 0.048009\tvalid_0's auc: 0.916016\n",
      "[344]\tvalid_0's l2: 0.0480003\tvalid_0's auc: 0.916086\n",
      "[345]\tvalid_0's l2: 0.0479888\tvalid_0's auc: 0.916133\n",
      "[346]\tvalid_0's l2: 0.0479766\tvalid_0's auc: 0.916187\n",
      "[347]\tvalid_0's l2: 0.0479619\tvalid_0's auc: 0.916233\n",
      "[348]\tvalid_0's l2: 0.0479527\tvalid_0's auc: 0.916284\n",
      "[349]\tvalid_0's l2: 0.0479446\tvalid_0's auc: 0.916317\n",
      "[350]\tvalid_0's l2: 0.0479311\tvalid_0's auc: 0.916359\n",
      "[351]\tvalid_0's l2: 0.0479192\tvalid_0's auc: 0.916401\n",
      "[352]\tvalid_0's l2: 0.0479113\tvalid_0's auc: 0.916449\n",
      "[353]\tvalid_0's l2: 0.0479035\tvalid_0's auc: 0.916498\n",
      "[354]\tvalid_0's l2: 0.0478908\tvalid_0's auc: 0.916557\n",
      "[355]\tvalid_0's l2: 0.0478803\tvalid_0's auc: 0.916601\n",
      "[356]\tvalid_0's l2: 0.047867\tvalid_0's auc: 0.916645\n",
      "[357]\tvalid_0's l2: 0.0478589\tvalid_0's auc: 0.916698\n",
      "[358]\tvalid_0's l2: 0.0478463\tvalid_0's auc: 0.916741\n",
      "[359]\tvalid_0's l2: 0.0478401\tvalid_0's auc: 0.91677\n",
      "[360]\tvalid_0's l2: 0.0478304\tvalid_0's auc: 0.916805\n",
      "[361]\tvalid_0's l2: 0.0478208\tvalid_0's auc: 0.916837\n",
      "[362]\tvalid_0's l2: 0.0478041\tvalid_0's auc: 0.916887\n",
      "[363]\tvalid_0's l2: 0.047795\tvalid_0's auc: 0.916923\n",
      "[364]\tvalid_0's l2: 0.0477847\tvalid_0's auc: 0.916981\n",
      "[365]\tvalid_0's l2: 0.047774\tvalid_0's auc: 0.917023\n",
      "[366]\tvalid_0's l2: 0.047764\tvalid_0's auc: 0.917059\n",
      "[367]\tvalid_0's l2: 0.047754\tvalid_0's auc: 0.917103\n",
      "[368]\tvalid_0's l2: 0.04774\tvalid_0's auc: 0.91715\n",
      "[369]\tvalid_0's l2: 0.047731\tvalid_0's auc: 0.917185\n",
      "[370]\tvalid_0's l2: 0.0477217\tvalid_0's auc: 0.917225\n",
      "[371]\tvalid_0's l2: 0.0477135\tvalid_0's auc: 0.917295\n",
      "[372]\tvalid_0's l2: 0.0477016\tvalid_0's auc: 0.91735\n",
      "[373]\tvalid_0's l2: 0.0476883\tvalid_0's auc: 0.917388\n",
      "[374]\tvalid_0's l2: 0.0476776\tvalid_0's auc: 0.917455\n",
      "[375]\tvalid_0's l2: 0.0476652\tvalid_0's auc: 0.917495\n",
      "[376]\tvalid_0's l2: 0.047656\tvalid_0's auc: 0.917545\n",
      "[377]\tvalid_0's l2: 0.0476474\tvalid_0's auc: 0.917609\n",
      "[378]\tvalid_0's l2: 0.0476388\tvalid_0's auc: 0.917689\n",
      "[379]\tvalid_0's l2: 0.0476266\tvalid_0's auc: 0.917718\n",
      "[380]\tvalid_0's l2: 0.0476171\tvalid_0's auc: 0.91777\n",
      "[381]\tvalid_0's l2: 0.0476066\tvalid_0's auc: 0.917821\n",
      "[382]\tvalid_0's l2: 0.0475864\tvalid_0's auc: 0.917878\n",
      "[383]\tvalid_0's l2: 0.047579\tvalid_0's auc: 0.91793\n",
      "[384]\tvalid_0's l2: 0.0475718\tvalid_0's auc: 0.917989\n",
      "[385]\tvalid_0's l2: 0.0475636\tvalid_0's auc: 0.918033\n",
      "[386]\tvalid_0's l2: 0.047551\tvalid_0's auc: 0.918081\n",
      "[387]\tvalid_0's l2: 0.0475378\tvalid_0's auc: 0.918132\n",
      "[388]\tvalid_0's l2: 0.0475285\tvalid_0's auc: 0.918194\n",
      "[389]\tvalid_0's l2: 0.0475185\tvalid_0's auc: 0.918246\n",
      "[390]\tvalid_0's l2: 0.0475069\tvalid_0's auc: 0.918282\n",
      "[391]\tvalid_0's l2: 0.0474979\tvalid_0's auc: 0.918332\n",
      "[392]\tvalid_0's l2: 0.047483\tvalid_0's auc: 0.918355\n",
      "[393]\tvalid_0's l2: 0.0474733\tvalid_0's auc: 0.918404\n",
      "[394]\tvalid_0's l2: 0.047463\tvalid_0's auc: 0.918455\n",
      "[395]\tvalid_0's l2: 0.0474562\tvalid_0's auc: 0.918501\n",
      "[396]\tvalid_0's l2: 0.0474449\tvalid_0's auc: 0.918542\n",
      "[397]\tvalid_0's l2: 0.0474311\tvalid_0's auc: 0.918585\n",
      "[398]\tvalid_0's l2: 0.0474199\tvalid_0's auc: 0.918621\n",
      "[399]\tvalid_0's l2: 0.0474054\tvalid_0's auc: 0.918677\n",
      "[400]\tvalid_0's l2: 0.0473931\tvalid_0's auc: 0.918724\n",
      "[401]\tvalid_0's l2: 0.0473819\tvalid_0's auc: 0.91878\n",
      "[402]\tvalid_0's l2: 0.0473714\tvalid_0's auc: 0.918809\n",
      "[403]\tvalid_0's l2: 0.047362\tvalid_0's auc: 0.918838\n",
      "[404]\tvalid_0's l2: 0.0473515\tvalid_0's auc: 0.918873\n",
      "[405]\tvalid_0's l2: 0.0473405\tvalid_0's auc: 0.918914\n",
      "[406]\tvalid_0's l2: 0.0473264\tvalid_0's auc: 0.918965\n",
      "[407]\tvalid_0's l2: 0.0473175\tvalid_0's auc: 0.919023\n",
      "[408]\tvalid_0's l2: 0.0473022\tvalid_0's auc: 0.919069\n",
      "[409]\tvalid_0's l2: 0.0472925\tvalid_0's auc: 0.91913\n",
      "[410]\tvalid_0's l2: 0.047286\tvalid_0's auc: 0.919176\n",
      "[411]\tvalid_0's l2: 0.0472759\tvalid_0's auc: 0.919239\n",
      "[412]\tvalid_0's l2: 0.0472595\tvalid_0's auc: 0.919289\n",
      "[413]\tvalid_0's l2: 0.0472502\tvalid_0's auc: 0.919331\n",
      "[414]\tvalid_0's l2: 0.0472422\tvalid_0's auc: 0.919381\n",
      "[415]\tvalid_0's l2: 0.0472279\tvalid_0's auc: 0.919434\n",
      "[416]\tvalid_0's l2: 0.0472172\tvalid_0's auc: 0.919459\n",
      "[417]\tvalid_0's l2: 0.0472072\tvalid_0's auc: 0.919498\n",
      "[418]\tvalid_0's l2: 0.0471968\tvalid_0's auc: 0.919523\n",
      "[419]\tvalid_0's l2: 0.0471878\tvalid_0's auc: 0.919574\n",
      "[420]\tvalid_0's l2: 0.0471772\tvalid_0's auc: 0.919603\n",
      "[421]\tvalid_0's l2: 0.0471643\tvalid_0's auc: 0.91965\n",
      "[422]\tvalid_0's l2: 0.0471528\tvalid_0's auc: 0.919698\n",
      "[423]\tvalid_0's l2: 0.0471409\tvalid_0's auc: 0.91975\n",
      "[424]\tvalid_0's l2: 0.047131\tvalid_0's auc: 0.919785\n",
      "[425]\tvalid_0's l2: 0.0471198\tvalid_0's auc: 0.919846\n",
      "[426]\tvalid_0's l2: 0.0471135\tvalid_0's auc: 0.919905\n",
      "[427]\tvalid_0's l2: 0.0471057\tvalid_0's auc: 0.919937\n",
      "[428]\tvalid_0's l2: 0.0471005\tvalid_0's auc: 0.920003\n",
      "[429]\tvalid_0's l2: 0.0470942\tvalid_0's auc: 0.920034\n",
      "[430]\tvalid_0's l2: 0.0470874\tvalid_0's auc: 0.920066\n",
      "[431]\tvalid_0's l2: 0.0470755\tvalid_0's auc: 0.920123\n",
      "[432]\tvalid_0's l2: 0.0470639\tvalid_0's auc: 0.920172\n",
      "[433]\tvalid_0's l2: 0.0470534\tvalid_0's auc: 0.92022\n",
      "[434]\tvalid_0's l2: 0.0470408\tvalid_0's auc: 0.920264\n",
      "[435]\tvalid_0's l2: 0.0470314\tvalid_0's auc: 0.920311\n",
      "[436]\tvalid_0's l2: 0.0470237\tvalid_0's auc: 0.920399\n",
      "[437]\tvalid_0's l2: 0.0470124\tvalid_0's auc: 0.920453\n",
      "[438]\tvalid_0's l2: 0.0470035\tvalid_0's auc: 0.920486\n",
      "[439]\tvalid_0's l2: 0.0469963\tvalid_0's auc: 0.920576\n",
      "[440]\tvalid_0's l2: 0.0469866\tvalid_0's auc: 0.920595\n",
      "[441]\tvalid_0's l2: 0.0469748\tvalid_0's auc: 0.920642\n",
      "[442]\tvalid_0's l2: 0.0469631\tvalid_0's auc: 0.920696\n",
      "[443]\tvalid_0's l2: 0.0469549\tvalid_0's auc: 0.920773\n",
      "[444]\tvalid_0's l2: 0.0469454\tvalid_0's auc: 0.920824\n",
      "[445]\tvalid_0's l2: 0.0469382\tvalid_0's auc: 0.920858\n",
      "[446]\tvalid_0's l2: 0.0469295\tvalid_0's auc: 0.920912\n",
      "[447]\tvalid_0's l2: 0.0469218\tvalid_0's auc: 0.920971\n",
      "[448]\tvalid_0's l2: 0.0469134\tvalid_0's auc: 0.920994\n",
      "[449]\tvalid_0's l2: 0.0469047\tvalid_0's auc: 0.921044\n",
      "[450]\tvalid_0's l2: 0.0468966\tvalid_0's auc: 0.921065\n",
      "[451]\tvalid_0's l2: 0.0468858\tvalid_0's auc: 0.921104\n",
      "[452]\tvalid_0's l2: 0.0468693\tvalid_0's auc: 0.921137\n",
      "[453]\tvalid_0's l2: 0.0468595\tvalid_0's auc: 0.921176\n",
      "[454]\tvalid_0's l2: 0.0468436\tvalid_0's auc: 0.921212\n",
      "[455]\tvalid_0's l2: 0.0468332\tvalid_0's auc: 0.921246\n",
      "[456]\tvalid_0's l2: 0.0468214\tvalid_0's auc: 0.921277\n",
      "[457]\tvalid_0's l2: 0.0468109\tvalid_0's auc: 0.921313\n",
      "[458]\tvalid_0's l2: 0.0467954\tvalid_0's auc: 0.921341\n",
      "[459]\tvalid_0's l2: 0.0467855\tvalid_0's auc: 0.921379\n",
      "[460]\tvalid_0's l2: 0.0467743\tvalid_0's auc: 0.921414\n",
      "[461]\tvalid_0's l2: 0.0467661\tvalid_0's auc: 0.92145\n",
      "[462]\tvalid_0's l2: 0.0467586\tvalid_0's auc: 0.921483\n",
      "[463]\tvalid_0's l2: 0.0467515\tvalid_0's auc: 0.92151\n",
      "[464]\tvalid_0's l2: 0.0467449\tvalid_0's auc: 0.921529\n",
      "[465]\tvalid_0's l2: 0.0467351\tvalid_0's auc: 0.921577\n",
      "[466]\tvalid_0's l2: 0.0467269\tvalid_0's auc: 0.921646\n",
      "[467]\tvalid_0's l2: 0.0467202\tvalid_0's auc: 0.921699\n",
      "[468]\tvalid_0's l2: 0.0467134\tvalid_0's auc: 0.921747\n",
      "[469]\tvalid_0's l2: 0.0467065\tvalid_0's auc: 0.921809\n",
      "[470]\tvalid_0's l2: 0.0466988\tvalid_0's auc: 0.921854\n",
      "[471]\tvalid_0's l2: 0.0466903\tvalid_0's auc: 0.921932\n",
      "[472]\tvalid_0's l2: 0.0466802\tvalid_0's auc: 0.921971\n",
      "[473]\tvalid_0's l2: 0.046672\tvalid_0's auc: 0.922008\n",
      "[474]\tvalid_0's l2: 0.0466659\tvalid_0's auc: 0.922039\n",
      "[475]\tvalid_0's l2: 0.0466537\tvalid_0's auc: 0.922078\n",
      "[476]\tvalid_0's l2: 0.046641\tvalid_0's auc: 0.922131\n",
      "[477]\tvalid_0's l2: 0.0466326\tvalid_0's auc: 0.922198\n",
      "[478]\tvalid_0's l2: 0.0466198\tvalid_0's auc: 0.922239\n",
      "[479]\tvalid_0's l2: 0.0466117\tvalid_0's auc: 0.92229\n",
      "[480]\tvalid_0's l2: 0.0465976\tvalid_0's auc: 0.922332\n",
      "[481]\tvalid_0's l2: 0.0465862\tvalid_0's auc: 0.922379\n",
      "[482]\tvalid_0's l2: 0.0465763\tvalid_0's auc: 0.922422\n",
      "[483]\tvalid_0's l2: 0.0465676\tvalid_0's auc: 0.922447\n",
      "[484]\tvalid_0's l2: 0.0465619\tvalid_0's auc: 0.922492\n",
      "[485]\tvalid_0's l2: 0.0465482\tvalid_0's auc: 0.922537\n",
      "[486]\tvalid_0's l2: 0.0465398\tvalid_0's auc: 0.922575\n",
      "[487]\tvalid_0's l2: 0.0465318\tvalid_0's auc: 0.922605\n",
      "[488]\tvalid_0's l2: 0.0465246\tvalid_0's auc: 0.922636\n",
      "[489]\tvalid_0's l2: 0.0465175\tvalid_0's auc: 0.922663\n",
      "[490]\tvalid_0's l2: 0.0465095\tvalid_0's auc: 0.922689\n",
      "[491]\tvalid_0's l2: 0.0465013\tvalid_0's auc: 0.922725\n",
      "[492]\tvalid_0's l2: 0.0464912\tvalid_0's auc: 0.922769\n",
      "[493]\tvalid_0's l2: 0.0464827\tvalid_0's auc: 0.922812\n",
      "[494]\tvalid_0's l2: 0.0464613\tvalid_0's auc: 0.922849\n",
      "[495]\tvalid_0's l2: 0.0464514\tvalid_0's auc: 0.922885\n",
      "[496]\tvalid_0's l2: 0.0464407\tvalid_0's auc: 0.922926\n",
      "[497]\tvalid_0's l2: 0.0464315\tvalid_0's auc: 0.92296\n",
      "[498]\tvalid_0's l2: 0.0464222\tvalid_0's auc: 0.922997\n",
      "[499]\tvalid_0's l2: 0.046414\tvalid_0's auc: 0.92303\n",
      "[500]\tvalid_0's l2: 0.0464045\tvalid_0's auc: 0.923065\n",
      "Did not meet early stopping. Best iteration is:\n",
      "[500]\tvalid_0's l2: 0.0464045\tvalid_0's auc: 0.923065\n"
     ]
    }
   ],
   "source": [
    "params = {\n",
    "    'task': 'train',\n",
    "    'boosting_type': 'gbdt',        # 设置提升类型\n",
    "    'objective': 'binary',          # 目标函数\n",
    "    'metric': {'l2', 'auc'},        # 评估函数\n",
    "    'num_leaves': 31,              # 叶子节点数\n",
    "    'learning_rate': 0.05,          # 学习率\n",
    "    'feature_fraction': 0.9,        # 建树的特征选择比例\n",
    "    'bagging_fraction': 0.8,        # 建树的样本采样比例\n",
    "    'bagging_freq': 5,              # 每 bagging_freq 次迭代执行bagging\n",
    "    'verbose': 1,                   # 提示\n",
    "    'min_child_weight': 1.0,\n",
    "}\n",
    "bad_cols = []\n",
    "# 过拟合测试，检查特征是否完整\n",
    "model = train_model(full_set, full_set, feat_cols, num_boost_round=500, stopping_round=10, par=params)"
   ],
   "metadata": {
    "collapsed": false,
    "pycharm": {
     "name": "#%%\n"
    }
   }
  },
  {
   "cell_type": "code",
   "execution_count": 13,
   "outputs": [],
   "source": [
    "importance = pd.DataFrame(model.feature_importance(), index=model.feature_name(), columns=['importance'])\n",
    "# importance = importance.sort_values('importance', ascending=False).reset_index()\n",
    "# important_cols = importance[(importance.importance > 100) & (~importance['index'].str.contains('self'))]\n",
    "# important_cols\n",
    "important_cols = list(importance.sort_values('importance', ascending=False).index)"
   ],
   "metadata": {
    "collapsed": false,
    "pycharm": {
     "name": "#%%\n"
    }
   }
  },
  {
   "cell_type": "code",
   "execution_count": 14,
   "outputs": [
    {
     "data": {
      "text/plain": "                                                    importance\nDistance                                                    71\nno_distance                                                  5\nis_full_discount                                             0\ndiscount_x                                                  73\ndiscount_y                                                   5\n...                                                        ...\nself_2_Coupon_id-Merchant_id-Date_received_coun...          11\nself_2_Coupon_id-Merchant_id-Date_received_coun...         219\nself_2_Coupon_id-Merchant_id-Date_received_coun...           3\nday                                                        175\nweekday                                                     63\n\n[621 rows x 1 columns]",
      "text/html": "<div>\n<style scoped>\n    .dataframe tbody tr th:only-of-type {\n        vertical-align: middle;\n    }\n\n    .dataframe tbody tr th {\n        vertical-align: top;\n    }\n\n    .dataframe thead th {\n        text-align: right;\n    }\n</style>\n<table border=\"1\" class=\"dataframe\">\n  <thead>\n    <tr style=\"text-align: right;\">\n      <th></th>\n      <th>importance</th>\n    </tr>\n  </thead>\n  <tbody>\n    <tr>\n      <th>Distance</th>\n      <td>71</td>\n    </tr>\n    <tr>\n      <th>no_distance</th>\n      <td>5</td>\n    </tr>\n    <tr>\n      <th>is_full_discount</th>\n      <td>0</td>\n    </tr>\n    <tr>\n      <th>discount_x</th>\n      <td>73</td>\n    </tr>\n    <tr>\n      <th>discount_y</th>\n      <td>5</td>\n    </tr>\n    <tr>\n      <th>...</th>\n      <td>...</td>\n    </tr>\n    <tr>\n      <th>self_2_Coupon_id-Merchant_id-Date_received_count_Coupon_id_count</th>\n      <td>11</td>\n    </tr>\n    <tr>\n      <th>self_2_Coupon_id-Merchant_id-Date_received_count_Merchant_id_count</th>\n      <td>219</td>\n    </tr>\n    <tr>\n      <th>self_2_Coupon_id-Merchant_id-Date_received_count_Date_received_count</th>\n      <td>3</td>\n    </tr>\n    <tr>\n      <th>day</th>\n      <td>175</td>\n    </tr>\n    <tr>\n      <th>weekday</th>\n      <td>63</td>\n    </tr>\n  </tbody>\n</table>\n<p>621 rows × 1 columns</p>\n</div>"
     },
     "execution_count": 14,
     "metadata": {},
     "output_type": "execute_result"
    }
   ],
   "source": [
    "importance"
   ],
   "metadata": {
    "collapsed": false,
    "pycharm": {
     "name": "#%%\n"
    }
   }
  },
  {
   "cell_type": "code",
   "execution_count": 9,
   "outputs": [
    {
     "data": {
      "text/plain": "(['day',\n  'self_1_Date_received_discount_rate-std',\n  'self_2_Coupon_id-Date_received_count_Coupon_id_count',\n  'self_1_Coupon_id_Distance-mean',\n  'self_1_Coupon_id_Distance-std',\n  'off1_1_Merchant_id_Distance-mean',\n  'self_1_Date_received_discount_rate-mean',\n  'self_1_Coupon_id-Date_received_Distance-mean',\n  'self_1_Date_received_Distance-mean',\n  'self_1_Date_received_discount_y-mean',\n  'self_2_Coupon_id-Merchant_id-Date_received_count_Merchant_id_count',\n  'self_1_Coupon_id_count',\n  'off1_1_User_id_discount_rate-mean',\n  'self_1_Coupon_id-Date_received_Distance-std',\n  'self_1_Coupon_id-Date_received_count',\n  'self_2_Coupon_id-Date_received_count_Date_received_count',\n  'self_1_Merchant_id_Distance-std',\n  'self_1_Date_received_discount_y-std',\n  'self_1_Merchant_id-Date_received_Distance-std',\n  'self_1_User_id_discount_rate-std',\n  'off1_1_User_id_discount_rate-std',\n  'self_1_Date_received_no_distance-sum',\n  'self_1_Merchant_id-Date_received_Distance-mean',\n  'self_1_User_id_discount_rate-mean',\n  'self_1_Merchant_id_Distance-mean',\n  'self_1_Date_received_discount_x-mean',\n  'off2_1_Merchant_id_Distance-std',\n  'self_1_Date_received_count',\n  'self_1_Date_received_Distance-std',\n  'off1_1_Merchant_id_Distance-std',\n  'off2_1_Merchant_id_Distance-mean',\n  'off1_1_User_id_discount_x-mean',\n  'off1_1_User_id_Distance-mean',\n  'self_1_User_id_Distance-mean',\n  'self_1_User_id-Merchant_id_count',\n  'off1_1_User_id_discount_y-mean',\n  'weekday',\n  'off1_1_User_id_discount_x-std',\n  'self_1_User_id_discount_x-mean',\n  'self_1_Date_received_discount_x-std',\n  'self_1_Coupon_id_no_distance-sum',\n  'self_1_User_id-Coupon_id_count',\n  'self_2_User_id-Coupon_id_count_Coupon_id_count',\n  'self_2_User_id-Date_received_count_User_id_count',\n  'off1_1_User_id_Distance-std',\n  'on1_1_User_id_count',\n  'self_1_Merchant_id-Date_received_count',\n  'off1_1_User_id_count',\n  'off1_1_User_id_discount_y-std',\n  'self_1_User_id_Distance-std',\n  'self_1_Merchant_id_discount_rate-std',\n  'self_1_User_id_discount_x-std',\n  'off1_1_Merchant_id_discount_rate-mean',\n  'self_1_User_id_discount_y-mean',\n  'off1_1_Merchant_id_discount_rate-std',\n  'off1_1_User_id_normal_consume-sum',\n  'self_1_Merchant_id_discount_rate-mean',\n  'self_2_User_id-Merchant_id_count_Merchant_id_count',\n  'self_1_User_id-Merchant_id_is_full_discount-sum',\n  'self_1_User_id_discount_y-std',\n  'off1_1_Merchant_id_count',\n  'off1_1_User_id-Merchant_id_count',\n  'on1_1_User_id_is_click-sum',\n  'self_1_Coupon_id-Date_received_no_distance-sum',\n  'off1_1_Merchant_id_discount_x-std',\n  'on1_1_User_id_discount_rate-mean',\n  'on1_1_User_id_discount_rate-std',\n  'off1_1_Merchant_id_normal_consume-sum',\n  'self_1_Merchant_id_no_distance-sum',\n  'self_2_Merchant_id-Date_received_count_Merchant_id_count',\n  'self_1_Merchant_id_count',\n  'on1_1_User_id_discount_x-mean',\n  'self_1_Merchant_id-Date_received_discount_rate-std',\n  'self_1_Coupon_id_is_full_discount-sum',\n  'self_1_User_id-Merchant_id_discount_rate-std',\n  'self_1_User_id_count',\n  'self_1_Merchant_id_discount_x-mean',\n  'off2_1_Merchant_id_count',\n  'self_2_User_id-Coupon_id-Merchant_id_count_Merchant_id_count',\n  'self_2_User_id-Coupon_id_count_User_id_count',\n  'off1_1_User_id_discount_rate-min',\n  'self_1_Merchant_id-Date_received_no_distance-sum',\n  'off1_1_Merchant_id_coupon_consume-sum',\n  'off1_1_User_id-Merchant_id_normal_consume-sum',\n  'off1_1_Merchant_id_discount_x-mean',\n  'self_1_Merchant_id_discount_x-std',\n  'discount_rate',\n  'on1_1_User_id_normal_consume-sum',\n  'self_2_Coupon_id-Merchant_id_count_Merchant_id_count',\n  'off1_2_Merchant_id-Date_received_count_Merchant_id_count',\n  'on1_1_User_id_discount_y-mean',\n  'self_2_User_id-Merchant_id-Date_received_count_User_id_count',\n  'self_1_Merchant_id_discount_y-std',\n  'self_1_Merchant_id-Date_received_discount_rate-mean',\n  'on1_1_User_id_discount_x-std',\n  'self_2_Merchant_id-Date_received_count_Date_received_count',\n  'off2_1_Merchant_id_normal_consume-sum',\n  'on1_1_User_id_discount_y-std',\n  'self_1_Merchant_id-Date_received_discount_x-mean',\n  'off1_1_Merchant_id_discount_y-std',\n  'off2_1_Merchant_id_discount_rate-mean',\n  'self_1_Merchant_id_discount_y-mean',\n  'off1_2_User_id-Merchant_id_count_Merchant_id_count',\n  'self_1_User_id-Merchant_id_discount_x-std',\n  'Distance',\n  'self_1_User_id-Merchant_id_discount_rate-mean',\n  'self_1_User_id_Distance-max',\n  'self_1_Merchant_id-Date_received_discount_x-std',\n  'off1_1_User_id-Merchant_id_discount_rate-mean',\n  'self_1_Merchant_id-Date_received_discount_y-std',\n  'off1_1_Merchant_id_discount_y-mean',\n  'off1_1_User_id-Merchant_id_discount_rate-std',\n  'off2_1_Merchant_id_discount_rate-std',\n  'off2_1_Merchant_id_discount_x-mean',\n  'self_2_User_id-Date_received_count_Date_received_count',\n  'off2_1_User_id-Merchant_id_count',\n  'on1_2_User_id-Merchant_id_count_User_id_count',\n  'off1_1_User_id_Distance-min',\n  'off1_1_User_id_Distance-max',\n  'self_1_User_id_Distance-min',\n  'off1_1_User_id_no_consume-sum',\n  'self_1_Merchant_id_is_full_discount-sum',\n  'self_1_User_id_discount_rate-max',\n  'off2_1_Merchant_id_discount_x-std',\n  'discount_x',\n  'off1_2_Coupon_id-Merchant_id-Date_received_count_Merchant_id_count',\n  'off2_1_Merchant_id_discount_y-mean',\n  'off2_1_User_id-Merchant_id_normal_consume-sum',\n  'self_2_User_id-Merchant_id-Date_received_count_Merchant_id_count',\n  'self_1_User_id-Merchant_id_discount_x-mean',\n  'off1_1_User_id-Merchant_id_discount_x-mean',\n  'off2_2_User_id-Merchant_id_count_Merchant_id_count',\n  'off1_1_User_id_coupon_consume-sum',\n  'off1_1_User_id-Merchant_id_discount_x-std',\n  'off2_1_User_id_count',\n  'off1_1_User_id-Merchant_id_discount_y-mean',\n  'self_1_User_id-Merchant_id_discount_y-std',\n  'self_1_Coupon_id-Date_received_Distance-max',\n  'self_2_User_id-Coupon_id-Date_received_count_User_id_count',\n  'self_1_Merchant_id-Date_received_discount_y-mean',\n  'on2_1_User_id_count',\n  'off1_2_User_id-Coupon_id-Merchant_id_count_User_id_count',\n  'off1_2_User_id-Merchant_id_count_User_id_count',\n  'off1_2_User_id-Coupon_id-Merchant_id_count_Merchant_id_count',\n  'self_1_User_id-Coupon_id_is_full_discount-sum',\n  'self_1_User_id_discount_rate-min',\n  'off2_1_User_id_normal_consume-sum',\n  'off2_1_Merchant_id_discount_y-std',\n  'self_1_User_id-Coupon_id_no_distance-sum',\n  'self_2_User_id-Coupon_id-Date_received_count_Coupon_id_count',\n  'self_1_Merchant_id-Date_received_is_full_discount-sum',\n  'off2_1_User_id-Merchant_id_discount_rate-mean',\n  'self_1_User_id_no_distance-sum',\n  'off1_1_User_id-Merchant_id_no_consume-sum',\n  'self_1_Coupon_id_Distance-max',\n  'self_1_User_id_is_full_discount-sum',\n  'off1_1_Coupon_id_Distance-std',\n  'self_1_User_id-Date_received_Distance-mean',\n  'off2_1_User_id_Distance-mean',\n  'self_1_Coupon_id-Date_received_is_full_discount-sum',\n  'self_1_User_id_discount_x-min',\n  'off1_1_User_id_is_full_discount-sum',\n  'off2_1_Coupon_id_Distance-mean',\n  'on1_2_User_id-Coupon_id-Merchant_id_count_User_id_count',\n  'off1_1_Merchant_id_Distance-max',\n  'self_2_User_id-Merchant_id_count_User_id_count',\n  'on2_1_User_id_is_click-sum',\n  'off2_1_User_id_discount_rate-mean',\n  'self_1_Merchant_id_discount_rate-max',\n  'off1_1_Merchant_id_no_consume-sum',\n  'on1_1_User_id_discount_rate-min',\n  'off1_1_Merchant_id_no_distance-sum',\n  'self_1_User_id-Date_received_discount_rate-std',\n  'self_1_Date_received_discount_rate-min',\n  'off1_1_User_id_discount_x-max',\n  'off1_1_Merchant_id_discount_rate-min',\n  'self_1_Merchant_id-Date_received_Distance-max',\n  'on1_1_User_id_discount_x-max',\n  'off2_1_Merchant_id_Distance-max',\n  'off2_1_Coupon_id_count',\n  'off1_1_Merchant_id_is_full_discount-sum',\n  'off1_1_User_id-Merchant_id_Distance-mean',\n  'off1_2_User_id-Merchant_id-Date_received_count_Merchant_id_count',\n  'on2_1_User_id_normal_consume-sum',\n  'off1_1_User_id_discount_x-min',\n  'self_1_User_id-Merchant_id_discount_y-mean',\n  'off1_1_User_id_discount_rate-max',\n  'off2_1_User_id_discount_x-mean',\n  'self_1_Merchant_id-Date_received_discount_rate-max',\n  'off1_2_User_id-Date_received_count_User_id_count',\n  'self_1_User_id-Coupon_id-Date_received_count',\n  'off1_1_User_id-Merchant_id_coupon_consume-sum',\n  'self_1_Date_received_is_full_discount-sum',\n  'on1_1_User_id_discount_rate-max',\n  'off1_1_Coupon_id_Distance-mean',\n  'on1_1_User_id_discount_x-min',\n  'self_1_Coupon_id-Date_received_Distance-min',\n  'self_1_Merchant_id_discount_rate-min',\n  'off1_2_User_id-Merchant_id-Date_received_count_User_id_count',\n  'off2_1_Merchant_id_is_full_discount-sum',\n  'off1_1_Coupon_id_is_full_discount-sum',\n  'self_1_Coupon_id-Merchant_id_Distance-mean',\n  'off2_2_User_id-Merchant_id-Date_received_count_Merchant_id_count',\n  'off2_1_User_id_Distance-std',\n  'off2_1_Merchant_id_discount_rate-min',\n  'self_1_Merchant_id_discount_x-min',\n  'self_1_User_id-Date_received_discount_x-mean',\n  'on1_1_User_id_no_consume-sum',\n  'off2_2_User_id-Coupon_id-Merchant_id_count_Merchant_id_count',\n  'off1_2_Coupon_id-Merchant_id_count_Merchant_id_count',\n  'off2_1_User_id-Merchant_id_discount_x-mean',\n  'self_1_Merchant_id-Date_received_Distance-min',\n  'off2_1_User_id_Distance-min',\n  'self_1_User_id-Merchant_id_no_distance-sum',\n  'off1_1_Coupon_id_coupon_consume-sum',\n  'self_1_Coupon_id-Merchant_id_Distance-std',\n  'self_1_User_id-Merchant_id_discount_rate-max',\n  'self_1_User_id-Date_received_Distance-max',\n  'off1_1_User_id-Merchant_id_discount_y-std',\n  'off2_1_User_id_discount_rate-std',\n  'self_1_Merchant_id_Distance-max',\n  'off1_2_Coupon_id-Date_received_count_Coupon_id_count',\n  'self_1_User_id_discount_x-max',\n  'off2_1_Coupon_id_Distance-std',\n  'off2_1_Coupon_id_discount_rate-mean',\n  'off2_1_User_id-Merchant_id_Distance-mean',\n  'off1_1_Coupon_id_discount_x-mean',\n  'on1_2_User_id-Merchant_id-Date_received_count_User_id_count',\n  'off2_2_Coupon_id-Merchant_id_count_Merchant_id_count',\n  'self_1_User_id-Merchant_id-Date_received_is_full_discount-sum',\n  'off1_2_User_id-Coupon_id_count_User_id_count',\n  'off1_1_Merchant_id_Distance-min',\n  'off2_1_Merchant_id_coupon_consume-sum',\n  'self_1_User_id-Date_received_discount_rate-mean',\n  'off2_2_Merchant_id-Date_received_count_Merchant_id_count',\n  'self_1_Merchant_id-Date_received_discount_x-min',\n  'self_1_User_id-Merchant_id-Date_received_discount_x-mean',\n  'self_1_Coupon_id-Merchant_id-Date_received_Distance-std',\n  'off2_1_User_id-Merchant_id_discount_rate-std',\n  'self_1_User_id-Merchant_id-Date_received_count',\n  'on2_1_User_id_discount_rate-mean',\n  'off2_2_Coupon_id-Date_received_count_Coupon_id_count',\n  'off2_2_User_id-Merchant_id_count_User_id_count',\n  'off2_1_Merchant_id_no_distance-sum',\n  'self_2_Coupon_id-Merchant_id-Date_received_count_Coupon_id_count',\n  'self_1_Date_received_discount_rate-max',\n  'self_1_User_id-Date_received_Distance-min',\n  'off1_2_User_id-Coupon_id-Date_received_count_User_id_count',\n  'off2_1_Merchant_id_Distance-min',\n  'self_1_User_id-Merchant_id_discount_x-min',\n  'off1_1_User_id_no_distance-sum',\n  'self_1_Coupon_id-Merchant_id-Date_received_Distance-mean',\n  'self_1_User_id-Date_received_discount_rate-max',\n  'off2_1_Coupon_id_discount_x-mean',\n  'off2_1_User_id_discount_y-mean',\n  'self_1_Coupon_id_Distance-min',\n  'off1_1_User_id-Merchant_id_discount_rate-min',\n  'off1_1_Coupon_id_no_consume-sum',\n  'off2_1_Merchant_id_discount_x-max',\n  'self_1_Merchant_id-Date_received_discount_rate-min',\n  'self_1_User_id_discount_y-min',\n  'off1_1_Coupon_id_count',\n  'off1_1_User_id-Merchant_id_is_full_discount-sum',\n  'self_1_Merchant_id_discount_y-min',\n  'on2_1_User_id_discount_x-mean',\n  'on2_1_User_id_discount_rate-std',\n  'on1_2_User_id-Coupon_id_count_User_id_count',\n  'on1_2_User_id-Date_received_count_User_id_count',\n  'self_1_User_id-Date_received_discount_x-std',\n  'off1_1_User_id-Coupon_id_no_consume-sum',\n  'self_1_User_id-Date_received_count',\n  'off1_1_User_id_discount_y-max',\n  'off2_1_User_id_Distance-max',\n  'self_1_User_id-Date_received_discount_y-std',\n  'self_1_User_id-Date_received_Distance-std',\n  'off1_1_Merchant_id_discount_x-max',\n  'self_1_Merchant_id_discount_x-max',\n  'self_1_User_id_discount_y-max',\n  'on1_1_User_id_discount_y-max',\n  'self_1_Merchant_id-Date_received_discount_x-max',\n  'self_2_User_id-Coupon_id-Merchant_id_count_Coupon_id_count',\n  'self_1_User_id-Merchant_id-Date_received_discount_rate-std',\n  'on1_1_User_id_is_full_discount-sum',\n  'self_1_User_id-Date_received_discount_y-mean',\n  'off2_2_User_id-Coupon_id_count_Coupon_id_count',\n  'self_1_User_id-Date_received_is_full_discount-sum',\n  'on1_1_User_id_discount_y-min',\n  'off1_1_Coupon_id_no_distance-sum',\n  'off1_1_User_id-Merchant_id_discount_x-min',\n  'self_1_User_id-Merchant_id_discount_rate-min',\n  'off2_1_Coupon_id_is_full_discount-sum',\n  'self_1_User_id-Merchant_id-Date_received_discount_y-std',\n  'self_1_User_id-Merchant_id-Date_received_discount_x-std',\n  'off2_1_User_id_discount_x-std',\n  'on1_2_User_id-Coupon_id-Date_received_count_User_id_count',\n  'self_1_Merchant_id_Distance-min',\n  'off1_1_Coupon_id_discount_rate-mean',\n  'self_1_User_id-Merchant_id_discount_x-max',\n  'off2_1_User_id-Merchant_id_discount_y-mean',\n  'self_1_User_id-Merchant_id-Date_received_discount_rate-min',\n  'off2_2_Coupon_id-Merchant_id-Date_received_count_Merchant_id_count',\n  'off2_1_Coupon_id_Distance-min',\n  'self_1_Date_received_discount_x-max',\n  'off2_1_User_id-Merchant_id_discount_rate-min',\n  'off2_1_User_id_discount_rate-min',\n  'self_2_User_id-Coupon_id-Merchant_id_count_User_id_count',\n  'off1_1_User_id-Coupon_id_coupon_consume-sum',\n  'self_1_User_id-Date_received_discount_rate-min',\n  'self_1_Date_received_discount_y-max',\n  'self_1_User_id-Merchant_id-Date_received_discount_rate-mean',\n  'self_1_Coupon_id-Merchant_id-Date_received_no_distance-sum',\n  'off2_1_User_id_discount_x-min',\n  'off2_1_User_id-Coupon_id_discount_rate-mean',\n  'self_1_User_id-Merchant_id-Date_received_no_distance-sum',\n  'off2_1_Coupon_id_Distance-max',\n  'self_1_User_id-Date_received_discount_x-min',\n  'self_1_Merchant_id-Date_received_discount_y-min',\n  'off2_1_User_id_discount_rate-max',\n  'off1_1_User_id-Merchant_id_discount_x-max',\n  'off1_1_User_id-Merchant_id_discount_rate-max',\n  'self_1_Coupon_id-Merchant_id_no_distance-sum',\n  'off2_1_User_id-Coupon_id_count',\n  'self_2_User_id-Merchant_id-Date_received_count_Date_received_count',\n  'on2_1_User_id_discount_y-mean',\n  'off1_1_User_id_discount_y-min',\n  'off2_2_User_id-Coupon_id-Merchant_id_count_User_id_count',\n  'off2_1_User_id_discount_y-std',\n  'on2_2_User_id-Coupon_id-Merchant_id_count_User_id_count',\n  'self_1_Merchant_id_discount_y-max',\n  'off1_1_Merchant_id_discount_y-max',\n  'on2_2_User_id-Merchant_id_count_User_id_count',\n  'self_1_Merchant_id-Date_received_discount_y-max',\n  'discount_type',\n  'self_1_User_id-Coupon_id-Merchant_id_no_distance-sum',\n  'off2_2_User_id-Merchant_id-Date_received_count_User_id_count',\n  'discount_y',\n  'on1_1_User_id_coupon_consume-sum',\n  'on1_1_User_id_fixed_consume-sum',\n  'off2_1_Coupon_id_discount_y-mean',\n  'off2_1_Coupon_id_no_distance-sum',\n  'self_1_User_id-Merchant_id-Date_received_discount_x-min',\n  'self_2_Coupon_id-Merchant_id-Date_received_count_Date_received_count',\n  'self_1_Coupon_id-Merchant_id_is_full_discount-sum',\n  'off2_1_User_id-Merchant_id_discount_x-std',\n  'off2_1_User_id_coupon_consume-sum',\n  'off2_1_User_id-Merchant_id_discount_y-std',\n  'off1_1_User_id-Merchant_id_no_distance-sum',\n  'off2_1_User_id-Merchant_id_discount_rate-max',\n  'off2_1_User_id-Coupon_id_discount_x-mean',\n  'self_1_User_id-Date_received_no_distance-sum',\n  'self_1_User_id-Coupon_id-Merchant_id_count',\n  'on2_1_User_id_discount_rate-min',\n  'off1_1_User_id-Coupon_id_Distance-mean',\n  'off1_1_Merchant_id_discount_x-min',\n  'off2_1_User_id_discount_x-max',\n  'off2_1_Coupon_id-Merchant_id_Distance-mean',\n  'self_1_Coupon_id_discount_x-mean',\n  'self_1_User_id-Coupon_id-Date_received_is_full_discount-sum',\n  'self_1_User_id-Merchant_id-Date_received_discount_rate-max',\n  'off2_2_User_id-Coupon_id-Date_received_count_Coupon_id_count',\n  'self_1_User_id-Coupon_id_Distance-mean',\n  'off1_1_Coupon_id_Distance-min',\n  'off1_2_User_id-Coupon_id_count_Coupon_id_count',\n  'off1_1_Coupon_id_discount_y-mean',\n  'off2_1_Merchant_id_discount_y-max',\n  'off1_1_User_id-Coupon_id_count',\n  'off2_1_User_id-Merchant_id_discount_x-max',\n  'off1_1_User_id-Merchant_id_Distance-max',\n  'self_1_User_id-Coupon_id-Date_received_no_distance-sum',\n  'on2_1_User_id_discount_x-min',\n  'on2_1_User_id_discount_x-std',\n  'off2_1_User_id_is_full_discount-sum',\n  'off2_2_User_id-Date_received_count_User_id_count',\n  'off2_2_User_id-Coupon_id_count_User_id_count',\n  'off1_1_User_id-Merchant_id_discount_y-min',\n  'off1_1_User_id-Merchant_id_discount_y-max',\n  'self_1_User_id-Merchant_id-Date_received_discount_y-mean',\n  'off1_1_Coupon_id_Distance-max',\n  'off2_1_User_id_discount_y-min',\n  'on2_1_User_id_discount_rate-max',\n  'off2_1_User_id_discount_y-max',\n  'off1_1_Merchant_id_discount_rate-max',\n  'self_1_Coupon_id-Merchant_id_count',\n  'off1_1_User_id-Coupon_id_discount_rate-mean',\n  'off2_1_User_id-Merchant_id_coupon_consume-sum',\n  'on2_1_User_id_discount_y-std',\n  'self_1_Coupon_id-Merchant_id-Date_received_count',\n  'on2_1_User_id_discount_x-max',\n  'off1_1_Coupon_id-Merchant_id_Distance-mean',\n  'off2_1_User_id-Coupon_id_Distance-mean',\n  'off2_1_Coupon_id_discount_x-max',\n  'self_1_User_id-Merchant_id_discount_y-min',\n  'off1_1_Coupon_id-Merchant_id_is_full_discount-sum',\n  'on2_1_User_id_fixed_consume-sum',\n  'off1_1_Coupon_id-Merchant_id_coupon_consume-sum',\n  'self_1_User_id-Date_received_discount_x-max',\n  'no_distance',\n  'self_1_User_id-Merchant_id-Date_received_discount_y-min',\n  'off2_1_User_id-Coupon_id_discount_y-mean',\n  'off1_1_User_id-Coupon_id_discount_x-mean',\n  'off2_1_User_id-Merchant_id_no_distance-sum',\n  'self_1_User_id-Coupon_id-Merchant_id_is_full_discount-sum',\n  'self_1_Coupon_id-Merchant_id-Date_received_Distance-max',\n  'self_1_Coupon_id-Merchant_id-Date_received_is_full_discount-sum',\n  'self_1_User_id-Merchant_id_discount_y-max',\n  'off1_1_Coupon_id_discount_x-max',\n  'off2_1_Merchant_id_discount_rate-max',\n  'off2_1_Coupon_id_coupon_consume-sum',\n  'self_1_Coupon_id-Merchant_id-Date_received_Distance-min',\n  'off1_1_User_id-Coupon_id_is_full_discount-sum',\n  'off2_1_User_id-Merchant_id_discount_y-max',\n  'off2_1_Coupon_id_discount_rate-max',\n  'self_1_User_id-Merchant_id-Date_received_discount_x-max',\n  'on2_1_User_id_discount_y-max',\n  'off2_1_User_id-Merchant_id_discount_x-min',\n  'off2_1_Coupon_id-Merchant_id_Distance-std',\n  'off1_1_Coupon_id-Merchant_id_Distance-std',\n  'self_1_Coupon_id-Merchant_id_Distance-max',\n  'off1_2_Coupon_id-Merchant_id-Date_received_count_Coupon_id_count',\n  'off2_2_User_id-Coupon_id-Date_received_count_User_id_count',\n  'on2_2_User_id-Merchant_id-Date_received_count_User_id_count',\n  'self_1_User_id-Date_received_discount_y-min',\n  'off1_1_Coupon_id-Merchant_id_no_consume-sum',\n  'off1_1_Coupon_id_discount_rate-min',\n  'off2_1_User_id-Merchant_id_is_full_discount-sum',\n  'self_1_Coupon_id-Merchant_id_Distance-min',\n  'off1_1_User_id-Coupon_id-Merchant_id_no_consume-sum',\n  'self_1_User_id-Merchant_id-Date_received_discount_y-max',\n  'off2_1_User_id-Coupon_id_discount_rate-max',\n  'off2_1_User_id-Coupon_id_is_full_discount-sum',\n  'off2_1_Coupon_id-Merchant_id_Distance-max',\n  'on2_1_User_id_discount_y-min',\n  'off1_1_Coupon_id-Merchant_id_no_distance-sum',\n  'self_2_User_id-Coupon_id-Date_received_count_Date_received_count',\n  'self_1_User_id-Date_received_discount_y-max',\n  'off1_1_Coupon_id_discount_rate-max',\n  'off2_1_User_id_no_distance-sum',\n  'off2_1_Coupon_id-Merchant_id_Distance-min',\n  'self_1_Coupon_id_discount_x-max',\n  'off1_1_Coupon_id-Merchant_id_count',\n  'off2_2_Coupon_id-Merchant_id-Date_received_count_Coupon_id_count',\n  'off2_1_Coupon_id_discount_rate-min',\n  'off2_1_User_id-Merchant_id_Distance-max',\n  'off2_1_User_id-Merchant_id_discount_y-min',\n  'off2_1_Coupon_id_discount_x-min',\n  'off1_1_User_id-Merchant_id_Distance-min',\n  'off1_1_User_id-Coupon_id_discount_y-mean',\n  'off2_1_User_id-Coupon_id_discount_x-max',\n  'off1_1_Coupon_id_discount_y-max',\n  'off2_1_Coupon_id-Merchant_id_no_distance-sum',\n  'off2_1_Coupon_id-Merchant_id_is_full_discount-sum',\n  'off1_1_User_id-Coupon_id_Distance-min',\n  'off1_2_User_id-Coupon_id-Date_received_count_Coupon_id_count',\n  'off2_1_Coupon_id_discount_y-max',\n  'off2_2_User_id-Coupon_id-Merchant_id_count_Coupon_id_count',\n  'off1_1_User_id-Coupon_id_discount_rate-max',\n  'on2_2_User_id-Date_received_count_User_id_count',\n  'is_full_discount',\n  'off1_1_User_id-Coupon_id-Merchant_id_coupon_consume-sum',\n  'off2_1_User_id-Coupon_id_coupon_consume-sum',\n  'off2_1_Merchant_id_discount_x-min',\n  'self_1_User_id-Coupon_id-Merchant_id_discount_rate-mean',\n  'self_1_User_id-Merchant_id-Date_received_Distance-max',\n  'off1_1_User_id-Coupon_id-Merchant_id_discount_y-mean',\n  'off1_1_User_id-Coupon_id-Merchant_id_Distance-min',\n  'off1_1_User_id-Coupon_id-Merchant_id_discount_rate-min',\n  'off1_1_Coupon_id-Merchant_id_discount_rate-mean',\n  'self_1_User_id-Coupon_id-Merchant_id_discount_rate-min',\n  'self_1_User_id-Coupon_id-Merchant_id_discount_y-max',\n  'self_1_User_id-Coupon_id-Merchant_id_discount_x-max',\n  'off1_1_User_id-Coupon_id-Merchant_id_discount_rate-max',\n  'self_1_User_id-Coupon_id-Merchant_id_Distance-max',\n  'self_1_User_id-Coupon_id-Merchant_id_discount_rate-max',\n  'self_1_User_id-Coupon_id-Merchant_id_Distance-mean',\n  'self_1_User_id-Coupon_id-Merchant_id_discount_y-mean',\n  'self_1_User_id-Merchant_id-Date_received_Distance-min',\n  'self_1_User_id-Coupon_id-Merchant_id_Distance-min',\n  'off1_1_Coupon_id-Merchant_id_discount_y-mean',\n  'off1_1_Coupon_id-Merchant_id_discount_x-mean',\n  'off1_1_User_id-Coupon_id-Merchant_id_discount_y-max',\n  'self_1_User_id-Coupon_id-Merchant_id_discount_x-mean',\n  'off1_1_User_id-Coupon_id-Merchant_id_Distance-max',\n  'off1_1_User_id-Coupon_id-Merchant_id_discount_x-max',\n  'off1_1_User_id-Coupon_id-Merchant_id_discount_x-mean',\n  'off1_1_Coupon_id-Merchant_id_discount_y-max',\n  'self_1_User_id-Coupon_id-Merchant_id_discount_x-min',\n  'self_1_User_id-Coupon_id-Merchant_id_discount_y-min',\n  'off1_1_User_id-Coupon_id-Merchant_id_discount_rate-mean',\n  'self_1_Coupon_id-Merchant_id-Date_received_discount_rate-min',\n  'self_1_User_id-Coupon_id-Date_received_discount_rate-mean',\n  'self_1_User_id-Coupon_id-Date_received_Distance-mean',\n  'self_1_User_id-Coupon_id-Date_received_discount_x-mean',\n  'self_1_User_id-Coupon_id-Date_received_discount_y-mean',\n  'self_1_User_id-Coupon_id-Date_received_discount_rate-max',\n  'self_1_User_id-Coupon_id-Date_received_Distance-max',\n  'self_1_User_id-Coupon_id-Date_received_discount_x-max',\n  'self_1_User_id-Coupon_id-Date_received_discount_y-max',\n  'self_1_User_id-Coupon_id-Date_received_discount_rate-min',\n  'self_1_User_id-Coupon_id-Date_received_Distance-min',\n  'self_1_User_id-Coupon_id-Date_received_discount_x-min',\n  'self_1_User_id-Coupon_id-Date_received_discount_y-min',\n  'self_1_Coupon_id-Merchant_id-Date_received_discount_y-min',\n  'self_1_Coupon_id-Merchant_id-Date_received_discount_y-max',\n  'self_1_Coupon_id-Merchant_id-Date_received_discount_x-max',\n  'self_1_User_id-Merchant_id-Date_received_Distance-mean',\n  'self_2_Coupon_id-Merchant_id_count_Coupon_id_count',\n  'off1_1_Coupon_id-Merchant_id_discount_rate-max',\n  'off1_1_User_id-Coupon_id-Merchant_id_discount_x-min',\n  'off1_1_Coupon_id-Merchant_id_Distance-max',\n  'off1_1_Coupon_id-Merchant_id_discount_x-max',\n  'self_1_Coupon_id-Merchant_id-Date_received_discount_x-min',\n  'off1_1_Coupon_id-Merchant_id_discount_rate-min',\n  'off1_1_Coupon_id-Merchant_id_Distance-min',\n  'self_1_Coupon_id-Merchant_id-Date_received_discount_rate-max',\n  'self_1_Coupon_id-Merchant_id-Date_received_discount_rate-mean',\n  'off1_1_Coupon_id-Merchant_id_discount_x-min',\n  'off1_1_Coupon_id-Merchant_id_discount_y-min',\n  'self_1_Coupon_id-Merchant_id-Date_received_discount_x-mean',\n  'self_1_Coupon_id-Merchant_id-Date_received_discount_y-mean',\n  'off1_1_User_id-Coupon_id-Merchant_id_count',\n  'off1_1_User_id-Coupon_id-Merchant_id_Distance-mean',\n  'self_1_User_id-Merchant_id_Distance-max',\n  'off1_1_User_id-Coupon_id-Merchant_id_discount_y-min',\n  'off2_1_User_id-Coupon_id-Merchant_id_discount_y-min',\n  'off2_1_User_id-Coupon_id-Merchant_id_coupon_consume-sum',\n  'off2_2_Coupon_id-Merchant_id_count_Coupon_id_count',\n  'off2_1_User_id-Merchant_id_Distance-min',\n  'on2_1_User_id_is_full_discount-sum',\n  'on2_1_User_id_coupon_consume-sum',\n  'on2_2_User_id-Coupon_id_count_User_id_count',\n  'on2_2_User_id-Coupon_id-Date_received_count_User_id_count',\n  'off2_1_User_id-Coupon_id_no_distance-sum',\n  'off1_1_User_id-Coupon_id_no_distance-sum',\n  'off2_1_User_id-Coupon_id_discount_y-min',\n  'off2_1_User_id-Coupon_id_discount_x-min',\n  'off2_1_User_id-Coupon_id_Distance-min',\n  'off2_1_User_id-Coupon_id_discount_rate-min',\n  'off2_1_User_id-Coupon_id_discount_y-max',\n  'off2_1_User_id-Coupon_id_Distance-max',\n  'off1_1_User_id-Coupon_id_discount_y-min',\n  'off1_1_User_id-Coupon_id_discount_x-min',\n  'off1_1_User_id-Coupon_id_discount_rate-min',\n  'off1_1_User_id-Coupon_id_discount_y-max',\n  'self_1_Coupon_id_discount_rate-mean',\n  'off1_1_User_id-Coupon_id_discount_x-max',\n  'off2_1_User_id-Coupon_id-Merchant_id_no_distance-sum',\n  'off2_1_User_id-Coupon_id-Merchant_id_discount_x-min',\n  'self_1_Coupon_id_discount_rate-max',\n  'off2_1_User_id-Coupon_id-Merchant_id_Distance-min',\n  'off2_1_Coupon_id-Merchant_id_count',\n  'off2_1_Coupon_id-Merchant_id_discount_rate-mean',\n  'off2_1_Coupon_id-Merchant_id_discount_x-mean',\n  'off2_1_Coupon_id-Merchant_id_discount_y-mean',\n  'off2_1_Coupon_id-Merchant_id_discount_rate-max',\n  'off2_1_Coupon_id-Merchant_id_discount_x-max',\n  'off2_1_Coupon_id-Merchant_id_discount_y-max',\n  'off2_1_Coupon_id-Merchant_id_discount_rate-min',\n  'off2_1_Coupon_id-Merchant_id_discount_x-min',\n  'off2_1_Coupon_id-Merchant_id_discount_y-min',\n  'off2_1_Coupon_id-Merchant_id_coupon_consume-sum',\n  'off2_1_User_id-Coupon_id-Merchant_id_count',\n  'off2_1_User_id-Coupon_id-Merchant_id_discount_rate-mean',\n  'off2_1_User_id-Coupon_id-Merchant_id_Distance-mean',\n  'off2_1_User_id-Coupon_id-Merchant_id_discount_x-mean',\n  'off2_1_User_id-Coupon_id-Merchant_id_discount_y-mean',\n  'off2_1_User_id-Coupon_id-Merchant_id_discount_rate-max',\n  'off2_1_User_id-Coupon_id-Merchant_id_Distance-max',\n  'off2_1_User_id-Coupon_id-Merchant_id_discount_x-max',\n  'off2_1_User_id-Coupon_id-Merchant_id_discount_y-max',\n  'off2_1_User_id-Coupon_id-Merchant_id_discount_rate-min',\n  'self_1_Coupon_id_discount_y-mean',\n  'self_1_Coupon_id_discount_y-max',\n  'off1_1_User_id-Coupon_id-Merchant_id_is_full_discount-sum',\n  'self_1_User_id-Merchant_id_Distance-min',\n  'self_1_Coupon_id-Merchant_id_discount_rate-mean',\n  'self_1_Coupon_id-Merchant_id_discount_x-mean',\n  'self_1_Coupon_id-Merchant_id_discount_y-mean',\n  'self_1_Coupon_id-Merchant_id_discount_rate-max',\n  'self_1_Coupon_id-Merchant_id_discount_x-max',\n  'self_1_Coupon_id-Merchant_id_discount_y-max',\n  'self_1_Coupon_id-Merchant_id_discount_rate-min',\n  'self_1_Coupon_id-Merchant_id_discount_x-min',\n  'self_1_Coupon_id-Merchant_id_discount_y-min',\n  'off1_2_User_id-Coupon_id-Merchant_id_count_Coupon_id_count',\n  'self_1_Coupon_id-Date_received_discount_rate-mean',\n  'self_1_Coupon_id-Date_received_discount_x-mean',\n  'self_1_Coupon_id-Date_received_discount_y-mean',\n  'self_1_Coupon_id-Date_received_discount_rate-max',\n  'off1_2_Coupon_id-Merchant_id_count_Coupon_id_count',\n  'self_1_Coupon_id-Date_received_discount_x-max',\n  'self_1_Coupon_id-Date_received_discount_y-max',\n  'self_1_Coupon_id-Date_received_discount_rate-min',\n  'self_1_Coupon_id-Date_received_discount_x-min',\n  'self_1_Coupon_id-Date_received_discount_y-min',\n  'off1_1_User_id-Coupon_id-Merchant_id_no_distance-sum',\n  'off1_1_Coupon_id_discount_x-min',\n  'self_1_User_id-Merchant_id_Distance-mean',\n  'self_1_Coupon_id_discount_rate-min',\n  'off1_1_Coupon_id_discount_y-min',\n  'self_1_Coupon_id_discount_x-min',\n  'self_1_Coupon_id_discount_y-min',\n  'off1_1_User_id-Coupon_id_Distance-max',\n  'off2_1_Merchant_id_discount_y-min',\n  'off1_1_Merchant_id_discount_y-min',\n  'off2_1_Coupon_id_discount_y-min',\n  'self_1_Date_received_Distance-max',\n  'self_1_Date_received_Distance-min',\n  'self_1_Date_received_discount_x-min',\n  'self_1_Date_received_discount_y-min',\n  'self_1_User_id-Coupon_id_discount_rate-mean',\n  'self_1_User_id-Coupon_id_discount_x-mean',\n  'self_1_User_id-Coupon_id_discount_y-mean',\n  'self_1_User_id-Coupon_id_discount_rate-max',\n  'self_1_User_id-Coupon_id_Distance-max',\n  'self_1_User_id-Coupon_id_discount_x-max',\n  'self_1_User_id-Coupon_id_discount_y-max',\n  'self_1_User_id-Coupon_id_discount_rate-min',\n  'self_1_User_id-Coupon_id_Distance-min',\n  'self_1_User_id-Coupon_id_discount_x-min',\n  'self_1_User_id-Coupon_id_discount_y-min',\n  'off2_1_User_id-Coupon_id-Merchant_id_is_full_discount-sum'],\n 621)"
     },
     "execution_count": 9,
     "metadata": {},
     "output_type": "execute_result"
    }
   ],
   "source": [
    "important_cols = [i for i in important_cols if i not in bad_cols]\n",
    "important_cols, len(important_cols)"
   ],
   "metadata": {
    "collapsed": false,
    "pycharm": {
     "name": "#%%\n"
    }
   }
  },
  {
   "cell_type": "code",
   "execution_count": 388,
   "outputs": [
    {
     "name": "stdout",
     "output_type": "stream",
     "text": [
      "138303\n",
      "count                  138303\n",
      "unique                     31\n",
      "top       2016-04-22 00:00:00\n",
      "freq                     7381\n",
      "first     2016-04-15 00:00:00\n",
      "last      2016-05-15 00:00:00\n",
      "Name: Date_received, dtype: object\n",
      "\n",
      "count                  252586\n",
      "unique                     31\n",
      "top       2016-05-21 00:00:00\n",
      "freq                    19859\n",
      "first     2016-05-16 00:00:00\n",
      "last      2016-06-15 00:00:00\n",
      "Name: Date_received, dtype: object\n",
      "Start training...\n",
      "[LightGBM] [Info] Number of positive: 9247, number of negative: 129056\n",
      "[LightGBM] [Warning] Auto-choosing row-wise multi-threading, the overhead of testing was 0.058274 seconds.\n",
      "You can set `force_row_wise=true` to remove the overhead.\n",
      "And if memory is not enough, you can set `force_col_wise=true`.\n",
      "[LightGBM] [Info] Total Bins 22180\n",
      "[LightGBM] [Info] Number of data points in the train set: 138303, number of used features: 200\n",
      "[LightGBM] [Info] [binary:BoostFromScore]: pavg=0.066860 -> initscore=-2.635947\n",
      "[LightGBM] [Info] Start training from score -2.635947\n",
      "[1]\tvalid_0's l2: 0.0807735\tvalid_0's auc: 0.786154\n",
      "Training until validation scores don't improve for 100 rounds\n",
      "[2]\tvalid_0's l2: 0.0793492\tvalid_0's auc: 0.807293\n",
      "[3]\tvalid_0's l2: 0.0782661\tvalid_0's auc: 0.813986\n",
      "[4]\tvalid_0's l2: 0.0772289\tvalid_0's auc: 0.819009\n",
      "[5]\tvalid_0's l2: 0.076289\tvalid_0's auc: 0.813923\n",
      "[6]\tvalid_0's l2: 0.0754551\tvalid_0's auc: 0.814425\n",
      "[7]\tvalid_0's l2: 0.0748081\tvalid_0's auc: 0.812996\n",
      "[8]\tvalid_0's l2: 0.0741087\tvalid_0's auc: 0.813997\n",
      "[9]\tvalid_0's l2: 0.0734988\tvalid_0's auc: 0.814509\n",
      "[10]\tvalid_0's l2: 0.0729772\tvalid_0's auc: 0.816415\n",
      "[11]\tvalid_0's l2: 0.0724957\tvalid_0's auc: 0.816556\n",
      "[12]\tvalid_0's l2: 0.0720651\tvalid_0's auc: 0.820804\n",
      "[13]\tvalid_0's l2: 0.0716087\tvalid_0's auc: 0.824591\n",
      "[14]\tvalid_0's l2: 0.0711411\tvalid_0's auc: 0.828429\n",
      "[15]\tvalid_0's l2: 0.0707973\tvalid_0's auc: 0.829128\n",
      "[16]\tvalid_0's l2: 0.0705315\tvalid_0's auc: 0.828116\n",
      "[17]\tvalid_0's l2: 0.0702303\tvalid_0's auc: 0.828708\n",
      "[18]\tvalid_0's l2: 0.0700175\tvalid_0's auc: 0.828549\n",
      "[19]\tvalid_0's l2: 0.0697683\tvalid_0's auc: 0.82882\n",
      "[20]\tvalid_0's l2: 0.0695697\tvalid_0's auc: 0.828678\n",
      "[21]\tvalid_0's l2: 0.0693747\tvalid_0's auc: 0.828684\n",
      "[22]\tvalid_0's l2: 0.0691887\tvalid_0's auc: 0.829138\n",
      "[23]\tvalid_0's l2: 0.0689938\tvalid_0's auc: 0.829628\n",
      "[24]\tvalid_0's l2: 0.0688162\tvalid_0's auc: 0.830237\n",
      "[25]\tvalid_0's l2: 0.0687246\tvalid_0's auc: 0.830303\n",
      "[26]\tvalid_0's l2: 0.0686186\tvalid_0's auc: 0.830767\n",
      "[27]\tvalid_0's l2: 0.0685147\tvalid_0's auc: 0.831432\n",
      "[28]\tvalid_0's l2: 0.0684182\tvalid_0's auc: 0.831551\n",
      "[29]\tvalid_0's l2: 0.0683362\tvalid_0's auc: 0.831669\n",
      "[30]\tvalid_0's l2: 0.0682511\tvalid_0's auc: 0.832547\n",
      "[31]\tvalid_0's l2: 0.0682045\tvalid_0's auc: 0.832643\n",
      "[32]\tvalid_0's l2: 0.0680619\tvalid_0's auc: 0.832673\n",
      "[33]\tvalid_0's l2: 0.0680235\tvalid_0's auc: 0.832799\n",
      "[34]\tvalid_0's l2: 0.0679649\tvalid_0's auc: 0.832686\n",
      "[35]\tvalid_0's l2: 0.067923\tvalid_0's auc: 0.832641\n",
      "[36]\tvalid_0's l2: 0.0678855\tvalid_0's auc: 0.832707\n",
      "[37]\tvalid_0's l2: 0.0678196\tvalid_0's auc: 0.832615\n",
      "[38]\tvalid_0's l2: 0.0677577\tvalid_0's auc: 0.832505\n",
      "[39]\tvalid_0's l2: 0.0677208\tvalid_0's auc: 0.832464\n",
      "[40]\tvalid_0's l2: 0.0676783\tvalid_0's auc: 0.831821\n",
      "[41]\tvalid_0's l2: 0.0676814\tvalid_0's auc: 0.831243\n",
      "[42]\tvalid_0's l2: 0.0676861\tvalid_0's auc: 0.831303\n",
      "[43]\tvalid_0's l2: 0.0676728\tvalid_0's auc: 0.83161\n",
      "[44]\tvalid_0's l2: 0.067641\tvalid_0's auc: 0.83141\n",
      "[45]\tvalid_0's l2: 0.0675714\tvalid_0's auc: 0.831082\n",
      "[46]\tvalid_0's l2: 0.0674887\tvalid_0's auc: 0.831631\n",
      "[47]\tvalid_0's l2: 0.0674346\tvalid_0's auc: 0.831877\n",
      "[48]\tvalid_0's l2: 0.0673783\tvalid_0's auc: 0.832171\n",
      "[49]\tvalid_0's l2: 0.0673088\tvalid_0's auc: 0.832637\n",
      "[50]\tvalid_0's l2: 0.0672595\tvalid_0's auc: 0.833083\n",
      "[51]\tvalid_0's l2: 0.0672279\tvalid_0's auc: 0.832946\n",
      "[52]\tvalid_0's l2: 0.0672267\tvalid_0's auc: 0.832436\n",
      "[53]\tvalid_0's l2: 0.0672017\tvalid_0's auc: 0.832692\n",
      "[54]\tvalid_0's l2: 0.0672066\tvalid_0's auc: 0.832691\n",
      "[55]\tvalid_0's l2: 0.06722\tvalid_0's auc: 0.832785\n",
      "[56]\tvalid_0's l2: 0.0671587\tvalid_0's auc: 0.833527\n",
      "[57]\tvalid_0's l2: 0.0671182\tvalid_0's auc: 0.833886\n",
      "[58]\tvalid_0's l2: 0.0671614\tvalid_0's auc: 0.833391\n",
      "[59]\tvalid_0's l2: 0.0671293\tvalid_0's auc: 0.832989\n",
      "[60]\tvalid_0's l2: 0.0670819\tvalid_0's auc: 0.8333\n",
      "[61]\tvalid_0's l2: 0.0670087\tvalid_0's auc: 0.833698\n",
      "[62]\tvalid_0's l2: 0.0669464\tvalid_0's auc: 0.834078\n",
      "[63]\tvalid_0's l2: 0.0669239\tvalid_0's auc: 0.834371\n",
      "[64]\tvalid_0's l2: 0.0669018\tvalid_0's auc: 0.834729\n",
      "[65]\tvalid_0's l2: 0.0669067\tvalid_0's auc: 0.834881\n",
      "[66]\tvalid_0's l2: 0.0669761\tvalid_0's auc: 0.834275\n",
      "[67]\tvalid_0's l2: 0.0669977\tvalid_0's auc: 0.834365\n",
      "[68]\tvalid_0's l2: 0.0669898\tvalid_0's auc: 0.834663\n",
      "[69]\tvalid_0's l2: 0.0669641\tvalid_0's auc: 0.835123\n",
      "[70]\tvalid_0's l2: 0.0669186\tvalid_0's auc: 0.835126\n",
      "[71]\tvalid_0's l2: 0.0669031\tvalid_0's auc: 0.835379\n",
      "[72]\tvalid_0's l2: 0.0669084\tvalid_0's auc: 0.835356\n",
      "[73]\tvalid_0's l2: 0.0668971\tvalid_0's auc: 0.835276\n",
      "[74]\tvalid_0's l2: 0.0668894\tvalid_0's auc: 0.835295\n",
      "[75]\tvalid_0's l2: 0.0668803\tvalid_0's auc: 0.83547\n",
      "[76]\tvalid_0's l2: 0.0668968\tvalid_0's auc: 0.835114\n",
      "[77]\tvalid_0's l2: 0.0668859\tvalid_0's auc: 0.835675\n",
      "[78]\tvalid_0's l2: 0.0668809\tvalid_0's auc: 0.835854\n",
      "[79]\tvalid_0's l2: 0.0668941\tvalid_0's auc: 0.835477\n",
      "[80]\tvalid_0's l2: 0.0668821\tvalid_0's auc: 0.835537\n",
      "[81]\tvalid_0's l2: 0.0669546\tvalid_0's auc: 0.835065\n",
      "[82]\tvalid_0's l2: 0.0669376\tvalid_0's auc: 0.835371\n",
      "[83]\tvalid_0's l2: 0.06697\tvalid_0's auc: 0.834984\n",
      "[84]\tvalid_0's l2: 0.0669818\tvalid_0's auc: 0.83487\n",
      "[85]\tvalid_0's l2: 0.0669072\tvalid_0's auc: 0.835398\n",
      "[86]\tvalid_0's l2: 0.0669367\tvalid_0's auc: 0.835175\n",
      "[87]\tvalid_0's l2: 0.066943\tvalid_0's auc: 0.835029\n",
      "[88]\tvalid_0's l2: 0.0669558\tvalid_0's auc: 0.834896\n",
      "[89]\tvalid_0's l2: 0.06695\tvalid_0's auc: 0.83503\n",
      "[90]\tvalid_0's l2: 0.0669358\tvalid_0's auc: 0.835225\n",
      "[91]\tvalid_0's l2: 0.06691\tvalid_0's auc: 0.835579\n",
      "[92]\tvalid_0's l2: 0.0669154\tvalid_0's auc: 0.83569\n",
      "[93]\tvalid_0's l2: 0.0669172\tvalid_0's auc: 0.835892\n",
      "[94]\tvalid_0's l2: 0.0668783\tvalid_0's auc: 0.836247\n",
      "[95]\tvalid_0's l2: 0.0668648\tvalid_0's auc: 0.836358\n",
      "[96]\tvalid_0's l2: 0.0668468\tvalid_0's auc: 0.836416\n",
      "[97]\tvalid_0's l2: 0.0668631\tvalid_0's auc: 0.836284\n",
      "[98]\tvalid_0's l2: 0.0668658\tvalid_0's auc: 0.83625\n",
      "[99]\tvalid_0's l2: 0.066859\tvalid_0's auc: 0.836275\n",
      "[100]\tvalid_0's l2: 0.0668631\tvalid_0's auc: 0.836113\n",
      "[101]\tvalid_0's l2: 0.0668615\tvalid_0's auc: 0.836151\n",
      "[102]\tvalid_0's l2: 0.0668008\tvalid_0's auc: 0.836649\n",
      "[103]\tvalid_0's l2: 0.0667728\tvalid_0's auc: 0.836895\n",
      "[104]\tvalid_0's l2: 0.066747\tvalid_0's auc: 0.837245\n",
      "[105]\tvalid_0's l2: 0.0667101\tvalid_0's auc: 0.837204\n",
      "[106]\tvalid_0's l2: 0.0667115\tvalid_0's auc: 0.836844\n",
      "[107]\tvalid_0's l2: 0.0666312\tvalid_0's auc: 0.83732\n",
      "[108]\tvalid_0's l2: 0.0666248\tvalid_0's auc: 0.837277\n",
      "[109]\tvalid_0's l2: 0.0666243\tvalid_0's auc: 0.837295\n",
      "[110]\tvalid_0's l2: 0.0666296\tvalid_0's auc: 0.837108\n",
      "[111]\tvalid_0's l2: 0.0666035\tvalid_0's auc: 0.837334\n",
      "[112]\tvalid_0's l2: 0.0666001\tvalid_0's auc: 0.837354\n",
      "[113]\tvalid_0's l2: 0.0665891\tvalid_0's auc: 0.837271\n",
      "[114]\tvalid_0's l2: 0.066579\tvalid_0's auc: 0.837267\n",
      "[115]\tvalid_0's l2: 0.0665961\tvalid_0's auc: 0.837143\n",
      "[116]\tvalid_0's l2: 0.0665992\tvalid_0's auc: 0.83717\n",
      "[117]\tvalid_0's l2: 0.0665972\tvalid_0's auc: 0.837302\n",
      "[118]\tvalid_0's l2: 0.0665964\tvalid_0's auc: 0.837411\n",
      "[119]\tvalid_0's l2: 0.066594\tvalid_0's auc: 0.837373\n",
      "[120]\tvalid_0's l2: 0.0665926\tvalid_0's auc: 0.837491\n",
      "[121]\tvalid_0's l2: 0.0665645\tvalid_0's auc: 0.837769\n",
      "[122]\tvalid_0's l2: 0.0665534\tvalid_0's auc: 0.83791\n",
      "[123]\tvalid_0's l2: 0.066531\tvalid_0's auc: 0.838232\n",
      "[124]\tvalid_0's l2: 0.066505\tvalid_0's auc: 0.838473\n",
      "[125]\tvalid_0's l2: 0.0665\tvalid_0's auc: 0.837384\n",
      "[126]\tvalid_0's l2: 0.0665034\tvalid_0's auc: 0.837472\n",
      "[127]\tvalid_0's l2: 0.0665094\tvalid_0's auc: 0.837509\n",
      "[128]\tvalid_0's l2: 0.0665153\tvalid_0's auc: 0.837549\n",
      "[129]\tvalid_0's l2: 0.0665122\tvalid_0's auc: 0.837537\n",
      "[130]\tvalid_0's l2: 0.0665053\tvalid_0's auc: 0.837654\n",
      "[131]\tvalid_0's l2: 0.0665372\tvalid_0's auc: 0.837475\n",
      "[132]\tvalid_0's l2: 0.0665486\tvalid_0's auc: 0.83742\n",
      "[133]\tvalid_0's l2: 0.0665607\tvalid_0's auc: 0.837451\n",
      "[134]\tvalid_0's l2: 0.0665669\tvalid_0's auc: 0.837483\n",
      "[135]\tvalid_0's l2: 0.0665528\tvalid_0's auc: 0.837454\n",
      "[136]\tvalid_0's l2: 0.0665669\tvalid_0's auc: 0.83725\n",
      "[137]\tvalid_0's l2: 0.0665711\tvalid_0's auc: 0.837095\n",
      "[138]\tvalid_0's l2: 0.0665843\tvalid_0's auc: 0.836806\n",
      "[139]\tvalid_0's l2: 0.0666077\tvalid_0's auc: 0.836495\n",
      "[140]\tvalid_0's l2: 0.0666162\tvalid_0's auc: 0.836401\n",
      "[141]\tvalid_0's l2: 0.0665812\tvalid_0's auc: 0.836576\n",
      "[142]\tvalid_0's l2: 0.0665888\tvalid_0's auc: 0.83661\n",
      "[143]\tvalid_0's l2: 0.0665901\tvalid_0's auc: 0.836719\n",
      "[144]\tvalid_0's l2: 0.0665901\tvalid_0's auc: 0.836687\n",
      "[145]\tvalid_0's l2: 0.0665869\tvalid_0's auc: 0.836778\n",
      "[146]\tvalid_0's l2: 0.0665905\tvalid_0's auc: 0.836732\n",
      "[147]\tvalid_0's l2: 0.0665945\tvalid_0's auc: 0.836677\n",
      "[148]\tvalid_0's l2: 0.0666131\tvalid_0's auc: 0.836587\n",
      "[149]\tvalid_0's l2: 0.0666355\tvalid_0's auc: 0.836432\n",
      "[150]\tvalid_0's l2: 0.0666489\tvalid_0's auc: 0.836342\n",
      "[151]\tvalid_0's l2: 0.0666572\tvalid_0's auc: 0.836295\n",
      "[152]\tvalid_0's l2: 0.0666489\tvalid_0's auc: 0.836287\n",
      "[153]\tvalid_0's l2: 0.0666579\tvalid_0's auc: 0.836266\n",
      "[154]\tvalid_0's l2: 0.0666626\tvalid_0's auc: 0.836339\n",
      "[155]\tvalid_0's l2: 0.0666707\tvalid_0's auc: 0.836274\n",
      "[156]\tvalid_0's l2: 0.0666785\tvalid_0's auc: 0.83622\n",
      "[157]\tvalid_0's l2: 0.0666757\tvalid_0's auc: 0.836135\n",
      "[158]\tvalid_0's l2: 0.0666864\tvalid_0's auc: 0.835862\n",
      "[159]\tvalid_0's l2: 0.0666859\tvalid_0's auc: 0.835849\n",
      "[160]\tvalid_0's l2: 0.0666877\tvalid_0's auc: 0.835796\n",
      "[161]\tvalid_0's l2: 0.0666974\tvalid_0's auc: 0.835769\n",
      "[162]\tvalid_0's l2: 0.0666972\tvalid_0's auc: 0.83581\n",
      "[163]\tvalid_0's l2: 0.0666958\tvalid_0's auc: 0.835809\n",
      "[164]\tvalid_0's l2: 0.0666935\tvalid_0's auc: 0.835991\n",
      "[165]\tvalid_0's l2: 0.0666826\tvalid_0's auc: 0.836072\n",
      "[166]\tvalid_0's l2: 0.0666789\tvalid_0's auc: 0.836098\n",
      "[167]\tvalid_0's l2: 0.0666826\tvalid_0's auc: 0.836102\n",
      "[168]\tvalid_0's l2: 0.066699\tvalid_0's auc: 0.835909\n",
      "[169]\tvalid_0's l2: 0.0666944\tvalid_0's auc: 0.835792\n",
      "[170]\tvalid_0's l2: 0.0667076\tvalid_0's auc: 0.835783\n",
      "[171]\tvalid_0's l2: 0.0667509\tvalid_0's auc: 0.83549\n",
      "[172]\tvalid_0's l2: 0.0667625\tvalid_0's auc: 0.835442\n",
      "[173]\tvalid_0's l2: 0.0667607\tvalid_0's auc: 0.835547\n",
      "[174]\tvalid_0's l2: 0.0667614\tvalid_0's auc: 0.835542\n",
      "[175]\tvalid_0's l2: 0.0667534\tvalid_0's auc: 0.835592\n",
      "[176]\tvalid_0's l2: 0.0667494\tvalid_0's auc: 0.835583\n",
      "[177]\tvalid_0's l2: 0.0667414\tvalid_0's auc: 0.835721\n",
      "[178]\tvalid_0's l2: 0.0667216\tvalid_0's auc: 0.836075\n",
      "[179]\tvalid_0's l2: 0.0667157\tvalid_0's auc: 0.836014\n",
      "[180]\tvalid_0's l2: 0.0667008\tvalid_0's auc: 0.836077\n",
      "[181]\tvalid_0's l2: 0.0667122\tvalid_0's auc: 0.835923\n",
      "[182]\tvalid_0's l2: 0.0667151\tvalid_0's auc: 0.835925\n",
      "[183]\tvalid_0's l2: 0.0667142\tvalid_0's auc: 0.836099\n",
      "[184]\tvalid_0's l2: 0.0667216\tvalid_0's auc: 0.836073\n",
      "[185]\tvalid_0's l2: 0.0667361\tvalid_0's auc: 0.836051\n",
      "[186]\tvalid_0's l2: 0.0667359\tvalid_0's auc: 0.836036\n",
      "[187]\tvalid_0's l2: 0.0667313\tvalid_0's auc: 0.836151\n",
      "[188]\tvalid_0's l2: 0.0667359\tvalid_0's auc: 0.836112\n",
      "[189]\tvalid_0's l2: 0.0667654\tvalid_0's auc: 0.835966\n",
      "[190]\tvalid_0's l2: 0.0667875\tvalid_0's auc: 0.835819\n",
      "[191]\tvalid_0's l2: 0.0667745\tvalid_0's auc: 0.836114\n",
      "[192]\tvalid_0's l2: 0.0667717\tvalid_0's auc: 0.836162\n",
      "[193]\tvalid_0's l2: 0.0667627\tvalid_0's auc: 0.836016\n",
      "[194]\tvalid_0's l2: 0.0667568\tvalid_0's auc: 0.83589\n",
      "[195]\tvalid_0's l2: 0.0667456\tvalid_0's auc: 0.836213\n",
      "[196]\tvalid_0's l2: 0.0667406\tvalid_0's auc: 0.836283\n",
      "[197]\tvalid_0's l2: 0.0667493\tvalid_0's auc: 0.83636\n",
      "[198]\tvalid_0's l2: 0.0667543\tvalid_0's auc: 0.836436\n",
      "[199]\tvalid_0's l2: 0.066767\tvalid_0's auc: 0.836359\n",
      "[200]\tvalid_0's l2: 0.0667809\tvalid_0's auc: 0.836339\n",
      "[201]\tvalid_0's l2: 0.0667677\tvalid_0's auc: 0.836465\n",
      "[202]\tvalid_0's l2: 0.0667667\tvalid_0's auc: 0.836589\n",
      "[203]\tvalid_0's l2: 0.0667287\tvalid_0's auc: 0.837274\n",
      "[204]\tvalid_0's l2: 0.0667615\tvalid_0's auc: 0.837122\n",
      "[205]\tvalid_0's l2: 0.0667584\tvalid_0's auc: 0.837165\n",
      "[206]\tvalid_0's l2: 0.066766\tvalid_0's auc: 0.837194\n",
      "[207]\tvalid_0's l2: 0.0667672\tvalid_0's auc: 0.837146\n",
      "[208]\tvalid_0's l2: 0.066783\tvalid_0's auc: 0.837157\n",
      "[209]\tvalid_0's l2: 0.0667739\tvalid_0's auc: 0.837078\n",
      "[210]\tvalid_0's l2: 0.0667489\tvalid_0's auc: 0.83822\n",
      "[211]\tvalid_0's l2: 0.0667906\tvalid_0's auc: 0.837692\n",
      "[212]\tvalid_0's l2: 0.0667914\tvalid_0's auc: 0.83756\n",
      "[213]\tvalid_0's l2: 0.0667872\tvalid_0's auc: 0.837505\n",
      "[214]\tvalid_0's l2: 0.0668115\tvalid_0's auc: 0.837256\n",
      "[215]\tvalid_0's l2: 0.0668121\tvalid_0's auc: 0.837144\n",
      "[216]\tvalid_0's l2: 0.0668039\tvalid_0's auc: 0.837225\n",
      "[217]\tvalid_0's l2: 0.0668137\tvalid_0's auc: 0.83718\n",
      "[218]\tvalid_0's l2: 0.0668103\tvalid_0's auc: 0.83709\n",
      "[219]\tvalid_0's l2: 0.066803\tvalid_0's auc: 0.837225\n",
      "[220]\tvalid_0's l2: 0.0667922\tvalid_0's auc: 0.837487\n",
      "[221]\tvalid_0's l2: 0.0668176\tvalid_0's auc: 0.8372\n",
      "[222]\tvalid_0's l2: 0.0668162\tvalid_0's auc: 0.837187\n",
      "[223]\tvalid_0's l2: 0.066887\tvalid_0's auc: 0.836715\n",
      "[224]\tvalid_0's l2: 0.0668906\tvalid_0's auc: 0.836706\n",
      "Early stopping, best iteration is:\n",
      "[124]\tvalid_0's l2: 0.066505\tvalid_0's auc: 0.838473\n"
     ]
    }
   ],
   "source": [
    "params = {\n",
    "    'task': 'train',\n",
    "    'boosting_type': 'gbdt',        # 设置提升类型\n",
    "    'objective': 'binary',          # 目标函数\n",
    "    'metric': {'l2', 'auc'},        # 评估函数\n",
    "    'num_leaves': 63,               # 叶子节点数\n",
    "    'learning_rate': 0.05,          # 学习率\n",
    "    'feature_fraction': 0.9,        # 建树的特征选择比例\n",
    "    'bagging_fraction': 0.8,        # 建树的样本采样比例\n",
    "    'bagging_freq': 5,              # 每 bagging_freq 次迭代执行bagging\n",
    "    'verbose': 1,                   # 提示\n",
    "}\n",
    "\n",
    "print(len(valid_set))\n",
    "print(valid_set.Date_received.describe())\n",
    "print()\n",
    "print(train_set.Date_received.describe())\n",
    "# 评价筛选后的特征\n",
    "model_m = train_model(valid_set, train_set.sample(frac=1).iloc[:30000, :], important_cols, num_boost_round=2000, stopping_round=100, par=params)"
   ],
   "metadata": {
    "collapsed": false,
    "pycharm": {
     "name": "#%%\n"
    }
   }
  },
  {
   "cell_type": "code",
   "execution_count": 389,
   "outputs": [
    {
     "data": {
      "text/plain": "                                                    importance\nself_1_Date_received_discount_rate-std                      68\nday                                                         56\nself_1_Coupon_id-Date_received_Distance-mean                73\nself_1_Coupon_id-Date_received_Distance-std                 71\nself_1_Coupon_id_Distance-mean                             122\n...                                                        ...\nself_1_User_id-Merchant_id-Date_received_discou...          20\nself_1_User_id-Merchant_id-Date_received_discou...          19\noff2_1_User_id_discount_x-max                                6\nself_1_User_id-Merchant_id_discount_y-max                    6\nself_1_Coupon_id-Merchant_id_Distance-mean                   5\n\n[200 rows x 1 columns]",
      "text/html": "<div>\n<style scoped>\n    .dataframe tbody tr th:only-of-type {\n        vertical-align: middle;\n    }\n\n    .dataframe tbody tr th {\n        vertical-align: top;\n    }\n\n    .dataframe thead th {\n        text-align: right;\n    }\n</style>\n<table border=\"1\" class=\"dataframe\">\n  <thead>\n    <tr style=\"text-align: right;\">\n      <th></th>\n      <th>importance</th>\n    </tr>\n  </thead>\n  <tbody>\n    <tr>\n      <th>self_1_Date_received_discount_rate-std</th>\n      <td>68</td>\n    </tr>\n    <tr>\n      <th>day</th>\n      <td>56</td>\n    </tr>\n    <tr>\n      <th>self_1_Coupon_id-Date_received_Distance-mean</th>\n      <td>73</td>\n    </tr>\n    <tr>\n      <th>self_1_Coupon_id-Date_received_Distance-std</th>\n      <td>71</td>\n    </tr>\n    <tr>\n      <th>self_1_Coupon_id_Distance-mean</th>\n      <td>122</td>\n    </tr>\n    <tr>\n      <th>...</th>\n      <td>...</td>\n    </tr>\n    <tr>\n      <th>self_1_User_id-Merchant_id-Date_received_discount_x-mean</th>\n      <td>20</td>\n    </tr>\n    <tr>\n      <th>self_1_User_id-Merchant_id-Date_received_discount_y-std</th>\n      <td>19</td>\n    </tr>\n    <tr>\n      <th>off2_1_User_id_discount_x-max</th>\n      <td>6</td>\n    </tr>\n    <tr>\n      <th>self_1_User_id-Merchant_id_discount_y-max</th>\n      <td>6</td>\n    </tr>\n    <tr>\n      <th>self_1_Coupon_id-Merchant_id_Distance-mean</th>\n      <td>5</td>\n    </tr>\n  </tbody>\n</table>\n<p>200 rows × 1 columns</p>\n</div>"
     },
     "execution_count": 389,
     "metadata": {},
     "output_type": "execute_result"
    }
   ],
   "source": [
    "importance_m = pd.DataFrame(model_m.feature_importance(), index=model_m.feature_name(), columns=['importance'])\n",
    "importance_m"
   ],
   "metadata": {
    "collapsed": false,
    "pycharm": {
     "name": "#%%\n"
    }
   }
  },
  {
   "cell_type": "code",
   "execution_count": 390,
   "outputs": [
    {
     "data": {
      "text/plain": "[]"
     },
     "execution_count": 390,
     "metadata": {},
     "output_type": "execute_result"
    }
   ],
   "source": [
    "bad_cols = list(importance_m[importance_m.importance < 5].index)\n",
    "bad_cols"
   ],
   "metadata": {
    "collapsed": false,
    "pycharm": {
     "name": "#%%\n"
    }
   }
  },
  {
   "cell_type": "code",
   "execution_count": 411,
   "outputs": [
    {
     "name": "stdout",
     "output_type": "stream",
     "text": [
      "Start training...\n",
      "[LightGBM] [Info] Number of positive: 32118, number of negative: 358771\n",
      "[LightGBM] [Warning] Auto-choosing row-wise multi-threading, the overhead of testing was 0.075431 seconds.\n",
      "You can set `force_row_wise=true` to remove the overhead.\n",
      "And if memory is not enough, you can set `force_col_wise=true`.\n",
      "[LightGBM] [Info] Total Bins 25492\n",
      "[LightGBM] [Info] Number of data points in the train set: 390889, number of used features: 200\n",
      "[LightGBM] [Info] [binary:BoostFromScore]: pavg=0.082167 -> initscore=-2.413268\n",
      "[LightGBM] [Info] Start training from score -2.413268\n",
      "[1]\tvalid_0's l2: 0.073326\tvalid_0's auc: 0.855498\n",
      "Training until validation scores don't improve for 10 rounds\n",
      "[2]\tvalid_0's l2: 0.0715112\tvalid_0's auc: 0.868946\n",
      "[3]\tvalid_0's l2: 0.0698904\tvalid_0's auc: 0.876297\n",
      "[4]\tvalid_0's l2: 0.0684274\tvalid_0's auc: 0.877749\n",
      "[5]\tvalid_0's l2: 0.0670845\tvalid_0's auc: 0.879005\n",
      "[6]\tvalid_0's l2: 0.0658617\tvalid_0's auc: 0.881281\n",
      "[7]\tvalid_0's l2: 0.0647729\tvalid_0's auc: 0.882739\n",
      "[8]\tvalid_0's l2: 0.0637788\tvalid_0's auc: 0.883831\n",
      "[9]\tvalid_0's l2: 0.062872\tvalid_0's auc: 0.884203\n",
      "[10]\tvalid_0's l2: 0.0620336\tvalid_0's auc: 0.885135\n",
      "[11]\tvalid_0's l2: 0.0612805\tvalid_0's auc: 0.885575\n",
      "[12]\tvalid_0's l2: 0.0606007\tvalid_0's auc: 0.886237\n",
      "[13]\tvalid_0's l2: 0.0599807\tvalid_0's auc: 0.886505\n",
      "[14]\tvalid_0's l2: 0.0593888\tvalid_0's auc: 0.887107\n",
      "[15]\tvalid_0's l2: 0.0588622\tvalid_0's auc: 0.887595\n",
      "[16]\tvalid_0's l2: 0.0583626\tvalid_0's auc: 0.88847\n",
      "[17]\tvalid_0's l2: 0.0578965\tvalid_0's auc: 0.889007\n",
      "[18]\tvalid_0's l2: 0.0574308\tvalid_0's auc: 0.889882\n",
      "[19]\tvalid_0's l2: 0.0570115\tvalid_0's auc: 0.89055\n",
      "[20]\tvalid_0's l2: 0.0566437\tvalid_0's auc: 0.891059\n",
      "[21]\tvalid_0's l2: 0.056283\tvalid_0's auc: 0.891725\n",
      "[22]\tvalid_0's l2: 0.0559471\tvalid_0's auc: 0.892214\n",
      "[23]\tvalid_0's l2: 0.0556468\tvalid_0's auc: 0.892557\n",
      "[24]\tvalid_0's l2: 0.055353\tvalid_0's auc: 0.892946\n",
      "[25]\tvalid_0's l2: 0.0550928\tvalid_0's auc: 0.893324\n",
      "[26]\tvalid_0's l2: 0.0548653\tvalid_0's auc: 0.893794\n",
      "[27]\tvalid_0's l2: 0.0546559\tvalid_0's auc: 0.894159\n",
      "[28]\tvalid_0's l2: 0.0544499\tvalid_0's auc: 0.894465\n",
      "[29]\tvalid_0's l2: 0.0542521\tvalid_0's auc: 0.894818\n",
      "[30]\tvalid_0's l2: 0.0540619\tvalid_0's auc: 0.895087\n",
      "[31]\tvalid_0's l2: 0.0538758\tvalid_0's auc: 0.89548\n",
      "[32]\tvalid_0's l2: 0.0537047\tvalid_0's auc: 0.895724\n",
      "[33]\tvalid_0's l2: 0.0535364\tvalid_0's auc: 0.895938\n",
      "[34]\tvalid_0's l2: 0.0533915\tvalid_0's auc: 0.896163\n",
      "[35]\tvalid_0's l2: 0.0532544\tvalid_0's auc: 0.896379\n",
      "[36]\tvalid_0's l2: 0.0531237\tvalid_0's auc: 0.896649\n",
      "[37]\tvalid_0's l2: 0.0529974\tvalid_0's auc: 0.896979\n",
      "[38]\tvalid_0's l2: 0.0528843\tvalid_0's auc: 0.897195\n",
      "[39]\tvalid_0's l2: 0.0527747\tvalid_0's auc: 0.897366\n",
      "[40]\tvalid_0's l2: 0.0526756\tvalid_0's auc: 0.897544\n",
      "[41]\tvalid_0's l2: 0.0525758\tvalid_0's auc: 0.89772\n",
      "[42]\tvalid_0's l2: 0.0524871\tvalid_0's auc: 0.897946\n",
      "[43]\tvalid_0's l2: 0.0523965\tvalid_0's auc: 0.898155\n",
      "[44]\tvalid_0's l2: 0.0523201\tvalid_0's auc: 0.898393\n",
      "[45]\tvalid_0's l2: 0.052238\tvalid_0's auc: 0.898577\n",
      "[46]\tvalid_0's l2: 0.052158\tvalid_0's auc: 0.898782\n",
      "[47]\tvalid_0's l2: 0.0520799\tvalid_0's auc: 0.899047\n",
      "[48]\tvalid_0's l2: 0.0520072\tvalid_0's auc: 0.899303\n",
      "[49]\tvalid_0's l2: 0.0519388\tvalid_0's auc: 0.899533\n",
      "[50]\tvalid_0's l2: 0.0518724\tvalid_0's auc: 0.899743\n",
      "[51]\tvalid_0's l2: 0.0517944\tvalid_0's auc: 0.90003\n",
      "[52]\tvalid_0's l2: 0.0517247\tvalid_0's auc: 0.900194\n",
      "[53]\tvalid_0's l2: 0.0516572\tvalid_0's auc: 0.900428\n",
      "[54]\tvalid_0's l2: 0.0515856\tvalid_0's auc: 0.900613\n",
      "[55]\tvalid_0's l2: 0.0515133\tvalid_0's auc: 0.900945\n",
      "[56]\tvalid_0's l2: 0.051459\tvalid_0's auc: 0.901214\n",
      "[57]\tvalid_0's l2: 0.0514004\tvalid_0's auc: 0.901387\n",
      "[58]\tvalid_0's l2: 0.0513349\tvalid_0's auc: 0.901598\n",
      "[59]\tvalid_0's l2: 0.0512867\tvalid_0's auc: 0.901749\n",
      "[60]\tvalid_0's l2: 0.0512369\tvalid_0's auc: 0.901962\n",
      "[61]\tvalid_0's l2: 0.051179\tvalid_0's auc: 0.902117\n",
      "[62]\tvalid_0's l2: 0.0511354\tvalid_0's auc: 0.902323\n",
      "[63]\tvalid_0's l2: 0.0510835\tvalid_0's auc: 0.902474\n",
      "[64]\tvalid_0's l2: 0.0510429\tvalid_0's auc: 0.902663\n",
      "[65]\tvalid_0's l2: 0.0509866\tvalid_0's auc: 0.902895\n",
      "[66]\tvalid_0's l2: 0.0509397\tvalid_0's auc: 0.90317\n",
      "[67]\tvalid_0's l2: 0.0508909\tvalid_0's auc: 0.903366\n",
      "[68]\tvalid_0's l2: 0.0508392\tvalid_0's auc: 0.90354\n",
      "[69]\tvalid_0's l2: 0.050794\tvalid_0's auc: 0.903738\n",
      "[70]\tvalid_0's l2: 0.0507352\tvalid_0's auc: 0.903919\n",
      "[71]\tvalid_0's l2: 0.0506869\tvalid_0's auc: 0.904141\n",
      "[72]\tvalid_0's l2: 0.0506404\tvalid_0's auc: 0.904362\n",
      "[73]\tvalid_0's l2: 0.050591\tvalid_0's auc: 0.904541\n",
      "[74]\tvalid_0's l2: 0.0505511\tvalid_0's auc: 0.904721\n",
      "[75]\tvalid_0's l2: 0.0505098\tvalid_0's auc: 0.90493\n",
      "[76]\tvalid_0's l2: 0.0504657\tvalid_0's auc: 0.905128\n",
      "[77]\tvalid_0's l2: 0.0504156\tvalid_0's auc: 0.905283\n",
      "[78]\tvalid_0's l2: 0.0503737\tvalid_0's auc: 0.90545\n",
      "[79]\tvalid_0's l2: 0.050334\tvalid_0's auc: 0.905626\n",
      "[80]\tvalid_0's l2: 0.0502982\tvalid_0's auc: 0.905855\n",
      "[81]\tvalid_0's l2: 0.0502548\tvalid_0's auc: 0.906075\n",
      "[82]\tvalid_0's l2: 0.0502157\tvalid_0's auc: 0.906239\n",
      "[83]\tvalid_0's l2: 0.0501801\tvalid_0's auc: 0.906399\n",
      "[84]\tvalid_0's l2: 0.0501466\tvalid_0's auc: 0.906596\n",
      "[85]\tvalid_0's l2: 0.0501041\tvalid_0's auc: 0.906756\n",
      "[86]\tvalid_0's l2: 0.05006\tvalid_0's auc: 0.906931\n",
      "[87]\tvalid_0's l2: 0.0500197\tvalid_0's auc: 0.907058\n",
      "[88]\tvalid_0's l2: 0.0499814\tvalid_0's auc: 0.907239\n",
      "[89]\tvalid_0's l2: 0.0499409\tvalid_0's auc: 0.907395\n",
      "[90]\tvalid_0's l2: 0.0499017\tvalid_0's auc: 0.907555\n",
      "[91]\tvalid_0's l2: 0.0498561\tvalid_0's auc: 0.907678\n",
      "[92]\tvalid_0's l2: 0.0498181\tvalid_0's auc: 0.907796\n",
      "[93]\tvalid_0's l2: 0.0497714\tvalid_0's auc: 0.907903\n",
      "[94]\tvalid_0's l2: 0.0497399\tvalid_0's auc: 0.908076\n",
      "[95]\tvalid_0's l2: 0.0497024\tvalid_0's auc: 0.908231\n",
      "[96]\tvalid_0's l2: 0.0496549\tvalid_0's auc: 0.908369\n",
      "[97]\tvalid_0's l2: 0.0496252\tvalid_0's auc: 0.908487\n",
      "[98]\tvalid_0's l2: 0.049595\tvalid_0's auc: 0.908655\n",
      "[99]\tvalid_0's l2: 0.0495535\tvalid_0's auc: 0.908814\n",
      "[100]\tvalid_0's l2: 0.049521\tvalid_0's auc: 0.908966\n",
      "[101]\tvalid_0's l2: 0.0494856\tvalid_0's auc: 0.909122\n",
      "[102]\tvalid_0's l2: 0.0494447\tvalid_0's auc: 0.909287\n",
      "[103]\tvalid_0's l2: 0.0494096\tvalid_0's auc: 0.909428\n",
      "[104]\tvalid_0's l2: 0.0493705\tvalid_0's auc: 0.909537\n",
      "[105]\tvalid_0's l2: 0.0493445\tvalid_0's auc: 0.909703\n",
      "[106]\tvalid_0's l2: 0.0493195\tvalid_0's auc: 0.909904\n",
      "[107]\tvalid_0's l2: 0.0492956\tvalid_0's auc: 0.910088\n",
      "[108]\tvalid_0's l2: 0.0492598\tvalid_0's auc: 0.910259\n",
      "[109]\tvalid_0's l2: 0.0492315\tvalid_0's auc: 0.910387\n",
      "[110]\tvalid_0's l2: 0.0492008\tvalid_0's auc: 0.910526\n",
      "[111]\tvalid_0's l2: 0.04917\tvalid_0's auc: 0.910671\n",
      "[112]\tvalid_0's l2: 0.0491372\tvalid_0's auc: 0.910814\n",
      "[113]\tvalid_0's l2: 0.0491034\tvalid_0's auc: 0.910921\n",
      "[114]\tvalid_0's l2: 0.0490718\tvalid_0's auc: 0.911051\n",
      "[115]\tvalid_0's l2: 0.0490461\tvalid_0's auc: 0.91125\n",
      "[116]\tvalid_0's l2: 0.0490061\tvalid_0's auc: 0.91137\n",
      "[117]\tvalid_0's l2: 0.0489721\tvalid_0's auc: 0.911466\n",
      "[118]\tvalid_0's l2: 0.0489319\tvalid_0's auc: 0.911547\n",
      "[119]\tvalid_0's l2: 0.0488959\tvalid_0's auc: 0.91165\n",
      "[120]\tvalid_0's l2: 0.0488601\tvalid_0's auc: 0.91173\n",
      "[121]\tvalid_0's l2: 0.0488375\tvalid_0's auc: 0.911887\n",
      "[122]\tvalid_0's l2: 0.048812\tvalid_0's auc: 0.912019\n",
      "[123]\tvalid_0's l2: 0.0487876\tvalid_0's auc: 0.912144\n",
      "[124]\tvalid_0's l2: 0.0487557\tvalid_0's auc: 0.912241\n",
      "[125]\tvalid_0's l2: 0.0487336\tvalid_0's auc: 0.912413\n",
      "[126]\tvalid_0's l2: 0.0487112\tvalid_0's auc: 0.912551\n",
      "[127]\tvalid_0's l2: 0.048687\tvalid_0's auc: 0.91269\n",
      "[128]\tvalid_0's l2: 0.0486616\tvalid_0's auc: 0.912807\n",
      "[129]\tvalid_0's l2: 0.0486446\tvalid_0's auc: 0.912991\n",
      "[130]\tvalid_0's l2: 0.0486133\tvalid_0's auc: 0.913091\n",
      "[131]\tvalid_0's l2: 0.0485822\tvalid_0's auc: 0.913221\n",
      "[132]\tvalid_0's l2: 0.0485625\tvalid_0's auc: 0.913356\n",
      "[133]\tvalid_0's l2: 0.0485382\tvalid_0's auc: 0.91352\n",
      "[134]\tvalid_0's l2: 0.0485111\tvalid_0's auc: 0.913656\n",
      "[135]\tvalid_0's l2: 0.048482\tvalid_0's auc: 0.913776\n",
      "[136]\tvalid_0's l2: 0.0484631\tvalid_0's auc: 0.913954\n",
      "[137]\tvalid_0's l2: 0.0484413\tvalid_0's auc: 0.914099\n",
      "[138]\tvalid_0's l2: 0.0484225\tvalid_0's auc: 0.914223\n",
      "[139]\tvalid_0's l2: 0.0484069\tvalid_0's auc: 0.91434\n",
      "[140]\tvalid_0's l2: 0.0483836\tvalid_0's auc: 0.914454\n",
      "[141]\tvalid_0's l2: 0.0483613\tvalid_0's auc: 0.914565\n",
      "[142]\tvalid_0's l2: 0.0483399\tvalid_0's auc: 0.914694\n",
      "[143]\tvalid_0's l2: 0.0483205\tvalid_0's auc: 0.914843\n",
      "[144]\tvalid_0's l2: 0.0483054\tvalid_0's auc: 0.914965\n",
      "[145]\tvalid_0's l2: 0.048269\tvalid_0's auc: 0.915049\n",
      "[146]\tvalid_0's l2: 0.0482458\tvalid_0's auc: 0.915226\n",
      "[147]\tvalid_0's l2: 0.0482207\tvalid_0's auc: 0.915339\n",
      "[148]\tvalid_0's l2: 0.0481962\tvalid_0's auc: 0.915479\n",
      "[149]\tvalid_0's l2: 0.0481795\tvalid_0's auc: 0.915647\n",
      "[150]\tvalid_0's l2: 0.0481492\tvalid_0's auc: 0.915744\n",
      "[151]\tvalid_0's l2: 0.0481252\tvalid_0's auc: 0.915842\n",
      "[152]\tvalid_0's l2: 0.0480938\tvalid_0's auc: 0.915933\n",
      "[153]\tvalid_0's l2: 0.0480675\tvalid_0's auc: 0.916027\n",
      "[154]\tvalid_0's l2: 0.0480478\tvalid_0's auc: 0.916114\n",
      "[155]\tvalid_0's l2: 0.0480246\tvalid_0's auc: 0.916204\n",
      "[156]\tvalid_0's l2: 0.0479993\tvalid_0's auc: 0.916347\n",
      "[157]\tvalid_0's l2: 0.0479621\tvalid_0's auc: 0.91643\n",
      "[158]\tvalid_0's l2: 0.0479338\tvalid_0's auc: 0.91652\n",
      "[159]\tvalid_0's l2: 0.047918\tvalid_0's auc: 0.916682\n",
      "[160]\tvalid_0's l2: 0.0478888\tvalid_0's auc: 0.916801\n",
      "[161]\tvalid_0's l2: 0.0478599\tvalid_0's auc: 0.916897\n",
      "[162]\tvalid_0's l2: 0.0478319\tvalid_0's auc: 0.916991\n",
      "[163]\tvalid_0's l2: 0.0478052\tvalid_0's auc: 0.917064\n",
      "[164]\tvalid_0's l2: 0.0477896\tvalid_0's auc: 0.917171\n",
      "[165]\tvalid_0's l2: 0.0477656\tvalid_0's auc: 0.917303\n",
      "[166]\tvalid_0's l2: 0.0477435\tvalid_0's auc: 0.917453\n",
      "[167]\tvalid_0's l2: 0.0477203\tvalid_0's auc: 0.917562\n",
      "[168]\tvalid_0's l2: 0.0476936\tvalid_0's auc: 0.917695\n",
      "[169]\tvalid_0's l2: 0.047673\tvalid_0's auc: 0.917805\n",
      "[170]\tvalid_0's l2: 0.0476576\tvalid_0's auc: 0.917933\n",
      "[171]\tvalid_0's l2: 0.0476325\tvalid_0's auc: 0.918058\n",
      "[172]\tvalid_0's l2: 0.0476149\tvalid_0's auc: 0.918193\n",
      "[173]\tvalid_0's l2: 0.0475773\tvalid_0's auc: 0.9183\n",
      "[174]\tvalid_0's l2: 0.047559\tvalid_0's auc: 0.918438\n",
      "[175]\tvalid_0's l2: 0.0475351\tvalid_0's auc: 0.918539\n",
      "[176]\tvalid_0's l2: 0.0475127\tvalid_0's auc: 0.918664\n",
      "[177]\tvalid_0's l2: 0.0474919\tvalid_0's auc: 0.918752\n",
      "[178]\tvalid_0's l2: 0.0474725\tvalid_0's auc: 0.918859\n",
      "[179]\tvalid_0's l2: 0.0474526\tvalid_0's auc: 0.918958\n",
      "[180]\tvalid_0's l2: 0.047428\tvalid_0's auc: 0.919049\n",
      "[181]\tvalid_0's l2: 0.047397\tvalid_0's auc: 0.919156\n",
      "[182]\tvalid_0's l2: 0.047376\tvalid_0's auc: 0.919284\n",
      "[183]\tvalid_0's l2: 0.0473549\tvalid_0's auc: 0.919393\n",
      "[184]\tvalid_0's l2: 0.0473333\tvalid_0's auc: 0.919492\n",
      "[185]\tvalid_0's l2: 0.0473133\tvalid_0's auc: 0.919606\n",
      "[186]\tvalid_0's l2: 0.0472934\tvalid_0's auc: 0.919708\n",
      "[187]\tvalid_0's l2: 0.0472686\tvalid_0's auc: 0.919803\n",
      "[188]\tvalid_0's l2: 0.047243\tvalid_0's auc: 0.919885\n",
      "[189]\tvalid_0's l2: 0.0472222\tvalid_0's auc: 0.919987\n",
      "[190]\tvalid_0's l2: 0.0471954\tvalid_0's auc: 0.920076\n",
      "[191]\tvalid_0's l2: 0.0471634\tvalid_0's auc: 0.920145\n",
      "[192]\tvalid_0's l2: 0.0471324\tvalid_0's auc: 0.920219\n",
      "[193]\tvalid_0's l2: 0.0471049\tvalid_0's auc: 0.920299\n",
      "[194]\tvalid_0's l2: 0.0470741\tvalid_0's auc: 0.920402\n",
      "[195]\tvalid_0's l2: 0.0470497\tvalid_0's auc: 0.920466\n",
      "[196]\tvalid_0's l2: 0.0470277\tvalid_0's auc: 0.920538\n",
      "[197]\tvalid_0's l2: 0.0470052\tvalid_0's auc: 0.920605\n",
      "[198]\tvalid_0's l2: 0.0469788\tvalid_0's auc: 0.920658\n",
      "[199]\tvalid_0's l2: 0.0469577\tvalid_0's auc: 0.920765\n",
      "[200]\tvalid_0's l2: 0.0469332\tvalid_0's auc: 0.920812\n",
      "[201]\tvalid_0's l2: 0.0469018\tvalid_0's auc: 0.920873\n",
      "[202]\tvalid_0's l2: 0.0468738\tvalid_0's auc: 0.920937\n",
      "[203]\tvalid_0's l2: 0.0468466\tvalid_0's auc: 0.921007\n",
      "[204]\tvalid_0's l2: 0.0468205\tvalid_0's auc: 0.921062\n",
      "[205]\tvalid_0's l2: 0.0467948\tvalid_0's auc: 0.921154\n",
      "[206]\tvalid_0's l2: 0.0467695\tvalid_0's auc: 0.921277\n",
      "[207]\tvalid_0's l2: 0.0467475\tvalid_0's auc: 0.921387\n",
      "[208]\tvalid_0's l2: 0.04672\tvalid_0's auc: 0.921488\n",
      "[209]\tvalid_0's l2: 0.0466991\tvalid_0's auc: 0.921575\n",
      "[210]\tvalid_0's l2: 0.0466792\tvalid_0's auc: 0.921665\n",
      "[211]\tvalid_0's l2: 0.0466583\tvalid_0's auc: 0.921802\n",
      "[212]\tvalid_0's l2: 0.0466431\tvalid_0's auc: 0.921897\n",
      "[213]\tvalid_0's l2: 0.0466259\tvalid_0's auc: 0.921991\n",
      "[214]\tvalid_0's l2: 0.0466105\tvalid_0's auc: 0.922063\n",
      "[215]\tvalid_0's l2: 0.046593\tvalid_0's auc: 0.922143\n",
      "[216]\tvalid_0's l2: 0.0465726\tvalid_0's auc: 0.922231\n",
      "[217]\tvalid_0's l2: 0.0465546\tvalid_0's auc: 0.92232\n",
      "[218]\tvalid_0's l2: 0.0465391\tvalid_0's auc: 0.922431\n",
      "[219]\tvalid_0's l2: 0.0465201\tvalid_0's auc: 0.922504\n",
      "[220]\tvalid_0's l2: 0.0465022\tvalid_0's auc: 0.922595\n",
      "[221]\tvalid_0's l2: 0.0464805\tvalid_0's auc: 0.922755\n",
      "[222]\tvalid_0's l2: 0.0464596\tvalid_0's auc: 0.922868\n",
      "[223]\tvalid_0's l2: 0.0464434\tvalid_0's auc: 0.923003\n",
      "[224]\tvalid_0's l2: 0.0464225\tvalid_0's auc: 0.923109\n",
      "[225]\tvalid_0's l2: 0.0464017\tvalid_0's auc: 0.923249\n",
      "[226]\tvalid_0's l2: 0.0463789\tvalid_0's auc: 0.923305\n",
      "[227]\tvalid_0's l2: 0.0463583\tvalid_0's auc: 0.92342\n",
      "[228]\tvalid_0's l2: 0.0463393\tvalid_0's auc: 0.923499\n",
      "[229]\tvalid_0's l2: 0.046317\tvalid_0's auc: 0.923629\n",
      "[230]\tvalid_0's l2: 0.0463\tvalid_0's auc: 0.923727\n",
      "[231]\tvalid_0's l2: 0.0462798\tvalid_0's auc: 0.923805\n",
      "[232]\tvalid_0's l2: 0.0462612\tvalid_0's auc: 0.923884\n",
      "[233]\tvalid_0's l2: 0.0462402\tvalid_0's auc: 0.92397\n",
      "[234]\tvalid_0's l2: 0.0462173\tvalid_0's auc: 0.924024\n",
      "[235]\tvalid_0's l2: 0.0461959\tvalid_0's auc: 0.92411\n",
      "[236]\tvalid_0's l2: 0.0461714\tvalid_0's auc: 0.924201\n",
      "[237]\tvalid_0's l2: 0.0461548\tvalid_0's auc: 0.924272\n",
      "[238]\tvalid_0's l2: 0.0461407\tvalid_0's auc: 0.924348\n",
      "[239]\tvalid_0's l2: 0.046125\tvalid_0's auc: 0.924424\n",
      "[240]\tvalid_0's l2: 0.0461082\tvalid_0's auc: 0.924506\n",
      "[241]\tvalid_0's l2: 0.0460907\tvalid_0's auc: 0.924595\n",
      "[242]\tvalid_0's l2: 0.0460719\tvalid_0's auc: 0.924695\n",
      "[243]\tvalid_0's l2: 0.0460548\tvalid_0's auc: 0.92478\n",
      "[244]\tvalid_0's l2: 0.0460286\tvalid_0's auc: 0.924855\n",
      "[245]\tvalid_0's l2: 0.0460141\tvalid_0's auc: 0.924975\n",
      "[246]\tvalid_0's l2: 0.0459958\tvalid_0's auc: 0.925057\n",
      "[247]\tvalid_0's l2: 0.0459754\tvalid_0's auc: 0.925143\n",
      "[248]\tvalid_0's l2: 0.0459561\tvalid_0's auc: 0.925209\n",
      "[249]\tvalid_0's l2: 0.0459388\tvalid_0's auc: 0.925243\n",
      "[250]\tvalid_0's l2: 0.0459168\tvalid_0's auc: 0.92532\n",
      "[251]\tvalid_0's l2: 0.0458967\tvalid_0's auc: 0.92541\n",
      "[252]\tvalid_0's l2: 0.0458746\tvalid_0's auc: 0.925484\n",
      "[253]\tvalid_0's l2: 0.0458495\tvalid_0's auc: 0.925545\n",
      "[254]\tvalid_0's l2: 0.045821\tvalid_0's auc: 0.92563\n",
      "[255]\tvalid_0's l2: 0.0457956\tvalid_0's auc: 0.925718\n",
      "[256]\tvalid_0's l2: 0.045776\tvalid_0's auc: 0.925889\n",
      "[257]\tvalid_0's l2: 0.0457515\tvalid_0's auc: 0.925955\n",
      "[258]\tvalid_0's l2: 0.04573\tvalid_0's auc: 0.926022\n",
      "[259]\tvalid_0's l2: 0.0457075\tvalid_0's auc: 0.92609\n",
      "[260]\tvalid_0's l2: 0.045692\tvalid_0's auc: 0.92615\n",
      "[261]\tvalid_0's l2: 0.0456758\tvalid_0's auc: 0.926245\n",
      "[262]\tvalid_0's l2: 0.0456508\tvalid_0's auc: 0.926347\n",
      "[263]\tvalid_0's l2: 0.0456344\tvalid_0's auc: 0.926431\n",
      "[264]\tvalid_0's l2: 0.0456178\tvalid_0's auc: 0.926511\n",
      "[265]\tvalid_0's l2: 0.0456\tvalid_0's auc: 0.926585\n",
      "[266]\tvalid_0's l2: 0.0455779\tvalid_0's auc: 0.926655\n",
      "[267]\tvalid_0's l2: 0.0455576\tvalid_0's auc: 0.926709\n",
      "[268]\tvalid_0's l2: 0.0455395\tvalid_0's auc: 0.926826\n",
      "[269]\tvalid_0's l2: 0.0455199\tvalid_0's auc: 0.926894\n",
      "[270]\tvalid_0's l2: 0.0454971\tvalid_0's auc: 0.926989\n",
      "[271]\tvalid_0's l2: 0.0454722\tvalid_0's auc: 0.927063\n",
      "[272]\tvalid_0's l2: 0.045452\tvalid_0's auc: 0.92719\n",
      "[273]\tvalid_0's l2: 0.045432\tvalid_0's auc: 0.927264\n",
      "[274]\tvalid_0's l2: 0.0454069\tvalid_0's auc: 0.927337\n",
      "[275]\tvalid_0's l2: 0.0453809\tvalid_0's auc: 0.927407\n",
      "[276]\tvalid_0's l2: 0.0453547\tvalid_0's auc: 0.927462\n",
      "[277]\tvalid_0's l2: 0.0453327\tvalid_0's auc: 0.927512\n",
      "[278]\tvalid_0's l2: 0.0453141\tvalid_0's auc: 0.927562\n",
      "[279]\tvalid_0's l2: 0.0453012\tvalid_0's auc: 0.927636\n",
      "[280]\tvalid_0's l2: 0.0452776\tvalid_0's auc: 0.92768\n",
      "[281]\tvalid_0's l2: 0.0452586\tvalid_0's auc: 0.927785\n",
      "[282]\tvalid_0's l2: 0.0452379\tvalid_0's auc: 0.927888\n",
      "[283]\tvalid_0's l2: 0.0452193\tvalid_0's auc: 0.927953\n",
      "[284]\tvalid_0's l2: 0.0451985\tvalid_0's auc: 0.92804\n",
      "[285]\tvalid_0's l2: 0.0451852\tvalid_0's auc: 0.928121\n",
      "[286]\tvalid_0's l2: 0.0451636\tvalid_0's auc: 0.928202\n",
      "[287]\tvalid_0's l2: 0.0451395\tvalid_0's auc: 0.928284\n",
      "[288]\tvalid_0's l2: 0.0451191\tvalid_0's auc: 0.928339\n",
      "[289]\tvalid_0's l2: 0.0450975\tvalid_0's auc: 0.92845\n",
      "[290]\tvalid_0's l2: 0.0450792\tvalid_0's auc: 0.928533\n",
      "[291]\tvalid_0's l2: 0.0450646\tvalid_0's auc: 0.928619\n",
      "[292]\tvalid_0's l2: 0.0450497\tvalid_0's auc: 0.928716\n",
      "[293]\tvalid_0's l2: 0.0450356\tvalid_0's auc: 0.928825\n",
      "[294]\tvalid_0's l2: 0.0450195\tvalid_0's auc: 0.928914\n",
      "[295]\tvalid_0's l2: 0.0450058\tvalid_0's auc: 0.928982\n",
      "[296]\tvalid_0's l2: 0.0449875\tvalid_0's auc: 0.929062\n",
      "[297]\tvalid_0's l2: 0.0449694\tvalid_0's auc: 0.929131\n",
      "[298]\tvalid_0's l2: 0.0449559\tvalid_0's auc: 0.929269\n",
      "[299]\tvalid_0's l2: 0.0449355\tvalid_0's auc: 0.929314\n",
      "[300]\tvalid_0's l2: 0.0449172\tvalid_0's auc: 0.929434\n",
      "[301]\tvalid_0's l2: 0.0448958\tvalid_0's auc: 0.929504\n",
      "[302]\tvalid_0's l2: 0.0448757\tvalid_0's auc: 0.929592\n",
      "[303]\tvalid_0's l2: 0.044857\tvalid_0's auc: 0.929717\n",
      "[304]\tvalid_0's l2: 0.0448367\tvalid_0's auc: 0.929819\n",
      "[305]\tvalid_0's l2: 0.0448131\tvalid_0's auc: 0.929889\n",
      "[306]\tvalid_0's l2: 0.0447961\tvalid_0's auc: 0.929972\n",
      "[307]\tvalid_0's l2: 0.0447838\tvalid_0's auc: 0.930031\n",
      "[308]\tvalid_0's l2: 0.0447633\tvalid_0's auc: 0.930065\n",
      "[309]\tvalid_0's l2: 0.0447428\tvalid_0's auc: 0.930157\n",
      "[310]\tvalid_0's l2: 0.0447244\tvalid_0's auc: 0.930219\n",
      "[311]\tvalid_0's l2: 0.0447084\tvalid_0's auc: 0.930281\n",
      "[312]\tvalid_0's l2: 0.0446923\tvalid_0's auc: 0.930349\n",
      "[313]\tvalid_0's l2: 0.0446772\tvalid_0's auc: 0.930464\n",
      "[314]\tvalid_0's l2: 0.0446618\tvalid_0's auc: 0.930532\n",
      "[315]\tvalid_0's l2: 0.0446453\tvalid_0's auc: 0.930606\n",
      "[316]\tvalid_0's l2: 0.0446285\tvalid_0's auc: 0.930654\n",
      "[317]\tvalid_0's l2: 0.0446051\tvalid_0's auc: 0.93072\n",
      "[318]\tvalid_0's l2: 0.0445881\tvalid_0's auc: 0.930782\n",
      "[319]\tvalid_0's l2: 0.0445732\tvalid_0's auc: 0.930872\n",
      "[320]\tvalid_0's l2: 0.0445478\tvalid_0's auc: 0.930935\n",
      "[321]\tvalid_0's l2: 0.0445289\tvalid_0's auc: 0.931007\n",
      "[322]\tvalid_0's l2: 0.0445187\tvalid_0's auc: 0.93109\n",
      "[323]\tvalid_0's l2: 0.0445053\tvalid_0's auc: 0.931162\n",
      "[324]\tvalid_0's l2: 0.0444893\tvalid_0's auc: 0.931214\n",
      "[325]\tvalid_0's l2: 0.044482\tvalid_0's auc: 0.93132\n",
      "[326]\tvalid_0's l2: 0.0444643\tvalid_0's auc: 0.931359\n",
      "[327]\tvalid_0's l2: 0.0444489\tvalid_0's auc: 0.931398\n",
      "[328]\tvalid_0's l2: 0.0444328\tvalid_0's auc: 0.931434\n",
      "[329]\tvalid_0's l2: 0.0444161\tvalid_0's auc: 0.931478\n",
      "[330]\tvalid_0's l2: 0.0444012\tvalid_0's auc: 0.931513\n",
      "[331]\tvalid_0's l2: 0.0443849\tvalid_0's auc: 0.931575\n",
      "[332]\tvalid_0's l2: 0.0443709\tvalid_0's auc: 0.931694\n",
      "[333]\tvalid_0's l2: 0.0443556\tvalid_0's auc: 0.931763\n",
      "[334]\tvalid_0's l2: 0.0443395\tvalid_0's auc: 0.93183\n",
      "[335]\tvalid_0's l2: 0.0443269\tvalid_0's auc: 0.93188\n",
      "[336]\tvalid_0's l2: 0.0443092\tvalid_0's auc: 0.931955\n",
      "[337]\tvalid_0's l2: 0.0442927\tvalid_0's auc: 0.932028\n",
      "[338]\tvalid_0's l2: 0.0442758\tvalid_0's auc: 0.932091\n",
      "[339]\tvalid_0's l2: 0.04426\tvalid_0's auc: 0.932147\n",
      "[340]\tvalid_0's l2: 0.0442435\tvalid_0's auc: 0.932199\n",
      "[341]\tvalid_0's l2: 0.0442287\tvalid_0's auc: 0.93232\n",
      "[342]\tvalid_0's l2: 0.0442091\tvalid_0's auc: 0.932394\n",
      "[343]\tvalid_0's l2: 0.0441908\tvalid_0's auc: 0.932488\n",
      "[344]\tvalid_0's l2: 0.0441736\tvalid_0's auc: 0.932566\n",
      "[345]\tvalid_0's l2: 0.0441501\tvalid_0's auc: 0.932657\n",
      "[346]\tvalid_0's l2: 0.0441402\tvalid_0's auc: 0.932726\n",
      "[347]\tvalid_0's l2: 0.0441201\tvalid_0's auc: 0.932774\n",
      "[348]\tvalid_0's l2: 0.0441078\tvalid_0's auc: 0.932835\n",
      "[349]\tvalid_0's l2: 0.0440908\tvalid_0's auc: 0.932896\n",
      "[350]\tvalid_0's l2: 0.0440818\tvalid_0's auc: 0.932971\n",
      "[351]\tvalid_0's l2: 0.0440651\tvalid_0's auc: 0.933052\n",
      "[352]\tvalid_0's l2: 0.0440472\tvalid_0's auc: 0.933125\n",
      "[353]\tvalid_0's l2: 0.0440316\tvalid_0's auc: 0.933226\n",
      "[354]\tvalid_0's l2: 0.0440112\tvalid_0's auc: 0.933273\n",
      "[355]\tvalid_0's l2: 0.043995\tvalid_0's auc: 0.933349\n",
      "[356]\tvalid_0's l2: 0.043979\tvalid_0's auc: 0.933432\n",
      "[357]\tvalid_0's l2: 0.0439586\tvalid_0's auc: 0.933511\n",
      "[358]\tvalid_0's l2: 0.0439399\tvalid_0's auc: 0.933574\n",
      "[359]\tvalid_0's l2: 0.0439183\tvalid_0's auc: 0.933634\n",
      "[360]\tvalid_0's l2: 0.0439016\tvalid_0's auc: 0.933701\n",
      "[361]\tvalid_0's l2: 0.043882\tvalid_0's auc: 0.933737\n",
      "[362]\tvalid_0's l2: 0.0438609\tvalid_0's auc: 0.933793\n",
      "[363]\tvalid_0's l2: 0.0438408\tvalid_0's auc: 0.933841\n",
      "[364]\tvalid_0's l2: 0.043821\tvalid_0's auc: 0.933895\n",
      "[365]\tvalid_0's l2: 0.0438036\tvalid_0's auc: 0.933936\n",
      "[366]\tvalid_0's l2: 0.0437826\tvalid_0's auc: 0.934007\n",
      "[367]\tvalid_0's l2: 0.0437698\tvalid_0's auc: 0.934062\n",
      "[368]\tvalid_0's l2: 0.0437515\tvalid_0's auc: 0.93412\n",
      "[369]\tvalid_0's l2: 0.0437383\tvalid_0's auc: 0.934176\n",
      "[370]\tvalid_0's l2: 0.0437188\tvalid_0's auc: 0.934251\n",
      "[371]\tvalid_0's l2: 0.0436979\tvalid_0's auc: 0.934336\n",
      "[372]\tvalid_0's l2: 0.0436822\tvalid_0's auc: 0.934428\n",
      "[373]\tvalid_0's l2: 0.0436594\tvalid_0's auc: 0.934469\n",
      "[374]\tvalid_0's l2: 0.0436444\tvalid_0's auc: 0.934539\n",
      "[375]\tvalid_0's l2: 0.0436274\tvalid_0's auc: 0.934588\n",
      "[376]\tvalid_0's l2: 0.0436105\tvalid_0's auc: 0.934658\n",
      "[377]\tvalid_0's l2: 0.0435951\tvalid_0's auc: 0.93472\n",
      "[378]\tvalid_0's l2: 0.0435805\tvalid_0's auc: 0.934777\n",
      "[379]\tvalid_0's l2: 0.0435678\tvalid_0's auc: 0.934854\n",
      "[380]\tvalid_0's l2: 0.0435534\tvalid_0's auc: 0.934912\n",
      "[381]\tvalid_0's l2: 0.0435336\tvalid_0's auc: 0.935026\n",
      "[382]\tvalid_0's l2: 0.0435119\tvalid_0's auc: 0.935105\n",
      "[383]\tvalid_0's l2: 0.043486\tvalid_0's auc: 0.93517\n",
      "[384]\tvalid_0's l2: 0.043465\tvalid_0's auc: 0.935253\n",
      "[385]\tvalid_0's l2: 0.0434466\tvalid_0's auc: 0.935337\n",
      "[386]\tvalid_0's l2: 0.0434322\tvalid_0's auc: 0.935398\n",
      "[387]\tvalid_0's l2: 0.0434181\tvalid_0's auc: 0.935444\n",
      "[388]\tvalid_0's l2: 0.0434019\tvalid_0's auc: 0.935567\n",
      "[389]\tvalid_0's l2: 0.0433885\tvalid_0's auc: 0.935609\n",
      "[390]\tvalid_0's l2: 0.0433708\tvalid_0's auc: 0.935644\n",
      "[391]\tvalid_0's l2: 0.0433579\tvalid_0's auc: 0.935767\n",
      "[392]\tvalid_0's l2: 0.0433396\tvalid_0's auc: 0.935805\n",
      "[393]\tvalid_0's l2: 0.0433302\tvalid_0's auc: 0.935938\n",
      "[394]\tvalid_0's l2: 0.0433122\tvalid_0's auc: 0.935996\n",
      "[395]\tvalid_0's l2: 0.0433001\tvalid_0's auc: 0.936074\n",
      "[396]\tvalid_0's l2: 0.0432822\tvalid_0's auc: 0.936125\n",
      "[397]\tvalid_0's l2: 0.0432636\tvalid_0's auc: 0.936181\n",
      "[398]\tvalid_0's l2: 0.0432446\tvalid_0's auc: 0.936235\n",
      "[399]\tvalid_0's l2: 0.0432256\tvalid_0's auc: 0.936294\n",
      "[400]\tvalid_0's l2: 0.043207\tvalid_0's auc: 0.936357\n",
      "[401]\tvalid_0's l2: 0.0431873\tvalid_0's auc: 0.936412\n",
      "[402]\tvalid_0's l2: 0.0431671\tvalid_0's auc: 0.936475\n",
      "[403]\tvalid_0's l2: 0.0431496\tvalid_0's auc: 0.936508\n",
      "[404]\tvalid_0's l2: 0.0431348\tvalid_0's auc: 0.936616\n",
      "[405]\tvalid_0's l2: 0.0431121\tvalid_0's auc: 0.936683\n",
      "[406]\tvalid_0's l2: 0.043095\tvalid_0's auc: 0.936757\n",
      "[407]\tvalid_0's l2: 0.0430788\tvalid_0's auc: 0.936819\n",
      "[408]\tvalid_0's l2: 0.0430595\tvalid_0's auc: 0.936892\n",
      "[409]\tvalid_0's l2: 0.0430411\tvalid_0's auc: 0.93695\n",
      "[410]\tvalid_0's l2: 0.0430253\tvalid_0's auc: 0.937009\n",
      "[411]\tvalid_0's l2: 0.0430103\tvalid_0's auc: 0.937094\n",
      "[412]\tvalid_0's l2: 0.0429902\tvalid_0's auc: 0.937151\n",
      "[413]\tvalid_0's l2: 0.0429758\tvalid_0's auc: 0.937224\n",
      "[414]\tvalid_0's l2: 0.0429619\tvalid_0's auc: 0.937292\n",
      "[415]\tvalid_0's l2: 0.042945\tvalid_0's auc: 0.937364\n",
      "[416]\tvalid_0's l2: 0.0429343\tvalid_0's auc: 0.937422\n",
      "[417]\tvalid_0's l2: 0.0429181\tvalid_0's auc: 0.937458\n",
      "[418]\tvalid_0's l2: 0.0429026\tvalid_0's auc: 0.937485\n",
      "[419]\tvalid_0's l2: 0.0428912\tvalid_0's auc: 0.937544\n",
      "[420]\tvalid_0's l2: 0.0428746\tvalid_0's auc: 0.937604\n",
      "[421]\tvalid_0's l2: 0.0428638\tvalid_0's auc: 0.937667\n",
      "[422]\tvalid_0's l2: 0.0428484\tvalid_0's auc: 0.937721\n",
      "[423]\tvalid_0's l2: 0.0428341\tvalid_0's auc: 0.937762\n",
      "[424]\tvalid_0's l2: 0.0428225\tvalid_0's auc: 0.937814\n",
      "[425]\tvalid_0's l2: 0.042809\tvalid_0's auc: 0.937856\n",
      "[426]\tvalid_0's l2: 0.0427989\tvalid_0's auc: 0.937926\n",
      "[427]\tvalid_0's l2: 0.0427837\tvalid_0's auc: 0.93801\n",
      "[428]\tvalid_0's l2: 0.0427724\tvalid_0's auc: 0.938054\n",
      "[429]\tvalid_0's l2: 0.042757\tvalid_0's auc: 0.938145\n",
      "[430]\tvalid_0's l2: 0.0427468\tvalid_0's auc: 0.938187\n",
      "[431]\tvalid_0's l2: 0.0427305\tvalid_0's auc: 0.938304\n",
      "[432]\tvalid_0's l2: 0.0427165\tvalid_0's auc: 0.938366\n",
      "[433]\tvalid_0's l2: 0.0427014\tvalid_0's auc: 0.938434\n",
      "[434]\tvalid_0's l2: 0.0426836\tvalid_0's auc: 0.938528\n",
      "[435]\tvalid_0's l2: 0.0426687\tvalid_0's auc: 0.938596\n",
      "[436]\tvalid_0's l2: 0.0426548\tvalid_0's auc: 0.938701\n",
      "[437]\tvalid_0's l2: 0.0426391\tvalid_0's auc: 0.938781\n",
      "[438]\tvalid_0's l2: 0.0426262\tvalid_0's auc: 0.9389\n",
      "[439]\tvalid_0's l2: 0.0426142\tvalid_0's auc: 0.938959\n",
      "[440]\tvalid_0's l2: 0.0425995\tvalid_0's auc: 0.939015\n",
      "[441]\tvalid_0's l2: 0.0425783\tvalid_0's auc: 0.939072\n",
      "[442]\tvalid_0's l2: 0.0425613\tvalid_0's auc: 0.939131\n",
      "[443]\tvalid_0's l2: 0.0425446\tvalid_0's auc: 0.939197\n",
      "[444]\tvalid_0's l2: 0.042529\tvalid_0's auc: 0.939271\n",
      "[445]\tvalid_0's l2: 0.0425112\tvalid_0's auc: 0.93932\n",
      "[446]\tvalid_0's l2: 0.0424994\tvalid_0's auc: 0.939355\n",
      "[447]\tvalid_0's l2: 0.0424855\tvalid_0's auc: 0.939458\n",
      "[448]\tvalid_0's l2: 0.042476\tvalid_0's auc: 0.939527\n",
      "[449]\tvalid_0's l2: 0.0424635\tvalid_0's auc: 0.939634\n",
      "[450]\tvalid_0's l2: 0.0424479\tvalid_0's auc: 0.93967\n",
      "[451]\tvalid_0's l2: 0.0424275\tvalid_0's auc: 0.939717\n",
      "[452]\tvalid_0's l2: 0.0424117\tvalid_0's auc: 0.93979\n",
      "[453]\tvalid_0's l2: 0.0423987\tvalid_0's auc: 0.939844\n",
      "[454]\tvalid_0's l2: 0.042384\tvalid_0's auc: 0.939918\n",
      "[455]\tvalid_0's l2: 0.0423637\tvalid_0's auc: 0.939948\n",
      "[456]\tvalid_0's l2: 0.0423477\tvalid_0's auc: 0.939999\n",
      "[457]\tvalid_0's l2: 0.0423326\tvalid_0's auc: 0.940046\n",
      "[458]\tvalid_0's l2: 0.0423127\tvalid_0's auc: 0.940081\n",
      "[459]\tvalid_0's l2: 0.042298\tvalid_0's auc: 0.940134\n",
      "[460]\tvalid_0's l2: 0.0422771\tvalid_0's auc: 0.940171\n",
      "[461]\tvalid_0's l2: 0.0422629\tvalid_0's auc: 0.940232\n",
      "[462]\tvalid_0's l2: 0.0422479\tvalid_0's auc: 0.940275\n",
      "[463]\tvalid_0's l2: 0.0422339\tvalid_0's auc: 0.940322\n",
      "[464]\tvalid_0's l2: 0.0422195\tvalid_0's auc: 0.940379\n",
      "[465]\tvalid_0's l2: 0.0422063\tvalid_0's auc: 0.940464\n",
      "[466]\tvalid_0's l2: 0.0421945\tvalid_0's auc: 0.940543\n",
      "[467]\tvalid_0's l2: 0.0421805\tvalid_0's auc: 0.940635\n",
      "[468]\tvalid_0's l2: 0.042169\tvalid_0's auc: 0.940716\n",
      "[469]\tvalid_0's l2: 0.042151\tvalid_0's auc: 0.940754\n",
      "[470]\tvalid_0's l2: 0.0421406\tvalid_0's auc: 0.940862\n",
      "[471]\tvalid_0's l2: 0.0421182\tvalid_0's auc: 0.940939\n",
      "[472]\tvalid_0's l2: 0.0420973\tvalid_0's auc: 0.940997\n",
      "[473]\tvalid_0's l2: 0.0420812\tvalid_0's auc: 0.941062\n",
      "[474]\tvalid_0's l2: 0.0420636\tvalid_0's auc: 0.94111\n",
      "[475]\tvalid_0's l2: 0.0420483\tvalid_0's auc: 0.941185\n",
      "[476]\tvalid_0's l2: 0.0420335\tvalid_0's auc: 0.941307\n",
      "[477]\tvalid_0's l2: 0.0420195\tvalid_0's auc: 0.941396\n",
      "[478]\tvalid_0's l2: 0.0420054\tvalid_0's auc: 0.941438\n",
      "[479]\tvalid_0's l2: 0.0419911\tvalid_0's auc: 0.941491\n",
      "[480]\tvalid_0's l2: 0.0419781\tvalid_0's auc: 0.941553\n",
      "[481]\tvalid_0's l2: 0.0419652\tvalid_0's auc: 0.941617\n",
      "[482]\tvalid_0's l2: 0.0419536\tvalid_0's auc: 0.941686\n",
      "[483]\tvalid_0's l2: 0.0419452\tvalid_0's auc: 0.941748\n",
      "[484]\tvalid_0's l2: 0.0419278\tvalid_0's auc: 0.941808\n",
      "[485]\tvalid_0's l2: 0.0419189\tvalid_0's auc: 0.941861\n",
      "[486]\tvalid_0's l2: 0.0419064\tvalid_0's auc: 0.941918\n",
      "[487]\tvalid_0's l2: 0.0418914\tvalid_0's auc: 0.941991\n",
      "[488]\tvalid_0's l2: 0.0418719\tvalid_0's auc: 0.94206\n",
      "[489]\tvalid_0's l2: 0.0418598\tvalid_0's auc: 0.9421\n",
      "[490]\tvalid_0's l2: 0.0418441\tvalid_0's auc: 0.942154\n",
      "[491]\tvalid_0's l2: 0.04183\tvalid_0's auc: 0.942225\n",
      "[492]\tvalid_0's l2: 0.0418141\tvalid_0's auc: 0.942296\n",
      "[493]\tvalid_0's l2: 0.0418017\tvalid_0's auc: 0.94237\n",
      "[494]\tvalid_0's l2: 0.0417879\tvalid_0's auc: 0.942424\n",
      "[495]\tvalid_0's l2: 0.0417728\tvalid_0's auc: 0.942483\n",
      "[496]\tvalid_0's l2: 0.0417594\tvalid_0's auc: 0.942543\n",
      "[497]\tvalid_0's l2: 0.0417465\tvalid_0's auc: 0.942594\n",
      "[498]\tvalid_0's l2: 0.041734\tvalid_0's auc: 0.942647\n",
      "[499]\tvalid_0's l2: 0.0417206\tvalid_0's auc: 0.942724\n",
      "[500]\tvalid_0's l2: 0.0417072\tvalid_0's auc: 0.942805\n",
      "[501]\tvalid_0's l2: 0.0416922\tvalid_0's auc: 0.942847\n",
      "[502]\tvalid_0's l2: 0.0416745\tvalid_0's auc: 0.942905\n",
      "[503]\tvalid_0's l2: 0.0416561\tvalid_0's auc: 0.942936\n",
      "[504]\tvalid_0's l2: 0.0416437\tvalid_0's auc: 0.942984\n",
      "[505]\tvalid_0's l2: 0.0416287\tvalid_0's auc: 0.94303\n",
      "[506]\tvalid_0's l2: 0.0416122\tvalid_0's auc: 0.943058\n",
      "[507]\tvalid_0's l2: 0.0415979\tvalid_0's auc: 0.943081\n",
      "[508]\tvalid_0's l2: 0.0415842\tvalid_0's auc: 0.943102\n",
      "[509]\tvalid_0's l2: 0.0415696\tvalid_0's auc: 0.943137\n",
      "[510]\tvalid_0's l2: 0.0415561\tvalid_0's auc: 0.943163\n",
      "[511]\tvalid_0's l2: 0.0415395\tvalid_0's auc: 0.94322\n",
      "[512]\tvalid_0's l2: 0.0415259\tvalid_0's auc: 0.943268\n",
      "[513]\tvalid_0's l2: 0.0415067\tvalid_0's auc: 0.943324\n",
      "[514]\tvalid_0's l2: 0.0414894\tvalid_0's auc: 0.943374\n",
      "[515]\tvalid_0's l2: 0.0414761\tvalid_0's auc: 0.943421\n",
      "[516]\tvalid_0's l2: 0.0414591\tvalid_0's auc: 0.943461\n",
      "[517]\tvalid_0's l2: 0.0414432\tvalid_0's auc: 0.943519\n",
      "[518]\tvalid_0's l2: 0.0414277\tvalid_0's auc: 0.943604\n",
      "[519]\tvalid_0's l2: 0.0414106\tvalid_0's auc: 0.943656\n",
      "[520]\tvalid_0's l2: 0.0413932\tvalid_0's auc: 0.94372\n",
      "[521]\tvalid_0's l2: 0.041379\tvalid_0's auc: 0.9438\n",
      "[522]\tvalid_0's l2: 0.0413565\tvalid_0's auc: 0.943857\n",
      "[523]\tvalid_0's l2: 0.0413413\tvalid_0's auc: 0.943921\n",
      "[524]\tvalid_0's l2: 0.0413255\tvalid_0's auc: 0.94397\n",
      "[525]\tvalid_0's l2: 0.0413108\tvalid_0's auc: 0.944005\n",
      "[526]\tvalid_0's l2: 0.0412953\tvalid_0's auc: 0.944071\n",
      "[527]\tvalid_0's l2: 0.0412806\tvalid_0's auc: 0.944113\n",
      "[528]\tvalid_0's l2: 0.0412668\tvalid_0's auc: 0.944148\n",
      "[529]\tvalid_0's l2: 0.0412543\tvalid_0's auc: 0.9442\n",
      "[530]\tvalid_0's l2: 0.0412412\tvalid_0's auc: 0.944265\n",
      "[531]\tvalid_0's l2: 0.0412271\tvalid_0's auc: 0.944324\n",
      "[532]\tvalid_0's l2: 0.0412134\tvalid_0's auc: 0.944371\n",
      "[533]\tvalid_0's l2: 0.0411993\tvalid_0's auc: 0.944413\n",
      "[534]\tvalid_0's l2: 0.0411851\tvalid_0's auc: 0.94445\n",
      "[535]\tvalid_0's l2: 0.0411645\tvalid_0's auc: 0.944484\n",
      "[536]\tvalid_0's l2: 0.0411506\tvalid_0's auc: 0.944535\n",
      "[537]\tvalid_0's l2: 0.0411343\tvalid_0's auc: 0.944587\n",
      "[538]\tvalid_0's l2: 0.0411181\tvalid_0's auc: 0.944666\n",
      "[539]\tvalid_0's l2: 0.0411069\tvalid_0's auc: 0.944715\n",
      "[540]\tvalid_0's l2: 0.041091\tvalid_0's auc: 0.944767\n",
      "[541]\tvalid_0's l2: 0.041075\tvalid_0's auc: 0.944845\n",
      "[542]\tvalid_0's l2: 0.0410602\tvalid_0's auc: 0.944887\n",
      "[543]\tvalid_0's l2: 0.0410477\tvalid_0's auc: 0.944962\n",
      "[544]\tvalid_0's l2: 0.0410341\tvalid_0's auc: 0.944999\n",
      "[545]\tvalid_0's l2: 0.0410157\tvalid_0's auc: 0.945053\n",
      "[546]\tvalid_0's l2: 0.0409905\tvalid_0's auc: 0.945106\n",
      "[547]\tvalid_0's l2: 0.0409696\tvalid_0's auc: 0.945155\n",
      "[548]\tvalid_0's l2: 0.0409562\tvalid_0's auc: 0.94521\n",
      "[549]\tvalid_0's l2: 0.0409418\tvalid_0's auc: 0.945244\n",
      "[550]\tvalid_0's l2: 0.0409236\tvalid_0's auc: 0.945293\n",
      "[551]\tvalid_0's l2: 0.040906\tvalid_0's auc: 0.945346\n",
      "[552]\tvalid_0's l2: 0.0408862\tvalid_0's auc: 0.945414\n",
      "[553]\tvalid_0's l2: 0.0408693\tvalid_0's auc: 0.945471\n",
      "[554]\tvalid_0's l2: 0.0408544\tvalid_0's auc: 0.945526\n",
      "[555]\tvalid_0's l2: 0.0408357\tvalid_0's auc: 0.945581\n",
      "[556]\tvalid_0's l2: 0.0408181\tvalid_0's auc: 0.945634\n",
      "[557]\tvalid_0's l2: 0.0407995\tvalid_0's auc: 0.945699\n",
      "[558]\tvalid_0's l2: 0.0407817\tvalid_0's auc: 0.945758\n",
      "[559]\tvalid_0's l2: 0.0407661\tvalid_0's auc: 0.94581\n",
      "[560]\tvalid_0's l2: 0.04075\tvalid_0's auc: 0.94586\n",
      "[561]\tvalid_0's l2: 0.0407401\tvalid_0's auc: 0.945922\n",
      "[562]\tvalid_0's l2: 0.0407248\tvalid_0's auc: 0.945965\n",
      "[563]\tvalid_0's l2: 0.0407146\tvalid_0's auc: 0.946019\n",
      "[564]\tvalid_0's l2: 0.0407019\tvalid_0's auc: 0.946055\n",
      "[565]\tvalid_0's l2: 0.0406881\tvalid_0's auc: 0.946092\n",
      "[566]\tvalid_0's l2: 0.0406748\tvalid_0's auc: 0.946165\n",
      "[567]\tvalid_0's l2: 0.0406606\tvalid_0's auc: 0.946215\n",
      "[568]\tvalid_0's l2: 0.0406482\tvalid_0's auc: 0.946283\n",
      "[569]\tvalid_0's l2: 0.0406281\tvalid_0's auc: 0.946326\n",
      "[570]\tvalid_0's l2: 0.0406116\tvalid_0's auc: 0.94638\n",
      "[571]\tvalid_0's l2: 0.0405914\tvalid_0's auc: 0.946447\n",
      "[572]\tvalid_0's l2: 0.0405753\tvalid_0's auc: 0.946509\n",
      "[573]\tvalid_0's l2: 0.0405544\tvalid_0's auc: 0.946553\n",
      "[574]\tvalid_0's l2: 0.0405407\tvalid_0's auc: 0.946612\n",
      "[575]\tvalid_0's l2: 0.0405227\tvalid_0's auc: 0.946659\n",
      "[576]\tvalid_0's l2: 0.0405121\tvalid_0's auc: 0.9467\n",
      "[577]\tvalid_0's l2: 0.0404993\tvalid_0's auc: 0.946736\n",
      "[578]\tvalid_0's l2: 0.0404828\tvalid_0's auc: 0.946774\n",
      "[579]\tvalid_0's l2: 0.0404677\tvalid_0's auc: 0.946834\n",
      "[580]\tvalid_0's l2: 0.0404519\tvalid_0's auc: 0.946855\n",
      "[581]\tvalid_0's l2: 0.0404318\tvalid_0's auc: 0.946907\n",
      "[582]\tvalid_0's l2: 0.0404177\tvalid_0's auc: 0.946957\n",
      "[583]\tvalid_0's l2: 0.0404018\tvalid_0's auc: 0.947033\n",
      "[584]\tvalid_0's l2: 0.0403865\tvalid_0's auc: 0.947063\n",
      "[585]\tvalid_0's l2: 0.0403703\tvalid_0's auc: 0.947126\n",
      "[586]\tvalid_0's l2: 0.0403514\tvalid_0's auc: 0.947152\n",
      "[587]\tvalid_0's l2: 0.040332\tvalid_0's auc: 0.947181\n",
      "[588]\tvalid_0's l2: 0.0403152\tvalid_0's auc: 0.94721\n",
      "[589]\tvalid_0's l2: 0.0402987\tvalid_0's auc: 0.947246\n",
      "[590]\tvalid_0's l2: 0.0402826\tvalid_0's auc: 0.947275\n",
      "[591]\tvalid_0's l2: 0.0402659\tvalid_0's auc: 0.947341\n",
      "[592]\tvalid_0's l2: 0.0402569\tvalid_0's auc: 0.9474\n",
      "[593]\tvalid_0's l2: 0.0402397\tvalid_0's auc: 0.947459\n",
      "[594]\tvalid_0's l2: 0.0402247\tvalid_0's auc: 0.947515\n",
      "[595]\tvalid_0's l2: 0.0402145\tvalid_0's auc: 0.947568\n",
      "[596]\tvalid_0's l2: 0.0401991\tvalid_0's auc: 0.947601\n",
      "[597]\tvalid_0's l2: 0.0401809\tvalid_0's auc: 0.947649\n",
      "[598]\tvalid_0's l2: 0.0401639\tvalid_0's auc: 0.947692\n",
      "[599]\tvalid_0's l2: 0.0401465\tvalid_0's auc: 0.947749\n",
      "[600]\tvalid_0's l2: 0.0401312\tvalid_0's auc: 0.947785\n",
      "[601]\tvalid_0's l2: 0.0401209\tvalid_0's auc: 0.947856\n",
      "[602]\tvalid_0's l2: 0.0401146\tvalid_0's auc: 0.947914\n",
      "[603]\tvalid_0's l2: 0.0401074\tvalid_0's auc: 0.947963\n",
      "[604]\tvalid_0's l2: 0.0400965\tvalid_0's auc: 0.947998\n",
      "[605]\tvalid_0's l2: 0.0400836\tvalid_0's auc: 0.948055\n",
      "[606]\tvalid_0's l2: 0.0400703\tvalid_0's auc: 0.94811\n",
      "[607]\tvalid_0's l2: 0.0400561\tvalid_0's auc: 0.948163\n",
      "[608]\tvalid_0's l2: 0.0400443\tvalid_0's auc: 0.948211\n",
      "[609]\tvalid_0's l2: 0.0400287\tvalid_0's auc: 0.948244\n",
      "[610]\tvalid_0's l2: 0.0400161\tvalid_0's auc: 0.948301\n",
      "[611]\tvalid_0's l2: 0.0400005\tvalid_0's auc: 0.948346\n",
      "[612]\tvalid_0's l2: 0.0399851\tvalid_0's auc: 0.948391\n",
      "[613]\tvalid_0's l2: 0.0399708\tvalid_0's auc: 0.948437\n",
      "[614]\tvalid_0's l2: 0.0399561\tvalid_0's auc: 0.948462\n",
      "[615]\tvalid_0's l2: 0.0399411\tvalid_0's auc: 0.948496\n",
      "[616]\tvalid_0's l2: 0.0399206\tvalid_0's auc: 0.948542\n",
      "[617]\tvalid_0's l2: 0.0399081\tvalid_0's auc: 0.94858\n",
      "[618]\tvalid_0's l2: 0.0398945\tvalid_0's auc: 0.948632\n",
      "[619]\tvalid_0's l2: 0.0398807\tvalid_0's auc: 0.948675\n",
      "[620]\tvalid_0's l2: 0.0398691\tvalid_0's auc: 0.948707\n",
      "[621]\tvalid_0's l2: 0.0398552\tvalid_0's auc: 0.948756\n",
      "[622]\tvalid_0's l2: 0.0398416\tvalid_0's auc: 0.948808\n",
      "[623]\tvalid_0's l2: 0.0398299\tvalid_0's auc: 0.948852\n",
      "[624]\tvalid_0's l2: 0.039817\tvalid_0's auc: 0.948892\n",
      "[625]\tvalid_0's l2: 0.0398002\tvalid_0's auc: 0.94895\n",
      "[626]\tvalid_0's l2: 0.0397853\tvalid_0's auc: 0.948991\n",
      "[627]\tvalid_0's l2: 0.039771\tvalid_0's auc: 0.949028\n",
      "[628]\tvalid_0's l2: 0.0397571\tvalid_0's auc: 0.949063\n",
      "[629]\tvalid_0's l2: 0.0397439\tvalid_0's auc: 0.949113\n",
      "[630]\tvalid_0's l2: 0.0397315\tvalid_0's auc: 0.949177\n",
      "[631]\tvalid_0's l2: 0.0397185\tvalid_0's auc: 0.949223\n",
      "[632]\tvalid_0's l2: 0.0397053\tvalid_0's auc: 0.949265\n",
      "[633]\tvalid_0's l2: 0.0396917\tvalid_0's auc: 0.949307\n",
      "[634]\tvalid_0's l2: 0.0396805\tvalid_0's auc: 0.94935\n",
      "[635]\tvalid_0's l2: 0.0396679\tvalid_0's auc: 0.949386\n",
      "[636]\tvalid_0's l2: 0.0396568\tvalid_0's auc: 0.949415\n",
      "[637]\tvalid_0's l2: 0.0396473\tvalid_0's auc: 0.949442\n",
      "[638]\tvalid_0's l2: 0.0396398\tvalid_0's auc: 0.949487\n",
      "[639]\tvalid_0's l2: 0.0396177\tvalid_0's auc: 0.949519\n",
      "[640]\tvalid_0's l2: 0.0396112\tvalid_0's auc: 0.94957\n",
      "[641]\tvalid_0's l2: 0.0395994\tvalid_0's auc: 0.949645\n",
      "[642]\tvalid_0's l2: 0.0395858\tvalid_0's auc: 0.949723\n",
      "[643]\tvalid_0's l2: 0.0395749\tvalid_0's auc: 0.949778\n",
      "[644]\tvalid_0's l2: 0.0395584\tvalid_0's auc: 0.949824\n",
      "[645]\tvalid_0's l2: 0.0395474\tvalid_0's auc: 0.949867\n",
      "[646]\tvalid_0's l2: 0.0395309\tvalid_0's auc: 0.949931\n",
      "[647]\tvalid_0's l2: 0.0395173\tvalid_0's auc: 0.949978\n",
      "[648]\tvalid_0's l2: 0.0395029\tvalid_0's auc: 0.950017\n",
      "[649]\tvalid_0's l2: 0.0394863\tvalid_0's auc: 0.950066\n",
      "[650]\tvalid_0's l2: 0.0394727\tvalid_0's auc: 0.950106\n",
      "[651]\tvalid_0's l2: 0.0394573\tvalid_0's auc: 0.950152\n",
      "[652]\tvalid_0's l2: 0.0394465\tvalid_0's auc: 0.950173\n",
      "[653]\tvalid_0's l2: 0.0394331\tvalid_0's auc: 0.950211\n",
      "[654]\tvalid_0's l2: 0.039424\tvalid_0's auc: 0.950229\n",
      "[655]\tvalid_0's l2: 0.0394132\tvalid_0's auc: 0.950275\n",
      "[656]\tvalid_0's l2: 0.0394051\tvalid_0's auc: 0.950318\n",
      "[657]\tvalid_0's l2: 0.0393915\tvalid_0's auc: 0.950349\n",
      "[658]\tvalid_0's l2: 0.0393839\tvalid_0's auc: 0.95039\n",
      "[659]\tvalid_0's l2: 0.0393755\tvalid_0's auc: 0.950424\n",
      "[660]\tvalid_0's l2: 0.039369\tvalid_0's auc: 0.950453\n",
      "[661]\tvalid_0's l2: 0.0393537\tvalid_0's auc: 0.950491\n",
      "[662]\tvalid_0's l2: 0.0393406\tvalid_0's auc: 0.95052\n",
      "[663]\tvalid_0's l2: 0.0393262\tvalid_0's auc: 0.950562\n",
      "[664]\tvalid_0's l2: 0.0393109\tvalid_0's auc: 0.950593\n",
      "[665]\tvalid_0's l2: 0.0392982\tvalid_0's auc: 0.950624\n",
      "[666]\tvalid_0's l2: 0.0392841\tvalid_0's auc: 0.950657\n",
      "[667]\tvalid_0's l2: 0.0392701\tvalid_0's auc: 0.950702\n",
      "[668]\tvalid_0's l2: 0.0392577\tvalid_0's auc: 0.950727\n",
      "[669]\tvalid_0's l2: 0.0392462\tvalid_0's auc: 0.950752\n",
      "[670]\tvalid_0's l2: 0.0392343\tvalid_0's auc: 0.950804\n",
      "[671]\tvalid_0's l2: 0.0392189\tvalid_0's auc: 0.950847\n",
      "[672]\tvalid_0's l2: 0.0392049\tvalid_0's auc: 0.950884\n",
      "[673]\tvalid_0's l2: 0.0391902\tvalid_0's auc: 0.950924\n",
      "[674]\tvalid_0's l2: 0.0391745\tvalid_0's auc: 0.950962\n",
      "[675]\tvalid_0's l2: 0.0391592\tvalid_0's auc: 0.951001\n",
      "[676]\tvalid_0's l2: 0.0391469\tvalid_0's auc: 0.951039\n",
      "[677]\tvalid_0's l2: 0.0391358\tvalid_0's auc: 0.951103\n",
      "[678]\tvalid_0's l2: 0.0391225\tvalid_0's auc: 0.951142\n",
      "[679]\tvalid_0's l2: 0.0391067\tvalid_0's auc: 0.951198\n",
      "[680]\tvalid_0's l2: 0.0390918\tvalid_0's auc: 0.951243\n",
      "[681]\tvalid_0's l2: 0.0390769\tvalid_0's auc: 0.951286\n",
      "[682]\tvalid_0's l2: 0.0390653\tvalid_0's auc: 0.951383\n",
      "[683]\tvalid_0's l2: 0.0390504\tvalid_0's auc: 0.95144\n",
      "[684]\tvalid_0's l2: 0.0390341\tvalid_0's auc: 0.951487\n",
      "[685]\tvalid_0's l2: 0.0390232\tvalid_0's auc: 0.951564\n",
      "[686]\tvalid_0's l2: 0.0390096\tvalid_0's auc: 0.951617\n",
      "[687]\tvalid_0's l2: 0.0389976\tvalid_0's auc: 0.951685\n",
      "[688]\tvalid_0's l2: 0.0389852\tvalid_0's auc: 0.951715\n",
      "[689]\tvalid_0's l2: 0.038973\tvalid_0's auc: 0.951749\n",
      "[690]\tvalid_0's l2: 0.0389618\tvalid_0's auc: 0.951778\n",
      "[691]\tvalid_0's l2: 0.0389456\tvalid_0's auc: 0.951821\n",
      "[692]\tvalid_0's l2: 0.0389297\tvalid_0's auc: 0.951865\n",
      "[693]\tvalid_0's l2: 0.0389151\tvalid_0's auc: 0.951901\n",
      "[694]\tvalid_0's l2: 0.0389029\tvalid_0's auc: 0.95193\n",
      "[695]\tvalid_0's l2: 0.0388902\tvalid_0's auc: 0.951977\n",
      "[696]\tvalid_0's l2: 0.0388757\tvalid_0's auc: 0.952036\n",
      "[697]\tvalid_0's l2: 0.0388645\tvalid_0's auc: 0.952095\n",
      "[698]\tvalid_0's l2: 0.0388532\tvalid_0's auc: 0.952148\n",
      "[699]\tvalid_0's l2: 0.0388377\tvalid_0's auc: 0.952201\n",
      "[700]\tvalid_0's l2: 0.0388251\tvalid_0's auc: 0.95225\n",
      "[701]\tvalid_0's l2: 0.0388102\tvalid_0's auc: 0.952288\n",
      "[702]\tvalid_0's l2: 0.038797\tvalid_0's auc: 0.952318\n",
      "[703]\tvalid_0's l2: 0.0387877\tvalid_0's auc: 0.952348\n",
      "[704]\tvalid_0's l2: 0.0387744\tvalid_0's auc: 0.952376\n",
      "[705]\tvalid_0's l2: 0.0387653\tvalid_0's auc: 0.952404\n",
      "[706]\tvalid_0's l2: 0.0387585\tvalid_0's auc: 0.952452\n",
      "[707]\tvalid_0's l2: 0.0387516\tvalid_0's auc: 0.952484\n",
      "[708]\tvalid_0's l2: 0.0387428\tvalid_0's auc: 0.952516\n",
      "[709]\tvalid_0's l2: 0.038735\tvalid_0's auc: 0.952544\n",
      "[710]\tvalid_0's l2: 0.0387289\tvalid_0's auc: 0.95257\n",
      "[711]\tvalid_0's l2: 0.0387151\tvalid_0's auc: 0.952614\n",
      "[712]\tvalid_0's l2: 0.0387033\tvalid_0's auc: 0.952648\n",
      "[713]\tvalid_0's l2: 0.038689\tvalid_0's auc: 0.95268\n",
      "[714]\tvalid_0's l2: 0.0386745\tvalid_0's auc: 0.952724\n",
      "[715]\tvalid_0's l2: 0.0386638\tvalid_0's auc: 0.952759\n",
      "[716]\tvalid_0's l2: 0.038647\tvalid_0's auc: 0.952809\n",
      "[717]\tvalid_0's l2: 0.0386308\tvalid_0's auc: 0.952846\n",
      "[718]\tvalid_0's l2: 0.0386161\tvalid_0's auc: 0.952881\n",
      "[719]\tvalid_0's l2: 0.0386002\tvalid_0's auc: 0.952919\n",
      "[720]\tvalid_0's l2: 0.0385875\tvalid_0's auc: 0.952973\n",
      "[721]\tvalid_0's l2: 0.038574\tvalid_0's auc: 0.95299\n",
      "[722]\tvalid_0's l2: 0.0385647\tvalid_0's auc: 0.953092\n",
      "[723]\tvalid_0's l2: 0.0385541\tvalid_0's auc: 0.95318\n",
      "[724]\tvalid_0's l2: 0.0385379\tvalid_0's auc: 0.953202\n",
      "[725]\tvalid_0's l2: 0.0385266\tvalid_0's auc: 0.953264\n",
      "[726]\tvalid_0's l2: 0.0385117\tvalid_0's auc: 0.953302\n",
      "[727]\tvalid_0's l2: 0.0384978\tvalid_0's auc: 0.95334\n",
      "[728]\tvalid_0's l2: 0.0384856\tvalid_0's auc: 0.953376\n",
      "[729]\tvalid_0's l2: 0.0384732\tvalid_0's auc: 0.953409\n",
      "[730]\tvalid_0's l2: 0.0384596\tvalid_0's auc: 0.95345\n",
      "[731]\tvalid_0's l2: 0.0384449\tvalid_0's auc: 0.953492\n",
      "[732]\tvalid_0's l2: 0.0384301\tvalid_0's auc: 0.953541\n",
      "[733]\tvalid_0's l2: 0.0384166\tvalid_0's auc: 0.953574\n",
      "[734]\tvalid_0's l2: 0.0384031\tvalid_0's auc: 0.953631\n",
      "[735]\tvalid_0's l2: 0.0383904\tvalid_0's auc: 0.953672\n",
      "[736]\tvalid_0's l2: 0.0383746\tvalid_0's auc: 0.953725\n",
      "[737]\tvalid_0's l2: 0.0383592\tvalid_0's auc: 0.953768\n",
      "[738]\tvalid_0's l2: 0.0383461\tvalid_0's auc: 0.953806\n",
      "[739]\tvalid_0's l2: 0.0383334\tvalid_0's auc: 0.953844\n",
      "[740]\tvalid_0's l2: 0.0383192\tvalid_0's auc: 0.953903\n",
      "[741]\tvalid_0's l2: 0.0383017\tvalid_0's auc: 0.953942\n",
      "[742]\tvalid_0's l2: 0.0382895\tvalid_0's auc: 0.953972\n",
      "[743]\tvalid_0's l2: 0.0382774\tvalid_0's auc: 0.953991\n",
      "[744]\tvalid_0's l2: 0.0382627\tvalid_0's auc: 0.954027\n",
      "[745]\tvalid_0's l2: 0.0382523\tvalid_0's auc: 0.954046\n",
      "[746]\tvalid_0's l2: 0.0382357\tvalid_0's auc: 0.95407\n",
      "[747]\tvalid_0's l2: 0.0382188\tvalid_0's auc: 0.954109\n",
      "[748]\tvalid_0's l2: 0.0382063\tvalid_0's auc: 0.954148\n",
      "[749]\tvalid_0's l2: 0.0381907\tvalid_0's auc: 0.954169\n",
      "[750]\tvalid_0's l2: 0.038176\tvalid_0's auc: 0.954204\n",
      "[751]\tvalid_0's l2: 0.0381615\tvalid_0's auc: 0.954265\n",
      "[752]\tvalid_0's l2: 0.0381482\tvalid_0's auc: 0.954317\n",
      "[753]\tvalid_0's l2: 0.0381334\tvalid_0's auc: 0.954362\n",
      "[754]\tvalid_0's l2: 0.0381203\tvalid_0's auc: 0.954414\n",
      "[755]\tvalid_0's l2: 0.0381075\tvalid_0's auc: 0.954467\n",
      "[756]\tvalid_0's l2: 0.0380917\tvalid_0's auc: 0.954508\n",
      "[757]\tvalid_0's l2: 0.0380773\tvalid_0's auc: 0.954541\n",
      "[758]\tvalid_0's l2: 0.038067\tvalid_0's auc: 0.954581\n",
      "[759]\tvalid_0's l2: 0.0380516\tvalid_0's auc: 0.954619\n",
      "[760]\tvalid_0's l2: 0.0380362\tvalid_0's auc: 0.954645\n",
      "[761]\tvalid_0's l2: 0.0380208\tvalid_0's auc: 0.954692\n",
      "[762]\tvalid_0's l2: 0.0380023\tvalid_0's auc: 0.954727\n",
      "[763]\tvalid_0's l2: 0.0379842\tvalid_0's auc: 0.954763\n",
      "[764]\tvalid_0's l2: 0.037973\tvalid_0's auc: 0.954785\n",
      "[765]\tvalid_0's l2: 0.0379566\tvalid_0's auc: 0.95483\n",
      "[766]\tvalid_0's l2: 0.0379425\tvalid_0's auc: 0.954863\n",
      "[767]\tvalid_0's l2: 0.0379314\tvalid_0's auc: 0.954889\n",
      "[768]\tvalid_0's l2: 0.0379193\tvalid_0's auc: 0.954916\n",
      "[769]\tvalid_0's l2: 0.0379031\tvalid_0's auc: 0.954961\n",
      "[770]\tvalid_0's l2: 0.0378931\tvalid_0's auc: 0.954984\n",
      "[771]\tvalid_0's l2: 0.0378776\tvalid_0's auc: 0.955036\n",
      "[772]\tvalid_0's l2: 0.0378677\tvalid_0's auc: 0.955076\n",
      "[773]\tvalid_0's l2: 0.0378554\tvalid_0's auc: 0.955115\n",
      "[774]\tvalid_0's l2: 0.0378445\tvalid_0's auc: 0.955149\n",
      "[775]\tvalid_0's l2: 0.0378291\tvalid_0's auc: 0.955179\n",
      "[776]\tvalid_0's l2: 0.0378135\tvalid_0's auc: 0.955217\n",
      "[777]\tvalid_0's l2: 0.0378007\tvalid_0's auc: 0.955258\n",
      "[778]\tvalid_0's l2: 0.0377866\tvalid_0's auc: 0.9553\n",
      "[779]\tvalid_0's l2: 0.037778\tvalid_0's auc: 0.955329\n",
      "[780]\tvalid_0's l2: 0.0377695\tvalid_0's auc: 0.955368\n",
      "[781]\tvalid_0's l2: 0.0377569\tvalid_0's auc: 0.95544\n",
      "[782]\tvalid_0's l2: 0.0377418\tvalid_0's auc: 0.955481\n",
      "[783]\tvalid_0's l2: 0.0377285\tvalid_0's auc: 0.955503\n",
      "[784]\tvalid_0's l2: 0.0377188\tvalid_0's auc: 0.955551\n",
      "[785]\tvalid_0's l2: 0.0377055\tvalid_0's auc: 0.955582\n",
      "[786]\tvalid_0's l2: 0.0376923\tvalid_0's auc: 0.955603\n",
      "[787]\tvalid_0's l2: 0.0376733\tvalid_0's auc: 0.955645\n",
      "[788]\tvalid_0's l2: 0.0376525\tvalid_0's auc: 0.955686\n",
      "[789]\tvalid_0's l2: 0.0376406\tvalid_0's auc: 0.955704\n",
      "[790]\tvalid_0's l2: 0.0376305\tvalid_0's auc: 0.955721\n",
      "[791]\tvalid_0's l2: 0.0376148\tvalid_0's auc: 0.955754\n",
      "[792]\tvalid_0's l2: 0.0376025\tvalid_0's auc: 0.955803\n",
      "[793]\tvalid_0's l2: 0.0375884\tvalid_0's auc: 0.955842\n",
      "[794]\tvalid_0's l2: 0.0375747\tvalid_0's auc: 0.95588\n",
      "[795]\tvalid_0's l2: 0.0375597\tvalid_0's auc: 0.955919\n",
      "[796]\tvalid_0's l2: 0.0375483\tvalid_0's auc: 0.956004\n",
      "[797]\tvalid_0's l2: 0.0375353\tvalid_0's auc: 0.956046\n",
      "[798]\tvalid_0's l2: 0.0375245\tvalid_0's auc: 0.956109\n",
      "[799]\tvalid_0's l2: 0.0375099\tvalid_0's auc: 0.956164\n",
      "[800]\tvalid_0's l2: 0.0374946\tvalid_0's auc: 0.956195\n",
      "[801]\tvalid_0's l2: 0.0374847\tvalid_0's auc: 0.95622\n",
      "[802]\tvalid_0's l2: 0.0374762\tvalid_0's auc: 0.956255\n",
      "[803]\tvalid_0's l2: 0.0374677\tvalid_0's auc: 0.956293\n",
      "[804]\tvalid_0's l2: 0.0374598\tvalid_0's auc: 0.956336\n",
      "[805]\tvalid_0's l2: 0.0374458\tvalid_0's auc: 0.956365\n",
      "[806]\tvalid_0's l2: 0.0374348\tvalid_0's auc: 0.956441\n",
      "[807]\tvalid_0's l2: 0.0374235\tvalid_0's auc: 0.956479\n",
      "[808]\tvalid_0's l2: 0.0374099\tvalid_0's auc: 0.95652\n",
      "[809]\tvalid_0's l2: 0.0374\tvalid_0's auc: 0.956557\n",
      "[810]\tvalid_0's l2: 0.0373874\tvalid_0's auc: 0.956592\n",
      "[811]\tvalid_0's l2: 0.0373768\tvalid_0's auc: 0.956638\n",
      "[812]\tvalid_0's l2: 0.0373666\tvalid_0's auc: 0.956688\n",
      "[813]\tvalid_0's l2: 0.0373532\tvalid_0's auc: 0.956723\n",
      "[814]\tvalid_0's l2: 0.0373432\tvalid_0's auc: 0.956767\n",
      "[815]\tvalid_0's l2: 0.0373321\tvalid_0's auc: 0.956806\n",
      "[816]\tvalid_0's l2: 0.0373189\tvalid_0's auc: 0.956832\n",
      "[817]\tvalid_0's l2: 0.037307\tvalid_0's auc: 0.956856\n",
      "[818]\tvalid_0's l2: 0.0372947\tvalid_0's auc: 0.95688\n",
      "[819]\tvalid_0's l2: 0.0372829\tvalid_0's auc: 0.956905\n",
      "[820]\tvalid_0's l2: 0.037269\tvalid_0's auc: 0.956947\n",
      "[821]\tvalid_0's l2: 0.0372571\tvalid_0's auc: 0.956974\n",
      "[822]\tvalid_0's l2: 0.0372427\tvalid_0's auc: 0.957002\n",
      "[823]\tvalid_0's l2: 0.0372316\tvalid_0's auc: 0.957033\n",
      "[824]\tvalid_0's l2: 0.037221\tvalid_0's auc: 0.957065\n",
      "[825]\tvalid_0's l2: 0.0372096\tvalid_0's auc: 0.957091\n",
      "[826]\tvalid_0's l2: 0.037204\tvalid_0's auc: 0.95713\n",
      "[827]\tvalid_0's l2: 0.0371977\tvalid_0's auc: 0.957163\n",
      "[828]\tvalid_0's l2: 0.0371851\tvalid_0's auc: 0.957202\n",
      "[829]\tvalid_0's l2: 0.0371776\tvalid_0's auc: 0.957225\n",
      "[830]\tvalid_0's l2: 0.0371647\tvalid_0's auc: 0.957258\n",
      "[831]\tvalid_0's l2: 0.0371495\tvalid_0's auc: 0.957293\n",
      "[832]\tvalid_0's l2: 0.0371372\tvalid_0's auc: 0.957327\n",
      "[833]\tvalid_0's l2: 0.0371229\tvalid_0's auc: 0.957374\n",
      "[834]\tvalid_0's l2: 0.0371107\tvalid_0's auc: 0.957419\n",
      "[835]\tvalid_0's l2: 0.0370976\tvalid_0's auc: 0.957452\n",
      "[836]\tvalid_0's l2: 0.037081\tvalid_0's auc: 0.957494\n",
      "[837]\tvalid_0's l2: 0.0370654\tvalid_0's auc: 0.957534\n",
      "[838]\tvalid_0's l2: 0.0370496\tvalid_0's auc: 0.957567\n",
      "[839]\tvalid_0's l2: 0.0370343\tvalid_0's auc: 0.957604\n",
      "[840]\tvalid_0's l2: 0.0370178\tvalid_0's auc: 0.957645\n",
      "[841]\tvalid_0's l2: 0.0370088\tvalid_0's auc: 0.957666\n",
      "[842]\tvalid_0's l2: 0.0369983\tvalid_0's auc: 0.957695\n",
      "[843]\tvalid_0's l2: 0.0369881\tvalid_0's auc: 0.95772\n",
      "[844]\tvalid_0's l2: 0.0369795\tvalid_0's auc: 0.957744\n",
      "[845]\tvalid_0's l2: 0.0369635\tvalid_0's auc: 0.957767\n",
      "[846]\tvalid_0's l2: 0.0369473\tvalid_0's auc: 0.957796\n",
      "[847]\tvalid_0's l2: 0.0369345\tvalid_0's auc: 0.957822\n",
      "[848]\tvalid_0's l2: 0.0369162\tvalid_0's auc: 0.957851\n",
      "[849]\tvalid_0's l2: 0.0369015\tvalid_0's auc: 0.957876\n",
      "[850]\tvalid_0's l2: 0.0368899\tvalid_0's auc: 0.957902\n",
      "[851]\tvalid_0's l2: 0.0368757\tvalid_0's auc: 0.957928\n",
      "[852]\tvalid_0's l2: 0.0368656\tvalid_0's auc: 0.957962\n",
      "[853]\tvalid_0's l2: 0.0368512\tvalid_0's auc: 0.957978\n",
      "[854]\tvalid_0's l2: 0.0368353\tvalid_0's auc: 0.958014\n",
      "[855]\tvalid_0's l2: 0.0368175\tvalid_0's auc: 0.958041\n",
      "[856]\tvalid_0's l2: 0.0368003\tvalid_0's auc: 0.958082\n",
      "[857]\tvalid_0's l2: 0.0367885\tvalid_0's auc: 0.958121\n",
      "[858]\tvalid_0's l2: 0.0367718\tvalid_0's auc: 0.958153\n",
      "[859]\tvalid_0's l2: 0.0367575\tvalid_0's auc: 0.958189\n",
      "[860]\tvalid_0's l2: 0.0367447\tvalid_0's auc: 0.958228\n",
      "[861]\tvalid_0's l2: 0.0367339\tvalid_0's auc: 0.958264\n",
      "[862]\tvalid_0's l2: 0.0367226\tvalid_0's auc: 0.958296\n",
      "[863]\tvalid_0's l2: 0.0367128\tvalid_0's auc: 0.958321\n",
      "[864]\tvalid_0's l2: 0.0367012\tvalid_0's auc: 0.958372\n",
      "[865]\tvalid_0's l2: 0.0366901\tvalid_0's auc: 0.958413\n",
      "[866]\tvalid_0's l2: 0.0366805\tvalid_0's auc: 0.958442\n",
      "[867]\tvalid_0's l2: 0.0366722\tvalid_0's auc: 0.958459\n",
      "[868]\tvalid_0's l2: 0.0366621\tvalid_0's auc: 0.95848\n",
      "[869]\tvalid_0's l2: 0.036649\tvalid_0's auc: 0.958513\n",
      "[870]\tvalid_0's l2: 0.036639\tvalid_0's auc: 0.958534\n",
      "[871]\tvalid_0's l2: 0.0366304\tvalid_0's auc: 0.958563\n",
      "[872]\tvalid_0's l2: 0.0366221\tvalid_0's auc: 0.958591\n",
      "[873]\tvalid_0's l2: 0.0366107\tvalid_0's auc: 0.958623\n",
      "[874]\tvalid_0's l2: 0.0366031\tvalid_0's auc: 0.95865\n",
      "[875]\tvalid_0's l2: 0.0365915\tvalid_0's auc: 0.95868\n",
      "[876]\tvalid_0's l2: 0.0365801\tvalid_0's auc: 0.958699\n",
      "[877]\tvalid_0's l2: 0.0365665\tvalid_0's auc: 0.958729\n",
      "[878]\tvalid_0's l2: 0.0365558\tvalid_0's auc: 0.958752\n",
      "[879]\tvalid_0's l2: 0.036545\tvalid_0's auc: 0.958771\n",
      "[880]\tvalid_0's l2: 0.0365351\tvalid_0's auc: 0.958791\n",
      "[881]\tvalid_0's l2: 0.0365229\tvalid_0's auc: 0.958831\n",
      "[882]\tvalid_0's l2: 0.0365092\tvalid_0's auc: 0.958866\n",
      "[883]\tvalid_0's l2: 0.0364977\tvalid_0's auc: 0.9589\n",
      "[884]\tvalid_0's l2: 0.0364855\tvalid_0's auc: 0.958933\n",
      "[885]\tvalid_0's l2: 0.0364699\tvalid_0's auc: 0.958995\n",
      "[886]\tvalid_0's l2: 0.0364542\tvalid_0's auc: 0.959024\n",
      "[887]\tvalid_0's l2: 0.0364434\tvalid_0's auc: 0.959076\n",
      "[888]\tvalid_0's l2: 0.0364322\tvalid_0's auc: 0.959118\n",
      "[889]\tvalid_0's l2: 0.0364191\tvalid_0's auc: 0.959145\n",
      "[890]\tvalid_0's l2: 0.0364045\tvalid_0's auc: 0.959186\n",
      "[891]\tvalid_0's l2: 0.0363912\tvalid_0's auc: 0.959228\n",
      "[892]\tvalid_0's l2: 0.0363793\tvalid_0's auc: 0.959271\n",
      "[893]\tvalid_0's l2: 0.0363679\tvalid_0's auc: 0.959303\n",
      "[894]\tvalid_0's l2: 0.0363551\tvalid_0's auc: 0.959337\n",
      "[895]\tvalid_0's l2: 0.0363449\tvalid_0's auc: 0.959374\n",
      "[896]\tvalid_0's l2: 0.036329\tvalid_0's auc: 0.959407\n",
      "[897]\tvalid_0's l2: 0.0363151\tvalid_0's auc: 0.959436\n",
      "[898]\tvalid_0's l2: 0.0363013\tvalid_0's auc: 0.95947\n",
      "[899]\tvalid_0's l2: 0.0362857\tvalid_0's auc: 0.9595\n",
      "[900]\tvalid_0's l2: 0.0362721\tvalid_0's auc: 0.959545\n",
      "[901]\tvalid_0's l2: 0.0362576\tvalid_0's auc: 0.959579\n",
      "[902]\tvalid_0's l2: 0.0362483\tvalid_0's auc: 0.959596\n",
      "[903]\tvalid_0's l2: 0.0362376\tvalid_0's auc: 0.959611\n",
      "[904]\tvalid_0's l2: 0.0362248\tvalid_0's auc: 0.959626\n",
      "[905]\tvalid_0's l2: 0.0362123\tvalid_0's auc: 0.959662\n",
      "[906]\tvalid_0's l2: 0.0361993\tvalid_0's auc: 0.959683\n",
      "[907]\tvalid_0's l2: 0.0361872\tvalid_0's auc: 0.959706\n",
      "[908]\tvalid_0's l2: 0.0361764\tvalid_0's auc: 0.959724\n",
      "[909]\tvalid_0's l2: 0.0361619\tvalid_0's auc: 0.959764\n",
      "[910]\tvalid_0's l2: 0.036151\tvalid_0's auc: 0.959783\n",
      "[911]\tvalid_0's l2: 0.0361399\tvalid_0's auc: 0.959832\n",
      "[912]\tvalid_0's l2: 0.0361326\tvalid_0's auc: 0.959844\n",
      "[913]\tvalid_0's l2: 0.0361213\tvalid_0's auc: 0.959869\n",
      "[914]\tvalid_0's l2: 0.0361142\tvalid_0's auc: 0.959888\n",
      "[915]\tvalid_0's l2: 0.0361023\tvalid_0's auc: 0.959924\n",
      "[916]\tvalid_0's l2: 0.0360868\tvalid_0's auc: 0.959952\n",
      "[917]\tvalid_0's l2: 0.0360725\tvalid_0's auc: 0.959995\n",
      "[918]\tvalid_0's l2: 0.0360578\tvalid_0's auc: 0.960019\n",
      "[919]\tvalid_0's l2: 0.0360453\tvalid_0's auc: 0.960056\n",
      "[920]\tvalid_0's l2: 0.0360321\tvalid_0's auc: 0.960096\n",
      "[921]\tvalid_0's l2: 0.0360217\tvalid_0's auc: 0.96012\n",
      "[922]\tvalid_0's l2: 0.0360102\tvalid_0's auc: 0.960146\n",
      "[923]\tvalid_0's l2: 0.0359994\tvalid_0's auc: 0.960188\n",
      "[924]\tvalid_0's l2: 0.0359834\tvalid_0's auc: 0.960217\n",
      "[925]\tvalid_0's l2: 0.0359727\tvalid_0's auc: 0.960239\n",
      "[926]\tvalid_0's l2: 0.035963\tvalid_0's auc: 0.960268\n",
      "[927]\tvalid_0's l2: 0.0359538\tvalid_0's auc: 0.96029\n",
      "[928]\tvalid_0's l2: 0.0359449\tvalid_0's auc: 0.960309\n",
      "[929]\tvalid_0's l2: 0.035937\tvalid_0's auc: 0.960327\n",
      "[930]\tvalid_0's l2: 0.0359257\tvalid_0's auc: 0.960359\n",
      "[931]\tvalid_0's l2: 0.0359092\tvalid_0's auc: 0.960404\n",
      "[932]\tvalid_0's l2: 0.0358962\tvalid_0's auc: 0.960442\n",
      "[933]\tvalid_0's l2: 0.0358868\tvalid_0's auc: 0.960467\n",
      "[934]\tvalid_0's l2: 0.0358772\tvalid_0's auc: 0.960495\n",
      "[935]\tvalid_0's l2: 0.035864\tvalid_0's auc: 0.960537\n",
      "[936]\tvalid_0's l2: 0.0358514\tvalid_0's auc: 0.960569\n",
      "[937]\tvalid_0's l2: 0.0358358\tvalid_0's auc: 0.960599\n",
      "[938]\tvalid_0's l2: 0.0358222\tvalid_0's auc: 0.960629\n",
      "[939]\tvalid_0's l2: 0.0358126\tvalid_0's auc: 0.960658\n",
      "[940]\tvalid_0's l2: 0.0358018\tvalid_0's auc: 0.96068\n",
      "[941]\tvalid_0's l2: 0.0357872\tvalid_0's auc: 0.960736\n",
      "[942]\tvalid_0's l2: 0.0357736\tvalid_0's auc: 0.960789\n",
      "[943]\tvalid_0's l2: 0.0357613\tvalid_0's auc: 0.96083\n",
      "[944]\tvalid_0's l2: 0.0357468\tvalid_0's auc: 0.960864\n",
      "[945]\tvalid_0's l2: 0.0357369\tvalid_0's auc: 0.960907\n",
      "[946]\tvalid_0's l2: 0.0357269\tvalid_0's auc: 0.960943\n",
      "[947]\tvalid_0's l2: 0.0357149\tvalid_0's auc: 0.960976\n",
      "[948]\tvalid_0's l2: 0.0357039\tvalid_0's auc: 0.961006\n",
      "[949]\tvalid_0's l2: 0.035694\tvalid_0's auc: 0.961034\n",
      "[950]\tvalid_0's l2: 0.0356842\tvalid_0's auc: 0.961054\n",
      "[951]\tvalid_0's l2: 0.0356717\tvalid_0's auc: 0.961084\n",
      "[952]\tvalid_0's l2: 0.0356567\tvalid_0's auc: 0.961113\n",
      "[953]\tvalid_0's l2: 0.0356436\tvalid_0's auc: 0.961136\n",
      "[954]\tvalid_0's l2: 0.0356274\tvalid_0's auc: 0.961172\n",
      "[955]\tvalid_0's l2: 0.0356156\tvalid_0's auc: 0.961224\n",
      "[956]\tvalid_0's l2: 0.0356042\tvalid_0's auc: 0.961251\n",
      "[957]\tvalid_0's l2: 0.0355949\tvalid_0's auc: 0.961277\n",
      "[958]\tvalid_0's l2: 0.0355844\tvalid_0's auc: 0.961321\n",
      "[959]\tvalid_0's l2: 0.0355771\tvalid_0's auc: 0.961351\n",
      "[960]\tvalid_0's l2: 0.0355642\tvalid_0's auc: 0.961386\n",
      "[961]\tvalid_0's l2: 0.0355539\tvalid_0's auc: 0.961417\n",
      "[962]\tvalid_0's l2: 0.0355416\tvalid_0's auc: 0.961435\n",
      "[963]\tvalid_0's l2: 0.0355315\tvalid_0's auc: 0.961453\n",
      "[964]\tvalid_0's l2: 0.0355198\tvalid_0's auc: 0.961489\n",
      "[965]\tvalid_0's l2: 0.0355096\tvalid_0's auc: 0.961504\n",
      "[966]\tvalid_0's l2: 0.0354993\tvalid_0's auc: 0.961547\n",
      "[967]\tvalid_0's l2: 0.0354883\tvalid_0's auc: 0.961597\n",
      "[968]\tvalid_0's l2: 0.0354772\tvalid_0's auc: 0.961629\n",
      "[969]\tvalid_0's l2: 0.0354641\tvalid_0's auc: 0.961663\n",
      "[970]\tvalid_0's l2: 0.0354512\tvalid_0's auc: 0.961679\n",
      "[971]\tvalid_0's l2: 0.0354401\tvalid_0's auc: 0.961712\n",
      "[972]\tvalid_0's l2: 0.035425\tvalid_0's auc: 0.961751\n",
      "[973]\tvalid_0's l2: 0.0354114\tvalid_0's auc: 0.961784\n",
      "[974]\tvalid_0's l2: 0.0354008\tvalid_0's auc: 0.961811\n",
      "[975]\tvalid_0's l2: 0.035388\tvalid_0's auc: 0.96184\n",
      "[976]\tvalid_0's l2: 0.0353747\tvalid_0's auc: 0.961872\n",
      "[977]\tvalid_0's l2: 0.0353622\tvalid_0's auc: 0.96191\n",
      "[978]\tvalid_0's l2: 0.0353502\tvalid_0's auc: 0.961938\n",
      "[979]\tvalid_0's l2: 0.0353387\tvalid_0's auc: 0.961974\n",
      "[980]\tvalid_0's l2: 0.0353266\tvalid_0's auc: 0.961998\n",
      "[981]\tvalid_0's l2: 0.0353144\tvalid_0's auc: 0.962043\n",
      "[982]\tvalid_0's l2: 0.0353035\tvalid_0's auc: 0.962062\n",
      "[983]\tvalid_0's l2: 0.0352943\tvalid_0's auc: 0.96212\n",
      "[984]\tvalid_0's l2: 0.035285\tvalid_0's auc: 0.96217\n",
      "[985]\tvalid_0's l2: 0.0352744\tvalid_0's auc: 0.962225\n",
      "[986]\tvalid_0's l2: 0.0352605\tvalid_0's auc: 0.962269\n",
      "[987]\tvalid_0's l2: 0.0352454\tvalid_0's auc: 0.962303\n",
      "[988]\tvalid_0's l2: 0.0352322\tvalid_0's auc: 0.962333\n",
      "[989]\tvalid_0's l2: 0.0352177\tvalid_0's auc: 0.962371\n",
      "[990]\tvalid_0's l2: 0.0352085\tvalid_0's auc: 0.962395\n",
      "[991]\tvalid_0's l2: 0.035195\tvalid_0's auc: 0.96244\n",
      "[992]\tvalid_0's l2: 0.0351836\tvalid_0's auc: 0.962473\n",
      "[993]\tvalid_0's l2: 0.0351691\tvalid_0's auc: 0.962517\n",
      "[994]\tvalid_0's l2: 0.0351555\tvalid_0's auc: 0.962535\n",
      "[995]\tvalid_0's l2: 0.0351436\tvalid_0's auc: 0.962574\n",
      "[996]\tvalid_0's l2: 0.0351323\tvalid_0's auc: 0.962631\n",
      "[997]\tvalid_0's l2: 0.035121\tvalid_0's auc: 0.962664\n",
      "[998]\tvalid_0's l2: 0.0351102\tvalid_0's auc: 0.962695\n",
      "[999]\tvalid_0's l2: 0.0351003\tvalid_0's auc: 0.962721\n",
      "[1000]\tvalid_0's l2: 0.0350895\tvalid_0's auc: 0.962744\n",
      "Did not meet early stopping. Best iteration is:\n",
      "[1000]\tvalid_0's l2: 0.0350895\tvalid_0's auc: 0.962744\n"
     ]
    }
   ],
   "source": [
    "model_p = train_model(full_set, full_set, important_cols, num_boost_round=1000, stopping_round=10, par=params)"
   ],
   "metadata": {
    "collapsed": false,
    "pycharm": {
     "name": "#%%\n"
    }
   }
  },
  {
   "cell_type": "code",
   "execution_count": 412,
   "outputs": [],
   "source": [
    "def pred_test(_model, _test_set, _feat_cols, _save_name):\n",
    "    pred = _model.predict(_test_set[_feat_cols], num_iteration=_model.best_iteration)\n",
    "    submit = _test_set.copy(deep=False)[['User_id', 'Coupon_id', 'Date_received']]\n",
    "    submit['Probability'] = pred\n",
    "    submit.to_csv(f'./submits/{_save_name}.csv', index=False, header=False, date_format='%Y%m%d')"
   ],
   "metadata": {
    "collapsed": false,
    "pycharm": {
     "name": "#%%\n"
    }
   }
  },
  {
   "cell_type": "code",
   "execution_count": 413,
   "outputs": [],
   "source": [
    "test_set['on2_1_User_id_fixed_consume-sum'] = 0"
   ],
   "metadata": {
    "collapsed": false,
    "pycharm": {
     "name": "#%%\n"
    }
   }
  },
  {
   "cell_type": "code",
   "execution_count": 414,
   "outputs": [],
   "source": [
    "pred_test(model_p, test_set, important_cols, 'importance_feats_submit_200_full_feats')"
   ],
   "metadata": {
    "collapsed": false,
    "pycharm": {
     "name": "#%%\n"
    }
   }
  },
  {
   "cell_type": "code",
   "execution_count": 409,
   "outputs": [
    {
     "data": {
      "text/plain": "200"
     },
     "execution_count": 409,
     "metadata": {},
     "output_type": "execute_result"
    }
   ],
   "source": [
    "len(important_cols)"
   ],
   "metadata": {
    "collapsed": false,
    "pycharm": {
     "name": "#%%\n"
    }
   }
  },
  {
   "cell_type": "code",
   "execution_count": null,
   "outputs": [],
   "source": [],
   "metadata": {
    "collapsed": false,
    "pycharm": {
     "name": "#%%\n"
    }
   }
  }
 ],
 "metadata": {
  "kernelspec": {
   "display_name": "Python 3",
   "language": "python",
   "name": "python3"
  },
  "language_info": {
   "codemirror_mode": {
    "name": "ipython",
    "version": 2
   },
   "file_extension": ".py",
   "mimetype": "text/x-python",
   "name": "python",
   "nbconvert_exporter": "python",
   "pygments_lexer": "ipython2",
   "version": "2.7.6"
  }
 },
 "nbformat": 4,
 "nbformat_minor": 0
}