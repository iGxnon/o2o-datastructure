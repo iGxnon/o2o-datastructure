{
 "cells": [
  {
   "cell_type": "markdown",
   "source": [
    "# 这是任务二的特征工程代码\n",
    "\n",
    "## 分割数据集\n",
    "\n",
    "## AutoML\n",
    "\n",
    "- 自动特征工程\n",
    "    - 特征的自动提取\n",
    "- 特征筛选\n",
    "- 模型融合\n",
    "    - AutoGluon\n",
    "- Stacking\n"
   ],
   "metadata": {
    "collapsed": false,
    "pycharm": {
     "name": "#%% md\n"
    }
   }
  },
  {
   "cell_type": "code",
   "execution_count": 1,
   "outputs": [],
   "source": [
    "import pandas as pd\n",
    "import warnings\n",
    "\n",
    "warnings.filterwarnings('ignore')"
   ],
   "metadata": {
    "collapsed": false,
    "pycharm": {
     "name": "#%%\n"
    }
   }
  },
  {
   "cell_type": "code",
   "execution_count": null,
   "outputs": [],
   "source": [
    "def split_off_dataset(off: pd.DataFrame, space=pd.to_timedelta(0), time_ranges=None):\n",
    "    \"\"\"\n",
    "    滑动窗口分割\n",
    "    :param space: 时间间隔，特征区间之后时间间隔后的一个月作为标签区间，默认为 0\n",
    "    :param off: 线下数据集\n",
    "    :param time_ranges: kv，表示特征区间\n",
    "    :return: 两个列表，特征区间和标签区间，标签区间为特征区间结束间隔space后的一个月\n",
    "    \"\"\"\n",
    "    print(\"====== off train set info ======\")\n",
    "    print(off.info())\n",
    "    print()\n",
    "    label_len = pd.to_timedelta(30, unit='D') # 三十天\n",
    "    _feats = []\n",
    "    _labels = []\n",
    "    for k, v in time_ranges.items():\n",
    "        time_range = pd.date_range(k, k+v)\n",
    "        _feats.append(off[off['Date_received'].isin(time_range) |  # 领券日期在 time_range 内\n",
    "                          ((off['Coupon_id'] == 0) & off['Date'].isin(time_range))]) # 在 time_range 内直接消费\n",
    "        print(f'features time range {k} : {k+v}, size {len(_feats[len(_feats)-1])}')\n",
    "        time_range = pd.date_range(k+v+space+pd.to_timedelta(1, 'D'), k+v+space+label_len)\n",
    "        _labels.append(off[off['Date_received'].isin(time_range)]) # 训练用的标签集合，标签集合不需要采样直接消费的\n",
    "        print(f'labels time range {k+v+space+pd.to_timedelta(1, \"D\")} : {k+v+space+label_len},'\n",
    "              f' size {len(_labels[len(_labels)-1])}')\n",
    "    del time_range\n",
    "    print(f'total features size {sum(map(lambda x: len(x), _feats))}')\n",
    "    print(f'total labels size {sum(map(lambda x: len(x), _labels))}')\n",
    "    return _feats, _labels"
   ],
   "metadata": {
    "collapsed": false,
    "pycharm": {
     "name": "#%%\n"
    }
   }
  }
 ],
 "metadata": {
  "kernelspec": {
   "display_name": "Python 3",
   "language": "python",
   "name": "python3"
  },
  "language_info": {
   "codemirror_mode": {
    "name": "ipython",
    "version": 2
   },
   "file_extension": ".py",
   "mimetype": "text/x-python",
   "name": "python",
   "nbconvert_exporter": "python",
   "pygments_lexer": "ipython2",
   "version": "2.7.6"
  }
 },
 "nbformat": 4,
 "nbformat_minor": 0
}