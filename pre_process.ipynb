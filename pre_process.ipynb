{
 "cells": [
  {
   "cell_type": "markdown",
   "metadata": {
    "pycharm": {
     "name": "#%% md\n"
    }
   },
   "source": [
    "## pre_process.ipynb\n",
    "\n",
    "- 这是任务一和任务二的数据预处理代码\n",
    "\n",
    "## 生成数据描述\n",
    "\n",
    "1. ccf_off_test.csv\n",
    "\n",
    "- 由 dataset_raw/ccf_offline_stage1_test_revised.csv 生成\n",
    "\n",
    "- 新增列：\n",
    "\n",
    "| no_distance      | is_full_discount | discount_x      | discount_y      | discount_rate    | discount_type          |\n",
    "| ---------------- | ---------------- | --------------- | --------------- | ---------------- | ---------------------- |\n",
    "| 是否没有距离信息 | 是否是满减优惠券 | 满减时满多少RMB | 满减时减多少RMB | 优惠券等价折扣率 | 优惠券种类硬编码(17种) |\n",
    "\n",
    "2. ccf_off_train_csv\n",
    "\n",
    "- 由 dataset_raw/ccf_offline_stage1_train.csv 生成\n",
    "\n",
    "- 在 `1` 的基础上新增列:\n",
    "\n",
    "| normal_consume                     | coupon_consume                     | no_consume                 |\n",
    "| ---------------------------------- | ---------------------------------- | -------------------------- |\n",
    "| 是否是没有使用优惠券消费(正常消费) | 是否是使用了优惠券消费(无15天限制) | 是否是领了优惠券但没有消费 |\n",
    "\n",
    "---\n",
    "\n",
    "> 三者类似独热编码，只有也一定会有一个是 1，剩下两个是 0\n",
    "> (没有领优惠券并且没有消费不需要记录)\n",
    "\n",
    "3. ccf_on_train.csv\n",
    "\n",
    "- 由 dataset_raw/ccf_online_stage1_train.csv 生成\n",
    "\n",
    "- 与 `2` 相比，新增特征有如下不同\n",
    "\n",
    "  - fixed_consume: 是否是限时降价的消费 (限时降价的数据都消费了)\n",
    "  - normal_consume，coupon_consume，no_consume，fixed_consume 四者之和不一定为 1\n",
    "    - 不为 1 的 Action 一定为 0     (点击行为)\n",
    "    - Action 为 0 的四者之和不为 1\n",
    "    - 点击行为没有优惠券\n",
    "    - 没有优惠券的不一定是点击行为，还有一个正常消费行为\n",
    "  - discount_rate 为 -1.0 时表示限时降价消费\n",
    "    - 点击和正常购买时 discount_rate 都等于 1.0"
   ]
  },
  {
   "cell_type": "code",
   "execution_count": 1,
   "metadata": {
    "pycharm": {
     "name": "#%%\n"
    }
   },
   "outputs": [],
   "source": [
    "import pandas as pd\n",
    "import numpy as np\n",
    "\n",
    "no_date = pd.to_datetime(0)  # 时间戳零点"
   ]
  },
  {
   "cell_type": "code",
   "execution_count": 4,
   "metadata": {
    "pycharm": {
     "name": "#%%\n"
    }
   },
   "outputs": [
    {
     "data": {
      "text/plain": "        User_id  Merchant_id  Coupon_id Discount_rate  Distance Date_received\n0       4129537          450       9983          30:5       1.0    2016-07-12\n1       6949378         1300       3429          30:5       NaN    2016-07-06\n2       2166529         7113       6928        200:20       5.0    2016-07-27\n3       2166529         7113       1808        100:10       5.0    2016-07-27\n4       6172162         7605       6500          30:1       2.0    2016-07-08\n...         ...          ...        ...           ...       ...           ...\n113635  5828093         5717      10418          30:5      10.0    2016-07-16\n113636  6626813         1699       7595          30:1       NaN    2016-07-07\n113637  6626813         7321       7590          50:5       NaN    2016-07-12\n113638  4547069          760      13602          30:5       0.0    2016-07-17\n113639  6675965         7487        613          20:1       5.0    2016-07-28\n\n[113640 rows x 6 columns]",
      "text/html": "<div>\n<style scoped>\n    .dataframe tbody tr th:only-of-type {\n        vertical-align: middle;\n    }\n\n    .dataframe tbody tr th {\n        vertical-align: top;\n    }\n\n    .dataframe thead th {\n        text-align: right;\n    }\n</style>\n<table border=\"1\" class=\"dataframe\">\n  <thead>\n    <tr style=\"text-align: right;\">\n      <th></th>\n      <th>User_id</th>\n      <th>Merchant_id</th>\n      <th>Coupon_id</th>\n      <th>Discount_rate</th>\n      <th>Distance</th>\n      <th>Date_received</th>\n    </tr>\n  </thead>\n  <tbody>\n    <tr>\n      <th>0</th>\n      <td>4129537</td>\n      <td>450</td>\n      <td>9983</td>\n      <td>30:5</td>\n      <td>1.0</td>\n      <td>2016-07-12</td>\n    </tr>\n    <tr>\n      <th>1</th>\n      <td>6949378</td>\n      <td>1300</td>\n      <td>3429</td>\n      <td>30:5</td>\n      <td>NaN</td>\n      <td>2016-07-06</td>\n    </tr>\n    <tr>\n      <th>2</th>\n      <td>2166529</td>\n      <td>7113</td>\n      <td>6928</td>\n      <td>200:20</td>\n      <td>5.0</td>\n      <td>2016-07-27</td>\n    </tr>\n    <tr>\n      <th>3</th>\n      <td>2166529</td>\n      <td>7113</td>\n      <td>1808</td>\n      <td>100:10</td>\n      <td>5.0</td>\n      <td>2016-07-27</td>\n    </tr>\n    <tr>\n      <th>4</th>\n      <td>6172162</td>\n      <td>7605</td>\n      <td>6500</td>\n      <td>30:1</td>\n      <td>2.0</td>\n      <td>2016-07-08</td>\n    </tr>\n    <tr>\n      <th>...</th>\n      <td>...</td>\n      <td>...</td>\n      <td>...</td>\n      <td>...</td>\n      <td>...</td>\n      <td>...</td>\n    </tr>\n    <tr>\n      <th>113635</th>\n      <td>5828093</td>\n      <td>5717</td>\n      <td>10418</td>\n      <td>30:5</td>\n      <td>10.0</td>\n      <td>2016-07-16</td>\n    </tr>\n    <tr>\n      <th>113636</th>\n      <td>6626813</td>\n      <td>1699</td>\n      <td>7595</td>\n      <td>30:1</td>\n      <td>NaN</td>\n      <td>2016-07-07</td>\n    </tr>\n    <tr>\n      <th>113637</th>\n      <td>6626813</td>\n      <td>7321</td>\n      <td>7590</td>\n      <td>50:5</td>\n      <td>NaN</td>\n      <td>2016-07-12</td>\n    </tr>\n    <tr>\n      <th>113638</th>\n      <td>4547069</td>\n      <td>760</td>\n      <td>13602</td>\n      <td>30:5</td>\n      <td>0.0</td>\n      <td>2016-07-17</td>\n    </tr>\n    <tr>\n      <th>113639</th>\n      <td>6675965</td>\n      <td>7487</td>\n      <td>613</td>\n      <td>20:1</td>\n      <td>5.0</td>\n      <td>2016-07-28</td>\n    </tr>\n  </tbody>\n</table>\n<p>113640 rows × 6 columns</p>\n</div>"
     },
     "execution_count": 4,
     "metadata": {},
     "output_type": "execute_result"
    }
   ],
   "source": [
    "test = pd.read_csv('./dataset_raw/ccf_offline_stage1_test_revised.csv', parse_dates=[\"Date_received\"])\n",
    "test"
   ]
  },
  {
   "cell_type": "code",
   "execution_count": 5,
   "metadata": {
    "pycharm": {
     "name": "#%%\n"
    }
   },
   "outputs": [
    {
     "data": {
      "text/plain": "            User_id    Merchant_id      Coupon_id       Distance\ncount  1.136400e+05  113640.000000  113640.000000  101576.000000\nmean   3.684858e+06    2962.283853    9053.810929       2.328040\nstd    2.126259e+06    2494.450802    4145.873088       3.260755\nmin    2.090000e+02       6.000000       3.000000       0.000000\n25%    1.844191e+06     760.000000    5023.000000       0.000000\n50%    3.683266e+06    2050.000000    9983.000000       1.000000\n75%    5.525845e+06    5138.000000   13602.000000       3.000000\nmax    7.361024e+06    8856.000000   14045.000000      10.000000",
      "text/html": "<div>\n<style scoped>\n    .dataframe tbody tr th:only-of-type {\n        vertical-align: middle;\n    }\n\n    .dataframe tbody tr th {\n        vertical-align: top;\n    }\n\n    .dataframe thead th {\n        text-align: right;\n    }\n</style>\n<table border=\"1\" class=\"dataframe\">\n  <thead>\n    <tr style=\"text-align: right;\">\n      <th></th>\n      <th>User_id</th>\n      <th>Merchant_id</th>\n      <th>Coupon_id</th>\n      <th>Distance</th>\n    </tr>\n  </thead>\n  <tbody>\n    <tr>\n      <th>count</th>\n      <td>1.136400e+05</td>\n      <td>113640.000000</td>\n      <td>113640.000000</td>\n      <td>101576.000000</td>\n    </tr>\n    <tr>\n      <th>mean</th>\n      <td>3.684858e+06</td>\n      <td>2962.283853</td>\n      <td>9053.810929</td>\n      <td>2.328040</td>\n    </tr>\n    <tr>\n      <th>std</th>\n      <td>2.126259e+06</td>\n      <td>2494.450802</td>\n      <td>4145.873088</td>\n      <td>3.260755</td>\n    </tr>\n    <tr>\n      <th>min</th>\n      <td>2.090000e+02</td>\n      <td>6.000000</td>\n      <td>3.000000</td>\n      <td>0.000000</td>\n    </tr>\n    <tr>\n      <th>25%</th>\n      <td>1.844191e+06</td>\n      <td>760.000000</td>\n      <td>5023.000000</td>\n      <td>0.000000</td>\n    </tr>\n    <tr>\n      <th>50%</th>\n      <td>3.683266e+06</td>\n      <td>2050.000000</td>\n      <td>9983.000000</td>\n      <td>1.000000</td>\n    </tr>\n    <tr>\n      <th>75%</th>\n      <td>5.525845e+06</td>\n      <td>5138.000000</td>\n      <td>13602.000000</td>\n      <td>3.000000</td>\n    </tr>\n    <tr>\n      <th>max</th>\n      <td>7.361024e+06</td>\n      <td>8856.000000</td>\n      <td>14045.000000</td>\n      <td>10.000000</td>\n    </tr>\n  </tbody>\n</table>\n</div>"
     },
     "execution_count": 5,
     "metadata": {},
     "output_type": "execute_result"
    }
   ],
   "source": [
    "test.describe()"
   ]
  },
  {
   "cell_type": "code",
   "execution_count": 6,
   "metadata": {
    "pycharm": {
     "name": "#%%\n"
    }
   },
   "outputs": [
    {
     "data": {
      "text/plain": "User_id           True\nMerchant_id       True\nCoupon_id         True\nDiscount_rate     True\nDistance         False\nDate_received     True\ndtype: bool"
     },
     "execution_count": 6,
     "metadata": {},
     "output_type": "execute_result"
    }
   ],
   "source": [
    "test.notna().all()"
   ]
  },
  {
   "cell_type": "code",
   "execution_count": 7,
   "metadata": {
    "pycharm": {
     "name": "#%%\n"
    }
   },
   "outputs": [],
   "source": [
    "test['Distance'] = test['Distance'].fillna(-1).astype(int)"
   ]
  },
  {
   "cell_type": "code",
   "execution_count": 8,
   "metadata": {
    "pycharm": {
     "name": "#%%\n"
    }
   },
   "outputs": [
    {
     "data": {
      "text/plain": "        User_id  Merchant_id  Coupon_id Discount_rate  Distance Date_received\n0       4129537          450       9983          30:5         1    2016-07-12\n1       6949378         1300       3429          30:5        -1    2016-07-06\n2       2166529         7113       6928        200:20         5    2016-07-27\n3       2166529         7113       1808        100:10         5    2016-07-27\n4       6172162         7605       6500          30:1         2    2016-07-08\n...         ...          ...        ...           ...       ...           ...\n113635  5828093         5717      10418          30:5        10    2016-07-16\n113636  6626813         1699       7595          30:1        -1    2016-07-07\n113637  6626813         7321       7590          50:5        -1    2016-07-12\n113638  4547069          760      13602          30:5         0    2016-07-17\n113639  6675965         7487        613          20:1         5    2016-07-28\n\n[113640 rows x 6 columns]",
      "text/html": "<div>\n<style scoped>\n    .dataframe tbody tr th:only-of-type {\n        vertical-align: middle;\n    }\n\n    .dataframe tbody tr th {\n        vertical-align: top;\n    }\n\n    .dataframe thead th {\n        text-align: right;\n    }\n</style>\n<table border=\"1\" class=\"dataframe\">\n  <thead>\n    <tr style=\"text-align: right;\">\n      <th></th>\n      <th>User_id</th>\n      <th>Merchant_id</th>\n      <th>Coupon_id</th>\n      <th>Discount_rate</th>\n      <th>Distance</th>\n      <th>Date_received</th>\n    </tr>\n  </thead>\n  <tbody>\n    <tr>\n      <th>0</th>\n      <td>4129537</td>\n      <td>450</td>\n      <td>9983</td>\n      <td>30:5</td>\n      <td>1</td>\n      <td>2016-07-12</td>\n    </tr>\n    <tr>\n      <th>1</th>\n      <td>6949378</td>\n      <td>1300</td>\n      <td>3429</td>\n      <td>30:5</td>\n      <td>-1</td>\n      <td>2016-07-06</td>\n    </tr>\n    <tr>\n      <th>2</th>\n      <td>2166529</td>\n      <td>7113</td>\n      <td>6928</td>\n      <td>200:20</td>\n      <td>5</td>\n      <td>2016-07-27</td>\n    </tr>\n    <tr>\n      <th>3</th>\n      <td>2166529</td>\n      <td>7113</td>\n      <td>1808</td>\n      <td>100:10</td>\n      <td>5</td>\n      <td>2016-07-27</td>\n    </tr>\n    <tr>\n      <th>4</th>\n      <td>6172162</td>\n      <td>7605</td>\n      <td>6500</td>\n      <td>30:1</td>\n      <td>2</td>\n      <td>2016-07-08</td>\n    </tr>\n    <tr>\n      <th>...</th>\n      <td>...</td>\n      <td>...</td>\n      <td>...</td>\n      <td>...</td>\n      <td>...</td>\n      <td>...</td>\n    </tr>\n    <tr>\n      <th>113635</th>\n      <td>5828093</td>\n      <td>5717</td>\n      <td>10418</td>\n      <td>30:5</td>\n      <td>10</td>\n      <td>2016-07-16</td>\n    </tr>\n    <tr>\n      <th>113636</th>\n      <td>6626813</td>\n      <td>1699</td>\n      <td>7595</td>\n      <td>30:1</td>\n      <td>-1</td>\n      <td>2016-07-07</td>\n    </tr>\n    <tr>\n      <th>113637</th>\n      <td>6626813</td>\n      <td>7321</td>\n      <td>7590</td>\n      <td>50:5</td>\n      <td>-1</td>\n      <td>2016-07-12</td>\n    </tr>\n    <tr>\n      <th>113638</th>\n      <td>4547069</td>\n      <td>760</td>\n      <td>13602</td>\n      <td>30:5</td>\n      <td>0</td>\n      <td>2016-07-17</td>\n    </tr>\n    <tr>\n      <th>113639</th>\n      <td>6675965</td>\n      <td>7487</td>\n      <td>613</td>\n      <td>20:1</td>\n      <td>5</td>\n      <td>2016-07-28</td>\n    </tr>\n  </tbody>\n</table>\n<p>113640 rows × 6 columns</p>\n</div>"
     },
     "execution_count": 8,
     "metadata": {},
     "output_type": "execute_result"
    }
   ],
   "source": [
    "test"
   ]
  },
  {
   "cell_type": "code",
   "execution_count": 9,
   "metadata": {
    "pycharm": {
     "name": "#%%\n"
    }
   },
   "outputs": [],
   "source": [
    "test['no_distance'] = (test['Distance'] == -1).astype(int)\n",
    "test['is_full_discount'] = test['Discount_rate'].str.contains(':').astype(int)\n",
    "test[['discount_x', 'discount_y']] = test[test['is_full_discount'] == 1]['Discount_rate']\\\n",
    "    .str.split(':', expand=True).astype(float)\n",
    "     # expand 设置成 true 才可以返回一个 dataframe，设置成 float 是因为合并时有NA\n",
    "test['discount_rate'] = (1 - (test['discount_y'] / test['discount_x']))\\\n",
    "    .fillna(test['Discount_rate']).astype(float)\n",
    "test[['discount_x', 'discount_y']] = \\\n",
    "    test[['discount_x', 'discount_y']].fillna(-1).astype(int)"
   ]
  },
  {
   "cell_type": "code",
   "execution_count": 10,
   "metadata": {
    "pycharm": {
     "name": "#%%\n"
    }
   },
   "outputs": [],
   "source": [
    "rate = sorted(set(test.discount_rate))\n",
    "test['discount_type'] = test['discount_rate'].apply(lambda x: rate.index(x))"
   ]
  },
  {
   "cell_type": "code",
   "execution_count": 11,
   "metadata": {
    "pycharm": {
     "name": "#%%\n"
    }
   },
   "outputs": [
    {
     "data": {
      "text/plain": "        User_id  Merchant_id  Coupon_id Discount_rate  Distance Date_received  \\\n0       4129537          450       9983          30:5         1    2016-07-12   \n1       6949378         1300       3429          30:5        -1    2016-07-06   \n2       2166529         7113       6928        200:20         5    2016-07-27   \n3       2166529         7113       1808        100:10         5    2016-07-27   \n4       6172162         7605       6500          30:1         2    2016-07-08   \n...         ...          ...        ...           ...       ...           ...   \n113635  5828093         5717      10418          30:5        10    2016-07-16   \n113636  6626813         1699       7595          30:1        -1    2016-07-07   \n113637  6626813         7321       7590          50:5        -1    2016-07-12   \n113638  4547069          760      13602          30:5         0    2016-07-17   \n113639  6675965         7487        613          20:1         5    2016-07-28   \n\n        no_distance  is_full_discount  discount_x  discount_y  discount_rate  \\\n0                 0                 1          30           5       0.833333   \n1                 1                 1          30           5       0.833333   \n2                 0                 1         200          20       0.900000   \n3                 0                 1         100          10       0.900000   \n4                 0                 1          30           1       0.966667   \n...             ...               ...         ...         ...            ...   \n113635            0                 1          30           5       0.833333   \n113636            1                 1          30           1       0.966667   \n113637            1                 1          50           5       0.900000   \n113638            0                 1          30           5       0.833333   \n113639            0                 1          20           1       0.950000   \n\n        discount_type  \n0                   7  \n1                   7  \n2                  10  \n3                  10  \n4                  14  \n...               ...  \n113635              7  \n113636             14  \n113637             10  \n113638              7  \n113639             13  \n\n[113640 rows x 12 columns]",
      "text/html": "<div>\n<style scoped>\n    .dataframe tbody tr th:only-of-type {\n        vertical-align: middle;\n    }\n\n    .dataframe tbody tr th {\n        vertical-align: top;\n    }\n\n    .dataframe thead th {\n        text-align: right;\n    }\n</style>\n<table border=\"1\" class=\"dataframe\">\n  <thead>\n    <tr style=\"text-align: right;\">\n      <th></th>\n      <th>User_id</th>\n      <th>Merchant_id</th>\n      <th>Coupon_id</th>\n      <th>Discount_rate</th>\n      <th>Distance</th>\n      <th>Date_received</th>\n      <th>no_distance</th>\n      <th>is_full_discount</th>\n      <th>discount_x</th>\n      <th>discount_y</th>\n      <th>discount_rate</th>\n      <th>discount_type</th>\n    </tr>\n  </thead>\n  <tbody>\n    <tr>\n      <th>0</th>\n      <td>4129537</td>\n      <td>450</td>\n      <td>9983</td>\n      <td>30:5</td>\n      <td>1</td>\n      <td>2016-07-12</td>\n      <td>0</td>\n      <td>1</td>\n      <td>30</td>\n      <td>5</td>\n      <td>0.833333</td>\n      <td>7</td>\n    </tr>\n    <tr>\n      <th>1</th>\n      <td>6949378</td>\n      <td>1300</td>\n      <td>3429</td>\n      <td>30:5</td>\n      <td>-1</td>\n      <td>2016-07-06</td>\n      <td>1</td>\n      <td>1</td>\n      <td>30</td>\n      <td>5</td>\n      <td>0.833333</td>\n      <td>7</td>\n    </tr>\n    <tr>\n      <th>2</th>\n      <td>2166529</td>\n      <td>7113</td>\n      <td>6928</td>\n      <td>200:20</td>\n      <td>5</td>\n      <td>2016-07-27</td>\n      <td>0</td>\n      <td>1</td>\n      <td>200</td>\n      <td>20</td>\n      <td>0.900000</td>\n      <td>10</td>\n    </tr>\n    <tr>\n      <th>3</th>\n      <td>2166529</td>\n      <td>7113</td>\n      <td>1808</td>\n      <td>100:10</td>\n      <td>5</td>\n      <td>2016-07-27</td>\n      <td>0</td>\n      <td>1</td>\n      <td>100</td>\n      <td>10</td>\n      <td>0.900000</td>\n      <td>10</td>\n    </tr>\n    <tr>\n      <th>4</th>\n      <td>6172162</td>\n      <td>7605</td>\n      <td>6500</td>\n      <td>30:1</td>\n      <td>2</td>\n      <td>2016-07-08</td>\n      <td>0</td>\n      <td>1</td>\n      <td>30</td>\n      <td>1</td>\n      <td>0.966667</td>\n      <td>14</td>\n    </tr>\n    <tr>\n      <th>...</th>\n      <td>...</td>\n      <td>...</td>\n      <td>...</td>\n      <td>...</td>\n      <td>...</td>\n      <td>...</td>\n      <td>...</td>\n      <td>...</td>\n      <td>...</td>\n      <td>...</td>\n      <td>...</td>\n      <td>...</td>\n    </tr>\n    <tr>\n      <th>113635</th>\n      <td>5828093</td>\n      <td>5717</td>\n      <td>10418</td>\n      <td>30:5</td>\n      <td>10</td>\n      <td>2016-07-16</td>\n      <td>0</td>\n      <td>1</td>\n      <td>30</td>\n      <td>5</td>\n      <td>0.833333</td>\n      <td>7</td>\n    </tr>\n    <tr>\n      <th>113636</th>\n      <td>6626813</td>\n      <td>1699</td>\n      <td>7595</td>\n      <td>30:1</td>\n      <td>-1</td>\n      <td>2016-07-07</td>\n      <td>1</td>\n      <td>1</td>\n      <td>30</td>\n      <td>1</td>\n      <td>0.966667</td>\n      <td>14</td>\n    </tr>\n    <tr>\n      <th>113637</th>\n      <td>6626813</td>\n      <td>7321</td>\n      <td>7590</td>\n      <td>50:5</td>\n      <td>-1</td>\n      <td>2016-07-12</td>\n      <td>1</td>\n      <td>1</td>\n      <td>50</td>\n      <td>5</td>\n      <td>0.900000</td>\n      <td>10</td>\n    </tr>\n    <tr>\n      <th>113638</th>\n      <td>4547069</td>\n      <td>760</td>\n      <td>13602</td>\n      <td>30:5</td>\n      <td>0</td>\n      <td>2016-07-17</td>\n      <td>0</td>\n      <td>1</td>\n      <td>30</td>\n      <td>5</td>\n      <td>0.833333</td>\n      <td>7</td>\n    </tr>\n    <tr>\n      <th>113639</th>\n      <td>6675965</td>\n      <td>7487</td>\n      <td>613</td>\n      <td>20:1</td>\n      <td>5</td>\n      <td>2016-07-28</td>\n      <td>0</td>\n      <td>1</td>\n      <td>20</td>\n      <td>1</td>\n      <td>0.950000</td>\n      <td>13</td>\n    </tr>\n  </tbody>\n</table>\n<p>113640 rows × 12 columns</p>\n</div>"
     },
     "execution_count": 11,
     "metadata": {},
     "output_type": "execute_result"
    }
   ],
   "source": [
    "test"
   ]
  },
  {
   "cell_type": "code",
   "execution_count": 12,
   "metadata": {
    "pycharm": {
     "name": "#%%\n"
    }
   },
   "outputs": [
    {
     "data": {
      "text/plain": "User_id             True\nMerchant_id         True\nCoupon_id           True\nDiscount_rate       True\nDistance            True\nDate_received       True\nno_distance         True\nis_full_discount    True\ndiscount_x          True\ndiscount_y          True\ndiscount_rate       True\ndiscount_type       True\ndtype: bool"
     },
     "execution_count": 12,
     "metadata": {},
     "output_type": "execute_result"
    }
   ],
   "source": [
    "test.notna().all()"
   ]
  },
  {
   "cell_type": "code",
   "execution_count": 13,
   "metadata": {
    "pycharm": {
     "name": "#%%\n"
    }
   },
   "outputs": [
    {
     "data": {
      "text/plain": "            User_id    Merchant_id      Coupon_id       Distance  \\\ncount  1.136400e+05  113640.000000  113640.000000  113640.000000   \nmean   3.684858e+06    2962.283853    9053.810929       1.974736   \nstd    2.126259e+06    2494.450802    4145.873088       3.248809   \nmin    2.090000e+02       6.000000       3.000000      -1.000000   \n25%    1.844191e+06     760.000000    5023.000000       0.000000   \n50%    3.683266e+06    2050.000000    9983.000000       1.000000   \n75%    5.525845e+06    5138.000000   13602.000000       3.000000   \nmax    7.361024e+06    8856.000000   14045.000000      10.000000   \n\n         no_distance  is_full_discount     discount_x     discount_y  \\\ncount  113640.000000     113640.000000  113640.000000  113640.000000   \nmean        0.106160          0.977420      43.396507       6.089141   \nstd         0.308043          0.148561      44.239815       5.640310   \nmin         0.000000          0.000000      -1.000000      -1.000000   \n25%         0.000000          1.000000      30.000000       5.000000   \n50%         0.000000          1.000000      30.000000       5.000000   \n75%         0.000000          1.000000      30.000000       5.000000   \nmax         1.000000          1.000000     500.000000     100.000000   \n\n       discount_rate  discount_type  \ncount  113640.000000  113640.000000  \nmean        0.850671       8.146920  \nstd         0.063551       2.631381  \nmin         0.333333       0.000000  \n25%         0.833333       7.000000  \n50%         0.833333       7.000000  \n75%         0.900000      10.000000  \nmax         0.990000      17.000000  ",
      "text/html": "<div>\n<style scoped>\n    .dataframe tbody tr th:only-of-type {\n        vertical-align: middle;\n    }\n\n    .dataframe tbody tr th {\n        vertical-align: top;\n    }\n\n    .dataframe thead th {\n        text-align: right;\n    }\n</style>\n<table border=\"1\" class=\"dataframe\">\n  <thead>\n    <tr style=\"text-align: right;\">\n      <th></th>\n      <th>User_id</th>\n      <th>Merchant_id</th>\n      <th>Coupon_id</th>\n      <th>Distance</th>\n      <th>no_distance</th>\n      <th>is_full_discount</th>\n      <th>discount_x</th>\n      <th>discount_y</th>\n      <th>discount_rate</th>\n      <th>discount_type</th>\n    </tr>\n  </thead>\n  <tbody>\n    <tr>\n      <th>count</th>\n      <td>1.136400e+05</td>\n      <td>113640.000000</td>\n      <td>113640.000000</td>\n      <td>113640.000000</td>\n      <td>113640.000000</td>\n      <td>113640.000000</td>\n      <td>113640.000000</td>\n      <td>113640.000000</td>\n      <td>113640.000000</td>\n      <td>113640.000000</td>\n    </tr>\n    <tr>\n      <th>mean</th>\n      <td>3.684858e+06</td>\n      <td>2962.283853</td>\n      <td>9053.810929</td>\n      <td>1.974736</td>\n      <td>0.106160</td>\n      <td>0.977420</td>\n      <td>43.396507</td>\n      <td>6.089141</td>\n      <td>0.850671</td>\n      <td>8.146920</td>\n    </tr>\n    <tr>\n      <th>std</th>\n      <td>2.126259e+06</td>\n      <td>2494.450802</td>\n      <td>4145.873088</td>\n      <td>3.248809</td>\n      <td>0.308043</td>\n      <td>0.148561</td>\n      <td>44.239815</td>\n      <td>5.640310</td>\n      <td>0.063551</td>\n      <td>2.631381</td>\n    </tr>\n    <tr>\n      <th>min</th>\n      <td>2.090000e+02</td>\n      <td>6.000000</td>\n      <td>3.000000</td>\n      <td>-1.000000</td>\n      <td>0.000000</td>\n      <td>0.000000</td>\n      <td>-1.000000</td>\n      <td>-1.000000</td>\n      <td>0.333333</td>\n      <td>0.000000</td>\n    </tr>\n    <tr>\n      <th>25%</th>\n      <td>1.844191e+06</td>\n      <td>760.000000</td>\n      <td>5023.000000</td>\n      <td>0.000000</td>\n      <td>0.000000</td>\n      <td>1.000000</td>\n      <td>30.000000</td>\n      <td>5.000000</td>\n      <td>0.833333</td>\n      <td>7.000000</td>\n    </tr>\n    <tr>\n      <th>50%</th>\n      <td>3.683266e+06</td>\n      <td>2050.000000</td>\n      <td>9983.000000</td>\n      <td>1.000000</td>\n      <td>0.000000</td>\n      <td>1.000000</td>\n      <td>30.000000</td>\n      <td>5.000000</td>\n      <td>0.833333</td>\n      <td>7.000000</td>\n    </tr>\n    <tr>\n      <th>75%</th>\n      <td>5.525845e+06</td>\n      <td>5138.000000</td>\n      <td>13602.000000</td>\n      <td>3.000000</td>\n      <td>0.000000</td>\n      <td>1.000000</td>\n      <td>30.000000</td>\n      <td>5.000000</td>\n      <td>0.900000</td>\n      <td>10.000000</td>\n    </tr>\n    <tr>\n      <th>max</th>\n      <td>7.361024e+06</td>\n      <td>8856.000000</td>\n      <td>14045.000000</td>\n      <td>10.000000</td>\n      <td>1.000000</td>\n      <td>1.000000</td>\n      <td>500.000000</td>\n      <td>100.000000</td>\n      <td>0.990000</td>\n      <td>17.000000</td>\n    </tr>\n  </tbody>\n</table>\n</div>"
     },
     "execution_count": 13,
     "metadata": {},
     "output_type": "execute_result"
    }
   ],
   "source": [
    "test.describe()"
   ]
  },
  {
   "cell_type": "code",
   "execution_count": 14,
   "metadata": {
    "pycharm": {
     "name": "#%%\n"
    }
   },
   "outputs": [
    {
     "name": "stdout",
     "output_type": "stream",
     "text": [
      "<class 'pandas.core.frame.DataFrame'>\n",
      "RangeIndex: 113640 entries, 0 to 113639\n",
      "Data columns (total 12 columns):\n",
      " #   Column            Non-Null Count   Dtype         \n",
      "---  ------            --------------   -----         \n",
      " 0   User_id           113640 non-null  int64         \n",
      " 1   Merchant_id       113640 non-null  int64         \n",
      " 2   Coupon_id         113640 non-null  int64         \n",
      " 3   Discount_rate     113640 non-null  object        \n",
      " 4   Distance          113640 non-null  int64         \n",
      " 5   Date_received     113640 non-null  datetime64[ns]\n",
      " 6   no_distance       113640 non-null  int64         \n",
      " 7   is_full_discount  113640 non-null  int64         \n",
      " 8   discount_x        113640 non-null  int64         \n",
      " 9   discount_y        113640 non-null  int64         \n",
      " 10  discount_rate     113640 non-null  float64       \n",
      " 11  discount_type     113640 non-null  int64         \n",
      "dtypes: datetime64[ns](1), float64(1), int64(9), object(1)\n",
      "memory usage: 10.4+ MB\n"
     ]
    }
   ],
   "source": [
    "test.info()"
   ]
  },
  {
   "cell_type": "code",
   "execution_count": 15,
   "metadata": {
    "pycharm": {
     "name": "#%%\n"
    }
   },
   "outputs": [],
   "source": [
    "test.to_csv('./dataset_cleaned/ccf_off_test.csv', index=None)"
   ]
  },
  {
   "cell_type": "markdown",
   "metadata": {
    "pycharm": {
     "name": "#%% md\n"
    }
   },
   "source": [
    "+ 生成一个函数"
   ]
  },
  {
   "cell_type": "code",
   "execution_count": 16,
   "metadata": {
    "pycharm": {
     "name": "#%%\n"
    }
   },
   "outputs": [],
   "source": [
    "def pre_process_off_test(df: pd.DataFrame):\n",
    "    \"\"\"\n",
    "    测试线下数据集处理，没有 Date\n",
    "    \"\"\"\n",
    "    test['Distance'] = test['Distance'].fillna(-1).astype(int)\n",
    "    test['no_distance'] = (test['Distance'] == -1).astype(int)\n",
    "    test['is_full_discount'] = test['Discount_rate'].str.contains(':').astype(int)\n",
    "    test[['discount_x', 'discount_y']] = test[test['is_full_discount'] == 1]['Discount_rate']\\\n",
    "        .str.split(':', expand=True).astype(float)\n",
    "     # expand 设置成 true 才可以返回一个 dataframe，设置成 float 是因为合并时有NA\n",
    "    test['discount_rate'] = (1 - (test['discount_y'] / test['discount_x']))\\\n",
    "        .fillna(test['Discount_rate']).astype(float)\n",
    "    test[['discount_x', 'discount_y']] = \\\n",
    "        test[['discount_x', 'discount_y']].fillna(-1).astype(int)\n",
    "    _rate = sorted(set(test.discount_rate))\n",
    "    test['discount_type'] = test['discount_rate'].apply(lambda x: _rate.index(x))\n",
    "    return df"
   ]
  },
  {
   "cell_type": "code",
   "execution_count": 17,
   "metadata": {
    "pycharm": {
     "name": "#%%\n"
    }
   },
   "outputs": [],
   "source": [
    "train_off = pd.read_csv('./dataset_raw/ccf_offline_stage1_train.csv', parse_dates=['Date', 'Date_received'])"
   ]
  },
  {
   "cell_type": "code",
   "execution_count": 18,
   "metadata": {
    "pycharm": {
     "name": "#%%\n"
    }
   },
   "outputs": [
    {
     "name": "stdout",
     "output_type": "stream",
     "text": [
      "<class 'pandas.core.frame.DataFrame'>\n",
      "RangeIndex: 1754884 entries, 0 to 1754883\n",
      "Data columns (total 7 columns):\n",
      " #   Column         Dtype         \n",
      "---  ------         -----         \n",
      " 0   User_id        int64         \n",
      " 1   Merchant_id    int64         \n",
      " 2   Coupon_id      float64       \n",
      " 3   Discount_rate  object        \n",
      " 4   Distance       float64       \n",
      " 5   Date_received  datetime64[ns]\n",
      " 6   Date           datetime64[ns]\n",
      "dtypes: datetime64[ns](2), float64(2), int64(2), object(1)\n",
      "memory usage: 93.7+ MB\n"
     ]
    }
   ],
   "source": [
    "train_off.info()"
   ]
  },
  {
   "cell_type": "code",
   "execution_count": 19,
   "metadata": {
    "pycharm": {
     "name": "#%%\n"
    }
   },
   "outputs": [
    {
     "data": {
      "text/plain": "User_id           True\nMerchant_id       True\nCoupon_id        False\nDiscount_rate    False\nDistance         False\nDate_received    False\nDate             False\ndtype: bool"
     },
     "execution_count": 19,
     "metadata": {},
     "output_type": "execute_result"
    }
   ],
   "source": [
    "train_off.notna().all()\n",
    "# 赛题\n",
    "# Coupon_id null表示无优惠券消费，此时Discount_rate和Date_received字段无意义\n",
    "# Date 如果Date=null & Coupon_id != null，该记录表示领取优惠券但没有使用，即负样本；\n",
    "# 如果Date!=null & Coupon_id = null，则表示普通消费日期；如果Date!=null & Coupon_id != null，\n",
    "# 则表示用优惠券消费日期，即正样本； "
   ]
  },
  {
   "cell_type": "code",
   "execution_count": 20,
   "metadata": {
    "pycharm": {
     "name": "#%%\n"
    }
   },
   "outputs": [
    {
     "data": {
      "text/plain": "(True, True)"
     },
     "execution_count": 20,
     "metadata": {},
     "output_type": "execute_result"
    }
   ],
   "source": [
    "train_off[train_off['Date_received'].notna()]['Coupon_id'].notna().all(), \\\n",
    "    train_off[train_off['Coupon_id'].notna()]['Date_received'].notna().all()\n",
    "# Date_received 和 Coupon_id 同时 NA"
   ]
  },
  {
   "cell_type": "code",
   "execution_count": 21,
   "metadata": {
    "pycharm": {
     "name": "#%%\n"
    }
   },
   "outputs": [
    {
     "data": {
      "text/plain": "(True, True)"
     },
     "execution_count": 21,
     "metadata": {},
     "output_type": "execute_result"
    }
   ],
   "source": [
    "train_off[train_off['Discount_rate'].notna()]['Coupon_id'].notna().all(), \\\n",
    "    train_off[train_off['Coupon_id'].notna()]['Discount_rate'].notna().all()\n",
    "# Discount_rate 和 Coupon_id 同时 NA\n",
    "\n",
    "# Date_received, Discount_rate, Coupon_id 同时 NA"
   ]
  },
  {
   "cell_type": "code",
   "execution_count": 22,
   "metadata": {
    "pycharm": {
     "name": "#%%\n"
    }
   },
   "outputs": [],
   "source": [
    "train_off['normal_consume'] = 0  # 加上是否是正常消费\n",
    "train_off.loc[train_off['Coupon_id'].isna() & train_off['Date'].notna(), 'normal_consume'] = 1"
   ]
  },
  {
   "cell_type": "code",
   "execution_count": 23,
   "metadata": {
    "pycharm": {
     "name": "#%%\n"
    }
   },
   "outputs": [
    {
     "data": {
      "text/plain": "0.39979964487681235"
     },
     "execution_count": 23,
     "metadata": {},
     "output_type": "execute_result"
    }
   ],
   "source": [
    "len(train_off[train_off['normal_consume'] == 1]) / len(train_off) # 正常消费占 0.4"
   ]
  },
  {
   "cell_type": "code",
   "execution_count": 24,
   "metadata": {
    "pycharm": {
     "name": "#%%\n"
    }
   },
   "outputs": [],
   "source": [
    "train_off['coupon_consume'] = 0  # 是否是使用优惠券消费 (没有15天限制)\n",
    "train_off.loc[train_off['Coupon_id'].notna() & train_off['Date'].notna(), 'coupon_consume'] = 1"
   ]
  },
  {
   "cell_type": "code",
   "execution_count": 25,
   "metadata": {
    "pycharm": {
     "name": "#%%\n"
    }
   },
   "outputs": [
    {
     "data": {
      "text/plain": "0.04295554577966407"
     },
     "execution_count": 25,
     "metadata": {},
     "output_type": "execute_result"
    }
   ],
   "source": [
    "len(train_off[train_off['coupon_consume'] == 1]) / len(train_off) # 使用优惠券消费的占 0.04"
   ]
  },
  {
   "cell_type": "code",
   "execution_count": 26,
   "metadata": {
    "pycharm": {
     "name": "#%%\n"
    }
   },
   "outputs": [],
   "source": [
    "train_off['no_consume'] = 0  # 领了优惠券但没有消费\n",
    "train_off.loc[train_off['Coupon_id'].notna() & train_off['Date'].isna(), 'no_consume'] = 1"
   ]
  },
  {
   "cell_type": "code",
   "execution_count": 27,
   "metadata": {
    "pycharm": {
     "name": "#%%\n"
    }
   },
   "outputs": [
    {
     "data": {
      "text/plain": "0.5572448093435236"
     },
     "execution_count": 27,
     "metadata": {},
     "output_type": "execute_result"
    }
   ],
   "source": [
    "len(train_off[train_off['no_consume'] == 1]) / len(train_off) # 白嫖怪不消费的占 0.55"
   ]
  },
  {
   "cell_type": "code",
   "execution_count": 28,
   "metadata": {
    "pycharm": {
     "name": "#%%\n"
    }
   },
   "outputs": [
    {
     "data": {
      "text/plain": "1.0"
     },
     "execution_count": 28,
     "metadata": {},
     "output_type": "execute_result"
    }
   ],
   "source": [
    "len(train_off[train_off['normal_consume'] == 1]) / len(train_off) +\\\n",
    "    len(train_off[train_off['coupon_consume'] == 1]) / len(train_off) +\\\n",
    "        len(train_off[train_off['no_consume'] == 1]) / len(train_off)\n",
    "# 等于 1 说明没有数据是 `未领优惠券也未消费的`，很显然每一个`局外人`都是这一类，不需要统计"
   ]
  },
  {
   "cell_type": "code",
   "execution_count": 29,
   "metadata": {
    "pycharm": {
     "name": "#%%\n"
    }
   },
   "outputs": [
    {
     "data": {
      "text/plain": "         User_id  Merchant_id  Coupon_id Discount_rate  Distance  \\\n0        1439408         2632        NaN           NaN       0.0   \n1        1439408         4663    11002.0        150:20       1.0   \n2        1439408         2632     8591.0          20:1       0.0   \n3        1439408         2632     1078.0          20:1       0.0   \n4        1439408         2632     8591.0          20:1       0.0   \n...          ...          ...        ...           ...       ...   \n1754879   212662         3532        NaN           NaN       1.0   \n1754880   212662         3021     3739.0          30:1       6.0   \n1754881   212662         2934        NaN           NaN       2.0   \n1754882   752472         7113     1633.0         50:10       6.0   \n1754883   752472         3621     2705.0          20:5       0.0   \n\n        Date_received       Date  normal_consume  coupon_consume  no_consume  \n0                 NaT 2016-02-17               1               0           0  \n1          2016-05-28        NaT               0               0           1  \n2          2016-02-17        NaT               0               0           1  \n3          2016-03-19        NaT               0               0           1  \n4          2016-06-13        NaT               0               0           1  \n...               ...        ...             ...             ...         ...  \n1754879           NaT 2016-03-22               1               0           0  \n1754880    2016-05-08 2016-06-02               0               1           0  \n1754881           NaT 2016-03-21               1               0           0  \n1754882    2016-06-13        NaT               0               0           1  \n1754883    2016-05-23        NaT               0               0           1  \n\n[1754884 rows x 10 columns]",
      "text/html": "<div>\n<style scoped>\n    .dataframe tbody tr th:only-of-type {\n        vertical-align: middle;\n    }\n\n    .dataframe tbody tr th {\n        vertical-align: top;\n    }\n\n    .dataframe thead th {\n        text-align: right;\n    }\n</style>\n<table border=\"1\" class=\"dataframe\">\n  <thead>\n    <tr style=\"text-align: right;\">\n      <th></th>\n      <th>User_id</th>\n      <th>Merchant_id</th>\n      <th>Coupon_id</th>\n      <th>Discount_rate</th>\n      <th>Distance</th>\n      <th>Date_received</th>\n      <th>Date</th>\n      <th>normal_consume</th>\n      <th>coupon_consume</th>\n      <th>no_consume</th>\n    </tr>\n  </thead>\n  <tbody>\n    <tr>\n      <th>0</th>\n      <td>1439408</td>\n      <td>2632</td>\n      <td>NaN</td>\n      <td>NaN</td>\n      <td>0.0</td>\n      <td>NaT</td>\n      <td>2016-02-17</td>\n      <td>1</td>\n      <td>0</td>\n      <td>0</td>\n    </tr>\n    <tr>\n      <th>1</th>\n      <td>1439408</td>\n      <td>4663</td>\n      <td>11002.0</td>\n      <td>150:20</td>\n      <td>1.0</td>\n      <td>2016-05-28</td>\n      <td>NaT</td>\n      <td>0</td>\n      <td>0</td>\n      <td>1</td>\n    </tr>\n    <tr>\n      <th>2</th>\n      <td>1439408</td>\n      <td>2632</td>\n      <td>8591.0</td>\n      <td>20:1</td>\n      <td>0.0</td>\n      <td>2016-02-17</td>\n      <td>NaT</td>\n      <td>0</td>\n      <td>0</td>\n      <td>1</td>\n    </tr>\n    <tr>\n      <th>3</th>\n      <td>1439408</td>\n      <td>2632</td>\n      <td>1078.0</td>\n      <td>20:1</td>\n      <td>0.0</td>\n      <td>2016-03-19</td>\n      <td>NaT</td>\n      <td>0</td>\n      <td>0</td>\n      <td>1</td>\n    </tr>\n    <tr>\n      <th>4</th>\n      <td>1439408</td>\n      <td>2632</td>\n      <td>8591.0</td>\n      <td>20:1</td>\n      <td>0.0</td>\n      <td>2016-06-13</td>\n      <td>NaT</td>\n      <td>0</td>\n      <td>0</td>\n      <td>1</td>\n    </tr>\n    <tr>\n      <th>...</th>\n      <td>...</td>\n      <td>...</td>\n      <td>...</td>\n      <td>...</td>\n      <td>...</td>\n      <td>...</td>\n      <td>...</td>\n      <td>...</td>\n      <td>...</td>\n      <td>...</td>\n    </tr>\n    <tr>\n      <th>1754879</th>\n      <td>212662</td>\n      <td>3532</td>\n      <td>NaN</td>\n      <td>NaN</td>\n      <td>1.0</td>\n      <td>NaT</td>\n      <td>2016-03-22</td>\n      <td>1</td>\n      <td>0</td>\n      <td>0</td>\n    </tr>\n    <tr>\n      <th>1754880</th>\n      <td>212662</td>\n      <td>3021</td>\n      <td>3739.0</td>\n      <td>30:1</td>\n      <td>6.0</td>\n      <td>2016-05-08</td>\n      <td>2016-06-02</td>\n      <td>0</td>\n      <td>1</td>\n      <td>0</td>\n    </tr>\n    <tr>\n      <th>1754881</th>\n      <td>212662</td>\n      <td>2934</td>\n      <td>NaN</td>\n      <td>NaN</td>\n      <td>2.0</td>\n      <td>NaT</td>\n      <td>2016-03-21</td>\n      <td>1</td>\n      <td>0</td>\n      <td>0</td>\n    </tr>\n    <tr>\n      <th>1754882</th>\n      <td>752472</td>\n      <td>7113</td>\n      <td>1633.0</td>\n      <td>50:10</td>\n      <td>6.0</td>\n      <td>2016-06-13</td>\n      <td>NaT</td>\n      <td>0</td>\n      <td>0</td>\n      <td>1</td>\n    </tr>\n    <tr>\n      <th>1754883</th>\n      <td>752472</td>\n      <td>3621</td>\n      <td>2705.0</td>\n      <td>20:5</td>\n      <td>0.0</td>\n      <td>2016-05-23</td>\n      <td>NaT</td>\n      <td>0</td>\n      <td>0</td>\n      <td>1</td>\n    </tr>\n  </tbody>\n</table>\n<p>1754884 rows × 10 columns</p>\n</div>"
     },
     "execution_count": 29,
     "metadata": {},
     "output_type": "execute_result"
    }
   ],
   "source": [
    "train_off"
   ]
  },
  {
   "cell_type": "code",
   "execution_count": 30,
   "metadata": {
    "pycharm": {
     "name": "#%%\n"
    }
   },
   "outputs": [],
   "source": [
    "train_off['Coupon_id'].fillna(0, inplace=True)\n",
    "train_off['Discount_rate'].fillna(1.0, inplace=True)  # 没有优惠券消费相当于10折\n",
    "train_off['Distance'].fillna(-1, inplace=True)\n",
    "train_off['Date_received'].fillna(no_date, inplace=True)\n",
    "train_off['Date'].fillna(no_date, inplace=True)"
   ]
  },
  {
   "cell_type": "code",
   "execution_count": 31,
   "metadata": {
    "pycharm": {
     "name": "#%%\n"
    }
   },
   "outputs": [
    {
     "data": {
      "text/plain": "         User_id  Merchant_id  Coupon_id Discount_rate  Distance  \\\n0        1439408         2632        0.0           1.0       0.0   \n1        1439408         4663    11002.0        150:20       1.0   \n2        1439408         2632     8591.0          20:1       0.0   \n3        1439408         2632     1078.0          20:1       0.0   \n4        1439408         2632     8591.0          20:1       0.0   \n...          ...          ...        ...           ...       ...   \n1754879   212662         3532        0.0           1.0       1.0   \n1754880   212662         3021     3739.0          30:1       6.0   \n1754881   212662         2934        0.0           1.0       2.0   \n1754882   752472         7113     1633.0         50:10       6.0   \n1754883   752472         3621     2705.0          20:5       0.0   \n\n        Date_received       Date  normal_consume  coupon_consume  no_consume  \n0          1970-01-01 2016-02-17               1               0           0  \n1          2016-05-28 1970-01-01               0               0           1  \n2          2016-02-17 1970-01-01               0               0           1  \n3          2016-03-19 1970-01-01               0               0           1  \n4          2016-06-13 1970-01-01               0               0           1  \n...               ...        ...             ...             ...         ...  \n1754879    1970-01-01 2016-03-22               1               0           0  \n1754880    2016-05-08 2016-06-02               0               1           0  \n1754881    1970-01-01 2016-03-21               1               0           0  \n1754882    2016-06-13 1970-01-01               0               0           1  \n1754883    2016-05-23 1970-01-01               0               0           1  \n\n[1754884 rows x 10 columns]",
      "text/html": "<div>\n<style scoped>\n    .dataframe tbody tr th:only-of-type {\n        vertical-align: middle;\n    }\n\n    .dataframe tbody tr th {\n        vertical-align: top;\n    }\n\n    .dataframe thead th {\n        text-align: right;\n    }\n</style>\n<table border=\"1\" class=\"dataframe\">\n  <thead>\n    <tr style=\"text-align: right;\">\n      <th></th>\n      <th>User_id</th>\n      <th>Merchant_id</th>\n      <th>Coupon_id</th>\n      <th>Discount_rate</th>\n      <th>Distance</th>\n      <th>Date_received</th>\n      <th>Date</th>\n      <th>normal_consume</th>\n      <th>coupon_consume</th>\n      <th>no_consume</th>\n    </tr>\n  </thead>\n  <tbody>\n    <tr>\n      <th>0</th>\n      <td>1439408</td>\n      <td>2632</td>\n      <td>0.0</td>\n      <td>1.0</td>\n      <td>0.0</td>\n      <td>1970-01-01</td>\n      <td>2016-02-17</td>\n      <td>1</td>\n      <td>0</td>\n      <td>0</td>\n    </tr>\n    <tr>\n      <th>1</th>\n      <td>1439408</td>\n      <td>4663</td>\n      <td>11002.0</td>\n      <td>150:20</td>\n      <td>1.0</td>\n      <td>2016-05-28</td>\n      <td>1970-01-01</td>\n      <td>0</td>\n      <td>0</td>\n      <td>1</td>\n    </tr>\n    <tr>\n      <th>2</th>\n      <td>1439408</td>\n      <td>2632</td>\n      <td>8591.0</td>\n      <td>20:1</td>\n      <td>0.0</td>\n      <td>2016-02-17</td>\n      <td>1970-01-01</td>\n      <td>0</td>\n      <td>0</td>\n      <td>1</td>\n    </tr>\n    <tr>\n      <th>3</th>\n      <td>1439408</td>\n      <td>2632</td>\n      <td>1078.0</td>\n      <td>20:1</td>\n      <td>0.0</td>\n      <td>2016-03-19</td>\n      <td>1970-01-01</td>\n      <td>0</td>\n      <td>0</td>\n      <td>1</td>\n    </tr>\n    <tr>\n      <th>4</th>\n      <td>1439408</td>\n      <td>2632</td>\n      <td>8591.0</td>\n      <td>20:1</td>\n      <td>0.0</td>\n      <td>2016-06-13</td>\n      <td>1970-01-01</td>\n      <td>0</td>\n      <td>0</td>\n      <td>1</td>\n    </tr>\n    <tr>\n      <th>...</th>\n      <td>...</td>\n      <td>...</td>\n      <td>...</td>\n      <td>...</td>\n      <td>...</td>\n      <td>...</td>\n      <td>...</td>\n      <td>...</td>\n      <td>...</td>\n      <td>...</td>\n    </tr>\n    <tr>\n      <th>1754879</th>\n      <td>212662</td>\n      <td>3532</td>\n      <td>0.0</td>\n      <td>1.0</td>\n      <td>1.0</td>\n      <td>1970-01-01</td>\n      <td>2016-03-22</td>\n      <td>1</td>\n      <td>0</td>\n      <td>0</td>\n    </tr>\n    <tr>\n      <th>1754880</th>\n      <td>212662</td>\n      <td>3021</td>\n      <td>3739.0</td>\n      <td>30:1</td>\n      <td>6.0</td>\n      <td>2016-05-08</td>\n      <td>2016-06-02</td>\n      <td>0</td>\n      <td>1</td>\n      <td>0</td>\n    </tr>\n    <tr>\n      <th>1754881</th>\n      <td>212662</td>\n      <td>2934</td>\n      <td>0.0</td>\n      <td>1.0</td>\n      <td>2.0</td>\n      <td>1970-01-01</td>\n      <td>2016-03-21</td>\n      <td>1</td>\n      <td>0</td>\n      <td>0</td>\n    </tr>\n    <tr>\n      <th>1754882</th>\n      <td>752472</td>\n      <td>7113</td>\n      <td>1633.0</td>\n      <td>50:10</td>\n      <td>6.0</td>\n      <td>2016-06-13</td>\n      <td>1970-01-01</td>\n      <td>0</td>\n      <td>0</td>\n      <td>1</td>\n    </tr>\n    <tr>\n      <th>1754883</th>\n      <td>752472</td>\n      <td>3621</td>\n      <td>2705.0</td>\n      <td>20:5</td>\n      <td>0.0</td>\n      <td>2016-05-23</td>\n      <td>1970-01-01</td>\n      <td>0</td>\n      <td>0</td>\n      <td>1</td>\n    </tr>\n  </tbody>\n</table>\n<p>1754884 rows × 10 columns</p>\n</div>"
     },
     "execution_count": 31,
     "metadata": {},
     "output_type": "execute_result"
    }
   ],
   "source": [
    "train_off"
   ]
  },
  {
   "cell_type": "code",
   "execution_count": 32,
   "metadata": {
    "pycharm": {
     "name": "#%%\n"
    }
   },
   "outputs": [
    {
     "data": {
      "text/plain": "User_id           True\nMerchant_id       True\nCoupon_id         True\nDiscount_rate     True\nDistance          True\nDate_received     True\nDate              True\nnormal_consume    True\ncoupon_consume    True\nno_consume        True\ndtype: bool"
     },
     "execution_count": 32,
     "metadata": {},
     "output_type": "execute_result"
    }
   ],
   "source": [
    "train_off.notna().all()"
   ]
  },
  {
   "cell_type": "markdown",
   "metadata": {
    "pycharm": {
     "name": "#%% md\n"
    }
   },
   "source": [
    "+ 结合上面的函数封装一个新的函数"
   ]
  },
  {
   "cell_type": "code",
   "execution_count": 2,
   "metadata": {
    "pycharm": {
     "name": "#%%\n"
    }
   },
   "outputs": [],
   "source": [
    "def pre_process_off_new(df: pd.DataFrame):\n",
    "    \"\"\"线下训练数据集，有 Date\"\"\"\n",
    "    if 'Date' in df.columns:  \n",
    "        df['normal_consume'] = 0  # 加上是否是正常消费\n",
    "        df.loc[df['Coupon_id'].isna() & df['Date'].notna(), 'normal_consume'] = 1\n",
    "        df['coupon_consume'] = 0  # 是否是使用优惠券消费 (没有15天限制)\n",
    "        df.loc[df['Coupon_id'].notna() & df['Date'].notna(), 'coupon_consume'] = 1\n",
    "        df['no_consume'] = 0  # 领了优惠券但没有消费\n",
    "        df.loc[df['Coupon_id'].notna() & df['Date'].isna(), 'no_consume'] = 1\n",
    "        df['Coupon_id'] = df['Coupon_id'].fillna(0).astype(int) # Coupon_id 由 nullable 转换成 notnull 会把整数类型转成 float，这里转回去\n",
    "        df['Discount_rate'].fillna('1.0', inplace=True)  # 没有优惠券消费相当于10折，这里得填 str 下面类型才不会出问题\n",
    "        # df['Distance'].fillna(-1, inplace=True)  Distance 下面就可以处理\n",
    "        df['Date_received'].fillna(no_date, inplace=True)\n",
    "        df['Date'].fillna(no_date, inplace=True)\n",
    "    \n",
    "    '''\n",
    "    线下测试数据集处理，没有 Date\n",
    "    '''\n",
    "    df['Distance'] = df['Distance'].fillna(-1).astype(int)\n",
    "    df['no_distance'] = (df['Distance'] == -1).astype(int)\n",
    "    df['is_full_discount'] = df['Discount_rate'].str.contains(':').astype(int)\n",
    "    df[['discount_x', 'discount_y']] = df[df['is_full_discount'] == 1]['Discount_rate']\\\n",
    "        .str.split(':', expand=True).astype(float)\n",
    "     # expand 设置成 true 才可以返回一个 dataframe，设置成 float 是因为合并时有NA\n",
    "    df['discount_rate'] = (1 - (df['discount_y'] / df['discount_x']))\\\n",
    "        .fillna(df['Discount_rate']).astype(float)\n",
    "    df[['discount_x', 'discount_y']] = \\\n",
    "        df[['discount_x', 'discount_y']].fillna(-1).astype(int)\n",
    "    _rate = sorted(set(df.discount_rate))  # 枚举折扣率的种类\n",
    "    df['discount_type'] = df['discount_rate'].apply(lambda x: _rate.index(x))\n",
    "    return df"
   ]
  },
  {
   "cell_type": "code",
   "execution_count": 3,
   "metadata": {
    "pycharm": {
     "name": "#%%\n"
    }
   },
   "outputs": [],
   "source": [
    "test_df = pd.read_csv('./dataset_raw/ccf_offline_stage1_test_revised.csv', parse_dates=['Date_received'])\n",
    "train_off_df = pd.read_csv('./dataset_raw/ccf_offline_stage1_train.csv', parse_dates=['Date_received', 'Date'])"
   ]
  },
  {
   "cell_type": "code",
   "execution_count": 4,
   "metadata": {
    "pycharm": {
     "name": "#%%\n"
    }
   },
   "outputs": [],
   "source": [
    "out_test_df = pre_process_off_new(test_df)\n",
    "out_train_off_df = pre_process_off_new(train_off_df)"
   ]
  },
  {
   "cell_type": "code",
   "execution_count": 5,
   "metadata": {
    "pycharm": {
     "name": "#%%\n"
    }
   },
   "outputs": [
    {
     "data": {
      "text/plain": "(True, True)"
     },
     "execution_count": 5,
     "metadata": {},
     "output_type": "execute_result"
    }
   ],
   "source": [
    "out_test_df.notna().all().all(), out_train_off_df.notna().all().all()"
   ]
  },
  {
   "cell_type": "code",
   "execution_count": 6,
   "metadata": {
    "pycharm": {
     "name": "#%%\n"
    }
   },
   "outputs": [
    {
     "name": "stdout",
     "output_type": "stream",
     "text": [
      "<class 'pandas.core.frame.DataFrame'>\n",
      "RangeIndex: 113640 entries, 0 to 113639\n",
      "Data columns (total 12 columns):\n",
      " #   Column            Non-Null Count   Dtype         \n",
      "---  ------            --------------   -----         \n",
      " 0   User_id           113640 non-null  int64         \n",
      " 1   Merchant_id       113640 non-null  int64         \n",
      " 2   Coupon_id         113640 non-null  int64         \n",
      " 3   Discount_rate     113640 non-null  object        \n",
      " 4   Distance          113640 non-null  int64         \n",
      " 5   Date_received     113640 non-null  datetime64[ns]\n",
      " 6   no_distance       113640 non-null  int64         \n",
      " 7   is_full_discount  113640 non-null  int64         \n",
      " 8   discount_x        113640 non-null  int64         \n",
      " 9   discount_y        113640 non-null  int64         \n",
      " 10  discount_rate     113640 non-null  float64       \n",
      " 11  discount_type     113640 non-null  int64         \n",
      "dtypes: datetime64[ns](1), float64(1), int64(9), object(1)\n",
      "memory usage: 10.4+ MB\n"
     ]
    }
   ],
   "source": [
    "out_test_df.info()"
   ]
  },
  {
   "cell_type": "code",
   "execution_count": 7,
   "metadata": {
    "pycharm": {
     "name": "#%%\n"
    }
   },
   "outputs": [
    {
     "name": "stdout",
     "output_type": "stream",
     "text": [
      "<class 'pandas.core.frame.DataFrame'>\n",
      "RangeIndex: 1754884 entries, 0 to 1754883\n",
      "Data columns (total 16 columns):\n",
      " #   Column            Dtype         \n",
      "---  ------            -----         \n",
      " 0   User_id           int64         \n",
      " 1   Merchant_id       int64         \n",
      " 2   Coupon_id         int64         \n",
      " 3   Discount_rate     object        \n",
      " 4   Distance          int64         \n",
      " 5   Date_received     datetime64[ns]\n",
      " 6   Date              datetime64[ns]\n",
      " 7   normal_consume    int64         \n",
      " 8   coupon_consume    int64         \n",
      " 9   no_consume        int64         \n",
      " 10  no_distance       int64         \n",
      " 11  is_full_discount  int64         \n",
      " 12  discount_x        int64         \n",
      " 13  discount_y        int64         \n",
      " 14  discount_rate     float64       \n",
      " 15  discount_type     int64         \n",
      "dtypes: datetime64[ns](2), float64(1), int64(12), object(1)\n",
      "memory usage: 214.2+ MB\n"
     ]
    }
   ],
   "source": [
    "out_train_off_df.info()"
   ]
  },
  {
   "cell_type": "code",
   "execution_count": 8,
   "metadata": {
    "pycharm": {
     "name": "#%%\n"
    }
   },
   "outputs": [
    {
     "data": {
      "text/plain": "True"
     },
     "execution_count": 8,
     "metadata": {},
     "output_type": "execute_result"
    }
   ],
   "source": [
    "(out_train_off_df['normal_consume']\n",
    " + out_train_off_df['coupon_consume']\n",
    " + out_train_off_df['no_consume'] == 1).all()\n",
    "# 类似独热编码"
   ]
  },
  {
   "cell_type": "code",
   "execution_count": 9,
   "metadata": {
    "pycharm": {
     "name": "#%%\n"
    }
   },
   "outputs": [],
   "source": [
    "out_test_df.to_csv('./dataset_cleaned/ccf_off_test.csv', index=None)\n",
    "out_train_off_df.to_csv('./dataset_cleaned/ccf_off_train.csv', index=None)"
   ]
  },
  {
   "cell_type": "markdown",
   "metadata": {
    "pycharm": {
     "name": "#%% md\n"
    }
   },
   "source": [
    "- 线上特征处理"
   ]
  },
  {
   "cell_type": "code",
   "execution_count": 234,
   "metadata": {
    "pycharm": {
     "name": "#%%\n"
    }
   },
   "outputs": [],
   "source": [
    "on = pd.read_csv('./dataset_raw/ccf_online_stage1_train.csv', parse_dates=['Date', 'Date_received'])"
   ]
  },
  {
   "cell_type": "code",
   "execution_count": 235,
   "metadata": {
    "pycharm": {
     "name": "#%%\n"
    }
   },
   "outputs": [
    {
     "data": {
      "text/html": [
       "<div>\n",
       "<style scoped>\n",
       "    .dataframe tbody tr th:only-of-type {\n",
       "        vertical-align: middle;\n",
       "    }\n",
       "\n",
       "    .dataframe tbody tr th {\n",
       "        vertical-align: top;\n",
       "    }\n",
       "\n",
       "    .dataframe thead th {\n",
       "        text-align: right;\n",
       "    }\n",
       "</style>\n",
       "<table border=\"1\" class=\"dataframe\">\n",
       "  <thead>\n",
       "    <tr style=\"text-align: right;\">\n",
       "      <th></th>\n",
       "      <th>User_id</th>\n",
       "      <th>Merchant_id</th>\n",
       "      <th>Action</th>\n",
       "      <th>Coupon_id</th>\n",
       "      <th>Discount_rate</th>\n",
       "      <th>Date_received</th>\n",
       "      <th>Date</th>\n",
       "    </tr>\n",
       "  </thead>\n",
       "  <tbody>\n",
       "    <tr>\n",
       "      <th>0</th>\n",
       "      <td>13740231</td>\n",
       "      <td>18907</td>\n",
       "      <td>2</td>\n",
       "      <td>100017492</td>\n",
       "      <td>500:50</td>\n",
       "      <td>2016-05-13</td>\n",
       "      <td>NaT</td>\n",
       "    </tr>\n",
       "    <tr>\n",
       "      <th>1</th>\n",
       "      <td>13740231</td>\n",
       "      <td>34805</td>\n",
       "      <td>1</td>\n",
       "      <td>NaN</td>\n",
       "      <td>NaN</td>\n",
       "      <td>NaT</td>\n",
       "      <td>2016-03-21</td>\n",
       "    </tr>\n",
       "    <tr>\n",
       "      <th>2</th>\n",
       "      <td>14336199</td>\n",
       "      <td>18907</td>\n",
       "      <td>0</td>\n",
       "      <td>NaN</td>\n",
       "      <td>NaN</td>\n",
       "      <td>NaT</td>\n",
       "      <td>2016-06-18</td>\n",
       "    </tr>\n",
       "    <tr>\n",
       "      <th>3</th>\n",
       "      <td>14336199</td>\n",
       "      <td>18907</td>\n",
       "      <td>0</td>\n",
       "      <td>NaN</td>\n",
       "      <td>NaN</td>\n",
       "      <td>NaT</td>\n",
       "      <td>2016-06-18</td>\n",
       "    </tr>\n",
       "    <tr>\n",
       "      <th>4</th>\n",
       "      <td>14336199</td>\n",
       "      <td>18907</td>\n",
       "      <td>0</td>\n",
       "      <td>NaN</td>\n",
       "      <td>NaN</td>\n",
       "      <td>NaT</td>\n",
       "      <td>2016-06-18</td>\n",
       "    </tr>\n",
       "    <tr>\n",
       "      <th>...</th>\n",
       "      <td>...</td>\n",
       "      <td>...</td>\n",
       "      <td>...</td>\n",
       "      <td>...</td>\n",
       "      <td>...</td>\n",
       "      <td>...</td>\n",
       "      <td>...</td>\n",
       "    </tr>\n",
       "    <tr>\n",
       "      <th>11429821</th>\n",
       "      <td>13087731</td>\n",
       "      <td>27715</td>\n",
       "      <td>0</td>\n",
       "      <td>NaN</td>\n",
       "      <td>NaN</td>\n",
       "      <td>NaT</td>\n",
       "      <td>2016-06-29</td>\n",
       "    </tr>\n",
       "    <tr>\n",
       "      <th>11429822</th>\n",
       "      <td>13087731</td>\n",
       "      <td>52005</td>\n",
       "      <td>0</td>\n",
       "      <td>NaN</td>\n",
       "      <td>NaN</td>\n",
       "      <td>NaT</td>\n",
       "      <td>2016-03-24</td>\n",
       "    </tr>\n",
       "    <tr>\n",
       "      <th>11429823</th>\n",
       "      <td>13087731</td>\n",
       "      <td>45611</td>\n",
       "      <td>0</td>\n",
       "      <td>NaN</td>\n",
       "      <td>NaN</td>\n",
       "      <td>NaT</td>\n",
       "      <td>2016-04-22</td>\n",
       "    </tr>\n",
       "    <tr>\n",
       "      <th>11429824</th>\n",
       "      <td>13683699</td>\n",
       "      <td>18009</td>\n",
       "      <td>1</td>\n",
       "      <td>NaN</td>\n",
       "      <td>NaN</td>\n",
       "      <td>NaT</td>\n",
       "      <td>2016-03-23</td>\n",
       "    </tr>\n",
       "    <tr>\n",
       "      <th>11429825</th>\n",
       "      <td>13683699</td>\n",
       "      <td>18009</td>\n",
       "      <td>1</td>\n",
       "      <td>NaN</td>\n",
       "      <td>NaN</td>\n",
       "      <td>NaT</td>\n",
       "      <td>2016-06-28</td>\n",
       "    </tr>\n",
       "  </tbody>\n",
       "</table>\n",
       "<p>11429826 rows × 7 columns</p>\n",
       "</div>"
      ],
      "text/plain": [
       "           User_id  Merchant_id  Action  Coupon_id Discount_rate  \\\n",
       "0         13740231        18907       2  100017492        500:50   \n",
       "1         13740231        34805       1        NaN           NaN   \n",
       "2         14336199        18907       0        NaN           NaN   \n",
       "3         14336199        18907       0        NaN           NaN   \n",
       "4         14336199        18907       0        NaN           NaN   \n",
       "...            ...          ...     ...        ...           ...   \n",
       "11429821  13087731        27715       0        NaN           NaN   \n",
       "11429822  13087731        52005       0        NaN           NaN   \n",
       "11429823  13087731        45611       0        NaN           NaN   \n",
       "11429824  13683699        18009       1        NaN           NaN   \n",
       "11429825  13683699        18009       1        NaN           NaN   \n",
       "\n",
       "         Date_received       Date  \n",
       "0           2016-05-13        NaT  \n",
       "1                  NaT 2016-03-21  \n",
       "2                  NaT 2016-06-18  \n",
       "3                  NaT 2016-06-18  \n",
       "4                  NaT 2016-06-18  \n",
       "...                ...        ...  \n",
       "11429821           NaT 2016-06-29  \n",
       "11429822           NaT 2016-03-24  \n",
       "11429823           NaT 2016-04-22  \n",
       "11429824           NaT 2016-03-23  \n",
       "11429825           NaT 2016-06-28  \n",
       "\n",
       "[11429826 rows x 7 columns]"
      ]
     },
     "execution_count": 235,
     "metadata": {},
     "output_type": "execute_result"
    }
   ],
   "source": [
    "on"
   ]
  },
  {
   "cell_type": "code",
   "execution_count": 237,
   "metadata": {
    "pycharm": {
     "name": "#%%\n"
    }
   },
   "outputs": [
    {
     "name": "stdout",
     "output_type": "stream",
     "text": [
      "<class 'pandas.core.frame.DataFrame'>\n",
      "RangeIndex: 11429826 entries, 0 to 11429825\n",
      "Data columns (total 7 columns):\n",
      " #   Column         Dtype         \n",
      "---  ------         -----         \n",
      " 0   User_id        int64         \n",
      " 1   Merchant_id    int64         \n",
      " 2   Action         int64         \n",
      " 3   Coupon_id      object        \n",
      " 4   Discount_rate  object        \n",
      " 5   Date_received  datetime64[ns]\n",
      " 6   Date           datetime64[ns]\n",
      "dtypes: datetime64[ns](2), int64(3), object(2)\n",
      "memory usage: 610.4+ MB\n"
     ]
    }
   ],
   "source": [
    "on.info()"
   ]
  },
  {
   "cell_type": "code",
   "execution_count": 238,
   "metadata": {
    "pycharm": {
     "name": "#%%\n"
    }
   },
   "outputs": [
    {
     "data": {
      "text/plain": [
       "User_id           True\n",
       "Merchant_id       True\n",
       "Action            True\n",
       "Coupon_id        False\n",
       "Discount_rate    False\n",
       "Date_received    False\n",
       "Date             False\n",
       "dtype: bool"
      ]
     },
     "execution_count": 238,
     "metadata": {},
     "output_type": "execute_result"
    }
   ],
   "source": [
    "on.notna().all()\n",
    "# Coupon_id: null表示无优惠券消费，此时Discount_rate和Date_received字段无意义。\n",
    "# “fixed”表示该交易是限时低价活动。 \n",
    "# Discount_rate: x \\in [0,1]代表折扣率；x:y表示满x减y；“fixed”表示低价限时优惠； \n",
    "# Action: 0 点击， 1购买，2领取优惠券 \n",
    "# Date: 如果Date=null & Coupon_id != null，该记录表示领取优惠券但没有使用(此时 Action=2)；\n",
    "# 如果Date!=null & Coupon_id = null，则表示普通消费/点击日期(Action=0或1)；\n",
    "# 如果Date!=null & Coupon_id != null，则表示用优惠券消费/fixed消费日期(Action=1)；"
   ]
  },
  {
   "cell_type": "code",
   "execution_count": 239,
   "metadata": {
    "pycharm": {
     "name": "#%%\n"
    }
   },
   "outputs": [
    {
     "data": {
      "text/html": [
       "<div>\n",
       "<style scoped>\n",
       "    .dataframe tbody tr th:only-of-type {\n",
       "        vertical-align: middle;\n",
       "    }\n",
       "\n",
       "    .dataframe tbody tr th {\n",
       "        vertical-align: top;\n",
       "    }\n",
       "\n",
       "    .dataframe thead th {\n",
       "        text-align: right;\n",
       "    }\n",
       "</style>\n",
       "<table border=\"1\" class=\"dataframe\">\n",
       "  <thead>\n",
       "    <tr style=\"text-align: right;\">\n",
       "      <th></th>\n",
       "      <th>User_id</th>\n",
       "      <th>Merchant_id</th>\n",
       "      <th>Action</th>\n",
       "      <th>Coupon_id</th>\n",
       "      <th>Discount_rate</th>\n",
       "      <th>Date_received</th>\n",
       "      <th>Date</th>\n",
       "    </tr>\n",
       "  </thead>\n",
       "  <tbody>\n",
       "    <tr>\n",
       "      <th>2</th>\n",
       "      <td>14336199</td>\n",
       "      <td>18907</td>\n",
       "      <td>0</td>\n",
       "      <td>NaN</td>\n",
       "      <td>NaN</td>\n",
       "      <td>NaT</td>\n",
       "      <td>2016-06-18</td>\n",
       "    </tr>\n",
       "    <tr>\n",
       "      <th>3</th>\n",
       "      <td>14336199</td>\n",
       "      <td>18907</td>\n",
       "      <td>0</td>\n",
       "      <td>NaN</td>\n",
       "      <td>NaN</td>\n",
       "      <td>NaT</td>\n",
       "      <td>2016-06-18</td>\n",
       "    </tr>\n",
       "    <tr>\n",
       "      <th>4</th>\n",
       "      <td>14336199</td>\n",
       "      <td>18907</td>\n",
       "      <td>0</td>\n",
       "      <td>NaN</td>\n",
       "      <td>NaN</td>\n",
       "      <td>NaT</td>\n",
       "      <td>2016-06-18</td>\n",
       "    </tr>\n",
       "    <tr>\n",
       "      <th>5</th>\n",
       "      <td>14336199</td>\n",
       "      <td>18907</td>\n",
       "      <td>0</td>\n",
       "      <td>NaN</td>\n",
       "      <td>NaN</td>\n",
       "      <td>NaT</td>\n",
       "      <td>2016-06-18</td>\n",
       "    </tr>\n",
       "    <tr>\n",
       "      <th>6</th>\n",
       "      <td>14336199</td>\n",
       "      <td>18907</td>\n",
       "      <td>0</td>\n",
       "      <td>NaN</td>\n",
       "      <td>NaN</td>\n",
       "      <td>NaT</td>\n",
       "      <td>2016-06-18</td>\n",
       "    </tr>\n",
       "    <tr>\n",
       "      <th>...</th>\n",
       "      <td>...</td>\n",
       "      <td>...</td>\n",
       "      <td>...</td>\n",
       "      <td>...</td>\n",
       "      <td>...</td>\n",
       "      <td>...</td>\n",
       "      <td>...</td>\n",
       "    </tr>\n",
       "    <tr>\n",
       "      <th>11429819</th>\n",
       "      <td>12985299</td>\n",
       "      <td>10813</td>\n",
       "      <td>0</td>\n",
       "      <td>NaN</td>\n",
       "      <td>NaN</td>\n",
       "      <td>NaT</td>\n",
       "      <td>2016-04-14</td>\n",
       "    </tr>\n",
       "    <tr>\n",
       "      <th>11429820</th>\n",
       "      <td>13087731</td>\n",
       "      <td>52509</td>\n",
       "      <td>0</td>\n",
       "      <td>NaN</td>\n",
       "      <td>NaN</td>\n",
       "      <td>NaT</td>\n",
       "      <td>2016-06-09</td>\n",
       "    </tr>\n",
       "    <tr>\n",
       "      <th>11429821</th>\n",
       "      <td>13087731</td>\n",
       "      <td>27715</td>\n",
       "      <td>0</td>\n",
       "      <td>NaN</td>\n",
       "      <td>NaN</td>\n",
       "      <td>NaT</td>\n",
       "      <td>2016-06-29</td>\n",
       "    </tr>\n",
       "    <tr>\n",
       "      <th>11429822</th>\n",
       "      <td>13087731</td>\n",
       "      <td>52005</td>\n",
       "      <td>0</td>\n",
       "      <td>NaN</td>\n",
       "      <td>NaN</td>\n",
       "      <td>NaT</td>\n",
       "      <td>2016-03-24</td>\n",
       "    </tr>\n",
       "    <tr>\n",
       "      <th>11429823</th>\n",
       "      <td>13087731</td>\n",
       "      <td>45611</td>\n",
       "      <td>0</td>\n",
       "      <td>NaN</td>\n",
       "      <td>NaN</td>\n",
       "      <td>NaT</td>\n",
       "      <td>2016-04-22</td>\n",
       "    </tr>\n",
       "  </tbody>\n",
       "</table>\n",
       "<p>9401780 rows × 7 columns</p>\n",
       "</div>"
      ],
      "text/plain": [
       "           User_id  Merchant_id  Action Coupon_id Discount_rate Date_received  \\\n",
       "2         14336199        18907       0       NaN           NaN           NaT   \n",
       "3         14336199        18907       0       NaN           NaN           NaT   \n",
       "4         14336199        18907       0       NaN           NaN           NaT   \n",
       "5         14336199        18907       0       NaN           NaN           NaT   \n",
       "6         14336199        18907       0       NaN           NaN           NaT   \n",
       "...            ...          ...     ...       ...           ...           ...   \n",
       "11429819  12985299        10813       0       NaN           NaN           NaT   \n",
       "11429820  13087731        52509       0       NaN           NaN           NaT   \n",
       "11429821  13087731        27715       0       NaN           NaN           NaT   \n",
       "11429822  13087731        52005       0       NaN           NaN           NaT   \n",
       "11429823  13087731        45611       0       NaN           NaN           NaT   \n",
       "\n",
       "               Date  \n",
       "2        2016-06-18  \n",
       "3        2016-06-18  \n",
       "4        2016-06-18  \n",
       "5        2016-06-18  \n",
       "6        2016-06-18  \n",
       "...             ...  \n",
       "11429819 2016-04-14  \n",
       "11429820 2016-06-09  \n",
       "11429821 2016-06-29  \n",
       "11429822 2016-03-24  \n",
       "11429823 2016-04-22  \n",
       "\n",
       "[9401780 rows x 7 columns]"
      ]
     },
     "execution_count": 239,
     "metadata": {},
     "output_type": "execute_result"
    }
   ],
   "source": [
    "on[on['Action'] == 0]"
   ]
  },
  {
   "cell_type": "code",
   "execution_count": 242,
   "metadata": {
    "pycharm": {
     "name": "#%%\n"
    }
   },
   "outputs": [
    {
     "data": {
      "text/plain": [
       "(True, True, True)"
      ]
     },
     "execution_count": 242,
     "metadata": {},
     "output_type": "execute_result"
    }
   ],
   "source": [
    "on[on['Action'] == 0]['Coupon_id'].isna().all(), \\\n",
    "    on[on['Action'] == 0]['Discount_rate'].isna().all(), \\\n",
    "        on[on['Action'] == 0]['Date_received'].isna().all()\n",
    "# 点击时上面三者均为 na"
   ]
  },
  {
   "cell_type": "code",
   "execution_count": 243,
   "metadata": {
    "pycharm": {
     "name": "#%%\n"
    }
   },
   "outputs": [
    {
     "data": {
      "text/plain": [
       "True"
      ]
     },
     "execution_count": 243,
     "metadata": {},
     "output_type": "execute_result"
    }
   ],
   "source": [
    "on[on['Action'] == 0]['Date'].notna().all()\n",
    "# 点击时 Date 全部都不是 na\n",
    "# 表示点击"
   ]
  },
  {
   "cell_type": "code",
   "execution_count": 247,
   "metadata": {
    "pycharm": {
     "name": "#%%\n"
    }
   },
   "outputs": [
    {
     "data": {
      "text/html": [
       "<div>\n",
       "<style scoped>\n",
       "    .dataframe tbody tr th:only-of-type {\n",
       "        vertical-align: middle;\n",
       "    }\n",
       "\n",
       "    .dataframe tbody tr th {\n",
       "        vertical-align: top;\n",
       "    }\n",
       "\n",
       "    .dataframe thead th {\n",
       "        text-align: right;\n",
       "    }\n",
       "</style>\n",
       "<table border=\"1\" class=\"dataframe\">\n",
       "  <thead>\n",
       "    <tr style=\"text-align: right;\">\n",
       "      <th></th>\n",
       "      <th>User_id</th>\n",
       "      <th>Merchant_id</th>\n",
       "      <th>Action</th>\n",
       "      <th>Coupon_id</th>\n",
       "      <th>Discount_rate</th>\n",
       "      <th>Date_received</th>\n",
       "      <th>Date</th>\n",
       "    </tr>\n",
       "  </thead>\n",
       "  <tbody>\n",
       "    <tr>\n",
       "      <th>0</th>\n",
       "      <td>13740231</td>\n",
       "      <td>18907</td>\n",
       "      <td>2</td>\n",
       "      <td>100017492</td>\n",
       "      <td>500:50</td>\n",
       "      <td>2016-05-13</td>\n",
       "      <td>NaT</td>\n",
       "    </tr>\n",
       "    <tr>\n",
       "      <th>73</th>\n",
       "      <td>15137031</td>\n",
       "      <td>25104</td>\n",
       "      <td>2</td>\n",
       "      <td>100120354</td>\n",
       "      <td>150:50</td>\n",
       "      <td>2016-06-13</td>\n",
       "      <td>NaT</td>\n",
       "    </tr>\n",
       "    <tr>\n",
       "      <th>74</th>\n",
       "      <td>15137031</td>\n",
       "      <td>44706</td>\n",
       "      <td>2</td>\n",
       "      <td>100071973</td>\n",
       "      <td>50:5</td>\n",
       "      <td>2016-03-17</td>\n",
       "      <td>NaT</td>\n",
       "    </tr>\n",
       "    <tr>\n",
       "      <th>114</th>\n",
       "      <td>15137031</td>\n",
       "      <td>29007</td>\n",
       "      <td>2</td>\n",
       "      <td>100028000</td>\n",
       "      <td>30:1</td>\n",
       "      <td>2016-04-05</td>\n",
       "      <td>NaT</td>\n",
       "    </tr>\n",
       "    <tr>\n",
       "      <th>115</th>\n",
       "      <td>15137031</td>\n",
       "      <td>18907</td>\n",
       "      <td>2</td>\n",
       "      <td>100086665</td>\n",
       "      <td>300:50</td>\n",
       "      <td>2016-04-06</td>\n",
       "      <td>NaT</td>\n",
       "    </tr>\n",
       "    <tr>\n",
       "      <th>...</th>\n",
       "      <td>...</td>\n",
       "      <td>...</td>\n",
       "      <td>...</td>\n",
       "      <td>...</td>\n",
       "      <td>...</td>\n",
       "      <td>...</td>\n",
       "      <td>...</td>\n",
       "    </tr>\n",
       "    <tr>\n",
       "      <th>11429600</th>\n",
       "      <td>13495131</td>\n",
       "      <td>45902</td>\n",
       "      <td>2</td>\n",
       "      <td>100014418</td>\n",
       "      <td>150:5</td>\n",
       "      <td>2016-04-20</td>\n",
       "      <td>NaT</td>\n",
       "    </tr>\n",
       "    <tr>\n",
       "      <th>11429601</th>\n",
       "      <td>13495131</td>\n",
       "      <td>45902</td>\n",
       "      <td>2</td>\n",
       "      <td>100176168</td>\n",
       "      <td>200:10</td>\n",
       "      <td>2016-04-20</td>\n",
       "      <td>NaT</td>\n",
       "    </tr>\n",
       "    <tr>\n",
       "      <th>11429602</th>\n",
       "      <td>14091099</td>\n",
       "      <td>44805</td>\n",
       "      <td>2</td>\n",
       "      <td>100197854</td>\n",
       "      <td>5:1</td>\n",
       "      <td>2016-04-27</td>\n",
       "      <td>NaT</td>\n",
       "    </tr>\n",
       "    <tr>\n",
       "      <th>11429625</th>\n",
       "      <td>14091099</td>\n",
       "      <td>47412</td>\n",
       "      <td>2</td>\n",
       "      <td>100148588</td>\n",
       "      <td>30:20</td>\n",
       "      <td>2016-05-31</td>\n",
       "      <td>NaT</td>\n",
       "    </tr>\n",
       "    <tr>\n",
       "      <th>11429761</th>\n",
       "      <td>14891931</td>\n",
       "      <td>16400</td>\n",
       "      <td>2</td>\n",
       "      <td>100174946</td>\n",
       "      <td>30:20</td>\n",
       "      <td>2016-04-11</td>\n",
       "      <td>NaT</td>\n",
       "    </tr>\n",
       "  </tbody>\n",
       "</table>\n",
       "<p>655898 rows × 7 columns</p>\n",
       "</div>"
      ],
      "text/plain": [
       "           User_id  Merchant_id  Action  Coupon_id Discount_rate  \\\n",
       "0         13740231        18907       2  100017492        500:50   \n",
       "73        15137031        25104       2  100120354        150:50   \n",
       "74        15137031        44706       2  100071973          50:5   \n",
       "114       15137031        29007       2  100028000          30:1   \n",
       "115       15137031        18907       2  100086665        300:50   \n",
       "...            ...          ...     ...        ...           ...   \n",
       "11429600  13495131        45902       2  100014418         150:5   \n",
       "11429601  13495131        45902       2  100176168        200:10   \n",
       "11429602  14091099        44805       2  100197854           5:1   \n",
       "11429625  14091099        47412       2  100148588         30:20   \n",
       "11429761  14891931        16400       2  100174946         30:20   \n",
       "\n",
       "         Date_received Date  \n",
       "0           2016-05-13  NaT  \n",
       "73          2016-06-13  NaT  \n",
       "74          2016-03-17  NaT  \n",
       "114         2016-04-05  NaT  \n",
       "115         2016-04-06  NaT  \n",
       "...                ...  ...  \n",
       "11429600    2016-04-20  NaT  \n",
       "11429601    2016-04-20  NaT  \n",
       "11429602    2016-04-27  NaT  \n",
       "11429625    2016-05-31  NaT  \n",
       "11429761    2016-04-11  NaT  \n",
       "\n",
       "[655898 rows x 7 columns]"
      ]
     },
     "execution_count": 247,
     "metadata": {},
     "output_type": "execute_result"
    }
   ],
   "source": [
    "on[on['Action'] == 2]"
   ]
  },
  {
   "cell_type": "code",
   "execution_count": 245,
   "metadata": {
    "pycharm": {
     "name": "#%%\n"
    }
   },
   "outputs": [
    {
     "data": {
      "text/plain": [
       "True"
      ]
     },
     "execution_count": 245,
     "metadata": {},
     "output_type": "execute_result"
    }
   ],
   "source": [
    "on[on['Action'] == 2]['Date'].isna().all()\n",
    "# 领取优惠券时全没有消费日期"
   ]
  },
  {
   "cell_type": "code",
   "execution_count": 252,
   "metadata": {
    "pycharm": {
     "name": "#%%\n"
    }
   },
   "outputs": [
    {
     "data": {
      "text/html": [
       "<div>\n",
       "<style scoped>\n",
       "    .dataframe tbody tr th:only-of-type {\n",
       "        vertical-align: middle;\n",
       "    }\n",
       "\n",
       "    .dataframe tbody tr th {\n",
       "        vertical-align: top;\n",
       "    }\n",
       "\n",
       "    .dataframe thead th {\n",
       "        text-align: right;\n",
       "    }\n",
       "</style>\n",
       "<table border=\"1\" class=\"dataframe\">\n",
       "  <thead>\n",
       "    <tr style=\"text-align: right;\">\n",
       "      <th></th>\n",
       "      <th>User_id</th>\n",
       "      <th>Merchant_id</th>\n",
       "      <th>Action</th>\n",
       "      <th>Coupon_id</th>\n",
       "      <th>Discount_rate</th>\n",
       "      <th>Date_received</th>\n",
       "      <th>Date</th>\n",
       "    </tr>\n",
       "  </thead>\n",
       "  <tbody>\n",
       "    <tr>\n",
       "      <th>1</th>\n",
       "      <td>13740231</td>\n",
       "      <td>34805</td>\n",
       "      <td>1</td>\n",
       "      <td>NaN</td>\n",
       "      <td>NaN</td>\n",
       "      <td>NaT</td>\n",
       "      <td>2016-03-21</td>\n",
       "    </tr>\n",
       "    <tr>\n",
       "      <th>19</th>\n",
       "      <td>10539231</td>\n",
       "      <td>12008</td>\n",
       "      <td>1</td>\n",
       "      <td>NaN</td>\n",
       "      <td>NaN</td>\n",
       "      <td>NaT</td>\n",
       "      <td>2016-06-18</td>\n",
       "    </tr>\n",
       "    <tr>\n",
       "      <th>21</th>\n",
       "      <td>10539231</td>\n",
       "      <td>12008</td>\n",
       "      <td>1</td>\n",
       "      <td>NaN</td>\n",
       "      <td>NaN</td>\n",
       "      <td>NaT</td>\n",
       "      <td>2016-06-18</td>\n",
       "    </tr>\n",
       "    <tr>\n",
       "      <th>75</th>\n",
       "      <td>15137031</td>\n",
       "      <td>18206</td>\n",
       "      <td>1</td>\n",
       "      <td>NaN</td>\n",
       "      <td>NaN</td>\n",
       "      <td>NaT</td>\n",
       "      <td>2016-05-14</td>\n",
       "    </tr>\n",
       "    <tr>\n",
       "      <th>76</th>\n",
       "      <td>15137031</td>\n",
       "      <td>18206</td>\n",
       "      <td>1</td>\n",
       "      <td>NaN</td>\n",
       "      <td>NaN</td>\n",
       "      <td>NaT</td>\n",
       "      <td>2016-05-14</td>\n",
       "    </tr>\n",
       "    <tr>\n",
       "      <th>...</th>\n",
       "      <td>...</td>\n",
       "      <td>...</td>\n",
       "      <td>...</td>\n",
       "      <td>...</td>\n",
       "      <td>...</td>\n",
       "      <td>...</td>\n",
       "      <td>...</td>\n",
       "    </tr>\n",
       "    <tr>\n",
       "      <th>11429791</th>\n",
       "      <td>12985299</td>\n",
       "      <td>49800</td>\n",
       "      <td>1</td>\n",
       "      <td>100181877</td>\n",
       "      <td>10:5</td>\n",
       "      <td>2016-05-16</td>\n",
       "      <td>2016-05-17</td>\n",
       "    </tr>\n",
       "    <tr>\n",
       "      <th>11429810</th>\n",
       "      <td>12985299</td>\n",
       "      <td>49800</td>\n",
       "      <td>1</td>\n",
       "      <td>fixed</td>\n",
       "      <td>fixed</td>\n",
       "      <td>2016-05-17</td>\n",
       "      <td>2016-05-17</td>\n",
       "    </tr>\n",
       "    <tr>\n",
       "      <th>11429818</th>\n",
       "      <td>12985299</td>\n",
       "      <td>49800</td>\n",
       "      <td>1</td>\n",
       "      <td>NaN</td>\n",
       "      <td>NaN</td>\n",
       "      <td>NaT</td>\n",
       "      <td>2016-05-20</td>\n",
       "    </tr>\n",
       "    <tr>\n",
       "      <th>11429824</th>\n",
       "      <td>13683699</td>\n",
       "      <td>18009</td>\n",
       "      <td>1</td>\n",
       "      <td>NaN</td>\n",
       "      <td>NaN</td>\n",
       "      <td>NaT</td>\n",
       "      <td>2016-03-23</td>\n",
       "    </tr>\n",
       "    <tr>\n",
       "      <th>11429825</th>\n",
       "      <td>13683699</td>\n",
       "      <td>18009</td>\n",
       "      <td>1</td>\n",
       "      <td>NaN</td>\n",
       "      <td>NaN</td>\n",
       "      <td>NaT</td>\n",
       "      <td>2016-06-28</td>\n",
       "    </tr>\n",
       "  </tbody>\n",
       "</table>\n",
       "<p>1372148 rows × 7 columns</p>\n",
       "</div>"
      ],
      "text/plain": [
       "           User_id  Merchant_id  Action  Coupon_id Discount_rate  \\\n",
       "1         13740231        34805       1        NaN           NaN   \n",
       "19        10539231        12008       1        NaN           NaN   \n",
       "21        10539231        12008       1        NaN           NaN   \n",
       "75        15137031        18206       1        NaN           NaN   \n",
       "76        15137031        18206       1        NaN           NaN   \n",
       "...            ...          ...     ...        ...           ...   \n",
       "11429791  12985299        49800       1  100181877          10:5   \n",
       "11429810  12985299        49800       1      fixed         fixed   \n",
       "11429818  12985299        49800       1        NaN           NaN   \n",
       "11429824  13683699        18009       1        NaN           NaN   \n",
       "11429825  13683699        18009       1        NaN           NaN   \n",
       "\n",
       "         Date_received       Date  \n",
       "1                  NaT 2016-03-21  \n",
       "19                 NaT 2016-06-18  \n",
       "21                 NaT 2016-06-18  \n",
       "75                 NaT 2016-05-14  \n",
       "76                 NaT 2016-05-14  \n",
       "...                ...        ...  \n",
       "11429791    2016-05-16 2016-05-17  \n",
       "11429810    2016-05-17 2016-05-17  \n",
       "11429818           NaT 2016-05-20  \n",
       "11429824           NaT 2016-03-23  \n",
       "11429825           NaT 2016-06-28  \n",
       "\n",
       "[1372148 rows x 7 columns]"
      ]
     },
     "execution_count": 252,
     "metadata": {},
     "output_type": "execute_result"
    }
   ],
   "source": [
    "on[on['Action'] == 1]"
   ]
  },
  {
   "cell_type": "code",
   "execution_count": 249,
   "metadata": {
    "pycharm": {
     "name": "#%%\n"
    }
   },
   "outputs": [
    {
     "data": {
      "text/plain": [
       "True"
      ]
     },
     "execution_count": 249,
     "metadata": {},
     "output_type": "execute_result"
    }
   ],
   "source": [
    "on[on['Action'] == 1]['Date'].notna().all()"
   ]
  },
  {
   "cell_type": "code",
   "execution_count": 260,
   "metadata": {
    "pycharm": {
     "name": "#%%\n"
    }
   },
   "outputs": [],
   "source": [
    "on['coupon_consume'] = 0  # 是否使用了优惠券消费\n",
    "on.loc[on['Date'].notna() & on['Coupon_id'].notna() & (on['Coupon_id'] != 'fixed'),\\\n",
    "     'coupon_consume'] = 1"
   ]
  },
  {
   "cell_type": "code",
   "execution_count": 272,
   "metadata": {
    "pycharm": {
     "name": "#%%\n"
    }
   },
   "outputs": [],
   "source": [
    "on['fixed_consume'] = 0  # 是否是限时降价消费\n",
    "on.loc[on['Date'].notna() & (on['Coupon_id'] == 'fixed'), 'fixed_consume'] = 1"
   ]
  },
  {
   "cell_type": "code",
   "execution_count": 278,
   "metadata": {
    "pycharm": {
     "name": "#%%\n"
    }
   },
   "outputs": [
    {
     "data": {
      "text/plain": [
       "True"
      ]
     },
     "execution_count": 278,
     "metadata": {},
     "output_type": "execute_result"
    }
   ],
   "source": [
    "(on[on['Date'].notna() & (on['Coupon_id'] == 'fixed')]['Date_received']\n",
    " == on[on['Date'].notna() & (on['Coupon_id'] == 'fixed')]['Date']).all()\n",
    "# 限时降价的 Date_received 就是 Date，没有意义"
   ]
  },
  {
   "cell_type": "code",
   "execution_count": 279,
   "metadata": {
    "pycharm": {
     "name": "#%%\n"
    }
   },
   "outputs": [],
   "source": [
    "on.loc[on['Date'].notna() & (on['Coupon_id'] == 'fixed'), 'Date_received'] = no_date\n",
    "# 移除 fixed 的 Date_received"
   ]
  },
  {
   "cell_type": "code",
   "execution_count": 280,
   "metadata": {
    "pycharm": {
     "name": "#%%\n"
    }
   },
   "outputs": [
    {
     "data": {
      "text/html": [
       "<div>\n",
       "<style scoped>\n",
       "    .dataframe tbody tr th:only-of-type {\n",
       "        vertical-align: middle;\n",
       "    }\n",
       "\n",
       "    .dataframe tbody tr th {\n",
       "        vertical-align: top;\n",
       "    }\n",
       "\n",
       "    .dataframe thead th {\n",
       "        text-align: right;\n",
       "    }\n",
       "</style>\n",
       "<table border=\"1\" class=\"dataframe\">\n",
       "  <thead>\n",
       "    <tr style=\"text-align: right;\">\n",
       "      <th></th>\n",
       "      <th>User_id</th>\n",
       "      <th>Merchant_id</th>\n",
       "      <th>Action</th>\n",
       "      <th>Coupon_id</th>\n",
       "      <th>Discount_rate</th>\n",
       "      <th>Date_received</th>\n",
       "      <th>Date</th>\n",
       "      <th>coupon_consume</th>\n",
       "      <th>fixed_consume</th>\n",
       "    </tr>\n",
       "  </thead>\n",
       "  <tbody>\n",
       "    <tr>\n",
       "      <th>273</th>\n",
       "      <td>10131831</td>\n",
       "      <td>47003</td>\n",
       "      <td>1</td>\n",
       "      <td>fixed</td>\n",
       "      <td>fixed</td>\n",
       "      <td>1970-01-01</td>\n",
       "      <td>2016-01-28</td>\n",
       "      <td>0</td>\n",
       "      <td>1</td>\n",
       "    </tr>\n",
       "    <tr>\n",
       "      <th>274</th>\n",
       "      <td>10131831</td>\n",
       "      <td>47003</td>\n",
       "      <td>1</td>\n",
       "      <td>fixed</td>\n",
       "      <td>fixed</td>\n",
       "      <td>1970-01-01</td>\n",
       "      <td>2016-01-28</td>\n",
       "      <td>0</td>\n",
       "      <td>1</td>\n",
       "    </tr>\n",
       "    <tr>\n",
       "      <th>279</th>\n",
       "      <td>10131831</td>\n",
       "      <td>47003</td>\n",
       "      <td>1</td>\n",
       "      <td>fixed</td>\n",
       "      <td>fixed</td>\n",
       "      <td>1970-01-01</td>\n",
       "      <td>2016-01-17</td>\n",
       "      <td>0</td>\n",
       "      <td>1</td>\n",
       "    </tr>\n",
       "    <tr>\n",
       "      <th>280</th>\n",
       "      <td>10131831</td>\n",
       "      <td>47003</td>\n",
       "      <td>1</td>\n",
       "      <td>fixed</td>\n",
       "      <td>fixed</td>\n",
       "      <td>1970-01-01</td>\n",
       "      <td>2016-01-17</td>\n",
       "      <td>0</td>\n",
       "      <td>1</td>\n",
       "    </tr>\n",
       "    <tr>\n",
       "      <th>748</th>\n",
       "      <td>12518031</td>\n",
       "      <td>30314</td>\n",
       "      <td>1</td>\n",
       "      <td>fixed</td>\n",
       "      <td>fixed</td>\n",
       "      <td>1970-01-01</td>\n",
       "      <td>2016-03-06</td>\n",
       "      <td>0</td>\n",
       "      <td>1</td>\n",
       "    </tr>\n",
       "    <tr>\n",
       "      <th>...</th>\n",
       "      <td>...</td>\n",
       "      <td>...</td>\n",
       "      <td>...</td>\n",
       "      <td>...</td>\n",
       "      <td>...</td>\n",
       "      <td>...</td>\n",
       "      <td>...</td>\n",
       "      <td>...</td>\n",
       "      <td>...</td>\n",
       "    </tr>\n",
       "    <tr>\n",
       "      <th>11428992</th>\n",
       "      <td>12214731</td>\n",
       "      <td>51810</td>\n",
       "      <td>1</td>\n",
       "      <td>fixed</td>\n",
       "      <td>fixed</td>\n",
       "      <td>1970-01-01</td>\n",
       "      <td>2016-03-07</td>\n",
       "      <td>0</td>\n",
       "      <td>1</td>\n",
       "    </tr>\n",
       "    <tr>\n",
       "      <th>11429163</th>\n",
       "      <td>15008331</td>\n",
       "      <td>46602</td>\n",
       "      <td>1</td>\n",
       "      <td>fixed</td>\n",
       "      <td>fixed</td>\n",
       "      <td>1970-01-01</td>\n",
       "      <td>2016-02-18</td>\n",
       "      <td>0</td>\n",
       "      <td>1</td>\n",
       "    </tr>\n",
       "    <tr>\n",
       "      <th>11429496</th>\n",
       "      <td>15299331</td>\n",
       "      <td>18907</td>\n",
       "      <td>1</td>\n",
       "      <td>fixed</td>\n",
       "      <td>fixed</td>\n",
       "      <td>1970-01-01</td>\n",
       "      <td>2016-03-08</td>\n",
       "      <td>0</td>\n",
       "      <td>1</td>\n",
       "    </tr>\n",
       "    <tr>\n",
       "      <th>11429499</th>\n",
       "      <td>15299331</td>\n",
       "      <td>18907</td>\n",
       "      <td>1</td>\n",
       "      <td>fixed</td>\n",
       "      <td>fixed</td>\n",
       "      <td>1970-01-01</td>\n",
       "      <td>2016-03-19</td>\n",
       "      <td>0</td>\n",
       "      <td>1</td>\n",
       "    </tr>\n",
       "    <tr>\n",
       "      <th>11429810</th>\n",
       "      <td>12985299</td>\n",
       "      <td>49800</td>\n",
       "      <td>1</td>\n",
       "      <td>fixed</td>\n",
       "      <td>fixed</td>\n",
       "      <td>1970-01-01</td>\n",
       "      <td>2016-05-17</td>\n",
       "      <td>0</td>\n",
       "      <td>1</td>\n",
       "    </tr>\n",
       "  </tbody>\n",
       "</table>\n",
       "<p>131546 rows × 9 columns</p>\n",
       "</div>"
      ],
      "text/plain": [
       "           User_id  Merchant_id  Action Coupon_id Discount_rate Date_received  \\\n",
       "273       10131831        47003       1     fixed         fixed    1970-01-01   \n",
       "274       10131831        47003       1     fixed         fixed    1970-01-01   \n",
       "279       10131831        47003       1     fixed         fixed    1970-01-01   \n",
       "280       10131831        47003       1     fixed         fixed    1970-01-01   \n",
       "748       12518031        30314       1     fixed         fixed    1970-01-01   \n",
       "...            ...          ...     ...       ...           ...           ...   \n",
       "11428992  12214731        51810       1     fixed         fixed    1970-01-01   \n",
       "11429163  15008331        46602       1     fixed         fixed    1970-01-01   \n",
       "11429496  15299331        18907       1     fixed         fixed    1970-01-01   \n",
       "11429499  15299331        18907       1     fixed         fixed    1970-01-01   \n",
       "11429810  12985299        49800       1     fixed         fixed    1970-01-01   \n",
       "\n",
       "               Date  coupon_consume  fixed_consume  \n",
       "273      2016-01-28               0              1  \n",
       "274      2016-01-28               0              1  \n",
       "279      2016-01-17               0              1  \n",
       "280      2016-01-17               0              1  \n",
       "748      2016-03-06               0              1  \n",
       "...             ...             ...            ...  \n",
       "11428992 2016-03-07               0              1  \n",
       "11429163 2016-02-18               0              1  \n",
       "11429496 2016-03-08               0              1  \n",
       "11429499 2016-03-19               0              1  \n",
       "11429810 2016-05-17               0              1  \n",
       "\n",
       "[131546 rows x 9 columns]"
      ]
     },
     "execution_count": 280,
     "metadata": {},
     "output_type": "execute_result"
    }
   ],
   "source": [
    "on[on['Date'].notna() & (on['Coupon_id'] == 'fixed')]"
   ]
  },
  {
   "cell_type": "code",
   "execution_count": 288,
   "metadata": {
    "pycharm": {
     "name": "#%%\n"
    }
   },
   "outputs": [],
   "source": [
    "on['normal_consume'] = 0  # 是否是正常消费，没有使用优惠券的消费行为\n",
    "on.loc[(on['Action'] == 1) & on['Coupon_id'].isna(), 'normal_consume'] = 1"
   ]
  },
  {
   "cell_type": "code",
   "execution_count": 287,
   "metadata": {
    "pycharm": {
     "name": "#%%\n"
    }
   },
   "outputs": [
    {
     "data": {
      "text/plain": [
       "True"
      ]
     },
     "execution_count": 287,
     "metadata": {},
     "output_type": "execute_result"
    }
   ],
   "source": [
    "len(on[on['Date'].notna() & on['Coupon_id'].isna()]) == \\\n",
    "    len(on[(on['Action'] == 0) & on['Coupon_id'].isna()]) \\\n",
    "        + len(on[(on['Action'] == 1) & on['Coupon_id'].isna()])\n",
    "# Date 不是 na 是，Coupon_id 是 na 只有两种情况：点击/购买"
   ]
  },
  {
   "cell_type": "code",
   "execution_count": 294,
   "metadata": {
    "pycharm": {
     "name": "#%%\n"
    }
   },
   "outputs": [],
   "source": [
    "on['no_consume'] = 0  # 领取了优惠券但没有消费\n",
    "on.loc[(on['Action'] == 2), 'no_consume'] = 1"
   ]
  },
  {
   "cell_type": "code",
   "execution_count": 298,
   "metadata": {
    "pycharm": {
     "name": "#%%\n"
    }
   },
   "outputs": [],
   "source": [
    "tmp = on[(on['coupon_consume'] + on['fixed_consume'] + on['normal_consume'] + on['no_consume'] != 1)]\n",
    "# 四者之和不为1的"
   ]
  },
  {
   "cell_type": "code",
   "execution_count": 303,
   "metadata": {
    "pycharm": {
     "name": "#%%\n"
    }
   },
   "outputs": [
    {
     "data": {
      "text/plain": [
       "True"
      ]
     },
     "execution_count": 303,
     "metadata": {},
     "output_type": "execute_result"
    }
   ],
   "source": [
    "len(tmp) == len(on[on['Action'] == 0])\n",
    "# 全是点击行为"
   ]
  },
  {
   "cell_type": "code",
   "execution_count": 305,
   "metadata": {
    "pycharm": {
     "name": "#%%\n"
    }
   },
   "outputs": [
    {
     "data": {
      "text/plain": [
       "User_id            True\n",
       "Merchant_id        True\n",
       "Action             True\n",
       "Coupon_id         False\n",
       "Discount_rate     False\n",
       "Date_received     False\n",
       "Date              False\n",
       "coupon_consume     True\n",
       "fixed_consume      True\n",
       "normal_consume     True\n",
       "no_consume         True\n",
       "dtype: bool"
      ]
     },
     "execution_count": 305,
     "metadata": {},
     "output_type": "execute_result"
    }
   ],
   "source": [
    "on.notna().all()"
   ]
  },
  {
   "cell_type": "code",
   "execution_count": 309,
   "metadata": {
    "pycharm": {
     "name": "#%%\n"
    }
   },
   "outputs": [
    {
     "data": {
      "text/plain": [
       "True"
      ]
     },
     "execution_count": 309,
     "metadata": {},
     "output_type": "execute_result"
    }
   ],
   "source": [
    "(on[on['Date'].isna()]['Action'] == 2).all()\n",
    "# Date 是 na 的全是领取优惠券但没有使用的数据"
   ]
  },
  {
   "cell_type": "code",
   "execution_count": 310,
   "metadata": {
    "pycharm": {
     "name": "#%%\n"
    }
   },
   "outputs": [
    {
     "data": {
      "text/html": [
       "<div>\n",
       "<style scoped>\n",
       "    .dataframe tbody tr th:only-of-type {\n",
       "        vertical-align: middle;\n",
       "    }\n",
       "\n",
       "    .dataframe tbody tr th {\n",
       "        vertical-align: top;\n",
       "    }\n",
       "\n",
       "    .dataframe thead th {\n",
       "        text-align: right;\n",
       "    }\n",
       "</style>\n",
       "<table border=\"1\" class=\"dataframe\">\n",
       "  <thead>\n",
       "    <tr style=\"text-align: right;\">\n",
       "      <th></th>\n",
       "      <th>User_id</th>\n",
       "      <th>Merchant_id</th>\n",
       "      <th>Action</th>\n",
       "      <th>Coupon_id</th>\n",
       "      <th>Discount_rate</th>\n",
       "      <th>Date_received</th>\n",
       "      <th>Date</th>\n",
       "      <th>coupon_consume</th>\n",
       "      <th>fixed_consume</th>\n",
       "      <th>normal_consume</th>\n",
       "      <th>no_consume</th>\n",
       "    </tr>\n",
       "  </thead>\n",
       "  <tbody>\n",
       "    <tr>\n",
       "      <th>0</th>\n",
       "      <td>13740231</td>\n",
       "      <td>18907</td>\n",
       "      <td>2</td>\n",
       "      <td>100017492</td>\n",
       "      <td>500:50</td>\n",
       "      <td>2016-05-13</td>\n",
       "      <td>NaT</td>\n",
       "      <td>0</td>\n",
       "      <td>0</td>\n",
       "      <td>0</td>\n",
       "      <td>1</td>\n",
       "    </tr>\n",
       "    <tr>\n",
       "      <th>1</th>\n",
       "      <td>13740231</td>\n",
       "      <td>34805</td>\n",
       "      <td>1</td>\n",
       "      <td>NaN</td>\n",
       "      <td>NaN</td>\n",
       "      <td>NaT</td>\n",
       "      <td>2016-03-21</td>\n",
       "      <td>0</td>\n",
       "      <td>0</td>\n",
       "      <td>1</td>\n",
       "      <td>0</td>\n",
       "    </tr>\n",
       "    <tr>\n",
       "      <th>2</th>\n",
       "      <td>14336199</td>\n",
       "      <td>18907</td>\n",
       "      <td>0</td>\n",
       "      <td>NaN</td>\n",
       "      <td>NaN</td>\n",
       "      <td>NaT</td>\n",
       "      <td>2016-06-18</td>\n",
       "      <td>0</td>\n",
       "      <td>0</td>\n",
       "      <td>0</td>\n",
       "      <td>0</td>\n",
       "    </tr>\n",
       "    <tr>\n",
       "      <th>3</th>\n",
       "      <td>14336199</td>\n",
       "      <td>18907</td>\n",
       "      <td>0</td>\n",
       "      <td>NaN</td>\n",
       "      <td>NaN</td>\n",
       "      <td>NaT</td>\n",
       "      <td>2016-06-18</td>\n",
       "      <td>0</td>\n",
       "      <td>0</td>\n",
       "      <td>0</td>\n",
       "      <td>0</td>\n",
       "    </tr>\n",
       "    <tr>\n",
       "      <th>4</th>\n",
       "      <td>14336199</td>\n",
       "      <td>18907</td>\n",
       "      <td>0</td>\n",
       "      <td>NaN</td>\n",
       "      <td>NaN</td>\n",
       "      <td>NaT</td>\n",
       "      <td>2016-06-18</td>\n",
       "      <td>0</td>\n",
       "      <td>0</td>\n",
       "      <td>0</td>\n",
       "      <td>0</td>\n",
       "    </tr>\n",
       "    <tr>\n",
       "      <th>...</th>\n",
       "      <td>...</td>\n",
       "      <td>...</td>\n",
       "      <td>...</td>\n",
       "      <td>...</td>\n",
       "      <td>...</td>\n",
       "      <td>...</td>\n",
       "      <td>...</td>\n",
       "      <td>...</td>\n",
       "      <td>...</td>\n",
       "      <td>...</td>\n",
       "      <td>...</td>\n",
       "    </tr>\n",
       "    <tr>\n",
       "      <th>11429821</th>\n",
       "      <td>13087731</td>\n",
       "      <td>27715</td>\n",
       "      <td>0</td>\n",
       "      <td>NaN</td>\n",
       "      <td>NaN</td>\n",
       "      <td>NaT</td>\n",
       "      <td>2016-06-29</td>\n",
       "      <td>0</td>\n",
       "      <td>0</td>\n",
       "      <td>0</td>\n",
       "      <td>0</td>\n",
       "    </tr>\n",
       "    <tr>\n",
       "      <th>11429822</th>\n",
       "      <td>13087731</td>\n",
       "      <td>52005</td>\n",
       "      <td>0</td>\n",
       "      <td>NaN</td>\n",
       "      <td>NaN</td>\n",
       "      <td>NaT</td>\n",
       "      <td>2016-03-24</td>\n",
       "      <td>0</td>\n",
       "      <td>0</td>\n",
       "      <td>0</td>\n",
       "      <td>0</td>\n",
       "    </tr>\n",
       "    <tr>\n",
       "      <th>11429823</th>\n",
       "      <td>13087731</td>\n",
       "      <td>45611</td>\n",
       "      <td>0</td>\n",
       "      <td>NaN</td>\n",
       "      <td>NaN</td>\n",
       "      <td>NaT</td>\n",
       "      <td>2016-04-22</td>\n",
       "      <td>0</td>\n",
       "      <td>0</td>\n",
       "      <td>0</td>\n",
       "      <td>0</td>\n",
       "    </tr>\n",
       "    <tr>\n",
       "      <th>11429824</th>\n",
       "      <td>13683699</td>\n",
       "      <td>18009</td>\n",
       "      <td>1</td>\n",
       "      <td>NaN</td>\n",
       "      <td>NaN</td>\n",
       "      <td>NaT</td>\n",
       "      <td>2016-03-23</td>\n",
       "      <td>0</td>\n",
       "      <td>0</td>\n",
       "      <td>1</td>\n",
       "      <td>0</td>\n",
       "    </tr>\n",
       "    <tr>\n",
       "      <th>11429825</th>\n",
       "      <td>13683699</td>\n",
       "      <td>18009</td>\n",
       "      <td>1</td>\n",
       "      <td>NaN</td>\n",
       "      <td>NaN</td>\n",
       "      <td>NaT</td>\n",
       "      <td>2016-06-28</td>\n",
       "      <td>0</td>\n",
       "      <td>0</td>\n",
       "      <td>1</td>\n",
       "      <td>0</td>\n",
       "    </tr>\n",
       "  </tbody>\n",
       "</table>\n",
       "<p>11429826 rows × 11 columns</p>\n",
       "</div>"
      ],
      "text/plain": [
       "           User_id  Merchant_id  Action  Coupon_id Discount_rate  \\\n",
       "0         13740231        18907       2  100017492        500:50   \n",
       "1         13740231        34805       1        NaN           NaN   \n",
       "2         14336199        18907       0        NaN           NaN   \n",
       "3         14336199        18907       0        NaN           NaN   \n",
       "4         14336199        18907       0        NaN           NaN   \n",
       "...            ...          ...     ...        ...           ...   \n",
       "11429821  13087731        27715       0        NaN           NaN   \n",
       "11429822  13087731        52005       0        NaN           NaN   \n",
       "11429823  13087731        45611       0        NaN           NaN   \n",
       "11429824  13683699        18009       1        NaN           NaN   \n",
       "11429825  13683699        18009       1        NaN           NaN   \n",
       "\n",
       "         Date_received       Date  coupon_consume  fixed_consume  \\\n",
       "0           2016-05-13        NaT               0              0   \n",
       "1                  NaT 2016-03-21               0              0   \n",
       "2                  NaT 2016-06-18               0              0   \n",
       "3                  NaT 2016-06-18               0              0   \n",
       "4                  NaT 2016-06-18               0              0   \n",
       "...                ...        ...             ...            ...   \n",
       "11429821           NaT 2016-06-29               0              0   \n",
       "11429822           NaT 2016-03-24               0              0   \n",
       "11429823           NaT 2016-04-22               0              0   \n",
       "11429824           NaT 2016-03-23               0              0   \n",
       "11429825           NaT 2016-06-28               0              0   \n",
       "\n",
       "          normal_consume  no_consume  \n",
       "0                      0           1  \n",
       "1                      1           0  \n",
       "2                      0           0  \n",
       "3                      0           0  \n",
       "4                      0           0  \n",
       "...                  ...         ...  \n",
       "11429821               0           0  \n",
       "11429822               0           0  \n",
       "11429823               0           0  \n",
       "11429824               1           0  \n",
       "11429825               1           0  \n",
       "\n",
       "[11429826 rows x 11 columns]"
      ]
     },
     "execution_count": 310,
     "metadata": {},
     "output_type": "execute_result"
    }
   ],
   "source": [
    "on"
   ]
  },
  {
   "cell_type": "code",
   "execution_count": 313,
   "metadata": {
    "pycharm": {
     "name": "#%%\n"
    }
   },
   "outputs": [],
   "source": [
    "on['Date'].fillna(no_date, inplace=True)\n",
    "on['Date_received'].fillna(no_date, inplace=True)\n",
    "on['Coupon_id'] = on['Coupon_id'].replace('fixed', 0)\n",
    "on['Coupon_id'] = on['Coupon_id'].fillna(0).astype(int)\n",
    "on['Discount_rate'] = on['Discount_rate'].replace('fixed', np.random.uniform(low=0.8, high=1.0)) # Discount_rate 随机初始化\n",
    "on['Discount_rate'].fillna('1.0', inplace=True)"
   ]
  },
  {
   "cell_type": "code",
   "execution_count": 315,
   "metadata": {
    "pycharm": {
     "name": "#%%\n"
    }
   },
   "outputs": [
    {
     "data": {
      "text/plain": [
       "User_id           True\n",
       "Merchant_id       True\n",
       "Action            True\n",
       "Coupon_id         True\n",
       "Discount_rate     True\n",
       "Date_received     True\n",
       "Date              True\n",
       "coupon_consume    True\n",
       "fixed_consume     True\n",
       "normal_consume    True\n",
       "no_consume        True\n",
       "dtype: bool"
      ]
     },
     "execution_count": 315,
     "metadata": {},
     "output_type": "execute_result"
    }
   ],
   "source": [
    "on.notna().all()"
   ]
  },
  {
   "cell_type": "code",
   "execution_count": 316,
   "metadata": {
    "pycharm": {
     "name": "#%%\n"
    }
   },
   "outputs": [
    {
     "name": "stdout",
     "output_type": "stream",
     "text": [
      "<class 'pandas.core.frame.DataFrame'>\n",
      "RangeIndex: 11429826 entries, 0 to 11429825\n",
      "Data columns (total 11 columns):\n",
      " #   Column          Dtype         \n",
      "---  ------          -----         \n",
      " 0   User_id         int64         \n",
      " 1   Merchant_id     int64         \n",
      " 2   Action          int64         \n",
      " 3   Coupon_id       int64         \n",
      " 4   Discount_rate   object        \n",
      " 5   Date_received   datetime64[ns]\n",
      " 6   Date            datetime64[ns]\n",
      " 7   coupon_consume  int64         \n",
      " 8   fixed_consume   int64         \n",
      " 9   normal_consume  int64         \n",
      " 10  no_consume      int64         \n",
      "dtypes: datetime64[ns](2), int64(8), object(1)\n",
      "memory usage: 959.2+ MB\n"
     ]
    }
   ],
   "source": [
    "on.info()"
   ]
  },
  {
   "cell_type": "markdown",
   "metadata": {
    "pycharm": {
     "name": "#%% md\n"
    }
   },
   "source": [
    "- 封装一个函数"
   ]
  },
  {
   "cell_type": "code",
   "execution_count": 10,
   "metadata": {
    "pycharm": {
     "name": "#%%\n"
    }
   },
   "outputs": [],
   "source": [
    "def pre_process_online(df: pd.DataFrame):\n",
    "    df['coupon_consume'] = 0  # 是否使用了优惠券消费\n",
    "    df.loc[df['Date'].notna() & df['Coupon_id'].notna() & (df['Coupon_id'] != 'fixed'),\\\n",
    "        'coupon_consume'] = 1\n",
    "    df['fixed_consume'] = 0  # 是否是限时降价消费\n",
    "    df.loc[df['Date'].notna() & (df['Coupon_id'] == 'fixed'), 'fixed_consume'] = 1\n",
    "    # 移除 fixed 的 Date_received\n",
    "    df.loc[df['Date'].notna() & (df['Coupon_id'] == 'fixed'), 'Date_received'] = no_date\n",
    "    df['normal_consume'] = 0  # 是否是正常消费，没有使用优惠券的消费行为\n",
    "    df.loc[(df['Action'] == 1) & df['Coupon_id'].isna(), 'normal_consume'] = 1\n",
    "    df['no_consume'] = 0  # 是否是领取了优惠券但没有消费\n",
    "    df.loc[(df['Action'] == 2), 'no_consume'] = 1\n",
    "    df['Date'].fillna(no_date, inplace=True)\n",
    "    df['Date_received'].fillna(no_date, inplace=True)\n",
    "    df['Coupon_id'] = df['Coupon_id'].replace('fixed', 0)\n",
    "    df['Coupon_id'] = df['Coupon_id'].fillna(0).astype(int)\n",
    "    df['Discount_rate'] = df['Discount_rate'].replace('fixed', '-1.0') # 标记为 -1.0\n",
    "    df['Discount_rate'].fillna('1.0', inplace=True)\n",
    "    df['is_full_discount'] = df['Discount_rate'].str.contains(':').astype(int)\n",
    "    df[['discount_x', 'discount_y']] = df[df['is_full_discount'] == 1]['Discount_rate']\\\n",
    "        .str.split(':', expand=True).astype(float)\n",
    "     # expand 设置成 true 才可以返回一个 dataframe，设置成 float 是因为合并时有NA\n",
    "    df['discount_rate'] = (1 - (df['discount_y'] / df['discount_x']))\\\n",
    "        .fillna(df['Discount_rate']).astype(float)\n",
    "    df[['discount_x', 'discount_y']] = \\\n",
    "        df[['discount_x', 'discount_y']].fillna(-1).astype(int)\n",
    "    _rate = sorted(set(df.discount_rate))\n",
    "    df['discount_type'] = df['discount_rate'].apply(lambda x: _rate.index(x))\n",
    "    return df"
   ]
  },
  {
   "cell_type": "code",
   "execution_count": 11,
   "metadata": {
    "pycharm": {
     "name": "#%%\n"
    }
   },
   "outputs": [],
   "source": [
    "on_data = pd.read_csv('./dataset_raw/ccf_online_stage1_train.csv', parse_dates=['Date', 'Date_received'])"
   ]
  },
  {
   "cell_type": "code",
   "execution_count": 12,
   "metadata": {
    "pycharm": {
     "name": "#%%\n"
    }
   },
   "outputs": [],
   "source": [
    "out_on_data = pre_process_online(on_data)"
   ]
  },
  {
   "cell_type": "code",
   "execution_count": 13,
   "metadata": {
    "pycharm": {
     "name": "#%%\n"
    }
   },
   "outputs": [
    {
     "data": {
      "text/plain": "           User_id  Merchant_id  Action  Coupon_id Discount_rate  \\\n0         13740231        18907       2  100017492        500:50   \n1         13740231        34805       1          0           1.0   \n2         14336199        18907       0          0           1.0   \n3         14336199        18907       0          0           1.0   \n4         14336199        18907       0          0           1.0   \n...            ...          ...     ...        ...           ...   \n11429821  13087731        27715       0          0           1.0   \n11429822  13087731        52005       0          0           1.0   \n11429823  13087731        45611       0          0           1.0   \n11429824  13683699        18009       1          0           1.0   \n11429825  13683699        18009       1          0           1.0   \n\n         Date_received       Date  coupon_consume  fixed_consume  \\\n0           2016-05-13 1970-01-01               0              0   \n1           1970-01-01 2016-03-21               0              0   \n2           1970-01-01 2016-06-18               0              0   \n3           1970-01-01 2016-06-18               0              0   \n4           1970-01-01 2016-06-18               0              0   \n...                ...        ...             ...            ...   \n11429821    1970-01-01 2016-06-29               0              0   \n11429822    1970-01-01 2016-03-24               0              0   \n11429823    1970-01-01 2016-04-22               0              0   \n11429824    1970-01-01 2016-03-23               0              0   \n11429825    1970-01-01 2016-06-28               0              0   \n\n          normal_consume  no_consume  is_full_discount  discount_x  \\\n0                      0           1                 1         500   \n1                      1           0                 0          -1   \n2                      0           0                 0          -1   \n3                      0           0                 0          -1   \n4                      0           0                 0          -1   \n...                  ...         ...               ...         ...   \n11429821               0           0                 0          -1   \n11429822               0           0                 0          -1   \n11429823               0           0                 0          -1   \n11429824               1           0                 0          -1   \n11429825               1           0                 0          -1   \n\n          discount_y  discount_rate  discount_type  \n0                 50            0.9             14  \n1                 -1            1.0             31  \n2                 -1            1.0             31  \n3                 -1            1.0             31  \n4                 -1            1.0             31  \n...              ...            ...            ...  \n11429821          -1            1.0             31  \n11429822          -1            1.0             31  \n11429823          -1            1.0             31  \n11429824          -1            1.0             31  \n11429825          -1            1.0             31  \n\n[11429826 rows x 16 columns]",
      "text/html": "<div>\n<style scoped>\n    .dataframe tbody tr th:only-of-type {\n        vertical-align: middle;\n    }\n\n    .dataframe tbody tr th {\n        vertical-align: top;\n    }\n\n    .dataframe thead th {\n        text-align: right;\n    }\n</style>\n<table border=\"1\" class=\"dataframe\">\n  <thead>\n    <tr style=\"text-align: right;\">\n      <th></th>\n      <th>User_id</th>\n      <th>Merchant_id</th>\n      <th>Action</th>\n      <th>Coupon_id</th>\n      <th>Discount_rate</th>\n      <th>Date_received</th>\n      <th>Date</th>\n      <th>coupon_consume</th>\n      <th>fixed_consume</th>\n      <th>normal_consume</th>\n      <th>no_consume</th>\n      <th>is_full_discount</th>\n      <th>discount_x</th>\n      <th>discount_y</th>\n      <th>discount_rate</th>\n      <th>discount_type</th>\n    </tr>\n  </thead>\n  <tbody>\n    <tr>\n      <th>0</th>\n      <td>13740231</td>\n      <td>18907</td>\n      <td>2</td>\n      <td>100017492</td>\n      <td>500:50</td>\n      <td>2016-05-13</td>\n      <td>1970-01-01</td>\n      <td>0</td>\n      <td>0</td>\n      <td>0</td>\n      <td>1</td>\n      <td>1</td>\n      <td>500</td>\n      <td>50</td>\n      <td>0.9</td>\n      <td>14</td>\n    </tr>\n    <tr>\n      <th>1</th>\n      <td>13740231</td>\n      <td>34805</td>\n      <td>1</td>\n      <td>0</td>\n      <td>1.0</td>\n      <td>1970-01-01</td>\n      <td>2016-03-21</td>\n      <td>0</td>\n      <td>0</td>\n      <td>1</td>\n      <td>0</td>\n      <td>0</td>\n      <td>-1</td>\n      <td>-1</td>\n      <td>1.0</td>\n      <td>31</td>\n    </tr>\n    <tr>\n      <th>2</th>\n      <td>14336199</td>\n      <td>18907</td>\n      <td>0</td>\n      <td>0</td>\n      <td>1.0</td>\n      <td>1970-01-01</td>\n      <td>2016-06-18</td>\n      <td>0</td>\n      <td>0</td>\n      <td>0</td>\n      <td>0</td>\n      <td>0</td>\n      <td>-1</td>\n      <td>-1</td>\n      <td>1.0</td>\n      <td>31</td>\n    </tr>\n    <tr>\n      <th>3</th>\n      <td>14336199</td>\n      <td>18907</td>\n      <td>0</td>\n      <td>0</td>\n      <td>1.0</td>\n      <td>1970-01-01</td>\n      <td>2016-06-18</td>\n      <td>0</td>\n      <td>0</td>\n      <td>0</td>\n      <td>0</td>\n      <td>0</td>\n      <td>-1</td>\n      <td>-1</td>\n      <td>1.0</td>\n      <td>31</td>\n    </tr>\n    <tr>\n      <th>4</th>\n      <td>14336199</td>\n      <td>18907</td>\n      <td>0</td>\n      <td>0</td>\n      <td>1.0</td>\n      <td>1970-01-01</td>\n      <td>2016-06-18</td>\n      <td>0</td>\n      <td>0</td>\n      <td>0</td>\n      <td>0</td>\n      <td>0</td>\n      <td>-1</td>\n      <td>-1</td>\n      <td>1.0</td>\n      <td>31</td>\n    </tr>\n    <tr>\n      <th>...</th>\n      <td>...</td>\n      <td>...</td>\n      <td>...</td>\n      <td>...</td>\n      <td>...</td>\n      <td>...</td>\n      <td>...</td>\n      <td>...</td>\n      <td>...</td>\n      <td>...</td>\n      <td>...</td>\n      <td>...</td>\n      <td>...</td>\n      <td>...</td>\n      <td>...</td>\n      <td>...</td>\n    </tr>\n    <tr>\n      <th>11429821</th>\n      <td>13087731</td>\n      <td>27715</td>\n      <td>0</td>\n      <td>0</td>\n      <td>1.0</td>\n      <td>1970-01-01</td>\n      <td>2016-06-29</td>\n      <td>0</td>\n      <td>0</td>\n      <td>0</td>\n      <td>0</td>\n      <td>0</td>\n      <td>-1</td>\n      <td>-1</td>\n      <td>1.0</td>\n      <td>31</td>\n    </tr>\n    <tr>\n      <th>11429822</th>\n      <td>13087731</td>\n      <td>52005</td>\n      <td>0</td>\n      <td>0</td>\n      <td>1.0</td>\n      <td>1970-01-01</td>\n      <td>2016-03-24</td>\n      <td>0</td>\n      <td>0</td>\n      <td>0</td>\n      <td>0</td>\n      <td>0</td>\n      <td>-1</td>\n      <td>-1</td>\n      <td>1.0</td>\n      <td>31</td>\n    </tr>\n    <tr>\n      <th>11429823</th>\n      <td>13087731</td>\n      <td>45611</td>\n      <td>0</td>\n      <td>0</td>\n      <td>1.0</td>\n      <td>1970-01-01</td>\n      <td>2016-04-22</td>\n      <td>0</td>\n      <td>0</td>\n      <td>0</td>\n      <td>0</td>\n      <td>0</td>\n      <td>-1</td>\n      <td>-1</td>\n      <td>1.0</td>\n      <td>31</td>\n    </tr>\n    <tr>\n      <th>11429824</th>\n      <td>13683699</td>\n      <td>18009</td>\n      <td>1</td>\n      <td>0</td>\n      <td>1.0</td>\n      <td>1970-01-01</td>\n      <td>2016-03-23</td>\n      <td>0</td>\n      <td>0</td>\n      <td>1</td>\n      <td>0</td>\n      <td>0</td>\n      <td>-1</td>\n      <td>-1</td>\n      <td>1.0</td>\n      <td>31</td>\n    </tr>\n    <tr>\n      <th>11429825</th>\n      <td>13683699</td>\n      <td>18009</td>\n      <td>1</td>\n      <td>0</td>\n      <td>1.0</td>\n      <td>1970-01-01</td>\n      <td>2016-06-28</td>\n      <td>0</td>\n      <td>0</td>\n      <td>1</td>\n      <td>0</td>\n      <td>0</td>\n      <td>-1</td>\n      <td>-1</td>\n      <td>1.0</td>\n      <td>31</td>\n    </tr>\n  </tbody>\n</table>\n<p>11429826 rows × 16 columns</p>\n</div>"
     },
     "execution_count": 13,
     "metadata": {},
     "output_type": "execute_result"
    }
   ],
   "source": [
    "out_on_data"
   ]
  },
  {
   "cell_type": "code",
   "execution_count": 14,
   "metadata": {
    "pycharm": {
     "name": "#%%\n"
    }
   },
   "outputs": [
    {
     "data": {
      "text/plain": "User_id             True\nMerchant_id         True\nAction              True\nCoupon_id           True\nDiscount_rate       True\nDate_received       True\nDate                True\ncoupon_consume      True\nfixed_consume       True\nnormal_consume      True\nno_consume          True\nis_full_discount    True\ndiscount_x          True\ndiscount_y          True\ndiscount_rate       True\ndiscount_type       True\ndtype: bool"
     },
     "execution_count": 14,
     "metadata": {},
     "output_type": "execute_result"
    }
   ],
   "source": [
    "out_on_data.notna().all()"
   ]
  },
  {
   "cell_type": "code",
   "execution_count": 15,
   "metadata": {
    "pycharm": {
     "name": "#%%\n"
    }
   },
   "outputs": [],
   "source": [
    "out_on_data.to_csv('./dataset_cleaned/ccf_on_train.csv', index=None)"
   ]
  },
  {
   "cell_type": "code",
   "execution_count": null,
   "metadata": {
    "pycharm": {
     "name": "#%%\n"
    }
   },
   "outputs": [],
   "source": []
  }
 ],
 "metadata": {
  "interpreter": {
   "hash": "b7bb52c1fe9e82dae3d2f4715a5b93f6d162aab38a503d99cbb196f84b402dc0"
  },
  "kernelspec": {
   "display_name": "Python 3.8.13 ('ml')",
   "language": "python",
   "name": "python3"
  },
  "language_info": {
   "codemirror_mode": {
    "name": "ipython",
    "version": 3
   },
   "file_extension": ".py",
   "mimetype": "text/x-python",
   "name": "python",
   "nbconvert_exporter": "python",
   "pygments_lexer": "ipython3",
   "version": "3.8.13"
  },
  "orig_nbformat": 4
 },
 "nbformat": 4,
 "nbformat_minor": 2
}