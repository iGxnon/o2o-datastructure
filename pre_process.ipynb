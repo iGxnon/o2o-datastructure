{
 "cells": [
  {
   "cell_type": "markdown",
   "metadata": {
    "pycharm": {
     "name": "#%% md\n"
    }
   },
   "source": [
    "## pre_process.ipynb\n",
    "\n",
    "- 这是任务一和任务二的数据预处理代码\n",
    "\n",
    "## 生成数据描述\n",
    "\n",
    "1. ccf_off_test.csv\n",
    "\n",
    "- 由 dataset_raw/ccf_offline_stage1_test_revised.csv 生成\n",
    "\n",
    "- 新增列：\n",
    "\n",
    "| no_distance      | is_full_discount | discount_x      | discount_y      | discount_rate    | discount_type          |\n",
    "| ---------------- | ---------------- | --------------- | --------------- | ---------------- | ---------------------- |\n",
    "| 是否没有距离信息 | 是否是满减优惠券 | 满减时满多少RMB | 满减时减多少RMB | 优惠券等价折扣率 | 优惠券种类硬编码(17种) |\n",
    "\n",
    "2. ccf_off_train_csv\n",
    "\n",
    "- 由 dataset_raw/ccf_offline_stage1_train.csv 生成\n",
    "\n",
    "- 在 `1` 的基础上新增列:\n",
    "\n",
    "| normal_consume                     | coupon_consume                     | no_consume                 |\n",
    "| ---------------------------------- | ---------------------------------- | -------------------------- |\n",
    "| 是否是没有使用优惠券消费(正常消费) | 是否是使用了优惠券消费(无15天限制) | 是否是领了优惠券但没有消费 |\n",
    "\n",
    "---\n",
    "\n",
    "> 三者类似独热编码，只有也一定会有一个是 1，剩下两个是 0\n",
    "> (没有领优惠券并且没有消费不需要记录)\n",
    "\n",
    "3. ccf_on_train.csv\n",
    "\n",
    "- 由 dataset_raw/ccf_online_stage1_train.csv 生成\n",
    "\n",
    "- 与 `2` 相比，新增特征有如下不同\n",
    "\n",
    "  - fixed_consume: 是否是限时降价的消费 (限时降价的数据都消费了)\n",
    "  - is_click: 是否是点击行为\n",
    "  - normal_consume，coupon_consume，no_consume，fixed_consume 五者之和为 1\n",
    "    - 点击行为没有优惠券\n",
    "    - 没有优惠券的不一定是点击行为，还有一个正常消费行为\n",
    "  - discount_rate 为 -1.0 时表示限时降价消费\n",
    "    - 点击和正常购买时 discount_rate 都等于 1.0"
   ]
  },
  {
   "cell_type": "code",
   "execution_count": 2,
   "metadata": {
    "pycharm": {
     "name": "#%%\n"
    }
   },
   "outputs": [],
   "source": [
    "import pandas as pd\n",
    "import numpy as np\n",
    "\n",
    "no_date = pd.to_datetime(0)  # 时间戳零点"
   ]
  },
  {
   "cell_type": "code",
   "execution_count": 2,
   "metadata": {
    "pycharm": {
     "name": "#%%\n"
    }
   },
   "outputs": [],
   "source": [
    "def pre_process_off_new(df: pd.DataFrame):\n",
    "    \"\"\"线下训练数据集，有 Date\"\"\"\n",
    "    if 'Date' in df.columns:  \n",
    "        df['normal_consume'] = 0  # 加上是否是正常消费\n",
    "        df.loc[df['Coupon_id'].isna() & df['Date'].notna(), 'normal_consume'] = 1\n",
    "        df['coupon_consume'] = 0  # 是否是使用优惠券消费 (没有15天限制)\n",
    "        df.loc[df['Coupon_id'].notna() & df['Date'].notna(), 'coupon_consume'] = 1\n",
    "        df['no_consume'] = 0  # 领了优惠券但没有消费\n",
    "        df.loc[df['Coupon_id'].notna() & df['Date'].isna(), 'no_consume'] = 1\n",
    "        df['Coupon_id'] = df['Coupon_id'].fillna(0).astype(int) # Coupon_id 由 nullable 转换成 notnull 会把整数类型转成 float，这里转回去\n",
    "        df['Discount_rate'].fillna('1.0', inplace=True)  # 没有优惠券消费相当于10折，这里得填 str 下面类型才不会出问题\n",
    "        # df['Distance'].fillna(-1, inplace=True)  Distance 下面就可以处理\n",
    "        df['Date_received'].fillna(no_date, inplace=True)\n",
    "        df['Date'].fillna(no_date, inplace=True)\n",
    "    \n",
    "    '''\n",
    "    线下测试数据集处理，没有 Date\n",
    "    '''\n",
    "    df['Distance'] = df['Distance'].fillna(-1).astype(int)\n",
    "    df['no_distance'] = (df['Distance'] == -1).astype(int)\n",
    "    df['is_full_discount'] = df['Discount_rate'].str.contains(':').astype(int)\n",
    "    df[['discount_x', 'discount_y']] = df[df['is_full_discount'] == 1]['Discount_rate']\\\n",
    "        .str.split(':', expand=True).astype(float)\n",
    "     # expand 设置成 true 才可以返回一个 dataframe，设置成 float 是因为合并时有NA\n",
    "    df['discount_rate'] = (1 - (df['discount_y'] / df['discount_x']))\\\n",
    "        .fillna(df['Discount_rate']).astype(float)\n",
    "    df[['discount_x', 'discount_y']] = \\\n",
    "        df[['discount_x', 'discount_y']].fillna(-1).astype(int)\n",
    "    _rate = sorted(set(df.discount_rate))  # 枚举折扣率的种类\n",
    "    df['discount_type'] = df['discount_rate'].apply(lambda x: _rate.index(x))\n",
    "    return df"
   ]
  },
  {
   "cell_type": "code",
   "execution_count": 3,
   "metadata": {
    "pycharm": {
     "name": "#%%\n"
    }
   },
   "outputs": [],
   "source": [
    "test_df = pd.read_csv('./dataset_raw/ccf_offline_stage1_test_revised.csv', parse_dates=['Date_received'])\n",
    "train_off_df = pd.read_csv('./dataset_raw/ccf_offline_stage1_train.csv', parse_dates=['Date_received', 'Date'])"
   ]
  },
  {
   "cell_type": "code",
   "execution_count": 4,
   "metadata": {
    "pycharm": {
     "name": "#%%\n"
    }
   },
   "outputs": [],
   "source": [
    "out_test_df = pre_process_off_new(test_df)\n",
    "out_train_off_df = pre_process_off_new(train_off_df)"
   ]
  },
  {
   "cell_type": "code",
   "execution_count": 5,
   "metadata": {
    "pycharm": {
     "name": "#%%\n"
    }
   },
   "outputs": [
    {
     "data": {
      "text/plain": "(True, True)"
     },
     "execution_count": 5,
     "metadata": {},
     "output_type": "execute_result"
    }
   ],
   "source": [
    "out_test_df.notna().all().all(), out_train_off_df.notna().all().all()"
   ]
  },
  {
   "cell_type": "code",
   "execution_count": 6,
   "metadata": {
    "pycharm": {
     "name": "#%%\n"
    }
   },
   "outputs": [
    {
     "name": "stdout",
     "output_type": "stream",
     "text": [
      "<class 'pandas.core.frame.DataFrame'>\n",
      "RangeIndex: 113640 entries, 0 to 113639\n",
      "Data columns (total 12 columns):\n",
      " #   Column            Non-Null Count   Dtype         \n",
      "---  ------            --------------   -----         \n",
      " 0   User_id           113640 non-null  int64         \n",
      " 1   Merchant_id       113640 non-null  int64         \n",
      " 2   Coupon_id         113640 non-null  int64         \n",
      " 3   Discount_rate     113640 non-null  object        \n",
      " 4   Distance          113640 non-null  int64         \n",
      " 5   Date_received     113640 non-null  datetime64[ns]\n",
      " 6   no_distance       113640 non-null  int64         \n",
      " 7   is_full_discount  113640 non-null  int64         \n",
      " 8   discount_x        113640 non-null  int64         \n",
      " 9   discount_y        113640 non-null  int64         \n",
      " 10  discount_rate     113640 non-null  float64       \n",
      " 11  discount_type     113640 non-null  int64         \n",
      "dtypes: datetime64[ns](1), float64(1), int64(9), object(1)\n",
      "memory usage: 10.4+ MB\n"
     ]
    }
   ],
   "source": [
    "out_test_df.info()"
   ]
  },
  {
   "cell_type": "code",
   "execution_count": 7,
   "outputs": [
    {
     "data": {
      "text/plain": "        User_id  Merchant_id  Coupon_id Discount_rate  Distance Date_received  \\\n0       4129537          450       9983          30:5         1    2016-07-12   \n1       6949378         1300       3429          30:5        -1    2016-07-06   \n2       2166529         7113       6928        200:20         5    2016-07-27   \n3       2166529         7113       1808        100:10         5    2016-07-27   \n4       6172162         7605       6500          30:1         2    2016-07-08   \n...         ...          ...        ...           ...       ...           ...   \n113635  5828093         5717      10418          30:5        10    2016-07-16   \n113636  6626813         1699       7595          30:1        -1    2016-07-07   \n113637  6626813         7321       7590          50:5        -1    2016-07-12   \n113638  4547069          760      13602          30:5         0    2016-07-17   \n113639  6675965         7487        613          20:1         5    2016-07-28   \n\n        no_distance  is_full_discount  discount_x  discount_y  discount_rate  \\\n0                 0                 1          30           5       0.833333   \n1                 1                 1          30           5       0.833333   \n2                 0                 1         200          20       0.900000   \n3                 0                 1         100          10       0.900000   \n4                 0                 1          30           1       0.966667   \n...             ...               ...         ...         ...            ...   \n113635            0                 1          30           5       0.833333   \n113636            1                 1          30           1       0.966667   \n113637            1                 1          50           5       0.900000   \n113638            0                 1          30           5       0.833333   \n113639            0                 1          20           1       0.950000   \n\n        discount_type  \n0                   7  \n1                   7  \n2                  10  \n3                  10  \n4                  14  \n...               ...  \n113635              7  \n113636             14  \n113637             10  \n113638              7  \n113639             13  \n\n[113640 rows x 12 columns]",
      "text/html": "<div>\n<style scoped>\n    .dataframe tbody tr th:only-of-type {\n        vertical-align: middle;\n    }\n\n    .dataframe tbody tr th {\n        vertical-align: top;\n    }\n\n    .dataframe thead th {\n        text-align: right;\n    }\n</style>\n<table border=\"1\" class=\"dataframe\">\n  <thead>\n    <tr style=\"text-align: right;\">\n      <th></th>\n      <th>User_id</th>\n      <th>Merchant_id</th>\n      <th>Coupon_id</th>\n      <th>Discount_rate</th>\n      <th>Distance</th>\n      <th>Date_received</th>\n      <th>no_distance</th>\n      <th>is_full_discount</th>\n      <th>discount_x</th>\n      <th>discount_y</th>\n      <th>discount_rate</th>\n      <th>discount_type</th>\n    </tr>\n  </thead>\n  <tbody>\n    <tr>\n      <th>0</th>\n      <td>4129537</td>\n      <td>450</td>\n      <td>9983</td>\n      <td>30:5</td>\n      <td>1</td>\n      <td>2016-07-12</td>\n      <td>0</td>\n      <td>1</td>\n      <td>30</td>\n      <td>5</td>\n      <td>0.833333</td>\n      <td>7</td>\n    </tr>\n    <tr>\n      <th>1</th>\n      <td>6949378</td>\n      <td>1300</td>\n      <td>3429</td>\n      <td>30:5</td>\n      <td>-1</td>\n      <td>2016-07-06</td>\n      <td>1</td>\n      <td>1</td>\n      <td>30</td>\n      <td>5</td>\n      <td>0.833333</td>\n      <td>7</td>\n    </tr>\n    <tr>\n      <th>2</th>\n      <td>2166529</td>\n      <td>7113</td>\n      <td>6928</td>\n      <td>200:20</td>\n      <td>5</td>\n      <td>2016-07-27</td>\n      <td>0</td>\n      <td>1</td>\n      <td>200</td>\n      <td>20</td>\n      <td>0.900000</td>\n      <td>10</td>\n    </tr>\n    <tr>\n      <th>3</th>\n      <td>2166529</td>\n      <td>7113</td>\n      <td>1808</td>\n      <td>100:10</td>\n      <td>5</td>\n      <td>2016-07-27</td>\n      <td>0</td>\n      <td>1</td>\n      <td>100</td>\n      <td>10</td>\n      <td>0.900000</td>\n      <td>10</td>\n    </tr>\n    <tr>\n      <th>4</th>\n      <td>6172162</td>\n      <td>7605</td>\n      <td>6500</td>\n      <td>30:1</td>\n      <td>2</td>\n      <td>2016-07-08</td>\n      <td>0</td>\n      <td>1</td>\n      <td>30</td>\n      <td>1</td>\n      <td>0.966667</td>\n      <td>14</td>\n    </tr>\n    <tr>\n      <th>...</th>\n      <td>...</td>\n      <td>...</td>\n      <td>...</td>\n      <td>...</td>\n      <td>...</td>\n      <td>...</td>\n      <td>...</td>\n      <td>...</td>\n      <td>...</td>\n      <td>...</td>\n      <td>...</td>\n      <td>...</td>\n    </tr>\n    <tr>\n      <th>113635</th>\n      <td>5828093</td>\n      <td>5717</td>\n      <td>10418</td>\n      <td>30:5</td>\n      <td>10</td>\n      <td>2016-07-16</td>\n      <td>0</td>\n      <td>1</td>\n      <td>30</td>\n      <td>5</td>\n      <td>0.833333</td>\n      <td>7</td>\n    </tr>\n    <tr>\n      <th>113636</th>\n      <td>6626813</td>\n      <td>1699</td>\n      <td>7595</td>\n      <td>30:1</td>\n      <td>-1</td>\n      <td>2016-07-07</td>\n      <td>1</td>\n      <td>1</td>\n      <td>30</td>\n      <td>1</td>\n      <td>0.966667</td>\n      <td>14</td>\n    </tr>\n    <tr>\n      <th>113637</th>\n      <td>6626813</td>\n      <td>7321</td>\n      <td>7590</td>\n      <td>50:5</td>\n      <td>-1</td>\n      <td>2016-07-12</td>\n      <td>1</td>\n      <td>1</td>\n      <td>50</td>\n      <td>5</td>\n      <td>0.900000</td>\n      <td>10</td>\n    </tr>\n    <tr>\n      <th>113638</th>\n      <td>4547069</td>\n      <td>760</td>\n      <td>13602</td>\n      <td>30:5</td>\n      <td>0</td>\n      <td>2016-07-17</td>\n      <td>0</td>\n      <td>1</td>\n      <td>30</td>\n      <td>5</td>\n      <td>0.833333</td>\n      <td>7</td>\n    </tr>\n    <tr>\n      <th>113639</th>\n      <td>6675965</td>\n      <td>7487</td>\n      <td>613</td>\n      <td>20:1</td>\n      <td>5</td>\n      <td>2016-07-28</td>\n      <td>0</td>\n      <td>1</td>\n      <td>20</td>\n      <td>1</td>\n      <td>0.950000</td>\n      <td>13</td>\n    </tr>\n  </tbody>\n</table>\n<p>113640 rows × 12 columns</p>\n</div>"
     },
     "execution_count": 7,
     "metadata": {},
     "output_type": "execute_result"
    }
   ],
   "source": [
    "out_test_df"
   ],
   "metadata": {
    "collapsed": false,
    "pycharm": {
     "name": "#%%\n"
    }
   }
  },
  {
   "cell_type": "code",
   "execution_count": 8,
   "metadata": {
    "pycharm": {
     "name": "#%%\n"
    }
   },
   "outputs": [
    {
     "name": "stdout",
     "output_type": "stream",
     "text": [
      "<class 'pandas.core.frame.DataFrame'>\n",
      "RangeIndex: 1754884 entries, 0 to 1754883\n",
      "Data columns (total 16 columns):\n",
      " #   Column            Dtype         \n",
      "---  ------            -----         \n",
      " 0   User_id           int64         \n",
      " 1   Merchant_id       int64         \n",
      " 2   Coupon_id         int64         \n",
      " 3   Discount_rate     object        \n",
      " 4   Distance          int64         \n",
      " 5   Date_received     datetime64[ns]\n",
      " 6   Date              datetime64[ns]\n",
      " 7   normal_consume    int64         \n",
      " 8   coupon_consume    int64         \n",
      " 9   no_consume        int64         \n",
      " 10  no_distance       int64         \n",
      " 11  is_full_discount  int64         \n",
      " 12  discount_x        int64         \n",
      " 13  discount_y        int64         \n",
      " 14  discount_rate     float64       \n",
      " 15  discount_type     int64         \n",
      "dtypes: datetime64[ns](2), float64(1), int64(12), object(1)\n",
      "memory usage: 214.2+ MB\n"
     ]
    }
   ],
   "source": [
    "out_train_off_df.info()"
   ]
  },
  {
   "cell_type": "code",
   "execution_count": 9,
   "outputs": [
    {
     "data": {
      "text/plain": "         User_id  Merchant_id  Coupon_id Discount_rate  Distance  \\\n0        1439408         2632          0           1.0         0   \n1        1439408         4663      11002        150:20         1   \n2        1439408         2632       8591          20:1         0   \n3        1439408         2632       1078          20:1         0   \n4        1439408         2632       8591          20:1         0   \n...          ...          ...        ...           ...       ...   \n1754879   212662         3532          0           1.0         1   \n1754880   212662         3021       3739          30:1         6   \n1754881   212662         2934          0           1.0         2   \n1754882   752472         7113       1633         50:10         6   \n1754883   752472         3621       2705          20:5         0   \n\n        Date_received       Date  normal_consume  coupon_consume  no_consume  \\\n0          1970-01-01 2016-02-17               1               0           0   \n1          2016-05-28 1970-01-01               0               0           1   \n2          2016-02-17 1970-01-01               0               0           1   \n3          2016-03-19 1970-01-01               0               0           1   \n4          2016-06-13 1970-01-01               0               0           1   \n...               ...        ...             ...             ...         ...   \n1754879    1970-01-01 2016-03-22               1               0           0   \n1754880    2016-05-08 2016-06-02               0               1           0   \n1754881    1970-01-01 2016-03-21               1               0           0   \n1754882    2016-06-13 1970-01-01               0               0           1   \n1754883    2016-05-23 1970-01-01               0               0           1   \n\n         no_distance  is_full_discount  discount_x  discount_y  discount_rate  \\\n0                  0                 0          -1          -1       1.000000   \n1                  0                 1         150          20       0.866667   \n2                  0                 1          20           1       0.950000   \n3                  0                 1          20           1       0.950000   \n4                  0                 1          20           1       0.950000   \n...              ...               ...         ...         ...            ...   \n1754879            0                 0          -1          -1       1.000000   \n1754880            0                 1          30           1       0.966667   \n1754881            0                 0          -1          -1       1.000000   \n1754882            0                 1          50          10       0.800000   \n1754883            0                 1          20           5       0.750000   \n\n         discount_type  \n0                   19  \n1                   11  \n2                   14  \n3                   14  \n4                   14  \n...                ...  \n1754879             19  \n1754880             15  \n1754881             19  \n1754882              8  \n1754883              7  \n\n[1754884 rows x 16 columns]",
      "text/html": "<div>\n<style scoped>\n    .dataframe tbody tr th:only-of-type {\n        vertical-align: middle;\n    }\n\n    .dataframe tbody tr th {\n        vertical-align: top;\n    }\n\n    .dataframe thead th {\n        text-align: right;\n    }\n</style>\n<table border=\"1\" class=\"dataframe\">\n  <thead>\n    <tr style=\"text-align: right;\">\n      <th></th>\n      <th>User_id</th>\n      <th>Merchant_id</th>\n      <th>Coupon_id</th>\n      <th>Discount_rate</th>\n      <th>Distance</th>\n      <th>Date_received</th>\n      <th>Date</th>\n      <th>normal_consume</th>\n      <th>coupon_consume</th>\n      <th>no_consume</th>\n      <th>no_distance</th>\n      <th>is_full_discount</th>\n      <th>discount_x</th>\n      <th>discount_y</th>\n      <th>discount_rate</th>\n      <th>discount_type</th>\n    </tr>\n  </thead>\n  <tbody>\n    <tr>\n      <th>0</th>\n      <td>1439408</td>\n      <td>2632</td>\n      <td>0</td>\n      <td>1.0</td>\n      <td>0</td>\n      <td>1970-01-01</td>\n      <td>2016-02-17</td>\n      <td>1</td>\n      <td>0</td>\n      <td>0</td>\n      <td>0</td>\n      <td>0</td>\n      <td>-1</td>\n      <td>-1</td>\n      <td>1.000000</td>\n      <td>19</td>\n    </tr>\n    <tr>\n      <th>1</th>\n      <td>1439408</td>\n      <td>4663</td>\n      <td>11002</td>\n      <td>150:20</td>\n      <td>1</td>\n      <td>2016-05-28</td>\n      <td>1970-01-01</td>\n      <td>0</td>\n      <td>0</td>\n      <td>1</td>\n      <td>0</td>\n      <td>1</td>\n      <td>150</td>\n      <td>20</td>\n      <td>0.866667</td>\n      <td>11</td>\n    </tr>\n    <tr>\n      <th>2</th>\n      <td>1439408</td>\n      <td>2632</td>\n      <td>8591</td>\n      <td>20:1</td>\n      <td>0</td>\n      <td>2016-02-17</td>\n      <td>1970-01-01</td>\n      <td>0</td>\n      <td>0</td>\n      <td>1</td>\n      <td>0</td>\n      <td>1</td>\n      <td>20</td>\n      <td>1</td>\n      <td>0.950000</td>\n      <td>14</td>\n    </tr>\n    <tr>\n      <th>3</th>\n      <td>1439408</td>\n      <td>2632</td>\n      <td>1078</td>\n      <td>20:1</td>\n      <td>0</td>\n      <td>2016-03-19</td>\n      <td>1970-01-01</td>\n      <td>0</td>\n      <td>0</td>\n      <td>1</td>\n      <td>0</td>\n      <td>1</td>\n      <td>20</td>\n      <td>1</td>\n      <td>0.950000</td>\n      <td>14</td>\n    </tr>\n    <tr>\n      <th>4</th>\n      <td>1439408</td>\n      <td>2632</td>\n      <td>8591</td>\n      <td>20:1</td>\n      <td>0</td>\n      <td>2016-06-13</td>\n      <td>1970-01-01</td>\n      <td>0</td>\n      <td>0</td>\n      <td>1</td>\n      <td>0</td>\n      <td>1</td>\n      <td>20</td>\n      <td>1</td>\n      <td>0.950000</td>\n      <td>14</td>\n    </tr>\n    <tr>\n      <th>...</th>\n      <td>...</td>\n      <td>...</td>\n      <td>...</td>\n      <td>...</td>\n      <td>...</td>\n      <td>...</td>\n      <td>...</td>\n      <td>...</td>\n      <td>...</td>\n      <td>...</td>\n      <td>...</td>\n      <td>...</td>\n      <td>...</td>\n      <td>...</td>\n      <td>...</td>\n      <td>...</td>\n    </tr>\n    <tr>\n      <th>1754879</th>\n      <td>212662</td>\n      <td>3532</td>\n      <td>0</td>\n      <td>1.0</td>\n      <td>1</td>\n      <td>1970-01-01</td>\n      <td>2016-03-22</td>\n      <td>1</td>\n      <td>0</td>\n      <td>0</td>\n      <td>0</td>\n      <td>0</td>\n      <td>-1</td>\n      <td>-1</td>\n      <td>1.000000</td>\n      <td>19</td>\n    </tr>\n    <tr>\n      <th>1754880</th>\n      <td>212662</td>\n      <td>3021</td>\n      <td>3739</td>\n      <td>30:1</td>\n      <td>6</td>\n      <td>2016-05-08</td>\n      <td>2016-06-02</td>\n      <td>0</td>\n      <td>1</td>\n      <td>0</td>\n      <td>0</td>\n      <td>1</td>\n      <td>30</td>\n      <td>1</td>\n      <td>0.966667</td>\n      <td>15</td>\n    </tr>\n    <tr>\n      <th>1754881</th>\n      <td>212662</td>\n      <td>2934</td>\n      <td>0</td>\n      <td>1.0</td>\n      <td>2</td>\n      <td>1970-01-01</td>\n      <td>2016-03-21</td>\n      <td>1</td>\n      <td>0</td>\n      <td>0</td>\n      <td>0</td>\n      <td>0</td>\n      <td>-1</td>\n      <td>-1</td>\n      <td>1.000000</td>\n      <td>19</td>\n    </tr>\n    <tr>\n      <th>1754882</th>\n      <td>752472</td>\n      <td>7113</td>\n      <td>1633</td>\n      <td>50:10</td>\n      <td>6</td>\n      <td>2016-06-13</td>\n      <td>1970-01-01</td>\n      <td>0</td>\n      <td>0</td>\n      <td>1</td>\n      <td>0</td>\n      <td>1</td>\n      <td>50</td>\n      <td>10</td>\n      <td>0.800000</td>\n      <td>8</td>\n    </tr>\n    <tr>\n      <th>1754883</th>\n      <td>752472</td>\n      <td>3621</td>\n      <td>2705</td>\n      <td>20:5</td>\n      <td>0</td>\n      <td>2016-05-23</td>\n      <td>1970-01-01</td>\n      <td>0</td>\n      <td>0</td>\n      <td>1</td>\n      <td>0</td>\n      <td>1</td>\n      <td>20</td>\n      <td>5</td>\n      <td>0.750000</td>\n      <td>7</td>\n    </tr>\n  </tbody>\n</table>\n<p>1754884 rows × 16 columns</p>\n</div>"
     },
     "execution_count": 9,
     "metadata": {},
     "output_type": "execute_result"
    }
   ],
   "source": [
    "out_train_off_df"
   ],
   "metadata": {
    "collapsed": false,
    "pycharm": {
     "name": "#%%\n"
    }
   }
  },
  {
   "cell_type": "code",
   "execution_count": 10,
   "metadata": {
    "pycharm": {
     "name": "#%%\n"
    }
   },
   "outputs": [
    {
     "data": {
      "text/plain": "True"
     },
     "execution_count": 10,
     "metadata": {},
     "output_type": "execute_result"
    }
   ],
   "source": [
    "(out_train_off_df['normal_consume']\n",
    " + out_train_off_df['coupon_consume']\n",
    " + out_train_off_df['no_consume'] == 1).all()\n",
    "# 类似独热编码"
   ]
  },
  {
   "cell_type": "code",
   "execution_count": 11,
   "metadata": {
    "pycharm": {
     "name": "#%%\n"
    }
   },
   "outputs": [],
   "source": [
    "out_test_df.to_csv('./dataset_cleaned/ccf_off_test.csv', index=None)\n",
    "out_train_off_df.to_csv('./dataset_cleaned/ccf_off_train.csv', index=None)"
   ]
  },
  {
   "cell_type": "markdown",
   "metadata": {
    "pycharm": {
     "name": "#%% md\n"
    }
   },
   "source": [
    "- 线上特征处理"
   ]
  },
  {
   "cell_type": "code",
   "execution_count": 3,
   "metadata": {
    "pycharm": {
     "name": "#%%\n"
    }
   },
   "outputs": [],
   "source": [
    "def pre_process_online(df: pd.DataFrame):\n",
    "    df['coupon_consume'] = 0  # 是否使用了优惠券消费\n",
    "    df.loc[df['Date'].notna() & df['Coupon_id'].notna() & (df['Coupon_id'] != 'fixed'),\\\n",
    "        'coupon_consume'] = 1\n",
    "    df['fixed_consume'] = 0  # 是否是限时降价消费\n",
    "    df.loc[df['Date'].notna() & (df['Coupon_id'] == 'fixed'), 'fixed_consume'] = 1\n",
    "    # 移除 fixed 的 Date_received\n",
    "    df.loc[df['Date'].notna() & (df['Coupon_id'] == 'fixed'), 'Date_received'] = no_date\n",
    "    df['normal_consume'] = 0  # 是否是正常消费，没有使用优惠券的消费行为\n",
    "    df.loc[(df['Action'] == 1) & df['Coupon_id'].isna(), 'normal_consume'] = 1\n",
    "    df['no_consume'] = 0  # 是否是领取了优惠券但没有消费\n",
    "    df['is_click'] = (df['Action'] == 0).astype(int)  # 是否是点击行为\n",
    "    df.loc[(df['Action'] == 2), 'no_consume'] = 1\n",
    "    df['Date'].fillna(no_date, inplace=True)\n",
    "    df['Date_received'].fillna(no_date, inplace=True)\n",
    "    df['Coupon_id'] = df['Coupon_id'].replace('fixed', 0)\n",
    "    df['Coupon_id'] = df['Coupon_id'].fillna(0).astype(int)\n",
    "    df['Discount_rate'] = df['Discount_rate'].replace('fixed', '-1.0') # 标记为 -1.0\n",
    "    df['Discount_rate'].fillna('1.0', inplace=True)\n",
    "    df['is_full_discount'] = df['Discount_rate'].str.contains(':').astype(int)\n",
    "    df[['discount_x', 'discount_y']] = df[df['is_full_discount'] == 1]['Discount_rate']\\\n",
    "        .str.split(':', expand=True).astype(float)\n",
    "     # expand 设置成 true 才可以返回一个 dataframe，设置成 float 是因为合并时有NA\n",
    "    df['discount_rate'] = (1 - (df['discount_y'] / df['discount_x']))\\\n",
    "        .fillna(df['Discount_rate']).astype(float)\n",
    "    df[['discount_x', 'discount_y']] = \\\n",
    "        df[['discount_x', 'discount_y']].fillna(-1).astype(int)\n",
    "    _rate = sorted(set(df.discount_rate))\n",
    "    df['discount_type'] = df['discount_rate'].apply(lambda x: _rate.index(x))\n",
    "    return df"
   ]
  },
  {
   "cell_type": "code",
   "execution_count": 4,
   "metadata": {
    "pycharm": {
     "name": "#%%\n"
    }
   },
   "outputs": [],
   "source": [
    "on_data = pd.read_csv('./dataset_raw/ccf_online_stage1_train.csv', parse_dates=['Date', 'Date_received'])"
   ]
  },
  {
   "cell_type": "code",
   "execution_count": 5,
   "metadata": {
    "pycharm": {
     "name": "#%%\n"
    }
   },
   "outputs": [],
   "source": [
    "out_on_data = pre_process_online(on_data)"
   ]
  },
  {
   "cell_type": "code",
   "execution_count": 7,
   "metadata": {
    "pycharm": {
     "name": "#%%\n"
    }
   },
   "outputs": [
    {
     "name": "stderr",
     "output_type": "stream",
     "text": [
      "/var/folders/p6/1lbrnkf91h79qsylsdr7m2vh0000gn/T/ipykernel_50220/566624073.py:1: FutureWarning: Treating datetime data as categorical rather than numeric in `.describe` is deprecated and will be removed in a future version of pandas. Specify `datetime_is_numeric=True` to silence this warning and adopt the future behavior now.\n",
      "  out_on_data.Date_received.describe()\n"
     ]
    },
    {
     "data": {
      "text/plain": "count                11429826\nunique                    168\ntop       1970-01-01 00:00:00\nfreq                 10689015\nfirst     1970-01-01 00:00:00\nlast      2016-06-15 00:00:00\nName: Date_received, dtype: object"
     },
     "execution_count": 7,
     "metadata": {},
     "output_type": "execute_result"
    }
   ],
   "source": [
    "out_on_data.Date_received.describe()"
   ]
  },
  {
   "cell_type": "code",
   "execution_count": 8,
   "metadata": {
    "pycharm": {
     "name": "#%%\n"
    }
   },
   "outputs": [
    {
     "data": {
      "text/plain": "User_id             True\nMerchant_id         True\nAction              True\nCoupon_id           True\nDiscount_rate       True\nDate_received       True\nDate                True\ncoupon_consume      True\nfixed_consume       True\nnormal_consume      True\nno_consume          True\nis_click            True\nis_full_discount    True\ndiscount_x          True\ndiscount_y          True\ndiscount_rate       True\ndiscount_type       True\ndtype: bool"
     },
     "execution_count": 8,
     "metadata": {},
     "output_type": "execute_result"
    }
   ],
   "source": [
    "out_on_data.notna().all()"
   ]
  },
  {
   "cell_type": "code",
   "execution_count": 9,
   "outputs": [
    {
     "data": {
      "text/plain": "True"
     },
     "execution_count": 9,
     "metadata": {},
     "output_type": "execute_result"
    }
   ],
   "source": [
    "(out_on_data['normal_consume']\n",
    " + out_on_data['coupon_consume']\n",
    " + out_on_data['no_consume']\n",
    " + out_on_data['fixed_consume']\n",
    " + out_on_data['is_click'] == 1).all()"
   ],
   "metadata": {
    "collapsed": false,
    "pycharm": {
     "name": "#%%\n"
    }
   }
  },
  {
   "cell_type": "code",
   "execution_count": 10,
   "metadata": {
    "pycharm": {
     "name": "#%%\n"
    }
   },
   "outputs": [],
   "source": [
    "out_on_data.to_csv('./dataset_cleaned/ccf_on_train.csv', index=None)"
   ]
  },
  {
   "cell_type": "code",
   "execution_count": null,
   "metadata": {
    "pycharm": {
     "name": "#%%\n"
    }
   },
   "outputs": [],
   "source": []
  }
 ],
 "metadata": {
  "interpreter": {
   "hash": "b7bb52c1fe9e82dae3d2f4715a5b93f6d162aab38a503d99cbb196f84b402dc0"
  },
  "kernelspec": {
   "display_name": "Python 3.8.13 ('ml')",
   "language": "python",
   "name": "python3"
  },
  "language_info": {
   "codemirror_mode": {
    "name": "ipython",
    "version": 3
   },
   "file_extension": ".py",
   "mimetype": "text/x-python",
   "name": "python",
   "nbconvert_exporter": "python",
   "pygments_lexer": "ipython3",
   "version": "3.8.13"
  },
  "orig_nbformat": 4
 },
 "nbformat": 4,
 "nbformat_minor": 2
}