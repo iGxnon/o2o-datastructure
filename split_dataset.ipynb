{
 "cells": [
  {
   "cell_type": "code",
   "execution_count": 1,
   "outputs": [],
   "source": [
    "import pandas as pd\n",
    "import warnings\n",
    "\n",
    "warnings.filterwarnings('ignore')"
   ],
   "metadata": {
    "collapsed": false,
    "pycharm": {
     "name": "#%%\n"
    }
   }
  },
  {
   "cell_type": "markdown",
   "source": [
    "# 下面的分割方法已经弃用"
   ],
   "metadata": {
    "collapsed": false,
    "pycharm": {
     "name": "#%% md\n"
    }
   }
  },
  {
   "cell_type": "code",
   "execution_count": 2,
   "outputs": [],
   "source": [
    "def split_off_dataset(off: pd.DataFrame, space=pd.to_timedelta(0), time_ranges=None):\n",
    "    \"\"\"\n",
    "    滑动窗口分割线下的数据\n",
    "    :param space: 时间间隔，特征区间之后时间间隔后的一个月作为标签区间，默认为 0\n",
    "    :param off: 线下数据集\n",
    "    :param time_ranges: kv，表示特征区间\n",
    "    :return: 两个列表，特征区间和标签区间，标签区间为特征区间结束间隔space后的一个月\n",
    "    \"\"\"\n",
    "    print(\"====== offline train set info ======\")\n",
    "    print(off.info())\n",
    "    print()\n",
    "    label_len = pd.to_timedelta(30, unit='D') # 三十天\n",
    "    _feats = []\n",
    "    _labels = []\n",
    "    for k, v in time_ranges.items():\n",
    "        time_range = pd.date_range(k, k+v)\n",
    "        _feats.append(off[off['Date_received'].isin(time_range) |  # 领券日期在 time_range 内\n",
    "                          ((off['Coupon_id'] == 0) & off['Date'].isin(time_range))]) # 在 time_range 内直接消费\n",
    "        print(f'offline features time range {k} : {k+v}, size {len(_feats[len(_feats)-1])}')\n",
    "        time_range = pd.date_range(k+v+space+pd.to_timedelta(1, 'D'), k+v+space+label_len)\n",
    "        _labels.append(off[off['Date_received'].isin(time_range)]) # 训练用的标签集合，标签集合不需要采样直接消费的\n",
    "        print(f'labels time range {k+v+space+pd.to_timedelta(1, \"D\")} : {k+v+space+label_len},'\n",
    "              f' size {len(_labels[len(_labels)-1])}')\n",
    "    del time_range\n",
    "    print(f'total offline features size {sum(map(lambda x: len(x), _feats))}')\n",
    "    print(f'total offline labels size {sum(map(lambda x: len(x), _labels))}')\n",
    "    return _feats, _labels"
   ],
   "metadata": {
    "collapsed": false,
    "pycharm": {
     "name": "#%%\n"
    }
   }
  },
  {
   "cell_type": "code",
   "execution_count": 3,
   "outputs": [],
   "source": [
    "def split_on_dataset(on: pd.DataFrame, time_ranges=None):\n",
    "    print(\"====== online train set info ======\")\n",
    "    print(on.info())\n",
    "    print()\n",
    "    _feats = []\n",
    "    for k, v in time_ranges.items():\n",
    "        time_range = pd.date_range(k, k+v)\n",
    "        _feats.append(on[on['Date_received'].isin(time_range) |  # 领券日期在 time_range 内\n",
    "                        ((on['Coupon_id'] == 0) & on['Date'].isin(time_range))])  # 在 time_range 内直接消费或者点击\n",
    "    del time_range\n",
    "    print(f'total online features size {sum(map(lambda x: len(x), _feats))}')\n",
    "    return _feats"
   ],
   "metadata": {
    "collapsed": false,
    "pycharm": {
     "name": "#%%\n"
    }
   }
  },
  {
   "cell_type": "code",
   "execution_count": 4,
   "outputs": [],
   "source": [
    "def split_dataset(off: pd.DataFrame, on: pd.DataFrame, space=pd.to_timedelta(0), time_ranges=None):\n",
    "    _feats_off, _labels = split_off_dataset(off=off, space=space, time_ranges=time_ranges)\n",
    "    _feats_on = split_on_dataset(on=on, time_ranges=time_ranges)\n",
    "    return _feats_off, _feats_on, _labels"
   ],
   "metadata": {
    "collapsed": false,
    "pycharm": {
     "name": "#%%\n"
    }
   }
  },
  {
   "cell_type": "code",
   "execution_count": 5,
   "outputs": [],
   "source": [
    "off_train = pd.read_csv('./dataset_cleaned/ccf_off_train.csv', parse_dates=['Date_received', 'Date'])\n",
    "on_feat = pd.read_csv('./dataset_cleaned/ccf_on_train.csv', parse_dates=['Date_received', 'Date'])\n",
    "test = pd.read_csv('./dataset_cleaned/ccf_off_test.csv', parse_dates=['Date_received'])"
   ],
   "metadata": {
    "collapsed": false,
    "pycharm": {
     "name": "#%%\n"
    }
   }
  },
  {
   "cell_type": "code",
   "execution_count": 49,
   "outputs": [
    {
     "data": {
      "text/plain": "<AxesSubplot:xlabel='month'>"
     },
     "execution_count": 49,
     "metadata": {},
     "output_type": "execute_result"
    },
    {
     "data": {
      "text/plain": "<Figure size 640x480 with 1 Axes>",
      "image/png": "[encoded data removed]"
     },
     "metadata": {},
     "output_type": "display_data"
    }
   ],
   "source": [
    "tmp = off_train.groupby('Date_received').size().reset_index(name='cnt')\n",
    "tmp = pd.DataFrame(tmp).iloc[1:, :]\n",
    "tmp['month'] = tmp.Date_received.dt.month\n",
    "tmp.groupby('month').cnt.sum().plot(kind='bar')"
   ],
   "metadata": {
    "collapsed": false,
    "pycharm": {
     "name": "#%%\n"
    }
   }
  },
  {
   "cell_type": "code",
   "execution_count": 73,
   "outputs": [
    {
     "data": {
      "text/plain": "DatetimeIndex(['2016-01-01', '2016-01-02', '2016-01-03', '2016-01-04',\n               '2016-01-05', '2016-01-06', '2016-01-07', '2016-01-08',\n               '2016-01-09', '2016-01-10', '2016-01-11', '2016-01-12',\n               '2016-01-13', '2016-01-14', '2016-01-15', '2016-01-16',\n               '2016-01-17', '2016-01-18', '2016-01-19', '2016-01-20',\n               '2016-01-21', '2016-01-22', '2016-01-23', '2016-01-24',\n               '2016-01-25', '2016-01-26', '2016-01-27', '2016-01-28',\n               '2016-01-29', '2016-01-30', '2016-01-31', '2016-02-01',\n               '2016-02-02', '2016-02-03', '2016-02-04', '2016-02-05',\n               '2016-02-06', '2016-02-07', '2016-02-08', '2016-02-09',\n               '2016-02-10', '2016-02-11', '2016-02-12', '2016-02-13',\n               '2016-02-14', '2016-02-15', '2016-02-16', '2016-02-17',\n               '2016-02-18', '2016-02-19', '2016-02-20', '2016-02-21',\n               '2016-02-22', '2016-02-23', '2016-02-24', '2016-02-25',\n               '2016-02-26', '2016-02-27', '2016-02-28', '2016-02-29',\n               '2016-03-01', '2016-03-02', '2016-03-03', '2016-03-04',\n               '2016-03-05', '2016-03-06', '2016-03-07', '2016-03-08',\n               '2016-03-09', '2016-03-10', '2016-03-11', '2016-03-12',\n               '2016-03-13', '2016-03-14', '2016-03-15', '2016-03-16',\n               '2016-03-17', '2016-03-18', '2016-03-19', '2016-03-20',\n               '2016-03-21', '2016-03-22', '2016-03-23', '2016-03-24',\n               '2016-03-25', '2016-03-26', '2016-03-27', '2016-03-28',\n               '2016-03-29', '2016-03-30'],\n              dtype='datetime64[ns]', freq='D')"
     },
     "execution_count": 73,
     "metadata": {},
     "output_type": "execute_result"
    }
   ],
   "source": [
    "pd.date_range('20160101', periods=90)"
   ],
   "metadata": {
    "collapsed": false,
    "pycharm": {
     "name": "#%%\n"
    }
   }
  },
  {
   "cell_type": "code",
   "execution_count": 7,
   "outputs": [
    {
     "data": {
      "text/plain": "count                 1754884\nunique                    183\ntop       1970-01-01 00:00:00\nfreq                   977900\nfirst     1970-01-01 00:00:00\nlast      2016-06-30 00:00:00\nName: Date, dtype: object"
     },
     "execution_count": 7,
     "metadata": {},
     "output_type": "execute_result"
    }
   ],
   "source": [
    "off_train.Date.describe()"
   ],
   "metadata": {
    "collapsed": false,
    "pycharm": {
     "name": "#%%\n"
    }
   }
  },
  {
   "cell_type": "code",
   "execution_count": 8,
   "outputs": [
    {
     "data": {
      "text/plain": "count                11429826\nunique                    168\ntop       1970-01-01 00:00:00\nfreq                 10689015\nfirst     1970-01-01 00:00:00\nlast      2016-06-15 00:00:00\nName: Date_received, dtype: object"
     },
     "execution_count": 8,
     "metadata": {},
     "output_type": "execute_result"
    }
   ],
   "source": [
    "on_feat.Date_received.describe()"
   ],
   "metadata": {
    "collapsed": false,
    "pycharm": {
     "name": "#%%\n"
    }
   }
  },
  {
   "cell_type": "code",
   "execution_count": 9,
   "outputs": [
    {
     "data": {
      "text/plain": "count                11429826\nunique                    183\ntop       1970-01-01 00:00:00\nfreq                   655898\nfirst     1970-01-01 00:00:00\nlast      2016-06-30 00:00:00\nName: Date, dtype: object"
     },
     "execution_count": 9,
     "metadata": {},
     "output_type": "execute_result"
    }
   ],
   "source": [
    "on_feat.Date.describe()"
   ],
   "metadata": {
    "collapsed": false,
    "pycharm": {
     "name": "#%%\n"
    }
   }
  },
  {
   "cell_type": "code",
   "execution_count": 10,
   "outputs": [
    {
     "data": {
      "text/plain": "count                  113640\nunique                     31\ntop       2016-07-03 00:00:00\nfreq                     5491\nfirst     2016-07-01 00:00:00\nlast      2016-07-31 00:00:00\nName: Date_received, dtype: object"
     },
     "execution_count": 10,
     "metadata": {},
     "output_type": "execute_result"
    }
   ],
   "source": [
    "test.Date_received.describe()"
   ],
   "metadata": {
    "collapsed": false,
    "pycharm": {
     "name": "#%%\n"
    }
   }
  },
  {
   "cell_type": "code",
   "execution_count": 28,
   "outputs": [
    {
     "name": "stdout",
     "output_type": "stream",
     "text": [
      "====== offline train set info ======\n",
      "<class 'pandas.core.frame.DataFrame'>\n",
      "RangeIndex: 1754884 entries, 0 to 1754883\n",
      "Data columns (total 16 columns):\n",
      " #   Column            Dtype         \n",
      "---  ------            -----         \n",
      " 0   User_id           int64         \n",
      " 1   Merchant_id       int64         \n",
      " 2   Coupon_id         int64         \n",
      " 3   Discount_rate     object        \n",
      " 4   Distance          int64         \n",
      " 5   Date_received     datetime64[ns]\n",
      " 6   Date              datetime64[ns]\n",
      " 7   normal_consume    int64         \n",
      " 8   coupon_consume    int64         \n",
      " 9   no_consume        int64         \n",
      " 10  no_distance       int64         \n",
      " 11  is_full_discount  int64         \n",
      " 12  discount_x        int64         \n",
      " 13  discount_y        int64         \n",
      " 14  discount_rate     float64       \n",
      " 15  discount_type     int64         \n",
      "dtypes: datetime64[ns](2), float64(1), int64(12), object(1)\n",
      "memory usage: 214.2+ MB\n",
      "None\n",
      "\n",
      "offline features time range 2016-01-01 00:00:00 : 2016-03-16 00:00:00, size 726858\n",
      "labels time range 2016-03-17 00:00:00 : 2016-04-15 00:00:00, size 150140\n",
      "offline features time range 2016-02-01 00:00:00 : 2016-04-16 00:00:00, size 561616\n",
      "labels time range 2016-04-17 00:00:00 : 2016-05-16 00:00:00, size 132635\n",
      "offline features time range 2016-03-01 00:00:00 : 2016-05-15 00:00:00, size 621605\n",
      "labels time range 2016-05-16 00:00:00 : 2016-06-14 00:00:00, size 249111\n",
      "total offline features size 1910079\n",
      "total offline labels size 531886\n",
      "====== online train set info ======\n",
      "<class 'pandas.core.frame.DataFrame'>\n",
      "RangeIndex: 11429826 entries, 0 to 11429825\n",
      "Data columns (total 16 columns):\n",
      " #   Column            Dtype         \n",
      "---  ------            -----         \n",
      " 0   User_id           int64         \n",
      " 1   Merchant_id       int64         \n",
      " 2   Action            int64         \n",
      " 3   Coupon_id         int64         \n",
      " 4   Discount_rate     object        \n",
      " 5   Date_received     datetime64[ns]\n",
      " 6   Date              datetime64[ns]\n",
      " 7   coupon_consume    int64         \n",
      " 8   fixed_consume     int64         \n",
      " 9   normal_consume    int64         \n",
      " 10  no_consume        int64         \n",
      " 11  is_full_discount  int64         \n",
      " 12  discount_x        int64         \n",
      " 13  discount_y        int64         \n",
      " 14  discount_rate     float64       \n",
      " 15  discount_type     int64         \n",
      "dtypes: datetime64[ns](2), float64(1), int64(12), object(1)\n",
      "memory usage: 1.4+ GB\n",
      "None\n",
      "\n",
      "total online features size 13428120\n"
     ]
    }
   ],
   "source": [
    "feats_off, feats_on, labels = split_dataset(off_train, on_feat, time_ranges={\n",
    "                                      pd.to_datetime('20160101'): pd.to_timedelta(75, unit='D'), # 4月\n",
    "                                      pd.to_datetime('20160201'): pd.to_timedelta(75, unit='D'), # 5月\n",
    "                                      pd.to_datetime('20160301'): pd.to_timedelta(75, unit='D'), # 6月\n",
    "                                  })"
   ],
   "metadata": {
    "collapsed": false,
    "pycharm": {
     "name": "#%%\n"
    }
   }
  },
  {
   "cell_type": "code",
   "execution_count": 33,
   "outputs": [
    {
     "data": {
      "text/plain": "         User_id  Merchant_id  Coupon_id Discount_rate  Distance  \\\n3        1439408         2632       1078          20:1         0   \n7        1832624         3381       7610        200:20         0   \n18        163606         1569       5054        200:30        10   \n20         94107         3381       7610        200:20         2   \n21        253750         8390          0           1.0         0   \n...          ...          ...        ...           ...       ...   \n1754877   212662         3021       3739          30:1         6   \n1754878   212662         2934       5686          30:5         2   \n1754879   212662         3532          0           1.0         1   \n1754880   212662         3021       3739          30:1         6   \n1754881   212662         2934          0           1.0         2   \n\n        Date_received       Date  normal_consume  coupon_consume  no_consume  \\\n3          2016-03-19 1970-01-01               0               0           1   \n7          2016-04-29 1970-01-01               0               0           1   \n18         2016-04-21 1970-01-01               0               0           1   \n20         2016-04-12 1970-01-01               0               0           1   \n21         1970-01-01 2016-03-27               1               0           0   \n...               ...        ...             ...             ...         ...   \n1754877    2016-05-04 2016-05-08               0               1           0   \n1754878    2016-03-21 2016-03-22               0               1           0   \n1754879    1970-01-01 2016-03-22               1               0           0   \n1754880    2016-05-08 2016-06-02               0               1           0   \n1754881    1970-01-01 2016-03-21               1               0           0   \n\n         no_distance  is_full_discount  discount_x  discount_y  discount_rate  \\\n3                  0                 1          20           1       0.950000   \n7                  0                 1         200          20       0.900000   \n18                 0                 1         200          30       0.850000   \n20                 0                 1         200          20       0.900000   \n21                 0                 0          -1          -1       1.000000   \n...              ...               ...         ...         ...            ...   \n1754877            0                 1          30           1       0.966667   \n1754878            0                 1          30           5       0.833333   \n1754879            0                 0          -1          -1       1.000000   \n1754880            0                 1          30           1       0.966667   \n1754881            0                 0          -1          -1       1.000000   \n\n         discount_type  \n3                   14  \n7                   12  \n18                  10  \n20                  12  \n21                  19  \n...                ...  \n1754877             15  \n1754878              9  \n1754879             19  \n1754880             15  \n1754881             19  \n\n[621605 rows x 16 columns]",
      "text/html": "<div>\n<style scoped>\n    .dataframe tbody tr th:only-of-type {\n        vertical-align: middle;\n    }\n\n    .dataframe tbody tr th {\n        vertical-align: top;\n    }\n\n    .dataframe thead th {\n        text-align: right;\n    }\n</style>\n<table border=\"1\" class=\"dataframe\">\n  <thead>\n    <tr style=\"text-align: right;\">\n      <th></th>\n      <th>User_id</th>\n      <th>Merchant_id</th>\n      <th>Coupon_id</th>\n      <th>Discount_rate</th>\n      <th>Distance</th>\n      <th>Date_received</th>\n      <th>Date</th>\n      <th>normal_consume</th>\n      <th>coupon_consume</th>\n      <th>no_consume</th>\n      <th>no_distance</th>\n      <th>is_full_discount</th>\n      <th>discount_x</th>\n      <th>discount_y</th>\n      <th>discount_rate</th>\n      <th>discount_type</th>\n    </tr>\n  </thead>\n  <tbody>\n    <tr>\n      <th>3</th>\n      <td>1439408</td>\n      <td>2632</td>\n      <td>1078</td>\n      <td>20:1</td>\n      <td>0</td>\n      <td>2016-03-19</td>\n      <td>1970-01-01</td>\n      <td>0</td>\n      <td>0</td>\n      <td>1</td>\n      <td>0</td>\n      <td>1</td>\n      <td>20</td>\n      <td>1</td>\n      <td>0.950000</td>\n      <td>14</td>\n    </tr>\n    <tr>\n      <th>7</th>\n      <td>1832624</td>\n      <td>3381</td>\n      <td>7610</td>\n      <td>200:20</td>\n      <td>0</td>\n      <td>2016-04-29</td>\n      <td>1970-01-01</td>\n      <td>0</td>\n      <td>0</td>\n      <td>1</td>\n      <td>0</td>\n      <td>1</td>\n      <td>200</td>\n      <td>20</td>\n      <td>0.900000</td>\n      <td>12</td>\n    </tr>\n    <tr>\n      <th>18</th>\n      <td>163606</td>\n      <td>1569</td>\n      <td>5054</td>\n      <td>200:30</td>\n      <td>10</td>\n      <td>2016-04-21</td>\n      <td>1970-01-01</td>\n      <td>0</td>\n      <td>0</td>\n      <td>1</td>\n      <td>0</td>\n      <td>1</td>\n      <td>200</td>\n      <td>30</td>\n      <td>0.850000</td>\n      <td>10</td>\n    </tr>\n    <tr>\n      <th>20</th>\n      <td>94107</td>\n      <td>3381</td>\n      <td>7610</td>\n      <td>200:20</td>\n      <td>2</td>\n      <td>2016-04-12</td>\n      <td>1970-01-01</td>\n      <td>0</td>\n      <td>0</td>\n      <td>1</td>\n      <td>0</td>\n      <td>1</td>\n      <td>200</td>\n      <td>20</td>\n      <td>0.900000</td>\n      <td>12</td>\n    </tr>\n    <tr>\n      <th>21</th>\n      <td>253750</td>\n      <td>8390</td>\n      <td>0</td>\n      <td>1.0</td>\n      <td>0</td>\n      <td>1970-01-01</td>\n      <td>2016-03-27</td>\n      <td>1</td>\n      <td>0</td>\n      <td>0</td>\n      <td>0</td>\n      <td>0</td>\n      <td>-1</td>\n      <td>-1</td>\n      <td>1.000000</td>\n      <td>19</td>\n    </tr>\n    <tr>\n      <th>...</th>\n      <td>...</td>\n      <td>...</td>\n      <td>...</td>\n      <td>...</td>\n      <td>...</td>\n      <td>...</td>\n      <td>...</td>\n      <td>...</td>\n      <td>...</td>\n      <td>...</td>\n      <td>...</td>\n      <td>...</td>\n      <td>...</td>\n      <td>...</td>\n      <td>...</td>\n      <td>...</td>\n    </tr>\n    <tr>\n      <th>1754877</th>\n      <td>212662</td>\n      <td>3021</td>\n      <td>3739</td>\n      <td>30:1</td>\n      <td>6</td>\n      <td>2016-05-04</td>\n      <td>2016-05-08</td>\n      <td>0</td>\n      <td>1</td>\n      <td>0</td>\n      <td>0</td>\n      <td>1</td>\n      <td>30</td>\n      <td>1</td>\n      <td>0.966667</td>\n      <td>15</td>\n    </tr>\n    <tr>\n      <th>1754878</th>\n      <td>212662</td>\n      <td>2934</td>\n      <td>5686</td>\n      <td>30:5</td>\n      <td>2</td>\n      <td>2016-03-21</td>\n      <td>2016-03-22</td>\n      <td>0</td>\n      <td>1</td>\n      <td>0</td>\n      <td>0</td>\n      <td>1</td>\n      <td>30</td>\n      <td>5</td>\n      <td>0.833333</td>\n      <td>9</td>\n    </tr>\n    <tr>\n      <th>1754879</th>\n      <td>212662</td>\n      <td>3532</td>\n      <td>0</td>\n      <td>1.0</td>\n      <td>1</td>\n      <td>1970-01-01</td>\n      <td>2016-03-22</td>\n      <td>1</td>\n      <td>0</td>\n      <td>0</td>\n      <td>0</td>\n      <td>0</td>\n      <td>-1</td>\n      <td>-1</td>\n      <td>1.000000</td>\n      <td>19</td>\n    </tr>\n    <tr>\n      <th>1754880</th>\n      <td>212662</td>\n      <td>3021</td>\n      <td>3739</td>\n      <td>30:1</td>\n      <td>6</td>\n      <td>2016-05-08</td>\n      <td>2016-06-02</td>\n      <td>0</td>\n      <td>1</td>\n      <td>0</td>\n      <td>0</td>\n      <td>1</td>\n      <td>30</td>\n      <td>1</td>\n      <td>0.966667</td>\n      <td>15</td>\n    </tr>\n    <tr>\n      <th>1754881</th>\n      <td>212662</td>\n      <td>2934</td>\n      <td>0</td>\n      <td>1.0</td>\n      <td>2</td>\n      <td>1970-01-01</td>\n      <td>2016-03-21</td>\n      <td>1</td>\n      <td>0</td>\n      <td>0</td>\n      <td>0</td>\n      <td>0</td>\n      <td>-1</td>\n      <td>-1</td>\n      <td>1.000000</td>\n      <td>19</td>\n    </tr>\n  </tbody>\n</table>\n<p>621605 rows × 16 columns</p>\n</div>"
     },
     "execution_count": 33,
     "metadata": {},
     "output_type": "execute_result"
    }
   ],
   "source": [
    "feats_off[2]"
   ],
   "metadata": {
    "collapsed": false,
    "pycharm": {
     "name": "#%%\n"
    }
   }
  },
  {
   "cell_type": "code",
   "execution_count": 34,
   "outputs": [
    {
     "data": {
      "text/plain": "           User_id  Merchant_id  Action  Coupon_id Discount_rate  \\\n10        14336199        38810       0          0           1.0   \n11        14336199        38810       0          0           1.0   \n12        14336199        38810       0          0           1.0   \n13        14336199        38810       0          0           1.0   \n14        14336199        18907       0          0           1.0   \n...            ...          ...     ...        ...           ...   \n11429775  12286899        58515       0          0           1.0   \n11429781  12389331        52415       0          0           1.0   \n11429782  12389331        18212       0          0           1.0   \n11429789  12985299        43413       0          0           1.0   \n11429797  12985299        43413       0          0           1.0   \n\n         Date_received       Date  coupon_consume  fixed_consume  \\\n10          1970-01-01 2016-01-26               0              0   \n11          1970-01-01 2016-01-26               0              0   \n12          1970-01-01 2016-01-26               0              0   \n13          1970-01-01 2016-01-26               0              0   \n14          1970-01-01 2016-01-27               0              0   \n...                ...        ...             ...            ...   \n11429775    1970-01-01 2016-01-28               0              0   \n11429781    1970-01-01 2016-01-26               0              0   \n11429782    1970-01-01 2016-01-28               0              0   \n11429789    1970-01-01 2016-03-07               0              0   \n11429797    1970-01-01 2016-02-29               0              0   \n\n          normal_consume  no_consume  is_full_discount  discount_x  \\\n10                     0           0                 0          -1   \n11                     0           0                 0          -1   \n12                     0           0                 0          -1   \n13                     0           0                 0          -1   \n14                     0           0                 0          -1   \n...                  ...         ...               ...         ...   \n11429775               0           0                 0          -1   \n11429781               0           0                 0          -1   \n11429782               0           0                 0          -1   \n11429789               0           0                 0          -1   \n11429797               0           0                 0          -1   \n\n          discount_y  discount_rate  discount_type  \n10                -1            1.0             31  \n11                -1            1.0             31  \n12                -1            1.0             31  \n13                -1            1.0             31  \n14                -1            1.0             31  \n...              ...            ...            ...  \n11429775          -1            1.0             31  \n11429781          -1            1.0             31  \n11429782          -1            1.0             31  \n11429789          -1            1.0             31  \n11429797          -1            1.0             31  \n\n[4132352 rows x 16 columns]",
      "text/html": "<div>\n<style scoped>\n    .dataframe tbody tr th:only-of-type {\n        vertical-align: middle;\n    }\n\n    .dataframe tbody tr th {\n        vertical-align: top;\n    }\n\n    .dataframe thead th {\n        text-align: right;\n    }\n</style>\n<table border=\"1\" class=\"dataframe\">\n  <thead>\n    <tr style=\"text-align: right;\">\n      <th></th>\n      <th>User_id</th>\n      <th>Merchant_id</th>\n      <th>Action</th>\n      <th>Coupon_id</th>\n      <th>Discount_rate</th>\n      <th>Date_received</th>\n      <th>Date</th>\n      <th>coupon_consume</th>\n      <th>fixed_consume</th>\n      <th>normal_consume</th>\n      <th>no_consume</th>\n      <th>is_full_discount</th>\n      <th>discount_x</th>\n      <th>discount_y</th>\n      <th>discount_rate</th>\n      <th>discount_type</th>\n    </tr>\n  </thead>\n  <tbody>\n    <tr>\n      <th>10</th>\n      <td>14336199</td>\n      <td>38810</td>\n      <td>0</td>\n      <td>0</td>\n      <td>1.0</td>\n      <td>1970-01-01</td>\n      <td>2016-01-26</td>\n      <td>0</td>\n      <td>0</td>\n      <td>0</td>\n      <td>0</td>\n      <td>0</td>\n      <td>-1</td>\n      <td>-1</td>\n      <td>1.0</td>\n      <td>31</td>\n    </tr>\n    <tr>\n      <th>11</th>\n      <td>14336199</td>\n      <td>38810</td>\n      <td>0</td>\n      <td>0</td>\n      <td>1.0</td>\n      <td>1970-01-01</td>\n      <td>2016-01-26</td>\n      <td>0</td>\n      <td>0</td>\n      <td>0</td>\n      <td>0</td>\n      <td>0</td>\n      <td>-1</td>\n      <td>-1</td>\n      <td>1.0</td>\n      <td>31</td>\n    </tr>\n    <tr>\n      <th>12</th>\n      <td>14336199</td>\n      <td>38810</td>\n      <td>0</td>\n      <td>0</td>\n      <td>1.0</td>\n      <td>1970-01-01</td>\n      <td>2016-01-26</td>\n      <td>0</td>\n      <td>0</td>\n      <td>0</td>\n      <td>0</td>\n      <td>0</td>\n      <td>-1</td>\n      <td>-1</td>\n      <td>1.0</td>\n      <td>31</td>\n    </tr>\n    <tr>\n      <th>13</th>\n      <td>14336199</td>\n      <td>38810</td>\n      <td>0</td>\n      <td>0</td>\n      <td>1.0</td>\n      <td>1970-01-01</td>\n      <td>2016-01-26</td>\n      <td>0</td>\n      <td>0</td>\n      <td>0</td>\n      <td>0</td>\n      <td>0</td>\n      <td>-1</td>\n      <td>-1</td>\n      <td>1.0</td>\n      <td>31</td>\n    </tr>\n    <tr>\n      <th>14</th>\n      <td>14336199</td>\n      <td>18907</td>\n      <td>0</td>\n      <td>0</td>\n      <td>1.0</td>\n      <td>1970-01-01</td>\n      <td>2016-01-27</td>\n      <td>0</td>\n      <td>0</td>\n      <td>0</td>\n      <td>0</td>\n      <td>0</td>\n      <td>-1</td>\n      <td>-1</td>\n      <td>1.0</td>\n      <td>31</td>\n    </tr>\n    <tr>\n      <th>...</th>\n      <td>...</td>\n      <td>...</td>\n      <td>...</td>\n      <td>...</td>\n      <td>...</td>\n      <td>...</td>\n      <td>...</td>\n      <td>...</td>\n      <td>...</td>\n      <td>...</td>\n      <td>...</td>\n      <td>...</td>\n      <td>...</td>\n      <td>...</td>\n      <td>...</td>\n      <td>...</td>\n    </tr>\n    <tr>\n      <th>11429775</th>\n      <td>12286899</td>\n      <td>58515</td>\n      <td>0</td>\n      <td>0</td>\n      <td>1.0</td>\n      <td>1970-01-01</td>\n      <td>2016-01-28</td>\n      <td>0</td>\n      <td>0</td>\n      <td>0</td>\n      <td>0</td>\n      <td>0</td>\n      <td>-1</td>\n      <td>-1</td>\n      <td>1.0</td>\n      <td>31</td>\n    </tr>\n    <tr>\n      <th>11429781</th>\n      <td>12389331</td>\n      <td>52415</td>\n      <td>0</td>\n      <td>0</td>\n      <td>1.0</td>\n      <td>1970-01-01</td>\n      <td>2016-01-26</td>\n      <td>0</td>\n      <td>0</td>\n      <td>0</td>\n      <td>0</td>\n      <td>0</td>\n      <td>-1</td>\n      <td>-1</td>\n      <td>1.0</td>\n      <td>31</td>\n    </tr>\n    <tr>\n      <th>11429782</th>\n      <td>12389331</td>\n      <td>18212</td>\n      <td>0</td>\n      <td>0</td>\n      <td>1.0</td>\n      <td>1970-01-01</td>\n      <td>2016-01-28</td>\n      <td>0</td>\n      <td>0</td>\n      <td>0</td>\n      <td>0</td>\n      <td>0</td>\n      <td>-1</td>\n      <td>-1</td>\n      <td>1.0</td>\n      <td>31</td>\n    </tr>\n    <tr>\n      <th>11429789</th>\n      <td>12985299</td>\n      <td>43413</td>\n      <td>0</td>\n      <td>0</td>\n      <td>1.0</td>\n      <td>1970-01-01</td>\n      <td>2016-03-07</td>\n      <td>0</td>\n      <td>0</td>\n      <td>0</td>\n      <td>0</td>\n      <td>0</td>\n      <td>-1</td>\n      <td>-1</td>\n      <td>1.0</td>\n      <td>31</td>\n    </tr>\n    <tr>\n      <th>11429797</th>\n      <td>12985299</td>\n      <td>43413</td>\n      <td>0</td>\n      <td>0</td>\n      <td>1.0</td>\n      <td>1970-01-01</td>\n      <td>2016-02-29</td>\n      <td>0</td>\n      <td>0</td>\n      <td>0</td>\n      <td>0</td>\n      <td>0</td>\n      <td>-1</td>\n      <td>-1</td>\n      <td>1.0</td>\n      <td>31</td>\n    </tr>\n  </tbody>\n</table>\n<p>4132352 rows × 16 columns</p>\n</div>"
     },
     "execution_count": 34,
     "metadata": {},
     "output_type": "execute_result"
    }
   ],
   "source": [
    "feats_on[0]"
   ],
   "metadata": {
    "collapsed": false,
    "pycharm": {
     "name": "#%%\n"
    }
   }
  },
  {
   "cell_type": "code",
   "execution_count": 36,
   "outputs": [
    {
     "data": {
      "text/plain": "         User_id  Merchant_id  Coupon_id Discount_rate  Distance  \\\n3        1439408         2632       1078          20:1         0   \n20         94107         3381       7610        200:20         2   \n23        253750         8390       7531          20:5         0   \n38       2881376         8390       7531          20:5         0   \n44       4061024         7555       9871          30:5        10   \n...          ...          ...        ...           ...       ...   \n1754825   261622         3381       7610        200:20         1   \n1754869   188086         6568       4723          30:1         0   \n1754873   212662         2934       5686          30:5         2   \n1754876   212662         3532       5267          30:5         1   \n1754878   212662         2934       5686          30:5         2   \n\n        Date_received       Date  normal_consume  coupon_consume  no_consume  \\\n3          2016-03-19 1970-01-01               0               0           1   \n20         2016-04-12 1970-01-01               0               0           1   \n23         2016-03-27 1970-01-01               0               0           1   \n38         2016-03-21 2016-03-29               0               1           0   \n44         2016-04-09 1970-01-01               0               0           1   \n...               ...        ...             ...             ...         ...   \n1754825    2016-04-07 1970-01-01               0               0           1   \n1754869    2016-04-15 1970-01-01               0               0           1   \n1754873    2016-03-21 2016-03-30               0               1           0   \n1754876    2016-03-22 1970-01-01               0               0           1   \n1754878    2016-03-21 2016-03-22               0               1           0   \n\n         no_distance  is_full_discount  discount_x  discount_y  discount_rate  \\\n3                  0                 1          20           1       0.950000   \n20                 0                 1         200          20       0.900000   \n23                 0                 1          20           5       0.750000   \n38                 0                 1          20           5       0.750000   \n44                 0                 1          30           5       0.833333   \n...              ...               ...         ...         ...            ...   \n1754825            0                 1         200          20       0.900000   \n1754869            0                 1          30           1       0.966667   \n1754873            0                 1          30           5       0.833333   \n1754876            0                 1          30           5       0.833333   \n1754878            0                 1          30           5       0.833333   \n\n         discount_type  \n3                   14  \n20                  12  \n23                   7  \n38                   7  \n44                   9  \n...                ...  \n1754825             12  \n1754869             15  \n1754873              9  \n1754876              9  \n1754878              9  \n\n[150140 rows x 16 columns]",
      "text/html": "<div>\n<style scoped>\n    .dataframe tbody tr th:only-of-type {\n        vertical-align: middle;\n    }\n\n    .dataframe tbody tr th {\n        vertical-align: top;\n    }\n\n    .dataframe thead th {\n        text-align: right;\n    }\n</style>\n<table border=\"1\" class=\"dataframe\">\n  <thead>\n    <tr style=\"text-align: right;\">\n      <th></th>\n      <th>User_id</th>\n      <th>Merchant_id</th>\n      <th>Coupon_id</th>\n      <th>Discount_rate</th>\n      <th>Distance</th>\n      <th>Date_received</th>\n      <th>Date</th>\n      <th>normal_consume</th>\n      <th>coupon_consume</th>\n      <th>no_consume</th>\n      <th>no_distance</th>\n      <th>is_full_discount</th>\n      <th>discount_x</th>\n      <th>discount_y</th>\n      <th>discount_rate</th>\n      <th>discount_type</th>\n    </tr>\n  </thead>\n  <tbody>\n    <tr>\n      <th>3</th>\n      <td>1439408</td>\n      <td>2632</td>\n      <td>1078</td>\n      <td>20:1</td>\n      <td>0</td>\n      <td>2016-03-19</td>\n      <td>1970-01-01</td>\n      <td>0</td>\n      <td>0</td>\n      <td>1</td>\n      <td>0</td>\n      <td>1</td>\n      <td>20</td>\n      <td>1</td>\n      <td>0.950000</td>\n      <td>14</td>\n    </tr>\n    <tr>\n      <th>20</th>\n      <td>94107</td>\n      <td>3381</td>\n      <td>7610</td>\n      <td>200:20</td>\n      <td>2</td>\n      <td>2016-04-12</td>\n      <td>1970-01-01</td>\n      <td>0</td>\n      <td>0</td>\n      <td>1</td>\n      <td>0</td>\n      <td>1</td>\n      <td>200</td>\n      <td>20</td>\n      <td>0.900000</td>\n      <td>12</td>\n    </tr>\n    <tr>\n      <th>23</th>\n      <td>253750</td>\n      <td>8390</td>\n      <td>7531</td>\n      <td>20:5</td>\n      <td>0</td>\n      <td>2016-03-27</td>\n      <td>1970-01-01</td>\n      <td>0</td>\n      <td>0</td>\n      <td>1</td>\n      <td>0</td>\n      <td>1</td>\n      <td>20</td>\n      <td>5</td>\n      <td>0.750000</td>\n      <td>7</td>\n    </tr>\n    <tr>\n      <th>38</th>\n      <td>2881376</td>\n      <td>8390</td>\n      <td>7531</td>\n      <td>20:5</td>\n      <td>0</td>\n      <td>2016-03-21</td>\n      <td>2016-03-29</td>\n      <td>0</td>\n      <td>1</td>\n      <td>0</td>\n      <td>0</td>\n      <td>1</td>\n      <td>20</td>\n      <td>5</td>\n      <td>0.750000</td>\n      <td>7</td>\n    </tr>\n    <tr>\n      <th>44</th>\n      <td>4061024</td>\n      <td>7555</td>\n      <td>9871</td>\n      <td>30:5</td>\n      <td>10</td>\n      <td>2016-04-09</td>\n      <td>1970-01-01</td>\n      <td>0</td>\n      <td>0</td>\n      <td>1</td>\n      <td>0</td>\n      <td>1</td>\n      <td>30</td>\n      <td>5</td>\n      <td>0.833333</td>\n      <td>9</td>\n    </tr>\n    <tr>\n      <th>...</th>\n      <td>...</td>\n      <td>...</td>\n      <td>...</td>\n      <td>...</td>\n      <td>...</td>\n      <td>...</td>\n      <td>...</td>\n      <td>...</td>\n      <td>...</td>\n      <td>...</td>\n      <td>...</td>\n      <td>...</td>\n      <td>...</td>\n      <td>...</td>\n      <td>...</td>\n      <td>...</td>\n    </tr>\n    <tr>\n      <th>1754825</th>\n      <td>261622</td>\n      <td>3381</td>\n      <td>7610</td>\n      <td>200:20</td>\n      <td>1</td>\n      <td>2016-04-07</td>\n      <td>1970-01-01</td>\n      <td>0</td>\n      <td>0</td>\n      <td>1</td>\n      <td>0</td>\n      <td>1</td>\n      <td>200</td>\n      <td>20</td>\n      <td>0.900000</td>\n      <td>12</td>\n    </tr>\n    <tr>\n      <th>1754869</th>\n      <td>188086</td>\n      <td>6568</td>\n      <td>4723</td>\n      <td>30:1</td>\n      <td>0</td>\n      <td>2016-04-15</td>\n      <td>1970-01-01</td>\n      <td>0</td>\n      <td>0</td>\n      <td>1</td>\n      <td>0</td>\n      <td>1</td>\n      <td>30</td>\n      <td>1</td>\n      <td>0.966667</td>\n      <td>15</td>\n    </tr>\n    <tr>\n      <th>1754873</th>\n      <td>212662</td>\n      <td>2934</td>\n      <td>5686</td>\n      <td>30:5</td>\n      <td>2</td>\n      <td>2016-03-21</td>\n      <td>2016-03-30</td>\n      <td>0</td>\n      <td>1</td>\n      <td>0</td>\n      <td>0</td>\n      <td>1</td>\n      <td>30</td>\n      <td>5</td>\n      <td>0.833333</td>\n      <td>9</td>\n    </tr>\n    <tr>\n      <th>1754876</th>\n      <td>212662</td>\n      <td>3532</td>\n      <td>5267</td>\n      <td>30:5</td>\n      <td>1</td>\n      <td>2016-03-22</td>\n      <td>1970-01-01</td>\n      <td>0</td>\n      <td>0</td>\n      <td>1</td>\n      <td>0</td>\n      <td>1</td>\n      <td>30</td>\n      <td>5</td>\n      <td>0.833333</td>\n      <td>9</td>\n    </tr>\n    <tr>\n      <th>1754878</th>\n      <td>212662</td>\n      <td>2934</td>\n      <td>5686</td>\n      <td>30:5</td>\n      <td>2</td>\n      <td>2016-03-21</td>\n      <td>2016-03-22</td>\n      <td>0</td>\n      <td>1</td>\n      <td>0</td>\n      <td>0</td>\n      <td>1</td>\n      <td>30</td>\n      <td>5</td>\n      <td>0.833333</td>\n      <td>9</td>\n    </tr>\n  </tbody>\n</table>\n<p>150140 rows × 16 columns</p>\n</div>"
     },
     "execution_count": 36,
     "metadata": {},
     "output_type": "execute_result"
    }
   ],
   "source": [
    "labels[0]"
   ],
   "metadata": {
    "collapsed": false,
    "pycharm": {
     "name": "#%%\n"
    }
   }
  },
  {
   "cell_type": "code",
   "execution_count": 37,
   "outputs": [],
   "source": [
    "for i in range(3):\n",
    "    feats_off[i].to_csv(f'./dataset_split/feat_off_{i}.csv', index=False)\n",
    "    feats_on[i].to_csv(f'./dataset_split/feat_on_{i}.csv', index=False)\n",
    "    labels[i].to_csv(f'./dataset_split/label_{i}.csv', index=False)"
   ],
   "metadata": {
    "collapsed": false,
    "pycharm": {
     "name": "#%%\n"
    }
   }
  },
  {
   "cell_type": "code",
   "execution_count": 4,
   "outputs": [
    {
     "data": {
      "text/plain": "        User_id  Merchant_id  Coupon_id Discount_rate  Distance Date_received  \\\n0       4129537          450       9983          30:5         1    2016-07-12   \n1       6949378         1300       3429          30:5        -1    2016-07-06   \n2       2166529         7113       6928        200:20         5    2016-07-27   \n3       2166529         7113       1808        100:10         5    2016-07-27   \n4       6172162         7605       6500          30:1         2    2016-07-08   \n...         ...          ...        ...           ...       ...           ...   \n113635  5828093         5717      10418          30:5        10    2016-07-16   \n113636  6626813         1699       7595          30:1        -1    2016-07-07   \n113637  6626813         7321       7590          50:5        -1    2016-07-12   \n113638  4547069          760      13602          30:5         0    2016-07-17   \n113639  6675965         7487        613          20:1         5    2016-07-28   \n\n        no_distance  is_full_discount  discount_x  discount_y  discount_rate  \\\n0                 0                 1          30           5       0.833333   \n1                 1                 1          30           5       0.833333   \n2                 0                 1         200          20       0.900000   \n3                 0                 1         100          10       0.900000   \n4                 0                 1          30           1       0.966667   \n...             ...               ...         ...         ...            ...   \n113635            0                 1          30           5       0.833333   \n113636            1                 1          30           1       0.966667   \n113637            1                 1          50           5       0.900000   \n113638            0                 1          30           5       0.833333   \n113639            0                 1          20           1       0.950000   \n\n        discount_type  \n0                   7  \n1                   7  \n2                  10  \n3                  10  \n4                  14  \n...               ...  \n113635              7  \n113636             14  \n113637             10  \n113638              7  \n113639             13  \n\n[113640 rows x 12 columns]",
      "text/html": "<div>\n<style scoped>\n    .dataframe tbody tr th:only-of-type {\n        vertical-align: middle;\n    }\n\n    .dataframe tbody tr th {\n        vertical-align: top;\n    }\n\n    .dataframe thead th {\n        text-align: right;\n    }\n</style>\n<table border=\"1\" class=\"dataframe\">\n  <thead>\n    <tr style=\"text-align: right;\">\n      <th></th>\n      <th>User_id</th>\n      <th>Merchant_id</th>\n      <th>Coupon_id</th>\n      <th>Discount_rate</th>\n      <th>Distance</th>\n      <th>Date_received</th>\n      <th>no_distance</th>\n      <th>is_full_discount</th>\n      <th>discount_x</th>\n      <th>discount_y</th>\n      <th>discount_rate</th>\n      <th>discount_type</th>\n    </tr>\n  </thead>\n  <tbody>\n    <tr>\n      <th>0</th>\n      <td>4129537</td>\n      <td>450</td>\n      <td>9983</td>\n      <td>30:5</td>\n      <td>1</td>\n      <td>2016-07-12</td>\n      <td>0</td>\n      <td>1</td>\n      <td>30</td>\n      <td>5</td>\n      <td>0.833333</td>\n      <td>7</td>\n    </tr>\n    <tr>\n      <th>1</th>\n      <td>6949378</td>\n      <td>1300</td>\n      <td>3429</td>\n      <td>30:5</td>\n      <td>-1</td>\n      <td>2016-07-06</td>\n      <td>1</td>\n      <td>1</td>\n      <td>30</td>\n      <td>5</td>\n      <td>0.833333</td>\n      <td>7</td>\n    </tr>\n    <tr>\n      <th>2</th>\n      <td>2166529</td>\n      <td>7113</td>\n      <td>6928</td>\n      <td>200:20</td>\n      <td>5</td>\n      <td>2016-07-27</td>\n      <td>0</td>\n      <td>1</td>\n      <td>200</td>\n      <td>20</td>\n      <td>0.900000</td>\n      <td>10</td>\n    </tr>\n    <tr>\n      <th>3</th>\n      <td>2166529</td>\n      <td>7113</td>\n      <td>1808</td>\n      <td>100:10</td>\n      <td>5</td>\n      <td>2016-07-27</td>\n      <td>0</td>\n      <td>1</td>\n      <td>100</td>\n      <td>10</td>\n      <td>0.900000</td>\n      <td>10</td>\n    </tr>\n    <tr>\n      <th>4</th>\n      <td>6172162</td>\n      <td>7605</td>\n      <td>6500</td>\n      <td>30:1</td>\n      <td>2</td>\n      <td>2016-07-08</td>\n      <td>0</td>\n      <td>1</td>\n      <td>30</td>\n      <td>1</td>\n      <td>0.966667</td>\n      <td>14</td>\n    </tr>\n    <tr>\n      <th>...</th>\n      <td>...</td>\n      <td>...</td>\n      <td>...</td>\n      <td>...</td>\n      <td>...</td>\n      <td>...</td>\n      <td>...</td>\n      <td>...</td>\n      <td>...</td>\n      <td>...</td>\n      <td>...</td>\n      <td>...</td>\n    </tr>\n    <tr>\n      <th>113635</th>\n      <td>5828093</td>\n      <td>5717</td>\n      <td>10418</td>\n      <td>30:5</td>\n      <td>10</td>\n      <td>2016-07-16</td>\n      <td>0</td>\n      <td>1</td>\n      <td>30</td>\n      <td>5</td>\n      <td>0.833333</td>\n      <td>7</td>\n    </tr>\n    <tr>\n      <th>113636</th>\n      <td>6626813</td>\n      <td>1699</td>\n      <td>7595</td>\n      <td>30:1</td>\n      <td>-1</td>\n      <td>2016-07-07</td>\n      <td>1</td>\n      <td>1</td>\n      <td>30</td>\n      <td>1</td>\n      <td>0.966667</td>\n      <td>14</td>\n    </tr>\n    <tr>\n      <th>113637</th>\n      <td>6626813</td>\n      <td>7321</td>\n      <td>7590</td>\n      <td>50:5</td>\n      <td>-1</td>\n      <td>2016-07-12</td>\n      <td>1</td>\n      <td>1</td>\n      <td>50</td>\n      <td>5</td>\n      <td>0.900000</td>\n      <td>10</td>\n    </tr>\n    <tr>\n      <th>113638</th>\n      <td>4547069</td>\n      <td>760</td>\n      <td>13602</td>\n      <td>30:5</td>\n      <td>0</td>\n      <td>2016-07-17</td>\n      <td>0</td>\n      <td>1</td>\n      <td>30</td>\n      <td>5</td>\n      <td>0.833333</td>\n      <td>7</td>\n    </tr>\n    <tr>\n      <th>113639</th>\n      <td>6675965</td>\n      <td>7487</td>\n      <td>613</td>\n      <td>20:1</td>\n      <td>5</td>\n      <td>2016-07-28</td>\n      <td>0</td>\n      <td>1</td>\n      <td>20</td>\n      <td>1</td>\n      <td>0.950000</td>\n      <td>13</td>\n    </tr>\n  </tbody>\n</table>\n<p>113640 rows × 12 columns</p>\n</div>"
     },
     "execution_count": 4,
     "metadata": {},
     "output_type": "execute_result"
    }
   ],
   "source": [
    "test_set = pd.read_csv('./dataset_cleaned/ccf_off_test.csv', parse_dates=['Date_received'])\n",
    "test_set"
   ],
   "metadata": {
    "collapsed": false,
    "pycharm": {
     "name": "#%%\n"
    }
   }
  },
  {
   "cell_type": "code",
   "execution_count": 8,
   "outputs": [],
   "source": [
    "test_feat_range = pd.date_range(pd.to_datetime('20160402'), periods=75)"
   ],
   "metadata": {
    "collapsed": false,
    "pycharm": {
     "name": "#%%\n"
    }
   }
  },
  {
   "cell_type": "code",
   "execution_count": 11,
   "outputs": [],
   "source": [
    "test_off_feat = off_train[off_train['Date_received'].isin(test_feat_range) |  # 领券日期在 time_range 内\n",
    "                          ((off_train['Coupon_id'] == 0) & off_train['Date'].isin(test_feat_range))]"
   ],
   "metadata": {
    "collapsed": false,
    "pycharm": {
     "name": "#%%\n"
    }
   }
  },
  {
   "cell_type": "code",
   "execution_count": 12,
   "outputs": [],
   "source": [
    "test_on_feat = on_feat[on_feat['Date_received'].isin(test_feat_range) |  # 领券日期在 time_range 内\n",
    "                        ((on_feat['Coupon_id'] == 0) & on_feat['Date'].isin(test_feat_range))]"
   ],
   "metadata": {
    "collapsed": false,
    "pycharm": {
     "name": "#%%\n"
    }
   }
  },
  {
   "cell_type": "code",
   "execution_count": 15,
   "outputs": [],
   "source": [
    "test_off_feat.to_csv('./dataset_split/feat_off_test.csv')\n",
    "test_on_feat.to_csv('./dataset_split/feat_on_test.csv')"
   ],
   "metadata": {
    "collapsed": false,
    "pycharm": {
     "name": "#%%\n"
    }
   }
  },
  {
   "cell_type": "markdown",
   "source": [
    "# 上面的分割方法已经弃用"
   ],
   "metadata": {
    "collapsed": false,
    "pycharm": {
     "name": "#%% md\n"
    }
   }
  },
  {
   "cell_type": "code",
   "execution_count": 1,
   "outputs": [],
   "source": [
    "import pandas as pd"
   ],
   "metadata": {
    "collapsed": false,
    "pycharm": {
     "name": "#%%\n"
    }
   }
  },
  {
   "cell_type": "code",
   "execution_count": 2,
   "outputs": [
    {
     "data": {
      "text/plain": "(31, 90, 15)"
     },
     "execution_count": 2,
     "metadata": {},
     "output_type": "execute_result"
    }
   ],
   "source": [
    "L_1_range = pd.date_range(start='20160516', end='20160615')    # 标签集1\n",
    "\n",
    "F_1_1_range = pd.date_range(start='20160201', end='20160430')  # 特征集1-1\n",
    "F_1_2_range = pd.date_range(start='20160501', end='20160515')  # 特征集1-2\n",
    "L_1_range.size, F_1_1_range.size, F_1_2_range.size"
   ],
   "metadata": {
    "collapsed": false,
    "pycharm": {
     "name": "#%%\n"
    }
   }
  },
  {
   "cell_type": "code",
   "execution_count": 3,
   "outputs": [
    {
     "data": {
      "text/plain": "(31, 90, 15)"
     },
     "execution_count": 3,
     "metadata": {},
     "output_type": "execute_result"
    }
   ],
   "source": [
    "L_2_range = pd.date_range(start='20160415', end='20160515')    # 标签集2\n",
    "\n",
    "F_2_1_range = pd.date_range(start='20160101', end='20160330')  # 特征集2-1\n",
    "F_2_2_range =pd.date_range(start='20160331', end='20160414')   # 特征集2-1\n",
    "\n",
    "L_2_range.size, F_2_1_range.size, F_2_2_range.size"
   ],
   "metadata": {
    "collapsed": false,
    "pycharm": {
     "name": "#%%\n"
    }
   }
  },
  {
   "cell_type": "code",
   "execution_count": 4,
   "outputs": [
    {
     "data": {
      "text/plain": "(31, 90, 15)"
     },
     "execution_count": 4,
     "metadata": {},
     "output_type": "execute_result"
    }
   ],
   "source": [
    "L_T_range = pd.date_range(start='20160701', end='20160731')    # 测试集\n",
    "\n",
    "F_T_1_range = pd.date_range(start='20160318', end='20160615')  # 测试特征集1\n",
    "F_T_2_range = pd.date_range(start='20160616', end='20160630')  # 测试特征集2\n",
    "\n",
    "L_T_range.size, F_T_1_range.size, F_T_2_range.size"
   ],
   "metadata": {
    "collapsed": false,
    "pycharm": {
     "name": "#%%\n"
    }
   }
  },
  {
   "cell_type": "code",
   "execution_count": 5,
   "outputs": [],
   "source": [
    "off_train_csv = pd.read_csv('./dataset_cleaned/ccf_off_train.csv', parse_dates=['Date_received', 'Date'])\n",
    "on_train_csv = pd.read_csv('./dataset_cleaned/ccf_on_train.csv', parse_dates=['Date_received', 'Date'])"
   ],
   "metadata": {
    "collapsed": false,
    "pycharm": {
     "name": "#%%\n"
    }
   }
  },
  {
   "cell_type": "code",
   "execution_count": 6,
   "outputs": [],
   "source": [
    "F_1_1 = on_train_csv[on_train_csv.Date_received.isin(F_1_1_range) | on_train_csv.Date.isin(F_1_1_range)]\n",
    "F_1_1.to_csv('./dataset_split/feat_1_1_on.csv', index=False)"
   ],
   "metadata": {
    "collapsed": false,
    "pycharm": {
     "name": "#%%\n"
    }
   }
  },
  {
   "cell_type": "code",
   "execution_count": 7,
   "outputs": [],
   "source": [
    "F_1_2 = on_train_csv[on_train_csv.Date.isin(F_1_2_range)]\n",
    "F_1_2.to_csv('./dataset_split/feat_1_2_on.csv', index=False)"
   ],
   "metadata": {
    "collapsed": false,
    "pycharm": {
     "name": "#%%\n"
    }
   }
  },
  {
   "cell_type": "code",
   "execution_count": 7,
   "outputs": [],
   "source": [],
   "metadata": {
    "collapsed": false,
    "pycharm": {
     "name": "#%%\n"
    }
   }
  },
  {
   "cell_type": "code",
   "execution_count": 8,
   "outputs": [],
   "source": [
    "# L_2 = off_train_csv[off_train_csv.Date_received.isin(L_2_range)]\n",
    "# L_2.to_csv('./dataset_split/label_2.csv', index=False)"
   ],
   "metadata": {
    "collapsed": false,
    "pycharm": {
     "name": "#%%\n"
    }
   }
  },
  {
   "cell_type": "code",
   "execution_count": 9,
   "outputs": [],
   "source": [
    "F_2_1 = on_train_csv[on_train_csv.Date_received.isin(F_2_1_range) | on_train_csv.Date.isin(F_2_1_range)]\n",
    "F_2_1.to_csv('./dataset_split/feat_2_1_on.csv', index=False)"
   ],
   "metadata": {
    "collapsed": false,
    "pycharm": {
     "name": "#%%\n"
    }
   }
  },
  {
   "cell_type": "code",
   "execution_count": 10,
   "outputs": [],
   "source": [
    "F_2_2 = on_train_csv[on_train_csv.Date.isin(F_2_2_range)]\n",
    "F_2_2.to_csv('./dataset_split/feat_2_2_on.csv', index=False)"
   ],
   "metadata": {
    "collapsed": false,
    "pycharm": {
     "name": "#%%\n"
    }
   }
  },
  {
   "cell_type": "code",
   "execution_count": null,
   "outputs": [],
   "source": [],
   "metadata": {
    "collapsed": false,
    "pycharm": {
     "name": "#%%\n"
    }
   }
  },
  {
   "cell_type": "markdown",
   "source": [],
   "metadata": {
    "collapsed": false,
    "pycharm": {
     "name": "#%% md\n"
    }
   }
  },
  {
   "cell_type": "code",
   "execution_count": 9,
   "outputs": [],
   "source": [
    "F_T_1 = on_train_csv[on_train_csv.Date_received.isin(F_T_1_range) | on_train_csv.Date.isin(F_T_1_range)]\n",
    "F_T_1.to_csv('./dataset_split/feat_test_1_on.csv')"
   ],
   "metadata": {
    "collapsed": false,
    "pycharm": {
     "name": "#%%\n"
    }
   }
  },
  {
   "cell_type": "code",
   "execution_count": 10,
   "outputs": [],
   "source": [
    "F_T_2 = on_train_csv[on_train_csv.Date.isin(F_T_2_range)]\n",
    "F_T_2.to_csv('./dataset_split/feat_test_2_on.csv')"
   ],
   "metadata": {
    "collapsed": false,
    "pycharm": {
     "name": "#%%\n"
    }
   }
  },
  {
   "cell_type": "code",
   "execution_count": 11,
   "outputs": [
    {
     "data": {
      "text/plain": "           User_id  Merchant_id  Action  Coupon_id Discount_rate  \\\n2         14336199        18907       0          0           1.0   \n3         14336199        18907       0          0           1.0   \n4         14336199        18907       0          0           1.0   \n5         14336199        18907       0          0           1.0   \n6         14336199        18907       0          0           1.0   \n...            ...          ...     ...        ...           ...   \n11429783  12389331        18907       0          0           1.0   \n11429788  12389331        18907       0          0           1.0   \n11429790  12985299        34211       0          0           1.0   \n11429821  13087731        27715       0          0           1.0   \n11429825  13683699        18009       1          0           1.0   \n\n         Date_received       Date  coupon_consume  fixed_consume  \\\n2           1970-01-01 2016-06-18               0              0   \n3           1970-01-01 2016-06-18               0              0   \n4           1970-01-01 2016-06-18               0              0   \n5           1970-01-01 2016-06-18               0              0   \n6           1970-01-01 2016-06-18               0              0   \n...                ...        ...             ...            ...   \n11429783    1970-01-01 2016-06-23               0              0   \n11429788    1970-01-01 2016-06-17               0              0   \n11429790    1970-01-01 2016-06-28               0              0   \n11429821    1970-01-01 2016-06-29               0              0   \n11429825    1970-01-01 2016-06-28               0              0   \n\n          normal_consume  no_consume  is_click  is_full_discount  discount_x  \\\n2                      0           0         1                 0          -1   \n3                      0           0         1                 0          -1   \n4                      0           0         1                 0          -1   \n5                      0           0         1                 0          -1   \n6                      0           0         1                 0          -1   \n...                  ...         ...       ...               ...         ...   \n11429783               0           0         1                 0          -1   \n11429788               0           0         1                 0          -1   \n11429790               0           0         1                 0          -1   \n11429821               0           0         1                 0          -1   \n11429825               1           0         0                 0          -1   \n\n          discount_y  discount_rate  discount_type  \n2                 -1            1.0             31  \n3                 -1            1.0             31  \n4                 -1            1.0             31  \n5                 -1            1.0             31  \n6                 -1            1.0             31  \n...              ...            ...            ...  \n11429783          -1            1.0             31  \n11429788          -1            1.0             31  \n11429790          -1            1.0             31  \n11429821          -1            1.0             31  \n11429825          -1            1.0             31  \n\n[1146277 rows x 17 columns]",
      "text/html": "<div>\n<style scoped>\n    .dataframe tbody tr th:only-of-type {\n        vertical-align: middle;\n    }\n\n    .dataframe tbody tr th {\n        vertical-align: top;\n    }\n\n    .dataframe thead th {\n        text-align: right;\n    }\n</style>\n<table border=\"1\" class=\"dataframe\">\n  <thead>\n    <tr style=\"text-align: right;\">\n      <th></th>\n      <th>User_id</th>\n      <th>Merchant_id</th>\n      <th>Action</th>\n      <th>Coupon_id</th>\n      <th>Discount_rate</th>\n      <th>Date_received</th>\n      <th>Date</th>\n      <th>coupon_consume</th>\n      <th>fixed_consume</th>\n      <th>normal_consume</th>\n      <th>no_consume</th>\n      <th>is_click</th>\n      <th>is_full_discount</th>\n      <th>discount_x</th>\n      <th>discount_y</th>\n      <th>discount_rate</th>\n      <th>discount_type</th>\n    </tr>\n  </thead>\n  <tbody>\n    <tr>\n      <th>2</th>\n      <td>14336199</td>\n      <td>18907</td>\n      <td>0</td>\n      <td>0</td>\n      <td>1.0</td>\n      <td>1970-01-01</td>\n      <td>2016-06-18</td>\n      <td>0</td>\n      <td>0</td>\n      <td>0</td>\n      <td>0</td>\n      <td>1</td>\n      <td>0</td>\n      <td>-1</td>\n      <td>-1</td>\n      <td>1.0</td>\n      <td>31</td>\n    </tr>\n    <tr>\n      <th>3</th>\n      <td>14336199</td>\n      <td>18907</td>\n      <td>0</td>\n      <td>0</td>\n      <td>1.0</td>\n      <td>1970-01-01</td>\n      <td>2016-06-18</td>\n      <td>0</td>\n      <td>0</td>\n      <td>0</td>\n      <td>0</td>\n      <td>1</td>\n      <td>0</td>\n      <td>-1</td>\n      <td>-1</td>\n      <td>1.0</td>\n      <td>31</td>\n    </tr>\n    <tr>\n      <th>4</th>\n      <td>14336199</td>\n      <td>18907</td>\n      <td>0</td>\n      <td>0</td>\n      <td>1.0</td>\n      <td>1970-01-01</td>\n      <td>2016-06-18</td>\n      <td>0</td>\n      <td>0</td>\n      <td>0</td>\n      <td>0</td>\n      <td>1</td>\n      <td>0</td>\n      <td>-1</td>\n      <td>-1</td>\n      <td>1.0</td>\n      <td>31</td>\n    </tr>\n    <tr>\n      <th>5</th>\n      <td>14336199</td>\n      <td>18907</td>\n      <td>0</td>\n      <td>0</td>\n      <td>1.0</td>\n      <td>1970-01-01</td>\n      <td>2016-06-18</td>\n      <td>0</td>\n      <td>0</td>\n      <td>0</td>\n      <td>0</td>\n      <td>1</td>\n      <td>0</td>\n      <td>-1</td>\n      <td>-1</td>\n      <td>1.0</td>\n      <td>31</td>\n    </tr>\n    <tr>\n      <th>6</th>\n      <td>14336199</td>\n      <td>18907</td>\n      <td>0</td>\n      <td>0</td>\n      <td>1.0</td>\n      <td>1970-01-01</td>\n      <td>2016-06-18</td>\n      <td>0</td>\n      <td>0</td>\n      <td>0</td>\n      <td>0</td>\n      <td>1</td>\n      <td>0</td>\n      <td>-1</td>\n      <td>-1</td>\n      <td>1.0</td>\n      <td>31</td>\n    </tr>\n    <tr>\n      <th>...</th>\n      <td>...</td>\n      <td>...</td>\n      <td>...</td>\n      <td>...</td>\n      <td>...</td>\n      <td>...</td>\n      <td>...</td>\n      <td>...</td>\n      <td>...</td>\n      <td>...</td>\n      <td>...</td>\n      <td>...</td>\n      <td>...</td>\n      <td>...</td>\n      <td>...</td>\n      <td>...</td>\n      <td>...</td>\n    </tr>\n    <tr>\n      <th>11429783</th>\n      <td>12389331</td>\n      <td>18907</td>\n      <td>0</td>\n      <td>0</td>\n      <td>1.0</td>\n      <td>1970-01-01</td>\n      <td>2016-06-23</td>\n      <td>0</td>\n      <td>0</td>\n      <td>0</td>\n      <td>0</td>\n      <td>1</td>\n      <td>0</td>\n      <td>-1</td>\n      <td>-1</td>\n      <td>1.0</td>\n      <td>31</td>\n    </tr>\n    <tr>\n      <th>11429788</th>\n      <td>12389331</td>\n      <td>18907</td>\n      <td>0</td>\n      <td>0</td>\n      <td>1.0</td>\n      <td>1970-01-01</td>\n      <td>2016-06-17</td>\n      <td>0</td>\n      <td>0</td>\n      <td>0</td>\n      <td>0</td>\n      <td>1</td>\n      <td>0</td>\n      <td>-1</td>\n      <td>-1</td>\n      <td>1.0</td>\n      <td>31</td>\n    </tr>\n    <tr>\n      <th>11429790</th>\n      <td>12985299</td>\n      <td>34211</td>\n      <td>0</td>\n      <td>0</td>\n      <td>1.0</td>\n      <td>1970-01-01</td>\n      <td>2016-06-28</td>\n      <td>0</td>\n      <td>0</td>\n      <td>0</td>\n      <td>0</td>\n      <td>1</td>\n      <td>0</td>\n      <td>-1</td>\n      <td>-1</td>\n      <td>1.0</td>\n      <td>31</td>\n    </tr>\n    <tr>\n      <th>11429821</th>\n      <td>13087731</td>\n      <td>27715</td>\n      <td>0</td>\n      <td>0</td>\n      <td>1.0</td>\n      <td>1970-01-01</td>\n      <td>2016-06-29</td>\n      <td>0</td>\n      <td>0</td>\n      <td>0</td>\n      <td>0</td>\n      <td>1</td>\n      <td>0</td>\n      <td>-1</td>\n      <td>-1</td>\n      <td>1.0</td>\n      <td>31</td>\n    </tr>\n    <tr>\n      <th>11429825</th>\n      <td>13683699</td>\n      <td>18009</td>\n      <td>1</td>\n      <td>0</td>\n      <td>1.0</td>\n      <td>1970-01-01</td>\n      <td>2016-06-28</td>\n      <td>0</td>\n      <td>0</td>\n      <td>1</td>\n      <td>0</td>\n      <td>0</td>\n      <td>0</td>\n      <td>-1</td>\n      <td>-1</td>\n      <td>1.0</td>\n      <td>31</td>\n    </tr>\n  </tbody>\n</table>\n<p>1146277 rows × 17 columns</p>\n</div>"
     },
     "execution_count": 11,
     "metadata": {},
     "output_type": "execute_result"
    }
   ],
   "source": [
    "F_T_2"
   ],
   "metadata": {
    "collapsed": false,
    "pycharm": {
     "name": "#%%\n"
    }
   }
  },
  {
   "cell_type": "code",
   "execution_count": null,
   "outputs": [],
   "source": [],
   "metadata": {
    "collapsed": false,
    "pycharm": {
     "name": "#%%\n"
    }
   }
  }
 ],
 "metadata": {
  "kernelspec": {
   "display_name": "Python 3",
   "language": "python",
   "name": "python3"
  },
  "language_info": {
   "codemirror_mode": {
    "name": "ipython",
    "version": 2
   },
   "file_extension": ".py",
   "mimetype": "text/x-python",
   "name": "python",
   "nbconvert_exporter": "python",
   "pygments_lexer": "ipython2",
   "version": "2.7.6"
  }
 },
 "nbformat": 4,
 "nbformat_minor": 0
}