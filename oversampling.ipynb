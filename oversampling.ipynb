{
 "cells": [
  {
   "cell_type": "code",
   "execution_count": 117,
   "outputs": [],
   "source": [
    "import random\n",
    "import numpy as np\n",
    "import pandas as pd\n",
    "from sklearn.neighbors import NearestNeighbors\n",
    "\n",
    "def SMOTE(X_min, y_min, xx=1.0, n_sampling=0, noise_weight=0.1):\n",
    "    \"\"\"\n",
    "    SMOTE 过采样\n",
    "    :param X_min:  pandas.DataFrame，需要进行过采样的特征\n",
    "    :param y_min:  pandas.Series，需要进行过采样的标签\n",
    "    :param n_sampling:  int，过采样的数量\n",
    "    :param xx: float，>1，过采样后的倍率，会覆盖 n_sampling\n",
    "    :param noise_weight: float，0-1，噪声的权重\n",
    "    :return:\n",
    "    X_res:  pandas.DataFrame， 包含 X_min 的过采样的特征\n",
    "    y_res:  pandas.Series，包含 y_min 的过采样的标签\n",
    "    \"\"\"\n",
    "    if xx is not None:\n",
    "        assert xx > 1.0\n",
    "        n_sampling = int(len(X_min) * (xx-1.0))\n",
    "    # 数据集内找五个最近的数据，组成一个数组\n",
    "    n_nearests = NearestNeighbors(n_neighbors=5, metric='euclidean', algorithm='kd_tree')\\\n",
    "                 .fit(X_min).kneighbors(X_min)[1]\n",
    "    # 全部置0，生成过采样的数据集的数据集\n",
    "    X_res = np.zeros((n_sampling, X_min.shape[1]))\n",
    "    y_res = np.zeros(n_sampling)\n",
    "    for i in range(n_sampling):\n",
    "        # 随机选取五个临近点\n",
    "        reference = random.randint(0, len(n_nearests)-1)\n",
    "        # 五个点\n",
    "        all_point = n_nearests[reference]\n",
    "        ser = y_min[y_min.index.isin(all_point)].sum(skipna = True)\n",
    "        y_res[i] = 1 if ser > 2 else 0  # 如果大于一半都是正例那就是正例\n",
    "        # 随机选一个邻居点，第一个点是中心点，要去掉，所以是 1:\n",
    "        neighbour = random.choice(n_nearests[reference, 1:])\n",
    "        noise = random.random() * noise_weight  # 随机的噪声\n",
    "        # 中心点减去一个随机的邻居点，作为距离\n",
    "        gap = (X_min.loc[reference, :] - X_min.loc[neighbour, :])\n",
    "        # 根据中心点生成一个新的数据\n",
    "        X_res[i] = np.array(X_min.loc[reference, :] + noise * gap)\n",
    "    X_res = pd.DataFrame(X_res, columns=X_min.columns)\n",
    "    y_res = pd.Series(y_res, name=y_min.name, dtype=int)\n",
    "    X_con = pd.concat([X_min, X_res], axis=0, ignore_index=True)\n",
    "    y_con = pd.concat([y_min, y_res], axis=0, ignore_index=True)\n",
    "    return X_con.astype(X_min.dtypes), y_con.astype(y_min.dtypes)\n"
   ],
   "metadata": {
    "collapsed": false,
    "pycharm": {
     "name": "#%%\n"
    }
   }
  },
  {
   "cell_type": "code",
   "execution_count": 131,
   "outputs": [
    {
     "data": {
      "text/plain": "((100, 4), (100,))"
     },
     "execution_count": 131,
     "metadata": {},
     "output_type": "execute_result"
    }
   ],
   "source": [
    "X = pd.DataFrame(np.random.random(size=(100, 4)), columns=['f0', 'f1', 'f2', 'f3'])\n",
    "y = pd.Series(np.random.choice([0, 1], size=100), name='class')\n",
    "X.shape, y.shape"
   ],
   "metadata": {
    "collapsed": false,
    "pycharm": {
     "name": "#%%\n"
    }
   }
  },
  {
   "cell_type": "code",
   "execution_count": 132,
   "outputs": [],
   "source": [
    "X_new, y_new = SMOTE(X_min=X, y_min=y, xx=1.6)"
   ],
   "metadata": {
    "collapsed": false,
    "pycharm": {
     "name": "#%%\n"
    }
   }
  },
  {
   "cell_type": "code",
   "execution_count": 133,
   "outputs": [
    {
     "data": {
      "text/plain": "           f0        f1        f2        f3\n155  0.226072  0.272700  0.318518  0.451901\n156  0.406734  0.666264  0.170311  0.978150\n157  0.076741  0.116830  0.989552  0.479542\n158  0.253476  0.706161  0.738644  0.396206\n159  0.296319  0.921743  0.474610  0.572470",
      "text/html": "<div>\n<style scoped>\n    .dataframe tbody tr th:only-of-type {\n        vertical-align: middle;\n    }\n\n    .dataframe tbody tr th {\n        vertical-align: top;\n    }\n\n    .dataframe thead th {\n        text-align: right;\n    }\n</style>\n<table border=\"1\" class=\"dataframe\">\n  <thead>\n    <tr style=\"text-align: right;\">\n      <th></th>\n      <th>f0</th>\n      <th>f1</th>\n      <th>f2</th>\n      <th>f3</th>\n    </tr>\n  </thead>\n  <tbody>\n    <tr>\n      <th>155</th>\n      <td>0.226072</td>\n      <td>0.272700</td>\n      <td>0.318518</td>\n      <td>0.451901</td>\n    </tr>\n    <tr>\n      <th>156</th>\n      <td>0.406734</td>\n      <td>0.666264</td>\n      <td>0.170311</td>\n      <td>0.978150</td>\n    </tr>\n    <tr>\n      <th>157</th>\n      <td>0.076741</td>\n      <td>0.116830</td>\n      <td>0.989552</td>\n      <td>0.479542</td>\n    </tr>\n    <tr>\n      <th>158</th>\n      <td>0.253476</td>\n      <td>0.706161</td>\n      <td>0.738644</td>\n      <td>0.396206</td>\n    </tr>\n    <tr>\n      <th>159</th>\n      <td>0.296319</td>\n      <td>0.921743</td>\n      <td>0.474610</td>\n      <td>0.572470</td>\n    </tr>\n  </tbody>\n</table>\n</div>"
     },
     "execution_count": 133,
     "metadata": {},
     "output_type": "execute_result"
    }
   ],
   "source": [
    "X_new.tail()"
   ],
   "metadata": {
    "collapsed": false,
    "pycharm": {
     "name": "#%%\n"
    }
   }
  },
  {
   "cell_type": "code",
   "execution_count": 134,
   "outputs": [
    {
     "data": {
      "text/plain": "155    0\n156    1\n157    0\n158    1\n159    0\nName: class, dtype: int64"
     },
     "execution_count": 134,
     "metadata": {},
     "output_type": "execute_result"
    }
   ],
   "source": [
    "y_new.tail()"
   ],
   "metadata": {
    "collapsed": false,
    "pycharm": {
     "name": "#%%\n"
    }
   }
  },
  {
   "cell_type": "code",
   "execution_count": null,
   "outputs": [],
   "source": [],
   "metadata": {
    "collapsed": false,
    "pycharm": {
     "name": "#%%\n"
    }
   }
  }
 ],
 "metadata": {
  "kernelspec": {
   "display_name": "Python 3",
   "language": "python",
   "name": "python3"
  },
  "language_info": {
   "codemirror_mode": {
    "name": "ipython",
    "version": 2
   },
   "file_extension": ".py",
   "mimetype": "text/x-python",
   "name": "python",
   "nbconvert_exporter": "python",
   "pygments_lexer": "ipython2",
   "version": "2.7.6"
  }
 },
 "nbformat": 4,
 "nbformat_minor": 0
}