{
 "cells": [
  {
   "cell_type": "code",
   "execution_count": 56,
   "outputs": [],
   "source": [
    "import pandas as pd\n",
    "from sklearn.metrics import roc_auc_score\n",
    "import numpy as np"
   ],
   "metadata": {
    "collapsed": false,
    "pycharm": {
     "name": "#%%\n"
    }
   }
  },
  {
   "cell_type": "code",
   "execution_count": 103,
   "outputs": [],
   "source": [
    "def eval_auc_every_coupon(_pred, _label):\n",
    "    \"\"\"\n",
    "    评价 auc：根据每一组 Coupon_id 分别计算 auc 然后求平均\n",
    "    :param _pred: 预测的 Dataframe，包含 Coupon_id 和 Probability\n",
    "    :param _label: 真实的 label 序列\n",
    "    :return:\n",
    "    \"\"\"\n",
    "    _csv = pd.concat([_pred[['Coupon_id', 'Probability']], pd.Series(_label, name='Truth')], axis=1)\n",
    "    aucs = []\n",
    "    for idx, g in _csv.groupby('Coupon_id'):\n",
    "        if len(np.unique(g['Truth'])) == 1:\n",
    "            # 如果真实标签全是一种类型(大概率全是0，反例)，那么就没有 auc 了，\n",
    "            # 即这种优惠券一张也没有被使用，自然就没有查准率，查全率之说了\n",
    "            aucs.append(0.5)\n",
    "            continue\n",
    "        auc = roc_auc_score(g['Truth'], g['Probability'])\n",
    "        aucs.append(auc)\n",
    "    return np.mean(aucs)\n",
    "\n",
    "def eval_auc(_pred, _label):\n",
    "    \"\"\"\n",
    "    评价 auc：在全局上计算 auc\n",
    "    :param _pred: 预测的 Dataframe，包含 Coupon_id 和 Probability\n",
    "    :param _label: 真实的 label 序列\n",
    "    :return:\n",
    "    \"\"\"\n",
    "    _csv = pd.concat([_pred[['Coupon_id', 'Probability']], pd.Series(_label, name='Truth')], axis=1)\n",
    "    return roc_auc_score(_csv['Truth'], _csv['Probability'])"
   ],
   "metadata": {
    "collapsed": false,
    "pycharm": {
     "name": "#%%\n"
    }
   }
  },
  {
   "cell_type": "code",
   "execution_count": 104,
   "outputs": [],
   "source": [
    "pred = pd.read_csv('./submit.csv', names=('User_id', 'Coupon_id', 'Date_received', 'Probability'))\n",
    "label = [0, 1] * (len(pred) // 2)"
   ],
   "metadata": {
    "collapsed": false,
    "pycharm": {
     "name": "#%%\n"
    }
   }
  },
  {
   "cell_type": "code",
   "execution_count": 105,
   "outputs": [
    {
     "data": {
      "text/plain": "(0.5140186881991474, 0.5026239454740827)"
     },
     "execution_count": 105,
     "metadata": {},
     "output_type": "execute_result"
    }
   ],
   "source": [
    "eval_auc_every_coupon(pred, label), eval_auc(pred, label)"
   ],
   "metadata": {
    "collapsed": false,
    "pycharm": {
     "name": "#%%\n"
    }
   }
  },
  {
   "cell_type": "code",
   "execution_count": null,
   "outputs": [],
   "source": [],
   "metadata": {
    "collapsed": false,
    "pycharm": {
     "name": "#%%\n"
    }
   }
  }
 ],
 "metadata": {
  "kernelspec": {
   "display_name": "Python 3",
   "language": "python",
   "name": "python3"
  },
  "language_info": {
   "codemirror_mode": {
    "name": "ipython",
    "version": 2
   },
   "file_extension": ".py",
   "mimetype": "text/x-python",
   "name": "python",
   "nbconvert_exporter": "python",
   "pygments_lexer": "ipython2",
   "version": "2.7.6"
  }
 },
 "nbformat": 4,
 "nbformat_minor": 0
}